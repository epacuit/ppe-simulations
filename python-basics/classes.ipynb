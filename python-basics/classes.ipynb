{
 "cells": [
  {
   "cell_type": "markdown",
   "metadata": {},
   "source": [
    "# Classes"
   ]
  },
  {
   "cell_type": "markdown",
   "metadata": {},
   "source": [
    "When implementing an agent-based model, we will often use **classes**.   A **class** is a way to create your own data taype.   An instance of a class is called an **object** (see the [Python class documentation]((https://docs.python.org/3/tutorial/classes.html) for an overview.). The general approach to programming using classes and objects is called [object-oriented programming](https://realpython.com/lessons/what-object-oriented-programming-oop/).\n",
    "\n",
    "\n",
    "To define a class use the `class` keyword, followed by a name and a colon`:`.   A class can be thought of as a **blueprint** for creating objects.  Classes contain data called **attributes** and functions called **methods**.  Some initial observations about creating a class: \n",
    "\n",
    "1. There are two types of attributes, a class attribute and an instance attribute.   Class attirbutes are the same among all instances of the class while the instance attributes may vary for different instances of a class.\n",
    "2.  Typically, a class contains a `__init__` method which will be run every time a new instance is created. \n",
    "3.  The first parameter of any class method is `self` which refers to an instance of the class. \n",
    "4.  Class attributes should be defined outside of the `__init__` method, while instance attributes are defined inside the body of the `__init__` method."
   ]
  },
  {
   "cell_type": "code",
   "execution_count": 83,
   "metadata": {},
   "outputs": [
    {
     "name": "stdout",
     "output_type": "stream",
     "text": [
      "Agent Class\n",
      "Agent a's unique id is  1\n",
      "Agent Class\n",
      "Agent b's unique id is  2\n"
     ]
    }
   ],
   "source": [
    "class Agent():\n",
    "    \n",
    "    class_name = 'Agent Class'\n",
    "    def __init__(self, unique_id):\n",
    "        self.unique_id = unique_id\n",
    "        \n",
    "a = Agent(1)\n",
    "b = Agent(2)\n",
    "\n",
    "print(a.class_name)\n",
    "print(\"Agent a's unique id is \", a.unique_id)\n",
    "\n",
    "print(b.class_name)\n",
    "print(\"Agent b's unique id is \", b.unique_id)\n"
   ]
  },
  {
   "cell_type": "markdown",
   "metadata": {},
   "source": [
    "In a class `self` refers to an instance of that class.  In the following code, printing self and printing the object instance generates the same ouput (the memory location of the instance of the Agent class). "
   ]
  },
  {
   "cell_type": "code",
   "execution_count": 84,
   "metadata": {},
   "outputs": [
    {
     "name": "stdout",
     "output_type": "stream",
     "text": [
      "<__main__.Agent object at 0x7fe868339760>\n",
      "<__main__.Agent object at 0x7fe868339760>\n"
     ]
    }
   ],
   "source": [
    "class Agent():\n",
    "    \n",
    "    class_name = 'Agent Class'\n",
    "    def __init__(self, unique_id):\n",
    "        self.unique_id = unique_id\n",
    "        print(self)\n",
    "\n",
    "a = Agent(1)\n",
    "print(a)"
   ]
  },
  {
   "cell_type": "markdown",
   "metadata": {},
   "source": [
    "To illustrate class methods, let's give our Agent the ability to flip a fair coin.   To do this, we use the `random` package to generate a random number between 0 and 1.   If the randomly generated number is less than 0.5, we output 'H' and if it is greater than or equal to 0.5 we output 'T'.    The first thing we have to do is import the random package. "
   ]
  },
  {
   "cell_type": "code",
   "execution_count": 85,
   "metadata": {},
   "outputs": [],
   "source": [
    "import random"
   ]
  },
  {
   "cell_type": "markdown",
   "metadata": {},
   "source": [
    "Next, we add class method called `flip` that accepts `self` as its only parameter.  "
   ]
  },
  {
   "cell_type": "code",
   "execution_count": 86,
   "metadata": {},
   "outputs": [],
   "source": [
    "class Agent():\n",
    "    \n",
    "    class_name = 'Agent Class'\n",
    "    def __init__(self, unique_id):\n",
    "        self.unique_id = unique_id\n",
    "\n",
    "    def flip(self): \n",
    "        return 'H' if random.random() < 0.5 else 'T'"
   ]
  },
  {
   "cell_type": "code",
   "execution_count": 87,
   "metadata": {},
   "outputs": [
    {
     "name": "stdout",
     "output_type": "stream",
     "text": [
      "H\n",
      "H\n",
      "H\n",
      "T\n",
      "T\n"
     ]
    }
   ],
   "source": [
    "a = Agent(1) # create an agent\n",
    "\n",
    "# let agent a flip a fair coin 5 times\n",
    "# there will be different outputs everytime this code is executed\n",
    "for i in range(5):\n",
    "    print(a.flip())"
   ]
  },
  {
   "cell_type": "markdown",
   "metadata": {},
   "source": [
    "Let's add an another method to the Agent class that returns multiple flips of a coin. The method will be called `multiple_flips` and have a keyword parameter `num` with a default value of 5.  Note that we call the class method `flip` from the `multiple_flip` function as follows: `self.flip()`. "
   ]
  },
  {
   "cell_type": "code",
   "execution_count": 88,
   "metadata": {},
   "outputs": [],
   "source": [
    "class Agent():\n",
    "    \n",
    "    class_name = 'Agent Class'\n",
    "    def __init__(self, unique_id):\n",
    "        self.unique_id = unique_id\n",
    "\n",
    "    def flip(self): \n",
    "        return 'H' if random.random() < 0.5 else 'T'\n",
    "    \n",
    "    def multiple_flips(self, num = 5): \n",
    "        return [self.flip() for n in range(num)]\n"
   ]
  },
  {
   "cell_type": "code",
   "execution_count": 89,
   "metadata": {},
   "outputs": [
    {
     "name": "stdout",
     "output_type": "stream",
     "text": [
      "['H', 'T', 'T', 'H', 'T', 'H', 'H', 'H', 'H', 'H']\n"
     ]
    }
   ],
   "source": [
    "a = Agent(1) # create an agent\n",
    "\n",
    "print(a.multiple_flips(10))"
   ]
  },
  {
   "cell_type": "markdown",
   "metadata": {},
   "source": [
    "## Inheritence and Subclasses"
   ]
  },
  {
   "cell_type": "markdown",
   "metadata": {},
   "source": [
    "Inheritance allows one class to \"inherit\" methods and attributes from another class.   For example, suppose that we have a general Agent class and CoinFlipper class that implements an agent that flips a coin of a fixed bias which  is a subclass of the Agent class.   "
   ]
  },
  {
   "cell_type": "code",
   "execution_count": 90,
   "metadata": {},
   "outputs": [],
   "source": [
    "class Agent():\n",
    "    \n",
    "    class_name = 'Agent Class'\n",
    "    def __init__(self, unique_id):\n",
    "        self.unique_id = unique_id\n",
    "\n",
    "class CoinFlipper(Agent):\n",
    "    \n",
    "    def __init__(self, bias):\n",
    "        self.bias = bias\n",
    "        \n",
    "    def flip(self): \n",
    "        return 'H' if random.random() < self.bias else 'T'\n",
    "    \n",
    "    def multiple_flips(self, num = 5): \n",
    "        return [self.flip() for n in range(num)]\n"
   ]
  },
  {
   "cell_type": "markdown",
   "metadata": {},
   "source": [
    "An instance of the CoinFlipper class, has access to the attributes and methods of the parent class. "
   ]
  },
  {
   "cell_type": "code",
   "execution_count": 91,
   "metadata": {},
   "outputs": [
    {
     "name": "stdout",
     "output_type": "stream",
     "text": [
      "['T', 'H', 'H', 'T', 'T']\n",
      "Agent Class\n"
     ]
    }
   ],
   "source": [
    "a = CoinFlipper(0.5)\n",
    "print(a.multiple_flips())\n",
    "print(a.class_name)"
   ]
  },
  {
   "cell_type": "markdown",
   "metadata": {},
   "source": [
    "However, there is a problem with the above implementation.   An instance of the CoinFlipper hasn't set the unique_id of the partent class. "
   ]
  },
  {
   "cell_type": "code",
   "execution_count": 92,
   "metadata": {},
   "outputs": [
    {
     "ename": "AttributeError",
     "evalue": "'CoinFlipper' object has no attribute 'unique_id'",
     "output_type": "error",
     "traceback": [
      "\u001b[0;31m---------------------------------------------------------------------------\u001b[0m",
      "\u001b[0;31mAttributeError\u001b[0m                            Traceback (most recent call last)",
      "\u001b[0;32m<ipython-input-92-aec31d94d2cf>\u001b[0m in \u001b[0;36m<module>\u001b[0;34m\u001b[0m\n\u001b[1;32m      1\u001b[0m \u001b[0ma\u001b[0m \u001b[0;34m=\u001b[0m \u001b[0mCoinFlipper\u001b[0m\u001b[0;34m(\u001b[0m\u001b[0;36m0.5\u001b[0m\u001b[0;34m)\u001b[0m\u001b[0;34m\u001b[0m\u001b[0;34m\u001b[0m\u001b[0m\n\u001b[0;32m----> 2\u001b[0;31m \u001b[0ma\u001b[0m\u001b[0;34m.\u001b[0m\u001b[0munique_id\u001b[0m \u001b[0;31m# produces an error since the CoinFlipper class doesn't have a unique_id attribute\u001b[0m\u001b[0;34m\u001b[0m\u001b[0;34m\u001b[0m\u001b[0m\n\u001b[0m",
      "\u001b[0;31mAttributeError\u001b[0m: 'CoinFlipper' object has no attribute 'unique_id'"
     ]
    }
   ],
   "source": [
    "a = CoinFlipper(0.5)\n",
    "a.unique_id # produces an error since the CoinFlipper class doesn't have a unique_id attribute"
   ]
  },
  {
   "cell_type": "markdown",
   "metadata": {},
   "source": [
    "The problem with the above code is that when initializing the CoinFlipper instance we didn't call the `__init__` method of the Agent class.   There are two ways to do this: \n",
    "\n",
    "1. Explicitly call the base class `__init__` method\n",
    "2. Use the `super()` builtin function to instantiate the base class\n"
   ]
  },
  {
   "cell_type": "code",
   "execution_count": 93,
   "metadata": {},
   "outputs": [
    {
     "data": {
      "text/plain": [
       "1"
      ]
     },
     "execution_count": 93,
     "metadata": {},
     "output_type": "execute_result"
    }
   ],
   "source": [
    "class Agent():\n",
    "    \n",
    "    class_name = 'Agent Class'\n",
    "    def __init__(self, unique_id):\n",
    "        self.unique_id = unique_id\n",
    "\n",
    "class CoinFlipper(Agent):\n",
    "    \n",
    "    def __init__(self, unique_id, bias):\n",
    "        Agent.__init__(self, unique_id) # explicitly call the base class __init__ function\n",
    "        self.bias = bias\n",
    "        \n",
    "    def flip(self): \n",
    "        return 'H' if random.random() < self.bias else 'T'\n",
    "    \n",
    "    def multiple_flips(self, num = 5): \n",
    "        return [self.flip() for n in range(num)]\n",
    "\n",
    "a = CoinFlipper(1, 0.5)\n",
    "a.unique_id "
   ]
  },
  {
   "cell_type": "markdown",
   "metadata": {},
   "source": [
    "The second approach using the `super()` key word is often a better approach to do the same thing.  See [https://realpython.com/python-super/](https://realpython.com/python-super/) for a discussion.  "
   ]
  },
  {
   "cell_type": "code",
   "execution_count": 55,
   "metadata": {},
   "outputs": [
    {
     "data": {
      "text/plain": [
       "1"
      ]
     },
     "execution_count": 55,
     "metadata": {},
     "output_type": "execute_result"
    }
   ],
   "source": [
    "class Agent():\n",
    "    \n",
    "    class_name = 'Agent Class'\n",
    "    def __init__(self, unique_id):\n",
    "        self.unique_id = unique_id\n",
    "\n",
    "class CoinFlipper(Agent):\n",
    "    \n",
    "    def __init__(self, unique_id, bias):\n",
    "        super().__init__(unique_id) # super() refers to the base class\n",
    "        self.bias = bias\n",
    "        \n",
    "    def flip(self): \n",
    "        return 'H' if random.random() < self.bias else 'T'\n",
    "    \n",
    "    def multiple_flips(self, num = 5): \n",
    "        return [self.flip() for n in range(num)]\n",
    "\n",
    "a = CoinFlipper(1, 0.5)\n",
    "a.unique_id "
   ]
  },
  {
   "cell_type": "markdown",
   "metadata": {},
   "source": [
    "## Decorators"
   ]
  },
  {
   "cell_type": "markdown",
   "metadata": {},
   "source": [
    "One programming construct that is not specific to classes, but is often used when creating a class is a **decorator**.  A decorator \"decorates\" a function/method with additional functionality.  That is, it is a function that accepts another function as a paramter and adds functionality to that function.  \n",
    "\n",
    "See [https://realpython.com/primer-on-python-decorators/](https://realpython.com/primer-on-python-decorators/) for an overview of decorators. \n",
    "\n",
    "```{warning} \n",
    "In the following code, we use the the parameter to the inner function wrapper is `*args`.   This is a way of passing an arbitrary number of arguments to wrapper.   The problem is that `original_func` accepts a single argument which needs to be passed to the decorator.    See [https://realpython.com/python-kwargs-and-args/](https://realpython.com/python-kwargs-and-args/) for an overview. \n",
    "```"
   ]
  },
  {
   "cell_type": "code",
   "execution_count": 67,
   "metadata": {},
   "outputs": [],
   "source": [
    "def original_func(n):\n",
    "    print(\"Original function\")\n",
    "    return n*2\n",
    "\n",
    "# a decorator\n",
    "def my_decorator(func):  # takes our original function as input\n",
    "    \n",
    "    def wrapper(*args):  # wraps our original function with some extra functionality\n",
    "        print(f\"A decoration before {func.__name__}.\")\n",
    "        result = func(*args)\n",
    "        print(f\"A decoration after {func.__name__} with result {result}\")\n",
    "        return result + 10 # add 10 the result of func\n",
    "    \n",
    "    return wrapper  # returns the unexecuted wrapper function which we can can excute later"
   ]
  },
  {
   "cell_type": "code",
   "execution_count": 68,
   "metadata": {},
   "outputs": [
    {
     "name": "stdout",
     "output_type": "stream",
     "text": [
      "Original function\n"
     ]
    },
    {
     "data": {
      "text/plain": [
       "20"
      ]
     },
     "execution_count": 68,
     "metadata": {},
     "output_type": "execute_result"
    }
   ],
   "source": [
    "original_func(10)"
   ]
  },
  {
   "cell_type": "code",
   "execution_count": 69,
   "metadata": {},
   "outputs": [
    {
     "name": "stdout",
     "output_type": "stream",
     "text": [
      "A decoration before original_func.\n",
      "Original function\n",
      "A decoration after original_func with result 20\n"
     ]
    },
    {
     "data": {
      "text/plain": [
       "30"
      ]
     },
     "execution_count": 69,
     "metadata": {},
     "output_type": "execute_result"
    }
   ],
   "source": [
    "my_decorator(original_func)(10)"
   ]
  },
  {
   "cell_type": "markdown",
   "metadata": {},
   "source": [
    "We can now use this decorator  for other functions using by adding `@my_decorator` before the definition of the function. "
   ]
  },
  {
   "cell_type": "code",
   "execution_count": 72,
   "metadata": {},
   "outputs": [
    {
     "name": "stdout",
     "output_type": "stream",
     "text": [
      "A decoration before another_func.\n",
      "Another func\n",
      "A decoration after another_func with result 7\n"
     ]
    },
    {
     "data": {
      "text/plain": [
       "17"
      ]
     },
     "execution_count": 72,
     "metadata": {},
     "output_type": "execute_result"
    }
   ],
   "source": [
    "@my_decorator\n",
    "def another_func(n): \n",
    "    print(\"Another func\")\n",
    "    return n + 2\n",
    "\n",
    "another_func(5)"
   ]
  },
  {
   "cell_type": "markdown",
   "metadata": {},
   "source": [
    "Some commonly used decorators are Python builtins `@classmethod`, `@staticmethod`, and `@property`. We focus here on the `@property` decorator.   This can be used to customize *getters* and *setters* for class attributes. Suppose that we want to create a Coin class that has a fixed bias (which may be changed).  \n",
    "\n",
    "```{note} \n",
    "A common approach in object-oriented programming is to make attributes of a class *private* so that users of the class can only get and set these attributes through so-called \"getter\" and \"setter\" functions.   In Python there is no way to force a variable to be \"[private](https://softwareengineering.stackexchange.com/questions/143736/why-do-we-need-private-variables)\" (this is different than languages such as C++ or Java).  A common approach is to add an underscore \"_\" to the begining of a variable name that should be private (see [https://www.geeksforgeeks.org/private-variables-python/](https://www.geeksforgeeks.org/private-variables-python/). \n",
    "\n",
    "```"
   ]
  },
  {
   "cell_type": "code",
   "execution_count": 81,
   "metadata": {},
   "outputs": [
    {
     "name": "stdout",
     "output_type": "stream",
     "text": [
      "the bias of c is  0.5\n",
      "the probability of heads is  0.5\n",
      "the probability of tails is  0.5\n",
      "['H', 'T', 'T', 'H', 'H', 'T', 'H', 'T', 'T', 'H'] \n",
      "\n",
      "the bias of c is  0.75\n",
      "the probability of heads is  0.75\n",
      "the probability of tails is  0.25\n",
      "['H', 'H', 'H', 'T', 'H', 'H', 'H', 'H', 'H', 'H']\n"
     ]
    }
   ],
   "source": [
    "class Coin():\n",
    "    \n",
    "    def __init__(self, bias = 0.5): \n",
    "        \n",
    "        self._bias = 0.5 \n",
    "        \n",
    "    @property\n",
    "    def bias(self): \n",
    "        \"\"\"Get the bias of the coin\"\"\"\n",
    "        return self._bias\n",
    "    \n",
    "    @bias.setter\n",
    "    def bias(self, b):\n",
    "        \"\"\"Set the bias and raise and error if bias is not between 0 and 1\"\"\"\n",
    "        if b >= 0 and b <=1:\n",
    "            self._bias = b\n",
    "        else:\n",
    "            raise ValueError(\"Bias must be between 0 and 1\")\n",
    "    \n",
    "    @property\n",
    "    def pr_heads(self):\n",
    "        \"\"\"Get the probability of heads\"\"\"\n",
    "        return self._bias\n",
    "    \n",
    "    @property\n",
    "    def pr_tails(self):\n",
    "        \"\"\"Get the probability of heads\"\"\"\n",
    "        return 1 - self._bias\n",
    "\n",
    "    def flip(self):\n",
    "        \"\"\"flip the coin\"\"\"\n",
    "        return 'H' if random.random() < self._bias else 'T'\n",
    "\n",
    "    def flips(self, num=10):\n",
    "        \"\"\"flip the coin\"\"\"\n",
    "        return [self.flip() for n in range(num)]\n",
    "    \n",
    "c = Coin()\n",
    "print(\"the bias of c is \", c.bias)\n",
    "print(\"the probability of heads is \", c.pr_heads)\n",
    "print(\"the probability of tails is \", c.pr_tails)\n",
    "print(c.flips(), \"\\n\")\n",
    "\n",
    "# now change the bias\n",
    "c.bias = 0.75\n",
    "print(\"the bias of c is \", c.bias)\n",
    "print(\"the probability of heads is \", c.pr_heads)\n",
    "print(\"the probability of tails is \", c.pr_tails)\n",
    "print(c.flips())\n"
   ]
  },
  {
   "cell_type": "markdown",
   "metadata": {},
   "source": [
    "Trying to assign a bias greater than 1 generates an error: "
   ]
  },
  {
   "cell_type": "code",
   "execution_count": 82,
   "metadata": {},
   "outputs": [
    {
     "ename": "ValueError",
     "evalue": "Bias must be between 0 and 1",
     "output_type": "error",
     "traceback": [
      "\u001b[0;31m---------------------------------------------------------------------------\u001b[0m",
      "\u001b[0;31mValueError\u001b[0m                                Traceback (most recent call last)",
      "\u001b[0;32m<ipython-input-82-6e018a2fac61>\u001b[0m in \u001b[0;36m<module>\u001b[0;34m\u001b[0m\n\u001b[0;32m----> 1\u001b[0;31m \u001b[0mc\u001b[0m\u001b[0;34m.\u001b[0m\u001b[0mbias\u001b[0m \u001b[0;34m=\u001b[0m \u001b[0;36m1.5\u001b[0m\u001b[0;34m\u001b[0m\u001b[0;34m\u001b[0m\u001b[0m\n\u001b[0m",
      "\u001b[0;32m<ipython-input-81-cae20d2aafaf>\u001b[0m in \u001b[0;36mbias\u001b[0;34m(self, b)\u001b[0m\n\u001b[1;32m     16\u001b[0m             \u001b[0mself\u001b[0m\u001b[0;34m.\u001b[0m\u001b[0m_bias\u001b[0m \u001b[0;34m=\u001b[0m \u001b[0mb\u001b[0m\u001b[0;34m\u001b[0m\u001b[0;34m\u001b[0m\u001b[0m\n\u001b[1;32m     17\u001b[0m         \u001b[0;32melse\u001b[0m\u001b[0;34m:\u001b[0m\u001b[0;34m\u001b[0m\u001b[0;34m\u001b[0m\u001b[0m\n\u001b[0;32m---> 18\u001b[0;31m             \u001b[0;32mraise\u001b[0m \u001b[0mValueError\u001b[0m\u001b[0;34m(\u001b[0m\u001b[0;34m\"Bias must be between 0 and 1\"\u001b[0m\u001b[0;34m)\u001b[0m\u001b[0;34m\u001b[0m\u001b[0;34m\u001b[0m\u001b[0m\n\u001b[0m\u001b[1;32m     19\u001b[0m \u001b[0;34m\u001b[0m\u001b[0m\n\u001b[1;32m     20\u001b[0m     \u001b[0;34m@\u001b[0m\u001b[0mproperty\u001b[0m\u001b[0;34m\u001b[0m\u001b[0;34m\u001b[0m\u001b[0m\n",
      "\u001b[0;31mValueError\u001b[0m: Bias must be between 0 and 1"
     ]
    }
   ],
   "source": [
    "c.bias = 1.5"
   ]
  },
  {
   "cell_type": "code",
   "execution_count": null,
   "metadata": {},
   "outputs": [],
   "source": []
  }
 ],
 "metadata": {
  "kernelspec": {
   "display_name": "Python 3",
   "language": "python",
   "name": "python3"
  },
  "language_info": {
   "codemirror_mode": {
    "name": "ipython",
    "version": 3
   },
   "file_extension": ".py",
   "mimetype": "text/x-python",
   "name": "python",
   "nbconvert_exporter": "python",
   "pygments_lexer": "ipython3",
   "version": "3.8.5"
  },
  "varInspector": {
   "cols": {
    "lenName": 16,
    "lenType": 16,
    "lenVar": 40
   },
   "kernels_config": {
    "python": {
     "delete_cmd_postfix": "",
     "delete_cmd_prefix": "del ",
     "library": "var_list.py",
     "varRefreshCmd": "print(var_dic_list())"
    },
    "r": {
     "delete_cmd_postfix": ") ",
     "delete_cmd_prefix": "rm(",
     "library": "var_list.r",
     "varRefreshCmd": "cat(var_dic_list()) "
    }
   },
   "types_to_exclude": [
    "module",
    "function",
    "builtin_function_or_method",
    "instance",
    "_Feature"
   ],
   "window_display": false
  }
 },
 "nbformat": 4,
 "nbformat_minor": 4
}
