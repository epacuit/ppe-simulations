{
 "cells": [
  {
   "cell_type": "markdown",
   "metadata": {},
   "source": [
    "# Mesa"
   ]
  },
  {
   "cell_type": "markdown",
   "metadata": {},
   "source": [
    "Mesa is a Python package that can be used to quickly create and analyze agent-based models. Its goal is to be a Python 3  alternative to other frameworks for creating agent-based simulations, such as [NetLogo](https://ccl.northwestern.edu/netlogo/), [Repast](https://repast.github.io/), and [MASON](https://cs.gmu.edu/~eclab/projects/mason/).\n",
    "\n",
    "Consult the documentation for more information about Mesa: [https://mesa.readthedocs.io/en/master/](https://mesa.readthedocs.io/en/master/).\n",
    "\n",
    "```{note}\n",
    "To install mesa in a Jupyter notebook run the following command: \n",
    "\n",
    "`!pip install mesa`\n",
    "\n",
    "(Remove the ! to install Mesa from the command line). \n",
    "```"
   ]
  },
  {
   "cell_type": "markdown",
   "metadata": {},
   "source": [
    "When creating an agent-based simualtion in Mesa, \n",
    "\n",
    "1. Define your agent as a subclass of the Mesa `Agent` class.\n",
    "2. Define your model as a subclass of the Mesa `Model` class."
   ]
  },
  {
   "cell_type": "code",
   "execution_count": 1,
   "metadata": {},
   "outputs": [],
   "source": [
    "from mesa import Agent, Model"
   ]
  },
  {
   "cell_type": "code",
   "execution_count": 2,
   "metadata": {},
   "outputs": [],
   "source": [
    "class MyAgent(Agent): \n",
    "    \n",
    "    def __init__(self, unique_id, model = None):\n",
    "        super().__init__(unique_id, model)\n",
    "        # initialize an agent \n",
    "        \n",
    "    ### add other methods that are useful for your agent ###\n",
    "    \n",
    "    def step(self):\n",
    "        # what does the agent do each step of the simulation?\n",
    "        pass\n",
    "    \n",
    "class MyModel(Model): \n",
    "    \n",
    "    def __init__(self):\n",
    "        super().__init__()\n",
    "        # initialize a model and create agents \n",
    "                \n",
    "    ### add other methods that are useful for your simulation ###\n",
    "    \n",
    "    def step(self):\n",
    "        # executes a step of the simulation\n",
    "        pass"
   ]
  },
  {
   "cell_type": "markdown",
   "metadata": {},
   "source": [
    "```{note}\n",
    "\n",
    "Your agent class or model class is not *required* to have a step method.  Many of the Mesa agent-based models do use these functions, so it is good practice to define these functions.   \n",
    "\n",
    "Note also that the default value of the model in MyAgent is `None`.  This makes it easier for testing purposes so you can create an instance of MyAgent without creating an instance of MyModel. \n",
    "\n",
    "```"
   ]
  },
  {
   "cell_type": "markdown",
   "metadata": {},
   "source": [
    "To illustrate the main features of the Mesa framework, consider the following simulation: \n",
    "\n",
    "1. There are some number of agents\n",
    "2. Each agent is initially assigned 10 units of money.\n",
    "3. At each step, an agent $i$ is matched up with another agent $j$ (chosen at random).  Both agents flip a fair coin.   If the coins match (both land heads or both land tails) then $i$ gives $j$ 1 unit of money, and if they mismatch then $j$ gives $i$ one unit of money.  \n",
    "4. When an agent runs out of money they no longer participate in any game. "
   ]
  },
  {
   "cell_type": "markdown",
   "metadata": {},
   "source": [
    "The Python `random` package will be used in two ways: \n",
    "\n",
    "1. To simulate flipping a fair coin (recall the implementation of the `CoinFlipper` class).   \n",
    "2. Use `random.choice` to randomly choose an opponet to play the coin game: `random.choice` choses a random element from any list of objects.      \n",
    "\n",
    "Rather than using the Python random package, we will use Mesa's wrapper for this function. This is accessible as an attribute of both the Agent and the Model class."
   ]
  },
  {
   "cell_type": "markdown",
   "metadata": {},
   "source": [
    "The final piece needed to implement the above simulation is a way of *scheduling* the agents.   Mesa has multiple schudlers from the [Mesa Time Moduel](https://mesa.readthedocs.io/en/master/apis/time.html). The most useful is the `RandomActivation` scheduler.  During each step of the simulation, the agents are shuffled, then each agent's  `step` function is called.  The agents are added to the schedule using the `add` method. "
   ]
  },
  {
   "cell_type": "code",
   "execution_count": 3,
   "metadata": {},
   "outputs": [],
   "source": [
    "from mesa.time import RandomActivation"
   ]
  },
  {
   "cell_type": "code",
   "execution_count": 10,
   "metadata": {},
   "outputs": [],
   "source": [
    "\n",
    "class Player(Agent): \n",
    "    \n",
    "    def __init__(self, unique_id, model = None, init_payout = 10):\n",
    "        super().__init__(unique_id, model)\n",
    "        self.payout = init_payout\n",
    "        self.current_flip = None # the current flip of the coin\n",
    "        self.model = model\n",
    "        \n",
    "    def flip(self): \n",
    "        return 'H' if self.random.random() < 0.5 else 'T'\n",
    "\n",
    "    def step(self): \n",
    "        \n",
    "        if self.payout > 0: \n",
    "            \n",
    "            # find possible opponents (any other player with a positive payout)\n",
    "            possible_opponents = [_p for _p in self.model.schedule.agents if _p != self if _p.payout > 0]\n",
    "            if len(possible_opponents) > 0: \n",
    "                # choose a random opponent\n",
    "                opponent = self.random.choice(possible_opponents)\n",
    "                \n",
    "                # play the game\n",
    "                if self.flip() == opponent.flip(): \n",
    "                    # outcomes match, so gain 1 and opponent loses 1  \n",
    "                    self.payout += 1\n",
    "                    opponent.payout -= 1\n",
    "\n",
    "                else: \n",
    "                    # outcomes mismatch, so lose 1 and opponent gains 1\n",
    "                    self.payout -= 1\n",
    "                    opponent.payout += 1\n",
    "\n",
    "class CoinGame(Model): \n",
    "    \n",
    "    def __init__(self, num_players, seed = None):\n",
    "        \n",
    "        self.num_players = num_players\n",
    "        \n",
    "        self.schedule = RandomActivation(self) # use random activation\n",
    "        \n",
    "        # creat the players and add them to the schedule\n",
    "        for p_id in range(num_players): \n",
    "            \n",
    "            p = Player(p_id, self)\n",
    "            self.schedule.add(p)\n",
    "            \n",
    "        # keep track of when the model should stop running\n",
    "        self.running = True\n",
    "        \n",
    "    def step(self): \n",
    "        \n",
    "        # call each players step function after randomly shuffling the agents\n",
    "        self.schedule.step()\n",
    "        \n",
    "        # if there is only one player with a non-zero amount of money, then stop running\n",
    "        if len([_p for _p in self.schedule.agents if _p.payout > 0]) == 1:\n",
    "            self.running = False\n"
   ]
  },
  {
   "cell_type": "code",
   "execution_count": 11,
   "metadata": {},
   "outputs": [
    {
     "name": "stdout",
     "output_type": "stream",
     "text": [
      "The players initial payouts:\n",
      "[10, 10, 10, 10, 10, 10, 10, 10, 10, 10] \n",
      "\n",
      "After 999 rounds the final payouts: \n",
      "[92, 0, 0, 0, 0, 0, 0, 0, 8, 0]\n"
     ]
    }
   ],
   "source": [
    "# create a CoinGame with 10 players\n",
    "g = CoinGame(10)\n",
    "\n",
    "num_rounds = 1000\n",
    "\n",
    "print(\"The players initial payouts:\")\n",
    "print([p.payout for p in g.schedule.agents], \"\\n\")\n",
    "\n",
    "# run the simulation for a maximu of num_rounds\n",
    "for r in range(num_rounds): \n",
    "    g.step()\n",
    "    # break out of the loop if the model stops running\n",
    "    if not g.running: \n",
    "        break\n",
    "    \n",
    "print(f\"After {r} rounds the final payouts: \")\n",
    "print([p.payout for p in g.schedule.agents])"
   ]
  },
  {
   "cell_type": "markdown",
   "metadata": {},
   "source": [
    "```{note}\n",
    "The implementation uses  Mesa's own wrapper for Python `random` package.This allows one to set the random seed to reproduce the results (see [https://mesa.readthedocs.io/en/stable/best-practices.html#randomization](https://mesa.readthedocs.io/en/stable/best-practices.html#randomization) for a discussion). \n",
    "```"
   ]
  },
  {
   "cell_type": "code",
   "execution_count": 12,
   "metadata": {},
   "outputs": [
    {
     "name": "stdout",
     "output_type": "stream",
     "text": [
      "The players initial payouts:\n",
      "[10, 10, 10, 10, 10, 10, 10, 10, 10, 10] \n",
      "\n",
      "After 999 rounds the final payouts: \n",
      "[38, 0, 0, 0, 0, 0, 0, 0, 0, 62]\n",
      "\n",
      "Run the simulation again with the same seed.\n",
      "\n",
      "The players initial payouts:\n",
      "[10, 10, 10, 10, 10, 10, 10, 10, 10, 10] \n",
      "\n",
      "After 999 rounds the final payouts: \n",
      "[38, 0, 0, 0, 0, 0, 0, 0, 0, 62]\n"
     ]
    }
   ],
   "source": [
    "# create a CoinGame with 10 players\n",
    "g = CoinGame(10, seed = 1)\n",
    "\n",
    "num_rounds = 1000\n",
    "\n",
    "print(\"The players initial payouts:\")\n",
    "print([p.payout for p in g.schedule.agents], \"\\n\")\n",
    "\n",
    "# run the simulation for a maximu of num_rounds\n",
    "for r in range(num_rounds): \n",
    "    g.step()\n",
    "    # break out of the loop if the model stops running\n",
    "    if not g.running: \n",
    "        break\n",
    "    \n",
    "print(f\"After {r} rounds the final payouts: \")\n",
    "print([p.payout for p in g.schedule.agents])\n",
    "\n",
    "print(\"\\nRun the simulation again with the same seed.\\n\")\n",
    "g = CoinGame(10, seed = 1)\n",
    "\n",
    "num_rounds = 1000\n",
    "\n",
    "print(\"The players initial payouts:\")\n",
    "print([p.payout for p in g.schedule.agents], \"\\n\")\n",
    "\n",
    "# run the simulation for a maximu of num_rounds\n",
    "for r in range(num_rounds): \n",
    "    g.step()\n",
    "    # break out of the loop if the model stops running\n",
    "    if not g.running: \n",
    "        break\n",
    "    \n",
    "print(f\"After {r} rounds the final payouts: \")\n",
    "print([p.payout for p in g.schedule.agents])"
   ]
  },
  {
   "cell_type": "markdown",
   "metadata": {},
   "source": [
    "We will introduce other features of the Mesa package, such as the [Mesa Space Module](https://mesa.readthedocs.io/en/master/tutorials/intro_tutorial.html#adding-space), the [DataCollector](https://mesa.readthedocs.io/en/master/tutorials/intro_tutorial.html#collecting-data) and [Batch Running](https://mesa.readthedocs.io/en/master/tutorials/intro_tutorial.html#batch-run), later in the text. \n"
   ]
  },
  {
   "cell_type": "code",
   "execution_count": null,
   "metadata": {},
   "outputs": [],
   "source": []
  }
 ],
 "metadata": {
  "kernelspec": {
   "display_name": "Python 3",
   "language": "python",
   "name": "python3"
  },
  "language_info": {
   "codemirror_mode": {
    "name": "ipython",
    "version": 3
   },
   "file_extension": ".py",
   "mimetype": "text/x-python",
   "name": "python",
   "nbconvert_exporter": "python",
   "pygments_lexer": "ipython3",
   "version": "3.8.5"
  },
  "varInspector": {
   "cols": {
    "lenName": 16,
    "lenType": 16,
    "lenVar": 40
   },
   "kernels_config": {
    "python": {
     "delete_cmd_postfix": "",
     "delete_cmd_prefix": "del ",
     "library": "var_list.py",
     "varRefreshCmd": "print(var_dic_list())"
    },
    "r": {
     "delete_cmd_postfix": ") ",
     "delete_cmd_prefix": "rm(",
     "library": "var_list.r",
     "varRefreshCmd": "cat(var_dic_list()) "
    }
   },
   "types_to_exclude": [
    "module",
    "function",
    "builtin_function_or_method",
    "instance",
    "_Feature"
   ],
   "window_display": false
  }
 },
 "nbformat": 4,
 "nbformat_minor": 4
}
