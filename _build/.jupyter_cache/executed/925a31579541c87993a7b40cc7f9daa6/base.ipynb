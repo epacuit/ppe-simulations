{
 "cells": [
  {
   "cell_type": "code",
   "execution_count": 1,
   "metadata": {
    "slideshow": {
     "slide_type": "skip"
    },
    "tags": [
     "hide-input"
    ]
   },
   "outputs": [
    {
     "ename": "ModuleNotFoundError",
     "evalue": "No module named 'jdc'",
     "output_type": "error",
     "traceback": [
      "\u001b[0;31m---------------------------------------------------------------------------\u001b[0m",
      "\u001b[0;31mModuleNotFoundError\u001b[0m                       Traceback (most recent call last)",
      "\u001b[0;32m<ipython-input-1-1a2253c4c919>\u001b[0m in \u001b[0;36m<module>\u001b[0;34m\u001b[0m\n\u001b[1;32m      5\u001b[0m \u001b[0;32mimport\u001b[0m \u001b[0mitertools\u001b[0m\u001b[0;34m\u001b[0m\u001b[0;34m\u001b[0m\u001b[0m\n\u001b[1;32m      6\u001b[0m \u001b[0;32mfrom\u001b[0m \u001b[0m__future__\u001b[0m \u001b[0;32mimport\u001b[0m \u001b[0mprint_function\u001b[0m\u001b[0;34m\u001b[0m\u001b[0;34m\u001b[0m\u001b[0m\n\u001b[0;32m----> 7\u001b[0;31m \u001b[0;32mimport\u001b[0m \u001b[0mjdc\u001b[0m\u001b[0;34m\u001b[0m\u001b[0;34m\u001b[0m\u001b[0m\n\u001b[0m\u001b[1;32m      8\u001b[0m \u001b[0;32mimport\u001b[0m \u001b[0mmath\u001b[0m\u001b[0;34m\u001b[0m\u001b[0;34m\u001b[0m\u001b[0m\n\u001b[1;32m      9\u001b[0m \u001b[0;32mimport\u001b[0m \u001b[0mnumpy\u001b[0m \u001b[0;32mas\u001b[0m \u001b[0mnp\u001b[0m\u001b[0;34m\u001b[0m\u001b[0;34m\u001b[0m\u001b[0m\n",
      "\u001b[0;31mModuleNotFoundError\u001b[0m: No module named 'jdc'"
     ]
    }
   ],
   "source": [
    "import random\n",
    "import pylab\n",
    "import matplotlib.mlab as mlab\n",
    "import functools\n",
    "import itertools\n",
    "from __future__ import print_function\n",
    "import jdc\n",
    "import math\n",
    "import numpy as np\n",
    "import matplotlib as mpl\n",
    "import matplotlib.pyplot as plt\n",
    "import seaborn as sns\n",
    "from prettytable import *\n",
    "import numpy as np\n",
    "import matplotlib.pyplot as plt\n",
    "from scipy.stats import norm\n",
    "import math\n",
    "from functools import reduce\n",
    "from collections import Counter\n",
    "from tqdm.notebook import tqdm  \n",
    "\n",
    "from ipywidgets import interact, interactive, fixed, interact_manual\n",
    "import ipywidgets as widgets\n",
    "from IPython.display import display\n",
    "from IPython.display import display, Math, Latex\n",
    "sns.set()"
   ]
  },
  {
   "cell_type": "code",
   "execution_count": 2,
   "metadata": {
    "slideshow": {
     "slide_type": "skip"
    }
   },
   "outputs": [],
   "source": [
    "import operator as op\n",
    "def ncr(n, r):\n",
    "    r = min(r, n-r)\n",
    "    if r == 0: return 1\n",
    "    numer = reduce(op.mul, range(n, n-r, -1))\n",
    "    denom = reduce(op.mul, range(1, r+1))\n",
    "    return float(numer//denom)\n",
    "\n",
    "def probability_majority_is_correct(num_voters=100,prob=0.51):\n",
    "\n",
    "    return sum([ncr(num_voters,k)*(prob**k)*(1-prob)**(num_voters-k) \n",
    "                for k in range(int(num_voters/2+1),num_voters+1)])"
   ]
  },
  {
   "cell_type": "code",
   "execution_count": 3,
   "metadata": {
    "slideshow": {
     "slide_type": "skip"
    }
   },
   "outputs": [],
   "source": [
    "def make_maj_prob_graphs():\n",
    "    probs = np.linspace(0,1,num=100)\n",
    "\n",
    "    number_of_voters = [ 1, 3,  11, 51,  201, 501, 1001]\n",
    "    sns.set(rc={'figure.figsize':(10,5)})\n",
    "    \n",
    "    plt.subplot(121)\n",
    "    for num_voters in number_of_voters:\n",
    "        maj_probs = [probability_majority_is_correct(num_voters=num_voters,prob=p)  for p in probs]\n",
    "        plt.plot(list(probs),maj_probs, label=\"$n=\" + str(num_voters) + \"$\")\n",
    "        plt.legend(bbox_to_anchor=(1.05, 1), loc=2, borderaxespad=0.)\n",
    "    plt.xlabel('Probability of voting correctly')\n",
    "    plt.ylabel('Probability the majority is correct')\n",
    "    \n",
    "    plt.subplot(122)\n",
    "    for num_voters in number_of_voters:\n",
    "        maj_probs = [probability_majority_is_correct(num_voters=num_voters,prob=p) - p  for p in probs]\n",
    "        plt.plot(list(probs),maj_probs, label=\"$n=\" + str(num_voters) + \"$\")\n",
    "        plt.legend(bbox_to_anchor=(1.05, 1), loc=2, borderaxespad=0.)\n",
    "    plt.xlabel('Probability of voting correctly')\n",
    "    plt.ylabel('$Pr(M_n) - p$')\n",
    "\n",
    "    plt.plot([0.0,1.0],[0.0,0.0],color='black',alpha=0.6)\n",
    "    \n",
    "    sns.set()\n",
    "    plt.subplots_adjust(bottom=0.1, right=1.5, top=0.9, wspace = 0.75)\n",
    "\n",
    "    plt.savefig('cjtplots.png')\n"
   ]
  },
  {
   "cell_type": "code",
   "execution_count": 4,
   "metadata": {
    "scrolled": true,
    "slideshow": {
     "slide_type": "slide"
    }
   },
   "outputs": [
    {
     "ename": "NameError",
     "evalue": "name 'np' is not defined",
     "output_type": "error",
     "traceback": [
      "\u001b[0;31m---------------------------------------------------------------------------\u001b[0m",
      "\u001b[0;31mNameError\u001b[0m                                 Traceback (most recent call last)",
      "\u001b[0;32m<ipython-input-4-6b65227ee416>\u001b[0m in \u001b[0;36m<module>\u001b[0;34m\u001b[0m\n\u001b[0;32m----> 1\u001b[0;31m \u001b[0mmake_maj_prob_graphs\u001b[0m\u001b[0;34m(\u001b[0m\u001b[0;34m)\u001b[0m\u001b[0;34m\u001b[0m\u001b[0;34m\u001b[0m\u001b[0m\n\u001b[0m",
      "\u001b[0;32m<ipython-input-3-ce358d862224>\u001b[0m in \u001b[0;36mmake_maj_prob_graphs\u001b[0;34m()\u001b[0m\n\u001b[1;32m      1\u001b[0m \u001b[0;32mdef\u001b[0m \u001b[0mmake_maj_prob_graphs\u001b[0m\u001b[0;34m(\u001b[0m\u001b[0;34m)\u001b[0m\u001b[0;34m:\u001b[0m\u001b[0;34m\u001b[0m\u001b[0;34m\u001b[0m\u001b[0m\n\u001b[0;32m----> 2\u001b[0;31m     \u001b[0mprobs\u001b[0m \u001b[0;34m=\u001b[0m \u001b[0mnp\u001b[0m\u001b[0;34m.\u001b[0m\u001b[0mlinspace\u001b[0m\u001b[0;34m(\u001b[0m\u001b[0;36m0\u001b[0m\u001b[0;34m,\u001b[0m\u001b[0;36m1\u001b[0m\u001b[0;34m,\u001b[0m\u001b[0mnum\u001b[0m\u001b[0;34m=\u001b[0m\u001b[0;36m100\u001b[0m\u001b[0;34m)\u001b[0m\u001b[0;34m\u001b[0m\u001b[0;34m\u001b[0m\u001b[0m\n\u001b[0m\u001b[1;32m      3\u001b[0m \u001b[0;34m\u001b[0m\u001b[0m\n\u001b[1;32m      4\u001b[0m     \u001b[0mnumber_of_voters\u001b[0m \u001b[0;34m=\u001b[0m \u001b[0;34m[\u001b[0m \u001b[0;36m1\u001b[0m\u001b[0;34m,\u001b[0m \u001b[0;36m3\u001b[0m\u001b[0;34m,\u001b[0m  \u001b[0;36m11\u001b[0m\u001b[0;34m,\u001b[0m \u001b[0;36m51\u001b[0m\u001b[0;34m,\u001b[0m  \u001b[0;36m201\u001b[0m\u001b[0;34m,\u001b[0m \u001b[0;36m501\u001b[0m\u001b[0;34m,\u001b[0m \u001b[0;36m1001\u001b[0m\u001b[0;34m]\u001b[0m\u001b[0;34m\u001b[0m\u001b[0;34m\u001b[0m\u001b[0m\n\u001b[1;32m      5\u001b[0m     \u001b[0msns\u001b[0m\u001b[0;34m.\u001b[0m\u001b[0mset\u001b[0m\u001b[0;34m(\u001b[0m\u001b[0mrc\u001b[0m\u001b[0;34m=\u001b[0m\u001b[0;34m{\u001b[0m\u001b[0;34m'figure.figsize'\u001b[0m\u001b[0;34m:\u001b[0m\u001b[0;34m(\u001b[0m\u001b[0;36m10\u001b[0m\u001b[0;34m,\u001b[0m\u001b[0;36m5\u001b[0m\u001b[0;34m)\u001b[0m\u001b[0;34m}\u001b[0m\u001b[0;34m)\u001b[0m\u001b[0;34m\u001b[0m\u001b[0;34m\u001b[0m\u001b[0m\n",
      "\u001b[0;31mNameError\u001b[0m: name 'np' is not defined"
     ]
    }
   ],
   "source": [
    "make_maj_prob_graphs()"
   ]
  },
  {
   "cell_type": "code",
   "execution_count": 5,
   "metadata": {
    "slideshow": {
     "slide_type": "slide"
    }
   },
   "outputs": [
    {
     "ename": "NameError",
     "evalue": "name 'interact_manual' is not defined",
     "output_type": "error",
     "traceback": [
      "\u001b[0;31m---------------------------------------------------------------------------\u001b[0m",
      "\u001b[0;31mNameError\u001b[0m                                 Traceback (most recent call last)",
      "\u001b[0;32m<ipython-input-5-78cba44fa809>\u001b[0m in \u001b[0;36m<module>\u001b[0;34m\u001b[0m\n\u001b[1;32m     10\u001b[0m \u001b[0;34m\u001b[0m\u001b[0m\n\u001b[1;32m     11\u001b[0m \u001b[0;34m\u001b[0m\u001b[0m\n\u001b[0;32m---> 12\u001b[0;31m \u001b[0mmaxprob\u001b[0m \u001b[0;34m=\u001b[0m \u001b[0minteract_manual\u001b[0m\u001b[0;34m(\u001b[0m\u001b[0mprobability_majority_is_correct_diff_probs\u001b[0m\u001b[0;34m,\u001b[0m\u001b[0mp1\u001b[0m\u001b[0;34m=\u001b[0m\u001b[0;34m(\u001b[0m\u001b[0;36m0.5\u001b[0m\u001b[0;34m,\u001b[0m\u001b[0;36m1\u001b[0m\u001b[0;34m,\u001b[0m\u001b[0;36m0.01\u001b[0m\u001b[0;34m)\u001b[0m\u001b[0;34m,\u001b[0m\u001b[0mp2\u001b[0m\u001b[0;34m=\u001b[0m\u001b[0;34m(\u001b[0m\u001b[0;36m0.5\u001b[0m\u001b[0;34m,\u001b[0m\u001b[0;36m1\u001b[0m\u001b[0;34m,\u001b[0m\u001b[0;36m0.01\u001b[0m\u001b[0;34m)\u001b[0m\u001b[0;34m,\u001b[0m\u001b[0mp3\u001b[0m\u001b[0;34m=\u001b[0m\u001b[0;34m(\u001b[0m\u001b[0;36m0.5\u001b[0m\u001b[0;34m,\u001b[0m\u001b[0;36m1\u001b[0m\u001b[0;34m,\u001b[0m\u001b[0;36m0.01\u001b[0m\u001b[0;34m)\u001b[0m\u001b[0;34m)\u001b[0m\u001b[0;34m\u001b[0m\u001b[0;34m\u001b[0m\u001b[0m\n\u001b[0m",
      "\u001b[0;31mNameError\u001b[0m: name 'interact_manual' is not defined"
     ]
    }
   ],
   "source": [
    "def probability_majority_is_correct_diff_probs(p1=0.55, p2=0.6, p3=0.8):\n",
    "    \n",
    "    maj_prob = p1*p2*p3 + p1*p2*(1-p3) + + p2*p3*(1-p1) + + p1*p3*(1-p2) \n",
    "    expert_prob = 1.0/3.0 * p1 + 1.0/3.0 * p2 + 1.0/3.0 * p3\n",
    "    print(f\"Majority probability: {round(maj_prob,3)}\\nExpert Probability: {round(expert_prob,3)}\")\n",
    "    if maj_prob > expert_prob: \n",
    "        print(f\" Majority rule is better than the expert rule\")\n",
    "    else: \n",
    "        print(f\"\\n The expert rule is better than majority rule\")\n",
    "\n",
    "    \n",
    "maxprob = interact_manual(probability_majority_is_correct_diff_probs,p1=(0.5,1,0.01),p2=(0.5,1,0.01),p3=(0.5,1,0.01))"
   ]
  },
  {
   "cell_type": "code",
   "execution_count": 6,
   "metadata": {
    "slideshow": {
     "slide_type": "skip"
    }
   },
   "outputs": [],
   "source": [
    "evidence = [2,3,4,5,6,7,8,10, 12, 14]\n",
    "\n",
    "class Agent():\n",
    "    \n",
    "    def __init__(self, comp=0.501):\n",
    "        self.comp = comp\n",
    "        \n",
    "    def vote(self, ev):\n",
    "        #vote on whether the event is true or false\n",
    "        #need the actual truth value in order to know which direction to be biased\n",
    "        if ev:\n",
    "            #ev is true\n",
    "            return int(random.random() < self.comp)\n",
    "        else:\n",
    "            return 1 - int(random.random() < self.comp)\n",
    "\n",
    "\n",
    "def maj_vote(the_votes):\n",
    "    votes_true = len([v for v in the_votes if v == 1])\n",
    "    votes_false = len([v for v in the_votes if v == 0])\n",
    "\n",
    "    if votes_true > votes_false:\n",
    "        return 1\n",
    "    elif votes_false > votes_true:\n",
    "        return 0\n",
    "    else:\n",
    "        return -1  #tied\n",
    "\n",
    "def generate_competences(n, mu=0.51, sigma=0.2):\n",
    "    competences = list()\n",
    "    for i in range(0,n):\n",
    "        #sample a comp until you find one between 1 and 0\n",
    "        comp=np.random.normal(mu, sigma)\n",
    "    \n",
    "        while comp > 1.0 or comp < 0.0:\n",
    "            comp=np.random.normal(mu, sigma)\n",
    "        competences.append(comp)\n",
    "    return competences"
   ]
  },
  {
   "cell_type": "code",
   "execution_count": 7,
   "metadata": {
    "slideshow": {
     "slide_type": "skip"
    }
   },
   "outputs": [],
   "source": [
    "import pandas as pd\n",
    "NUM_ROUNDS = 500\n",
    "from tqdm import notebook \n",
    "\n",
    "def make_plots(max_voters=201, \n",
    "               comp_mu=0.501, \n",
    "               comp_sigma=0.1):\n",
    "    P=True\n",
    "    max_num_voters = max_voters\n",
    "    total_num_voters = range(1,max_num_voters)\n",
    "\n",
    "    competences = generate_competences(max_num_voters,\n",
    "                                       mu=comp_mu, \n",
    "                                       sigma=comp_sigma)\n",
    "    maj_probs = list()\n",
    "    expert_probs = list()\n",
    "    for num_voters in notebook.tqdm(total_num_voters, desc='voting'):\n",
    "        experts = list()\n",
    "\n",
    "        experts = [Agent(comp=competences[num-1]) for num in range(0,num_voters)]\n",
    "    \n",
    "        maj_votes = list()\n",
    "        expert_votes = list()\n",
    "        for r in range(0,NUM_ROUNDS):\n",
    "            # everyone votes\n",
    "            votes = [a.vote(P) for a in experts]\n",
    "            maj_votes.append(maj_vote(votes))\n",
    "        \n",
    "            expert_votes.append(random.choice(experts).vote(P))\n",
    "    \n",
    "        maj_probs.append(float(float(len([v for v in maj_votes if v==1]))/float(len(maj_votes))))\n",
    "        expert_probs.append(float(len([v for v in expert_votes if v==1]))/float(len(expert_votes)))\n",
    "    \n",
    "    sns.set(rc={'figure.figsize':(11,5)})\n",
    "    plt.subplot(121)\n",
    "\n",
    "    data = {\" \": range(0,max_num_voters), \"competence\": competences}\n",
    "    plt.ylim(0,1.05)\n",
    "    plt.title(\"Competences\")\n",
    "    df = pd.DataFrame(data=data)\n",
    "    sns.regplot(x=\" \", y=\"competence\", data=df, color=sns.xkcd_rgb[\"pale red\"])\n",
    "\n",
    "\n",
    "    plt.subplot(122)\n",
    "    plt.title(\"Majority vs. Experts\")\n",
    "    plt.plot(list(total_num_voters), maj_probs, label=\"majority \")\n",
    "    plt.plot(list(total_num_voters), expert_probs, label=\"expert \")\n",
    "    plt.legend(bbox_to_anchor=(1.05, 1), loc=2, borderaxespad=0.)\n",
    "    plt.xlabel('Number of experts')\n",
    "    plt.ylabel('Probability')\n",
    "    plt.ylim(0,1.05)\n",
    "    plt.subplots_adjust(bottom=0.1, right=1.5, top=0.9, wspace = 0.75)\n",
    "\n",
    "    sns.set()\n",
    "    plt.savefig(\"cjt_simulation.png\")\n",
    "\n",
    "\n"
   ]
  },
  {
   "cell_type": "code",
   "execution_count": 8,
   "metadata": {
    "slideshow": {
     "slide_type": "slide"
    }
   },
   "outputs": [
    {
     "ename": "NameError",
     "evalue": "name 'interact_manual' is not defined",
     "output_type": "error",
     "traceback": [
      "\u001b[0;31m---------------------------------------------------------------------------\u001b[0m",
      "\u001b[0;31mNameError\u001b[0m                                 Traceback (most recent call last)",
      "\u001b[0;32m<ipython-input-8-c70d931e4738>\u001b[0m in \u001b[0;36m<module>\u001b[0;34m\u001b[0m\n\u001b[0;32m----> 1\u001b[0;31m \u001b[0mp\u001b[0m \u001b[0;34m=\u001b[0m \u001b[0minteract_manual\u001b[0m\u001b[0;34m(\u001b[0m\u001b[0mmake_plots\u001b[0m\u001b[0;34m,\u001b[0m\u001b[0mmax_voters\u001b[0m\u001b[0;34m=\u001b[0m\u001b[0;34m(\u001b[0m\u001b[0;36m1\u001b[0m\u001b[0;34m,\u001b[0m\u001b[0;36m501\u001b[0m\u001b[0;34m,\u001b[0m\u001b[0;36m1\u001b[0m\u001b[0;34m)\u001b[0m\u001b[0;34m,\u001b[0m\u001b[0mcomp_mu\u001b[0m\u001b[0;34m=\u001b[0m\u001b[0;34m(\u001b[0m\u001b[0;36m0\u001b[0m\u001b[0;34m,\u001b[0m\u001b[0;36m1\u001b[0m\u001b[0;34m,\u001b[0m\u001b[0;36m0.01\u001b[0m\u001b[0;34m)\u001b[0m\u001b[0;34m,\u001b[0m\u001b[0mcomp_sigma\u001b[0m\u001b[0;34m=\u001b[0m\u001b[0;34m(\u001b[0m\u001b[0;36m0\u001b[0m\u001b[0;34m,\u001b[0m\u001b[0;36m2\u001b[0m\u001b[0;34m,\u001b[0m\u001b[0;36m0.1\u001b[0m\u001b[0;34m)\u001b[0m\u001b[0;34m)\u001b[0m\u001b[0;34m\u001b[0m\u001b[0;34m\u001b[0m\u001b[0m\n\u001b[0m",
      "\u001b[0;31mNameError\u001b[0m: name 'interact_manual' is not defined"
     ]
    }
   ],
   "source": [
    "p = interact_manual(make_plots,max_voters=(1,501,1),comp_mu=(0,1,0.01),comp_sigma=(0,2,0.1))"
   ]
  },
  {
   "cell_type": "code",
   "execution_count": 9,
   "metadata": {},
   "outputs": [],
   "source": [
    "def display_probs(cjt_model, num_options):\n",
    "    '''display the probabilities of the agents'''\n",
    "    _probs = list()\n",
    "    for a in cjt_model.schedule.agents: \n",
    "        _probs.append(np.array(a.probs))\n",
    "    probs = np.array(_probs)\n",
    "    prs = probs.transpose()\n",
    "\n",
    "    for opt in range(num_options):\n",
    "        plt.barh(range(num_agents), prs[opt], 1,\n",
    "                 left=sum([np.array([0.0]*num_agents)] + [prs[i] for i in range(opt)]),\n",
    "                  lw = 0.01)\n",
    "    plt.show()\n",
    "    plt.clf()"
   ]
  },
  {
   "cell_type": "code",
   "execution_count": 10,
   "metadata": {},
   "outputs": [],
   "source": [
    "from dataclasses import dataclass, field\n",
    "from typing import List\n",
    "\n",
    "@dataclass\n",
    "class Options:\n",
    "    '''Options is a list with one option identified as the \"correct\" one '''\n",
    "    num: int = 2\n",
    "    correct_idx: int = 0 # index of the correct option\n",
    "    names:  List[str] = field(default_factory=list) # names of the options\n",
    "        \n",
    "    def __post_init__(self):\n",
    "        self.names = [f\"P{p+1}\" for p in self.props]\n",
    "    \n",
    "    @property\n",
    "    def props(self) -> List[int]:\n",
    "        '''the list of all options'''\n",
    "        return list(range(self.num))\n",
    "    \n",
    "    @property\n",
    "    def C(self) -> int:\n",
    "        return self.props[self.correct_idx]\n",
    "    \n",
    "    @property\n",
    "    def C_as_list(self) -> List[int]:\n",
    "        return [self.props[self.correct_idx]]\n",
    "    \n",
    "    @property\n",
    "    def W(self) -> List[int]: \n",
    "        return list(self.props[self.correct_idx + 1::])\n",
    "    \n",
    "    def name(self, opt): \n",
    "        return self.names[opt]\n",
    "    \n",
    "    def set_names(self, names):\n",
    "        assert len(names) == self.num, f\"You need {self.num} names, but only provided {len(names)} names: {names}\"\n",
    "        self.names = names\n",
    "        \n",
    "    # make options iterable\n",
    "    def __iter__(self):\n",
    "        return iter(self.props)\n"
   ]
  },
  {
   "cell_type": "code",
   "execution_count": 11,
   "metadata": {},
   "outputs": [],
   "source": [
    "from mesa import Agent, Model\n",
    "from mesa.time import RandomActivation\n",
    "from mesa.datacollection import DataCollector\n",
    "\n",
    "\n",
    "def gen_option_probability_normal(mu,sigma):\n",
    "    '''return single p'''\n",
    "    pr=np.random.normal(mu, sigma)\n",
    "    while pr > 1.0 or pr < 0.0:\n",
    "        pr=np.random.normal(mu, sigma)\n",
    "    return [pr, 1-pr]\n",
    "\n",
    "def gen_option_probability_beta(a,b, num=1):\n",
    "    pr=np.random.beta(a,b, num)[0]\n",
    "    return [pr, 1-pr]\n",
    "\n",
    "def gen_options_probability_dirichlet(params, num=1):\n",
    "    return np.random.dirichlet(params, num)\n",
    "    \n",
    "\n",
    "init_probs = {'1_opt_fixed_probs1': lambda : [0.51, 0.49],\n",
    "              '1_opt_fixed_probs2': lambda : [0.75, 0.25],\n",
    "              '1_opt_fixed_probs3': lambda : [0.49, 0.51],\n",
    "              '4_opt_fixed_probs': lambda : [0.40, 0.20, 0.20, 0.20],\n",
    "              '7_opt_fixed_probs': lambda : [0.30, 0.10, 0.20, 0.05, 0.05, 0.15, 0.15],\n",
    "              '2_opt_normal1': lambda : gen_option_probability_normal(0.51, 0.1),\n",
    "              '2_opt_normal2': lambda : gen_option_probability_normal(0.6, 0.25),\n",
    "              '2_opt_normal3': lambda : gen_option_probability_normal(0.6, 0.1),\n",
    "              '2_opt_beta1': lambda : gen_option_probability_beta(20,20),\n",
    "              '2_opt_beta2': lambda : gen_option_probability_beta(21,20),\n",
    "              '2_opt_beta3': lambda : gen_option_probability_beta(15,20),\n",
    "              '4_opt_dirichlet1': lambda : gen_options_probability_dirichlet((2, 1, 1, 1))[0],\n",
    "              '4_opt_dirichlet2': lambda : gen_options_probability_dirichlet((1.15, 1, 1, 1))[0],\n",
    "              '4_opt_dirichlet3': lambda : gen_options_probability_dirichlet((4,3,2,1))[0],\n",
    "             }\n",
    "\n",
    "\n",
    "def plurality_vote(votes):\n",
    "    tally  = Counter(votes)\n",
    "    max_plurality_score = max(tally.values())\n",
    "    winners = [o for o in tally.keys() if tally[o] == max_plurality_score]\n",
    "    return winners \n",
    "\n",
    "def percent_plurality_vote_correct(model):\n",
    "    num_correct = 0\n",
    "    for r in range(model.num_rounds):\n",
    "        winners = plurality_vote([a.vote() for a in model.schedule.agents])\n",
    "        if len(winners) == 1 and model.options.C == winners[0]:\n",
    "            num_correct += 1\n",
    "    return float(num_correct) / model.num_rounds\n",
    "\n",
    "def percent_expert_correct(model):\n",
    "    num_correct = 0\n",
    "    for r in range(model.num_rounds):\n",
    "        expert = random.choice(model.schedule.agents)\n",
    "        if  model.options.C == expert.vote():\n",
    "            num_correct += 1\n",
    "    return float(num_correct) / model.num_rounds\n",
    "\n",
    "\n",
    "class Expert(Agent):\n",
    "    \"\"\"Expert to vote on a single proposition.\n",
    "    competence: float between 0 and 1\"\"\"\n",
    "    def __init__(self, unique_id, model, options, probs):\n",
    "        super().__init__(unique_id, model)\n",
    "        self.options = options\n",
    "        self.probs = probs\n",
    "        \n",
    "    def vote(self):\n",
    "        return np.random.choice(self.options, 1, p=self.probs)[0]\n",
    "    \n",
    "    def step(self):\n",
    "        self.vote()\n",
    "        #print(self.unique_id, self.selected_option)\n",
    "    \n",
    "class CJTModel(Model):\n",
    "    \"\"\"A model with some number of experts.\"\"\"\n",
    "    def __init__(self, N, num_rounds, gen_prob, num_options=2):\n",
    "        self.num_experts = N\n",
    "        self.options = Options(num_options)\n",
    "        self.schedule = RandomActivation(self)\n",
    "        self.num_rounds = num_rounds\n",
    "        \n",
    "        # Create experts\n",
    "        for i in range(self.num_experts):\n",
    "            a = Expert(i, self, self.options.props, gen_prob())\n",
    "            self.schedule.add(a) \n",
    "        \n",
    "        self.datacollector = DataCollector(\n",
    "            model_reporters={\"PercentPluralityCorrect\": percent_plurality_vote_correct,\n",
    "                             \"PercentExpertCorrect\": percent_expert_correct})\n",
    "    \n",
    "    def run(self):\n",
    "        '''run simulation.'''\n",
    "        \n",
    "        self.schedule.step()\n",
    "        self.datacollector.collect(self)\n",
    "\n"
   ]
  },
  {
   "cell_type": "code",
   "execution_count": 12,
   "metadata": {
    "slideshow": {
     "slide_type": "skip"
    }
   },
   "outputs": [],
   "source": [
    "def display_plots(plot_type):\n",
    "    \n",
    "    max_num_agents = 101\n",
    "    \n",
    "    num_options = int(plot_type.split(\"_\")[0]) \n",
    "    num_rounds = 500\n",
    "\n",
    "    fig, (ax1, ax2) = plt.subplots(1, 2)\n",
    "    fig.set_size_inches(14, 6)\n",
    "    perc_plurality_correct = list()\n",
    "    perc_expert_correct = list()\n",
    "    for num_agents in tqdm(range(1,max_num_agents+1)): \n",
    "        cjt_model = CJTModel(num_agents, \n",
    "                             num_rounds, \n",
    "                             init_probs[plot_type], \n",
    "                             num_options=num_options)\n",
    "        cjt_model.run()\n",
    "        winners = cjt_model.datacollector.get_model_vars_dataframe()\n",
    "        perc_plurality_correct.append(winners.PercentPluralityCorrect.values[0])\n",
    "        perc_expert_correct.append(winners.PercentExpertCorrect.values[0])\n",
    "        \n",
    "    _probs = list()\n",
    "    for a in cjt_model.schedule.agents: \n",
    "        _probs.append(np.array(a.probs))\n",
    "    probs = np.array(_probs)\n",
    "    prs = probs.transpose()\n",
    "\n",
    "    for opt in range(num_options):\n",
    "        ax1.barh(range(num_agents), prs[opt], 1,\n",
    "                 left=sum([np.array([0.0]*num_agents)] + [prs[i] for i in range(opt)]),\n",
    "                  lw = 0.01)\n",
    "    ax2.plot(range(1,max_num_agents+1), perc_plurality_correct, label=\"Plurality\")\n",
    "    ax2.plot(range(1,max_num_agents+1), perc_expert_correct, label=\"Expert\")\n",
    "    \n",
    "    plt.legend(bbox_to_anchor=(1.25,0.5))\n",
    "    plt.savefig(\"plurality_example.pdf\")\n",
    "    #plt.show()\n",
    "    "
   ]
  },
  {
   "cell_type": "code",
   "execution_count": 13,
   "metadata": {
    "slideshow": {
     "slide_type": "slide"
    }
   },
   "outputs": [
    {
     "ename": "NameError",
     "evalue": "name 'interact_manual' is not defined",
     "output_type": "error",
     "traceback": [
      "\u001b[0;31m---------------------------------------------------------------------------\u001b[0m",
      "\u001b[0;31mNameError\u001b[0m                                 Traceback (most recent call last)",
      "\u001b[0;32m<ipython-input-13-412fef0e03a2>\u001b[0m in \u001b[0;36m<module>\u001b[0;34m\u001b[0m\n\u001b[0;32m----> 1\u001b[0;31m p=interact_manual(display_plots,plot_type=widgets.Dropdown(\n\u001b[0m\u001b[1;32m      2\u001b[0m     options=[\n\u001b[1;32m      3\u001b[0m         \u001b[0;34m(\u001b[0m\u001b[0;34m'4 Options'\u001b[0m\u001b[0;34m,\u001b[0m \u001b[0;34m'4_opt_fixed_probs'\u001b[0m\u001b[0;34m)\u001b[0m\u001b[0;34m,\u001b[0m\u001b[0;34m\u001b[0m\u001b[0;34m\u001b[0m\u001b[0m\n\u001b[1;32m      4\u001b[0m         \u001b[0;34m(\u001b[0m\u001b[0;34m'7 Options'\u001b[0m\u001b[0;34m,\u001b[0m \u001b[0;34m'7_opt_fixed_probs'\u001b[0m\u001b[0;34m)\u001b[0m\u001b[0;34m,\u001b[0m\u001b[0;34m\u001b[0m\u001b[0;34m\u001b[0m\u001b[0m\n\u001b[1;32m      5\u001b[0m         \u001b[0;34m(\u001b[0m\u001b[0;34m'4 Options Random Competence 1'\u001b[0m\u001b[0;34m,\u001b[0m \u001b[0;34m'4_opt_dirichlet1'\u001b[0m\u001b[0;34m)\u001b[0m\u001b[0;34m,\u001b[0m\u001b[0;34m\u001b[0m\u001b[0;34m\u001b[0m\u001b[0m\n",
      "\u001b[0;31mNameError\u001b[0m: name 'interact_manual' is not defined"
     ]
    }
   ],
   "source": [
    "\n",
    "p=interact_manual(display_plots,plot_type=widgets.Dropdown(\n",
    "    options=[\n",
    "        ('4 Options', '4_opt_fixed_probs'), \n",
    "        ('7 Options', '7_opt_fixed_probs'), \n",
    "        ('4 Options Random Competence 1', '4_opt_dirichlet1'),\n",
    "        ('4 Options Random Competence 2', '4_opt_dirichlet2'),\n",
    "        ('4 Options Random Competence 3', '4_opt_dirichlet3'), \n",
    "        ('1 Option Random Competence 1', '2_opt_beta1'),\n",
    "        ('1 Option Random Competence 2', '2_opt_beta2'),\n",
    "        ('1 Option Random Competence 3', '2_opt_beta3'),\n",
    "        ('1 Option Random Competence 4', '2_opt_normal1'),\n",
    "        ('1 Option Random Competence 5', '2_opt_normal2'),\n",
    "        ('1 Option Random Competence 6', '2_opt_normal3'),\n",
    "\n",
    "    ],\n",
    "    value='4_opt_fixed_probs',\n",
    "    description='Simulation:'))"
   ]
  }
 ],
 "metadata": {
  "celltoolbar": "Tags",
  "kernelspec": {
   "display_name": "Python 3",
   "language": "python",
   "name": "python3"
  },
  "language_info": {
   "codemirror_mode": {
    "name": "ipython",
    "version": 3
   },
   "file_extension": ".py",
   "mimetype": "text/x-python",
   "name": "python",
   "nbconvert_exporter": "python",
   "pygments_lexer": "ipython3",
   "version": "3.9.0"
  },
  "varInspector": {
   "cols": {
    "lenName": 16,
    "lenType": 16,
    "lenVar": 40
   },
   "kernels_config": {
    "python": {
     "delete_cmd_postfix": "",
     "delete_cmd_prefix": "del ",
     "library": "var_list.py",
     "varRefreshCmd": "print(var_dic_list())"
    },
    "r": {
     "delete_cmd_postfix": ") ",
     "delete_cmd_prefix": "rm(",
     "library": "var_list.r",
     "varRefreshCmd": "cat(var_dic_list()) "
    }
   },
   "types_to_exclude": [
    "module",
    "function",
    "builtin_function_or_method",
    "instance",
    "_Feature"
   ],
   "window_display": false
  }
 },
 "nbformat": 4,
 "nbformat_minor": 2
}