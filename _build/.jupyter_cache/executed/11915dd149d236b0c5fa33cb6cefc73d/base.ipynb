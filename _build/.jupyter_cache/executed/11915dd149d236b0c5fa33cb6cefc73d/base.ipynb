{
 "cells": [
  {
   "cell_type": "code",
   "execution_count": 1,
   "metadata": {
    "tags": [
     "hide-input"
    ]
   },
   "outputs": [],
   "source": [
    "# import the Profile class\n",
    "from voting.profiles import Profile\n",
    "from voting.generate_profiles import *\n",
    "from voting.voting_methods import *\n",
    "import networkx as nx\n",
    "from itertools import combinations\n",
    "import matplotlib.pyplot as plt"
   ]
  },
  {
   "cell_type": "code",
   "execution_count": 2,
   "metadata": {},
   "outputs": [
    {
     "name": "stdout",
     "output_type": "stream",
     "text": [
      "74.0% of profiles have a Condorcet winner.\n",
      "48.0% of profiles have a majority cycle.\n"
     ]
    }
   ],
   "source": [
    "pm=\"IC\"\n",
    "num_trials = 1000\n",
    "num_candidates = 5\n",
    "num_voters = 1001\n",
    "\n",
    "num_condorcet_winner = 0\n",
    "num_cycles = 0\n",
    "for t in range(num_trials): \n",
    "    prof = generate_profile(num_candidates, num_voters, probmod = pm)\n",
    "    num_condorcet_winner += prof.condorcet_winner() is not None\n",
    "    num_cycles += has_cycle(prof.margin_graph())\n",
    "    \n",
    "print(f\"{round(num_condorcet_winner / num_trials, 2) *100}% of profiles have a Condorcet winner.\")\n",
    "print(f\"{round(num_cycles / num_trials, 2) *100}% of profiles have a majority cycle.\")"
   ]
  },
  {
   "cell_type": "code",
   "execution_count": 3,
   "metadata": {},
   "outputs": [
    {
     "name": "stdout",
     "output_type": "stream",
     "text": [
      "76.0% of profiles have a Condorcet winner.\n",
      "44.0% of profiles have a majority cycle.\n"
     ]
    }
   ],
   "source": [
    "pm=\"IAC\"\n",
    "num_trials = 1000\n",
    "num_candidates = 5\n",
    "num_voters = 1001\n",
    "\n",
    "num_condorcet_winner = 0\n",
    "num_cycles = 0\n",
    "for t in range(num_trials): \n",
    "    prof = generate_profile(num_candidates, num_voters, probmod = pm)\n",
    "    num_condorcet_winner += prof.condorcet_winner() is not None\n",
    "    num_cycles += has_cycle(prof.margin_graph())\n",
    "print(f\"{round(num_condorcet_winner / num_trials, 2) *100}% of profiles have a Condorcet winner.\")\n",
    "print(f\"{round(num_cycles / num_trials, 2) * 100}% of profiles have a majority cycle.\")"
   ]
  },
  {
   "cell_type": "code",
   "execution_count": 4,
   "metadata": {},
   "outputs": [
    {
     "name": "stdout",
     "output_type": "stream",
     "text": [
      "CPU times: user 27min 30s, sys: 4 s, total: 27min 34s\n",
      "Wall time: 27min 39s\n"
     ]
    }
   ],
   "source": [
    "%%time \n",
    "\n",
    "all_num_candidates = [3, 4, 5, 6]\n",
    "all_num_voters = [(10,11), (100,101), (1000, 1001)]\n",
    "num_trials = 10000\n",
    "\n",
    "voting_scenarios = list(product(all_num_candidates, all_num_voters))\n",
    "data = {vs: \n",
    "        {\n",
    "            \"perc_condorcet_winners\": {\"IC\": 0, \"IAC\": 0},\n",
    "            \"perc_cycles\": {\"IC\": 0, \"IAC\": 0},            \n",
    "        } \n",
    "        for vs in voting_scenarios\n",
    "       }\n",
    "\n",
    "for vs in voting_scenarios: \n",
    "    nc = vs[0]\n",
    "    nv_even = vs[1][0]\n",
    "    nv_odd = vs[1][1]\n",
    "    \n",
    "    num_condorcet_winner_IC = 0\n",
    "    num_condorcet_winner_IAC = 0\n",
    "    num_cycle_IC = 0\n",
    "    num_cycle_IAC = 0\n",
    "    for t in range(num_trials): \n",
    "        prof_IC_even = generate_profile(nc, nv_even, probmod=\"IC\")       \n",
    "        prof_IC_odd = generate_profile(nc, nv_odd, probmod=\"IC\")\n",
    "        prof_IAC_even = generate_profile(nc, nv_even, probmod=\"IAC\")        \n",
    "        prof_IAC_odd = generate_profile(nc, nv_odd, probmod=\"IAC\")\n",
    "        \n",
    "        num_condorcet_winner_IC += prof_IC_even.condorcet_winner() is not None \n",
    "        num_condorcet_winner_IC += prof_IC_odd.condorcet_winner() is not None \n",
    "        num_cycle_IC += has_cycle(prof_IC_even)\n",
    "        num_cycle_IC += has_cycle(prof_IC_odd) \n",
    "        \n",
    "        num_condorcet_winner_IAC += prof_IAC_even.condorcet_winner() is not None \n",
    "        num_condorcet_winner_IAC += prof_IAC_odd.condorcet_winner() is not None \n",
    "        num_cycle_IAC += has_cycle(prof_IAC_even)\n",
    "        num_cycle_IAC += has_cycle(prof_IAC_odd) \n",
    "        \n",
    "    data[vs][\"perc_condorcet_winners\"][\"IC\"] = num_condorcet_winner_IC / (2 * num_trials)\n",
    "    data[vs][\"perc_cycles\"][\"IC\"] = num_cycle_IC /  (2 * num_trials)\n",
    "    data[vs][\"perc_condorcet_winners\"][\"IAC\"] = num_condorcet_winner_IAC /  (2 * num_trials)\n",
    "    data[vs][\"perc_cycles\"][\"IAC\"] = num_cycle_IAC /  (2 * num_trials)\n"
   ]
  },
  {
   "cell_type": "code",
   "execution_count": 5,
   "metadata": {},
   "outputs": [
    {
     "name": "stdout",
     "output_type": "stream",
     "text": [
      "|    | (10, 11)        | (100, 101)      | (1000, 1001)     |\n",
      "|----|-----------------|-----------------|------------------|\n",
      "|  3 | 0.7547, 0.8389  | 0.8545, 0.9221  | 0.89105, 0.93385 |\n",
      "|  4 | 0.65785, 0.6914 | 0.7621, 0.81035 | 0.8096, 0.8324   |\n",
      "|  5 | 0.5876, 0.58815 | 0.68315, 0.701  | 0.7311, 0.7444   |\n",
      "|  6 | 0.52625, 0.5295 | 0.6204, 0.622   | 0.6683, 0.6696   |\n"
     ]
    }
   ],
   "source": [
    "import tabulate\n",
    "table = list()\n",
    "headers = list()\n",
    "\n",
    "for nc in all_num_candidates: \n",
    "    row = [nc]\n",
    "    for nv in all_num_voters: \n",
    "        row.append(f\"{data[(nc, nv)]['perc_condorcet_winners']['IC']}, {data[(nc, nv)]['perc_condorcet_winners']['IAC']}\")\n",
    "    table.append(row)\n",
    "headers = [str(nv) for nv in all_num_voters]\n",
    "print(tabulate.tabulate(table, headers, tablefmt=\"github\"))\n",
    "                   "
   ]
  },
  {
   "cell_type": "code",
   "execution_count": 6,
   "metadata": {},
   "outputs": [
    {
     "name": "stdout",
     "output_type": "stream",
     "text": [
      "Generated by the URN model with alpha = 0\n",
      "+---+---+---+---+---+\n",
      "| 1 | 1 | 1 | 1 | 1 |\n",
      "+---+---+---+---+---+\n",
      "| 3 | 0 | 3 | 0 | 3 |\n",
      "| 1 | 2 | 0 | 3 | 1 |\n",
      "| 2 | 3 | 2 | 2 | 0 |\n",
      "| 0 | 1 | 1 | 1 | 2 |\n",
      "+---+---+---+---+---+\n",
      "Generated by the URN model with alpha = 1\n",
      "+---+---+---+---+---+\n",
      "| 1 | 1 | 1 | 1 | 1 |\n",
      "+---+---+---+---+---+\n",
      "| 0 | 2 | 1 | 3 | 2 |\n",
      "| 1 | 1 | 2 | 1 | 3 |\n",
      "| 3 | 0 | 0 | 2 | 0 |\n",
      "| 2 | 3 | 3 | 0 | 1 |\n",
      "+---+---+---+---+---+\n",
      "Generate by URN model with alpha = 10\n",
      "+---+---+---+\n",
      "| 3 | 1 | 1 |\n",
      "+---+---+---+\n",
      "| 0 | 3 | 0 |\n",
      "| 2 | 0 | 1 |\n",
      "| 1 | 1 | 2 |\n",
      "| 3 | 2 | 3 |\n",
      "+---+---+---+\n",
      "Generate by URN model with alpha = 100\n",
      "+---+\n",
      "| 5 |\n",
      "+---+\n",
      "| 3 |\n",
      "| 2 |\n",
      "| 0 |\n",
      "| 1 |\n",
      "+---+\n"
     ]
    }
   ],
   "source": [
    "print(\"Generated by the URN model with alpha = 0\")\n",
    "prof = generate_profile(4, 5, probmod=\"URN\", probmod_param=0)\n",
    "prof.display()\n",
    "\n",
    "print(\"Generated by the URN model with alpha = 1\")\n",
    "prof = generate_profile(4, 5, probmod=\"URN\", probmod_param=1)\n",
    "prof.display()\n",
    "\n",
    "print(\"Generate by URN model with alpha = 10\")\n",
    "prof = generate_profile(4, 5, probmod=\"URN\", probmod_param=10)\n",
    "prof.display()\n",
    "\n",
    "print(\"Generate by URN model with alpha = 100\")\n",
    "prof = generate_profile(4, 5, probmod=\"URN\", probmod_param=100)\n",
    "prof.display()"
   ]
  },
  {
   "cell_type": "code",
   "execution_count": 7,
   "metadata": {},
   "outputs": [],
   "source": [
    "## from preflib tools ###\n",
    "\n",
    "# Generate votes based on the URN Model..\n",
    "# we need numvotes with replace replacements.\n",
    "def gen_urn(numvotes, replace, alts):\n",
    "    voteMap = {}\n",
    "    ReplaceVotes = {}\n",
    "    \n",
    "    ICsize = math.factorial(len(alts))\n",
    "    print(\"ICsize \", ICsize)\n",
    "    ReplaceSize = 0\n",
    "\n",
    "    for x in range(numvotes):\n",
    "        print(\"start voteMap\", voteMap)\n",
    "        print(\"start ReplaceVotes\", ReplaceVotes)\n",
    "        flip = random.randint(1, ICsize+ReplaceSize)\n",
    "        print(\"flip\", flip)\n",
    "        if flip <= ICsize:\n",
    "            #generate an IC vote and make a suitable number of replacements...\n",
    "            tvote = gen_ic_vote(alts)\n",
    "            voteMap[tvote] = (voteMap.get(tvote, 0) + 1)\n",
    "            ReplaceVotes[tvote] = (ReplaceVotes.get(tvote, 0) + replace)\n",
    "            ReplaceSize += replace\n",
    "            print(\"ReplaceSize\", ReplaceSize)\n",
    "            print(\"made \" + str(tvote))\n",
    "        else:\n",
    "            #iterate over replacement hash and select proper vote.\n",
    "            flip = flip - ICsize\n",
    "            print(\"checking replacement: flip is  \", flip)\n",
    "            for vote in ReplaceVotes.keys():\n",
    "                print(\"testing \", vote)\n",
    "                flip = flip - ReplaceVotes[vote]\n",
    "                print(\"flip is now\", flip)\n",
    "                if flip <= 0:\n",
    "                    voteMap[vote] = (voteMap.get(vote, 0) + 1)\n",
    "                    ReplaceVotes[vote] = (ReplaceVotes.get(vote, 0) + replace)\n",
    "                    ReplaceSize += replace\n",
    "                    break\n",
    "            else:\n",
    "                print(\"We Have a problem... replace fell through....\")\t\t\n",
    "                exit()\n",
    "        print(\"end voteMap\", voteMap)\n",
    "        print(\"end ReplaceVotes\", ReplaceVotes)\n",
    "        print(\"======\\n\")\n",
    "    return voteMap\n",
    "\n",
    "# Return a TUPLE! IC vote given a vector of alternatives.  Basically remove one\n",
    "def gen_ic_vote(alts):\n",
    "    options = list(alts)\n",
    "    vote = []\n",
    "    while(len(options) > 0):\n",
    "        #randomly select an option\n",
    "        vote.append(options.pop(random.randint(0,len(options)-1)))\n",
    "    return tuple(vote)\n"
   ]
  },
  {
   "cell_type": "code",
   "execution_count": 8,
   "metadata": {},
   "outputs": [
    {
     "name": "stdout",
     "output_type": "stream",
     "text": [
      "(1, 3, 2, 0)\n",
      "ICsize  24\n",
      "start voteMap {}\n",
      "start ReplaceVotes {}\n",
      "flip 13\n",
      "ReplaceSize 5\n",
      "made (1, 2, 3, 0)\n",
      "end voteMap {(1, 2, 3, 0): 1}\n",
      "end ReplaceVotes {(1, 2, 3, 0): 5}\n",
      "======\n",
      "\n",
      "start voteMap {(1, 2, 3, 0): 1}\n",
      "start ReplaceVotes {(1, 2, 3, 0): 5}\n",
      "flip 2\n",
      "ReplaceSize 10\n",
      "made (0, 3, 1, 2)\n",
      "end voteMap {(1, 2, 3, 0): 1, (0, 3, 1, 2): 1}\n",
      "end ReplaceVotes {(1, 2, 3, 0): 5, (0, 3, 1, 2): 5}\n",
      "======\n",
      "\n",
      "start voteMap {(1, 2, 3, 0): 1, (0, 3, 1, 2): 1}\n",
      "start ReplaceVotes {(1, 2, 3, 0): 5, (0, 3, 1, 2): 5}\n",
      "flip 31\n",
      "checking replacement: flip is   7\n",
      "testing  (1, 2, 3, 0)\n",
      "flip is now 2\n",
      "testing  (0, 3, 1, 2)\n",
      "flip is now -3\n",
      "end voteMap {(1, 2, 3, 0): 1, (0, 3, 1, 2): 2}\n",
      "end ReplaceVotes {(1, 2, 3, 0): 5, (0, 3, 1, 2): 10}\n",
      "======\n",
      "\n",
      "{(1, 2, 3, 0): 1, (0, 3, 1, 2): 2}\n"
     ]
    }
   ],
   "source": [
    "alts = [0,1,2,3]\n",
    "print(gen_ic_vote([0,1,2,3]))\n",
    "print(gen_urn(3,5,alts))"
   ]
  },
  {
   "cell_type": "code",
   "execution_count": 9,
   "metadata": {},
   "outputs": [
    {
     "name": "stdout",
     "output_type": "stream",
     "text": [
      "Generated by the MALLOWS model with alpha = 0\n",
      "+---+\n",
      "| 5 |\n",
      "+---+\n",
      "| 3 |\n",
      "| 1 |\n",
      "| 0 |\n",
      "| 2 |\n",
      "+---+\n",
      "Generated by the MALLOWS model with alpha = 0.1\n",
      "+---+---+---+\n",
      "| 1 | 2 | 2 |\n",
      "+---+---+---+\n",
      "| 3 | 3 | 3 |\n",
      "| 2 | 0 | 0 |\n",
      "| 0 | 2 | 1 |\n",
      "| 1 | 1 | 2 |\n",
      "+---+---+---+\n",
      "Generated by the MALLOWS model with alpha = 0.5\n",
      "+---+---+---+\n",
      "| 3 | 1 | 1 |\n",
      "+---+---+---+\n",
      "| 0 | 0 | 0 |\n",
      "| 2 | 1 | 3 |\n",
      "| 1 | 2 | 2 |\n",
      "| 3 | 3 | 1 |\n",
      "+---+---+---+\n",
      "Generated by the MALLOWS model with alpha = 0.8\n",
      "+---+---+---+---+---+\n",
      "| 1 | 1 | 1 | 1 | 1 |\n",
      "+---+---+---+---+---+\n",
      "| 0 | 0 | 3 | 0 | 3 |\n",
      "| 3 | 2 | 1 | 1 | 0 |\n",
      "| 2 | 1 | 2 | 3 | 1 |\n",
      "| 1 | 3 | 0 | 2 | 2 |\n",
      "+---+---+---+---+---+\n",
      "Generated by the MALLOWS model with alpha = 1\n",
      "+---+---+---+---+---+\n",
      "| 1 | 1 | 1 | 1 | 1 |\n",
      "+---+---+---+---+---+\n",
      "| 3 | 0 | 2 | 0 | 2 |\n",
      "| 0 | 2 | 0 | 3 | 0 |\n",
      "| 1 | 1 | 3 | 1 | 1 |\n",
      "| 2 | 3 | 1 | 2 | 3 |\n",
      "+---+---+---+---+---+\n"
     ]
    }
   ],
   "source": [
    "print(\"Generated by the MALLOWS model with alpha = 0\")\n",
    "prof = generate_profile(4, 5, probmod=\"MALLOWS\", probmod_param=0)\n",
    "prof.display()\n",
    "\n",
    "print(\"Generated by the MALLOWS model with alpha = 0.1\")\n",
    "prof = generate_profile(4, 5, probmod=\"MALLOWS\", probmod_param=0.1)\n",
    "prof.display()\n",
    "\n",
    "print(\"Generated by the MALLOWS model with alpha = 0.5\")\n",
    "prof = generate_profile(4, 5, probmod=\"MALLOWS\", probmod_param=0.5)\n",
    "prof.display()\n",
    "\n",
    "print(\"Generated by the MALLOWS model with alpha = 0.8\")\n",
    "prof = generate_profile(4, 5, probmod=\"MALLOWS\", probmod_param=0.8)\n",
    "prof.display()\n",
    "\n",
    "\n",
    "print(\"Generated by the MALLOWS model with alpha = 1\")\n",
    "prof = generate_profile(4, 5, probmod=\"MALLOWS\", probmod_param=1.0)\n",
    "prof.display()\n"
   ]
  },
  {
   "cell_type": "code",
   "execution_count": 10,
   "metadata": {},
   "outputs": [],
   "source": [
    "def voter_utility(v_pos, c_pos, beta):\n",
    "    '''Based on the Rabinowitz and Macdonald (1989) mixed model\n",
    "    described in Section 3, pp. 745 - 747 of \n",
    "    \"Voting behavior under the directional spatial model of electoral competition\" by S. Merrill III \n",
    "    \n",
    "    beta = 1 is the proximity model\n",
    "    beta = 0 is the directional model\n",
    "    '''\n",
    "    return 2 * np.dot(v_pos, c_pos) - beta*(np.linalg.norm(v_pos)**2 + np.linalg.norm(c_pos)**2)\n",
    "\n",
    "def create_prof_spatial_model(num_voters, cmap, params):\n",
    "    num_dim = params[0] # the first component of the parameter is the number of dimensions\n",
    "    beta = params[1] # used to define the mixed model: beta = 1 is proximity model (i.e., Euclidean distance)\n",
    "    num_cands = len(cmap.keys())  \n",
    "    mean = [0] * num_dim # mean is 0 for each dimension\n",
    "    cov = np.diag([1]*num_dim)  # diagonal covariance\n",
    "    \n",
    "    # sample candidate/voter positions using a multivariate normal distribution\n",
    "    cand_positions = np.random.multivariate_normal(np.array(mean), cov, num_cands)\n",
    "    voter_positions = np.random.multivariate_normal(np.array(mean), cov, num_voters)\n",
    "    \n",
    "    # generate the rankings and counts for each ranking\n",
    "    ranking_counts = dict()\n",
    "    for v,v_pos in enumerate(voter_positions):\n",
    "        v_utils = {voter_utility(v_pos,c_pos,beta): c for c,c_pos in enumerate(cand_positions)}\n",
    "        ranking = tuple([v_utils[_u] for _u in sorted(v_utils.keys(),reverse=True)])\n",
    "        if ranking in ranking_counts.keys():\n",
    "            ranking_counts[ranking] += 1\n",
    "        else:\n",
    "            ranking_counts.update({ranking:1})\n",
    "    \n",
    "    # list of tuples where first component is a ranking and the second is the count\n",
    "    prof_counts = ranking_counts.items()\n",
    "    \n",
    "    return [rc[0] for rc in prof_counts], [rc[1] for rc in prof_counts]\n"
   ]
  }
 ],
 "metadata": {
  "celltoolbar": "Tags",
  "kernelspec": {
   "display_name": "Python 3",
   "language": "python",
   "name": "python3"
  },
  "language_info": {
   "codemirror_mode": {
    "name": "ipython",
    "version": 3
   },
   "file_extension": ".py",
   "mimetype": "text/x-python",
   "name": "python",
   "nbconvert_exporter": "python",
   "pygments_lexer": "ipython3",
   "version": "3.9.0"
  },
  "varInspector": {
   "cols": {
    "lenName": 16,
    "lenType": 16,
    "lenVar": 40
   },
   "kernels_config": {
    "python": {
     "delete_cmd_postfix": "",
     "delete_cmd_prefix": "del ",
     "library": "var_list.py",
     "varRefreshCmd": "print(var_dic_list())"
    },
    "r": {
     "delete_cmd_postfix": ") ",
     "delete_cmd_prefix": "rm(",
     "library": "var_list.r",
     "varRefreshCmd": "cat(var_dic_list()) "
    }
   },
   "types_to_exclude": [
    "module",
    "function",
    "builtin_function_or_method",
    "instance",
    "_Feature"
   ],
   "window_display": false
  }
 },
 "nbformat": 4,
 "nbformat_minor": 4
}