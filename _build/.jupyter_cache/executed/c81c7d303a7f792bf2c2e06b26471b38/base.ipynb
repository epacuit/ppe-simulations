{
 "cells": [
  {
   "cell_type": "code",
   "execution_count": 1,
   "metadata": {},
   "outputs": [],
   "source": [
    "import networkx as nx"
   ]
  },
  {
   "cell_type": "code",
   "execution_count": 2,
   "metadata": {},
   "outputs": [
    {
     "ename": "NameError",
     "evalue": "name 'directed_G' is not defined",
     "output_type": "error",
     "traceback": [
      "\u001b[0;31m---------------------------------------------------------------------------\u001b[0m",
      "\u001b[0;31mNameError\u001b[0m                                 Traceback (most recent call last)",
      "\u001b[0;32m<ipython-input-2-0692326be171>\u001b[0m in \u001b[0;36m<module>\u001b[0;34m\u001b[0m\n\u001b[1;32m      4\u001b[0m \u001b[0;34m\u001b[0m\u001b[0m\n\u001b[1;32m      5\u001b[0m \u001b[0;31m# draw the graph\u001b[0m\u001b[0;34m\u001b[0m\u001b[0;34m\u001b[0m\u001b[0;34m\u001b[0m\u001b[0m\n\u001b[0;32m----> 6\u001b[0;31m \u001b[0mnx\u001b[0m\u001b[0;34m.\u001b[0m\u001b[0mdraw\u001b[0m\u001b[0;34m(\u001b[0m\u001b[0mG\u001b[0m\u001b[0;34m,\u001b[0m \u001b[0mpos\u001b[0m \u001b[0;34m=\u001b[0m \u001b[0mnx\u001b[0m\u001b[0;34m.\u001b[0m\u001b[0mcircular_layout\u001b[0m\u001b[0;34m(\u001b[0m\u001b[0mdirected_G\u001b[0m\u001b[0;34m)\u001b[0m\u001b[0;34m,\u001b[0m \u001b[0mwith_labels\u001b[0m \u001b[0;34m=\u001b[0m \u001b[0;32mTrue\u001b[0m\u001b[0;34m,\u001b[0m \u001b[0mfont_color\u001b[0m\u001b[0;34m=\u001b[0m\u001b[0;34m\"white\"\u001b[0m\u001b[0;34m,\u001b[0m \u001b[0mfont_size\u001b[0m\u001b[0;34m=\u001b[0m\u001b[0;36m14\u001b[0m\u001b[0;34m)\u001b[0m\u001b[0;34m\u001b[0m\u001b[0;34m\u001b[0m\u001b[0m\n\u001b[0m",
      "\u001b[0;31mNameError\u001b[0m: name 'directed_G' is not defined"
     ]
    }
   ],
   "source": [
    "G = nx.Graph() # create an undirected graph instance\n",
    "G.add_nodes_from([0, 1, 2, 3, 4, 5]) # add the nodes from a list\n",
    "G.add_edges_from([(0,1), (0,2), (5, 1), (1,2), (2,3), (3,4), (3,5), (4,5)]) # add the edges from a list \n",
    "\n",
    "# draw the graph\n",
    "nx.draw(G, pos = nx.circular_layout(directed_G), with_labels = True, font_color=\"white\", font_size=14)\n"
   ]
  },
  {
   "cell_type": "code",
   "execution_count": 3,
   "metadata": {},
   "outputs": [
    {
     "name": "stdout",
     "output_type": "stream",
     "text": [
      "The neighbors of 0 are [1, 2]\n",
      "The neighbors of 1 are [0, 5, 2]\n",
      "The neighbors of 2 are [0, 1, 3]\n",
      "The neighbors of 3 are [2, 4, 5]\n",
      "The neighbors of 4 are [3, 5]\n",
      "The neighbors of 5 are [1, 3, 4]\n"
     ]
    }
   ],
   "source": [
    "for n in G.nodes: \n",
    "    print(f\"The neighbors of {n} are {list(G.neighbors(n))}\")\n"
   ]
  },
  {
   "cell_type": "code",
   "execution_count": 4,
   "metadata": {},
   "outputs": [
    {
     "name": "stdout",
     "output_type": "stream",
     "text": [
      "The neighbors of 0 are [1, 2]\n",
      "The neighbors of 1 are [2]\n",
      "The neighbors of 2 are [3]\n",
      "The neighbors of 3 are [4, 5]\n",
      "The neighbors of 4 are [5]\n",
      "The neighbors of 5 are [1]\n"
     ]
    },
    {
     "data": {
      "image/png": "[encoded data removed]",
      "text/plain": [
       "<Figure size 432x288 with 1 Axes>"
      ]
     },
     "metadata": {},
     "output_type": "display_data"
    }
   ],
   "source": [
    "directed_G = nx.DiGraph() # create an undirected graph instance\n",
    "directed_G.add_nodes_from([0, 1, 2, 3, 4, 5]) # add the nodes from a list\n",
    "directed_G.add_edges_from([(0,1), (0,2), (5, 1), (1,2), (2,3), (3,4), (3,5), (4,5)]) # add the edges from a list \n",
    "nx.draw(directed_G, pos = nx.circular_layout(directed_G), with_labels = True, font_color=\"white\", font_size=14)\n",
    "for n in directed_G.nodes: \n",
    "    print(f\"The neighbors of {n} are {list(directed_G.neighbors(n))}\")\n"
   ]
  },
  {
   "cell_type": "code",
   "execution_count": null,
   "metadata": {},
   "outputs": [],
   "source": []
  },
  {
   "cell_type": "code",
   "execution_count": null,
   "metadata": {},
   "outputs": [],
   "source": []
  }
 ],
 "metadata": {
  "kernelspec": {
   "display_name": "Python 3",
   "language": "python",
   "name": "python3"
  },
  "language_info": {
   "codemirror_mode": {
    "name": "ipython",
    "version": 3
   },
   "file_extension": ".py",
   "mimetype": "text/x-python",
   "name": "python",
   "nbconvert_exporter": "python",
   "pygments_lexer": "ipython3",
   "version": "3.9.0"
  },
  "varInspector": {
   "cols": {
    "lenName": 16,
    "lenType": 16,
    "lenVar": 40
   },
   "kernels_config": {
    "python": {
     "delete_cmd_postfix": "",
     "delete_cmd_prefix": "del ",
     "library": "var_list.py",
     "varRefreshCmd": "print(var_dic_list())"
    },
    "r": {
     "delete_cmd_postfix": ") ",
     "delete_cmd_prefix": "rm(",
     "library": "var_list.r",
     "varRefreshCmd": "cat(var_dic_list()) "
    }
   },
   "types_to_exclude": [
    "module",
    "function",
    "builtin_function_or_method",
    "instance",
    "_Feature"
   ],
   "window_display": false
  }
 },
 "nbformat": 4,
 "nbformat_minor": 4
}