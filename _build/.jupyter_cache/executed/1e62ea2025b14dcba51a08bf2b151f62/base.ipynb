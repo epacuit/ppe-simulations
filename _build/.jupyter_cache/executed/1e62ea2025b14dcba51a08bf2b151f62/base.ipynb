{
 "cells": [
  {
   "cell_type": "code",
   "execution_count": 1,
   "metadata": {},
   "outputs": [
    {
     "name": "stdout",
     "output_type": "stream",
     "text": [
      "The sum is 1.0\n"
     ]
    }
   ],
   "source": [
    "prs = [0.1, 0.25, 0.25, 0.4]\n",
    "\n",
    "print(\"The sum is\", sum(prs))"
   ]
  },
  {
   "cell_type": "code",
   "execution_count": 2,
   "metadata": {},
   "outputs": [
    {
     "name": "stdout",
     "output_type": "stream",
     "text": [
      "3\n"
     ]
    }
   ],
   "source": [
    "import numpy as np\n",
    "\n",
    "# you will get a different result every time the code is executed\n",
    "print(np.random.choice(range(len(prs)), p = prs))"
   ]
  },
  {
   "cell_type": "code",
   "execution_count": 3,
   "metadata": {},
   "outputs": [
    {
     "name": "stdout",
     "output_type": "stream",
     "text": [
      "E4\n",
      "E4\n",
      "E2\n",
      "E4\n",
      "E3\n"
     ]
    }
   ],
   "source": [
    "prs_as_dict = { \"E1\": 0.1, \"E2\": 0.25, \"E3\": 0.25, \"E4\": 0.4}\n",
    "\n",
    "events = list(prs_as_dict.keys())\n",
    "# do 5 samples, you will get a different result every time the code is executed\n",
    "for s in range(5):\n",
    "    print(np.random.choice(events, p = [prs_as_dict[e] for e in events]))"
   ]
  },
  {
   "cell_type": "code",
   "execution_count": 4,
   "metadata": {},
   "outputs": [
    {
     "name": "stdout",
     "output_type": "stream",
     "text": [
      "[46 53 46 49 46]\n"
     ]
    }
   ],
   "source": [
    "import numpy as np\n",
    "\n",
    "num_trials = 100\n",
    "prob_success = 0.5\n",
    "\n",
    "# number of success after 100 tries, tested 2 times.  \n",
    "print(np.random.binomial(num_trials, prob_success, 5))\n"
   ]
  },
  {
   "cell_type": "code",
   "execution_count": 5,
   "metadata": {},
   "outputs": [
    {
     "ename": "NameError",
     "evalue": "name 'sns' is not defined",
     "output_type": "error",
     "traceback": [
      "\u001b[0;31m---------------------------------------------------------------------------\u001b[0m",
      "\u001b[0;31mNameError\u001b[0m                                 Traceback (most recent call last)",
      "\u001b[0;32m<ipython-input-5-4723409b316a>\u001b[0m in \u001b[0;36m<module>\u001b[0;34m\u001b[0m\n\u001b[1;32m      2\u001b[0m \u001b[0mprob_success\u001b[0m \u001b[0;34m=\u001b[0m \u001b[0;36m0.5\u001b[0m\u001b[0;34m\u001b[0m\u001b[0;34m\u001b[0m\u001b[0m\n\u001b[1;32m      3\u001b[0m \u001b[0msuccesses\u001b[0m \u001b[0;34m=\u001b[0m \u001b[0mnp\u001b[0m\u001b[0;34m.\u001b[0m\u001b[0mrandom\u001b[0m\u001b[0;34m.\u001b[0m\u001b[0mbinomial\u001b[0m\u001b[0;34m(\u001b[0m\u001b[0mnum_trials\u001b[0m\u001b[0;34m,\u001b[0m \u001b[0mprob_success\u001b[0m\u001b[0;34m,\u001b[0m \u001b[0;36m1000\u001b[0m\u001b[0;34m)\u001b[0m\u001b[0;34m\u001b[0m\u001b[0;34m\u001b[0m\u001b[0m\n\u001b[0;32m----> 4\u001b[0;31m \u001b[0max\u001b[0m \u001b[0;34m=\u001b[0m \u001b[0msns\u001b[0m\u001b[0;34m.\u001b[0m\u001b[0mdisplot\u001b[0m\u001b[0;34m(\u001b[0m\u001b[0msuccesses\u001b[0m\u001b[0;34m,\u001b[0m \u001b[0mkde\u001b[0m\u001b[0;34m=\u001b[0m\u001b[0;32mTrue\u001b[0m\u001b[0;34m)\u001b[0m\u001b[0;34m\u001b[0m\u001b[0;34m\u001b[0m\u001b[0m\n\u001b[0m",
      "\u001b[0;31mNameError\u001b[0m: name 'sns' is not defined"
     ]
    }
   ],
   "source": [
    "num_trials = 100\n",
    "prob_success = 0.5\n",
    "successes = np.random.binomial(num_trials, prob_success, 1000)\n",
    "ax = sns.displot(successes, kde=True)"
   ]
  },
  {
   "cell_type": "code",
   "execution_count": 6,
   "metadata": {},
   "outputs": [
    {
     "name": "stdout",
     "output_type": "stream",
     "text": [
      "The mean is  10.0\n",
      "The variance is  4.0\n",
      "The mean is  0.0\n",
      "The variance is  1.0\n"
     ]
    }
   ],
   "source": [
    "from scipy.stats import norm\n",
    "\n",
    "# define a normal distribution is defined by specifying the mean and standard deviation\n",
    "mean = 10\n",
    "std = 2\n",
    "mean, var = norm(mean, std).stats()\n",
    "print(\"The mean is \", mean)\n",
    "print(\"The variance is \", var)\n",
    "\n",
    "\n",
    "# the default values is a mean of 0 and std of 1\n",
    "mean, var = norm().stats()\n",
    "print(\"The mean is \", mean)\n",
    "print(\"The variance is \", var)\n"
   ]
  },
  {
   "cell_type": "code",
   "execution_count": 7,
   "metadata": {},
   "outputs": [
    {
     "ename": "NameError",
     "evalue": "name 'plt' is not defined",
     "output_type": "error",
     "traceback": [
      "\u001b[0;31m---------------------------------------------------------------------------\u001b[0m",
      "\u001b[0;31mNameError\u001b[0m                                 Traceback (most recent call last)",
      "\u001b[0;32m<ipython-input-7-44e459a4bbaa>\u001b[0m in \u001b[0;36m<module>\u001b[0;34m\u001b[0m\n\u001b[1;32m     11\u001b[0m \u001b[0;34m\u001b[0m\u001b[0m\n\u001b[1;32m     12\u001b[0m \u001b[0msns\u001b[0m\u001b[0;34m.\u001b[0m\u001b[0mlineplot\u001b[0m\u001b[0;34m(\u001b[0m\u001b[0mx\u001b[0m\u001b[0;34m=\u001b[0m\u001b[0mxs\u001b[0m\u001b[0;34m,\u001b[0m \u001b[0my\u001b[0m\u001b[0;34m=\u001b[0m\u001b[0mpdf\u001b[0m \u001b[0;34m,\u001b[0m \u001b[0mcolor\u001b[0m \u001b[0;34m=\u001b[0m \u001b[0;34m'black'\u001b[0m\u001b[0;34m)\u001b[0m\u001b[0;34m\u001b[0m\u001b[0;34m\u001b[0m\u001b[0m\n\u001b[0;32m---> 13\u001b[0;31m \u001b[0mplt\u001b[0m\u001b[0;34m.\u001b[0m\u001b[0mxlabel\u001b[0m\u001b[0;34m(\u001b[0m\u001b[0;34m'Outcomes'\u001b[0m\u001b[0;34m)\u001b[0m\u001b[0;34m\u001b[0m\u001b[0;34m\u001b[0m\u001b[0m\n\u001b[0m\u001b[1;32m     14\u001b[0m \u001b[0mplt\u001b[0m\u001b[0;34m.\u001b[0m\u001b[0mylabel\u001b[0m\u001b[0;34m(\u001b[0m\u001b[0;34m'Probability Density'\u001b[0m\u001b[0;34m)\u001b[0m\u001b[0;34m\u001b[0m\u001b[0;34m\u001b[0m\u001b[0m\n\u001b[1;32m     15\u001b[0m \u001b[0;34m\u001b[0m\u001b[0m\n",
      "\u001b[0;31mNameError\u001b[0m: name 'plt' is not defined"
     ]
    },
    {
     "data": {
      "image/png": "[encoded data removed]",
      "text/plain": [
       "<Figure size 432x288 with 1 Axes>"
      ]
     },
     "metadata": {},
     "output_type": "display_data"
    }
   ],
   "source": [
    "from scipy.stats import norm\n",
    "import numpy as np\n",
    "import seaborn as sns\n",
    "sns.set()\n",
    "\n",
    "mean = 10\n",
    "std = 2\n",
    "\n",
    "xs = np.arange(1,20,0.01)\n",
    "pdf = norm.pdf(xs ,  mean ,  std )\n",
    "\n",
    "sns.lineplot(x=xs, y=pdf , color = 'black')\n",
    "plt.xlabel('Outcomes')\n",
    "plt.ylabel('Probability Density')\n",
    "\n",
    "print(f\"The probability of an outcome is less than 7.5 is {norm( mean, std).cdf(7.5)}\")\n",
    " \n",
    "#probability that the height of the person will be between 6.5 and 4.5 ft.\n",
    "\n",
    "cdf_upper_limit = norm(mean, std).cdf(12)\n",
    "cdf_lower_limit = norm(mean, std).cdf(8)\n",
    "print(f\"The probability of an outcome is between 8 and 12 is {cdf_upper_limit - cdf_lower_limit}\")\n",
    " \n",
    "cdf_value = norm(mean, std).cdf(10.5)\n",
    "print(f\"The probability of an outcome is greater than 10.5 is {1- cdf_value}\")\n"
   ]
  },
  {
   "cell_type": "code",
   "execution_count": 8,
   "metadata": {},
   "outputs": [
    {
     "name": "stdout",
     "output_type": "stream",
     "text": [
      "[0.53344752 0.37196205 0.51364196 0.86343756 0.59456937 0.2241252\n",
      " 0.51136929 0.39292176 0.80476758 0.6933464  0.50287495 0.62934398\n",
      " 0.33013669 0.37724113 0.71776679 0.54530471 0.5867722  0.14878126\n",
      " 0.51565932 0.4404958  0.5093643  0.52802273 0.64799047 0.47777949\n",
      " 0.70925145 0.20696233 0.30496878 0.56600064 0.4680158  0.07227537\n",
      " 0.84655217 0.58100941 0.55640342 0.46624967 0.36832472 0.50905874\n",
      " 0.5353183  0.2403422  0.41285111 0.63084986 0.35990079 0.53490792\n",
      " 0.75622599 0.49478146 0.82229053 0.90850162 0.655132   0.84676727\n",
      " 0.56016318 0.49621934 0.49472488 0.29651959 0.15217801 0.35457486\n",
      " 0.59892426 0.38913801 0.53144763 0.80507889 0.44458865 0.3751778\n",
      " 0.52034186 0.47351676 0.34602317 0.91698066 0.5029112  0.66783462\n",
      " 0.53306614 0.65741473 0.15468699 0.6917392  0.35274634 0.8502908\n",
      " 0.72041668 0.77950111 0.24338648 0.67470136 0.6113545  0.33011426\n",
      " 0.64473621 0.64885887 0.50724635 0.3810323  0.21833586 0.64788976\n",
      " 0.18945107 0.52312469 0.57174082 0.56480573 0.72712979 0.68084089\n",
      " 0.43367176 0.0781794  0.48300822 0.65228381 0.46238328 0.93537143\n",
      " 0.76980911 0.78483481 0.64857352 0.82318675]\n"
     ]
    }
   ],
   "source": [
    "# return 100 samples from a normal distrubtion with mean 0.5 and standard deviation 0.2\n",
    "# note that as your run this multiple times, you might get values less than 0 or greater than 1\n",
    "print(np.random.normal(0.5,0.2, 100))"
   ]
  },
  {
   "cell_type": "code",
   "execution_count": 9,
   "metadata": {},
   "outputs": [
    {
     "name": "stdout",
     "output_type": "stream",
     "text": [
      "When a = 1 and b = 1, the mean is 0.5\n",
      "When a = 1 and b = 1, the variance is 0.08333333333333333\n",
      "\n",
      "When a = 10 and b = 10, the mean is 0.5\n",
      "When a = 10 and b = 10, the variance is 0.011904761904761904\n",
      "\n",
      "When a = 20 and b = 10, the mean is 0.6666666666666666\n",
      "When a = 20 and b = 10, the variance is 0.007168458781362006\n",
      "\n",
      "When a = 10 and b = 20, the mean is 0.3333333333333333\n",
      "When a = 10 and b = 20, the variance is 0.007168458781362006\n",
      "\n"
     ]
    }
   ],
   "source": [
    "from scipy.stats import beta\n",
    "\n",
    "#  a beta distribution is defined by two parameters: a and b\n",
    "\n",
    "a = 1\n",
    "b = 1\n",
    "mean, var = beta(a, b).stats()\n",
    "print(f\"When a = {a} and b = {b}, the mean is\", mean)\n",
    "print(f\"When a = {a} and b = {b}, the variance is\", var)\n",
    "print()\n",
    "\n",
    "a = 10\n",
    "b = 10\n",
    "mean, var = beta(a, b).stats()\n",
    "print(f\"When a = {a} and b = {b}, the mean is\", mean)\n",
    "print(f\"When a = {a} and b = {b}, the variance is\", var)\n",
    "print()\n",
    "\n",
    "\n",
    "a = 20\n",
    "b = 10\n",
    "mean, var = beta(a, b).stats()\n",
    "print(f\"When a = {a} and b = {b}, the mean is\", mean)\n",
    "print(f\"When a = {a} and b = {b}, the variance is\", var)\n",
    "print()\n",
    "\n",
    "\n",
    "a = 10\n",
    "b = 20\n",
    "mean, var = beta(a, b).stats()\n",
    "print(f\"When a = {a} and b = {b}, the mean is\", mean)\n",
    "print(f\"When a = {a} and b = {b}, the variance is\", var)\n",
    "print()\n"
   ]
  },
  {
   "cell_type": "code",
   "execution_count": 10,
   "metadata": {},
   "outputs": [
    {
     "ename": "NameError",
     "evalue": "name 'plt' is not defined",
     "output_type": "error",
     "traceback": [
      "\u001b[0;31m---------------------------------------------------------------------------\u001b[0m",
      "\u001b[0;31mNameError\u001b[0m                                 Traceback (most recent call last)",
      "\u001b[0;32m<ipython-input-10-10d872e941b2>\u001b[0m in \u001b[0;36m<module>\u001b[0;34m\u001b[0m\n\u001b[1;32m      8\u001b[0m \u001b[0msns\u001b[0m\u001b[0;34m.\u001b[0m\u001b[0mlineplot\u001b[0m\u001b[0;34m(\u001b[0m\u001b[0mx\u001b[0m\u001b[0;34m=\u001b[0m\u001b[0mxs\u001b[0m\u001b[0;34m,\u001b[0m \u001b[0my\u001b[0m\u001b[0;34m=\u001b[0m\u001b[0;34m[\u001b[0m\u001b[0mbeta\u001b[0m\u001b[0;34m(\u001b[0m\u001b[0;36m1\u001b[0m\u001b[0;34m,\u001b[0m\u001b[0;36m10\u001b[0m\u001b[0;34m)\u001b[0m\u001b[0;34m.\u001b[0m\u001b[0mpdf\u001b[0m\u001b[0;34m(\u001b[0m\u001b[0mx\u001b[0m\u001b[0;34m)\u001b[0m \u001b[0;32mfor\u001b[0m \u001b[0mx\u001b[0m \u001b[0;32min\u001b[0m \u001b[0mxs\u001b[0m\u001b[0;34m]\u001b[0m\u001b[0;34m,\u001b[0m \u001b[0mlabel\u001b[0m\u001b[0;34m=\u001b[0m\u001b[0;34m\"a=1, b=5\"\u001b[0m\u001b[0;34m)\u001b[0m\u001b[0;34m\u001b[0m\u001b[0;34m\u001b[0m\u001b[0m\n\u001b[1;32m      9\u001b[0m \u001b[0msns\u001b[0m\u001b[0;34m.\u001b[0m\u001b[0mlineplot\u001b[0m\u001b[0;34m(\u001b[0m\u001b[0mx\u001b[0m\u001b[0;34m=\u001b[0m\u001b[0mxs\u001b[0m\u001b[0;34m,\u001b[0m \u001b[0my\u001b[0m\u001b[0;34m=\u001b[0m\u001b[0;34m[\u001b[0m\u001b[0mbeta\u001b[0m\u001b[0;34m(\u001b[0m\u001b[0;36m10\u001b[0m\u001b[0;34m,\u001b[0m\u001b[0;36m1\u001b[0m\u001b[0;34m)\u001b[0m\u001b[0;34m.\u001b[0m\u001b[0mpdf\u001b[0m\u001b[0;34m(\u001b[0m\u001b[0mx\u001b[0m\u001b[0;34m)\u001b[0m \u001b[0;32mfor\u001b[0m \u001b[0mx\u001b[0m \u001b[0;32min\u001b[0m \u001b[0mxs\u001b[0m\u001b[0;34m]\u001b[0m\u001b[0;34m,\u001b[0m \u001b[0mlabel\u001b[0m\u001b[0;34m=\u001b[0m\u001b[0;34m\"a=5, b=1\"\u001b[0m\u001b[0;34m)\u001b[0m\u001b[0;34m\u001b[0m\u001b[0;34m\u001b[0m\u001b[0m\n\u001b[0;32m---> 10\u001b[0;31m \u001b[0mplt\u001b[0m\u001b[0;34m.\u001b[0m\u001b[0mlegend\u001b[0m\u001b[0;34m(\u001b[0m\u001b[0mloc\u001b[0m\u001b[0;34m=\u001b[0m\u001b[0;34m'right'\u001b[0m\u001b[0;34m,\u001b[0m \u001b[0mbbox_to_anchor\u001b[0m\u001b[0;34m=\u001b[0m\u001b[0;34m(\u001b[0m\u001b[0;36m1.35\u001b[0m\u001b[0;34m,\u001b[0m \u001b[0;36m0.5\u001b[0m\u001b[0;34m)\u001b[0m\u001b[0;34m)\u001b[0m\u001b[0;34m\u001b[0m\u001b[0;34m\u001b[0m\u001b[0m\n\u001b[0m\u001b[1;32m     11\u001b[0m \u001b[0mplt\u001b[0m\u001b[0;34m.\u001b[0m\u001b[0mxlabel\u001b[0m\u001b[0;34m(\u001b[0m\u001b[0;34m'Outcomes'\u001b[0m\u001b[0;34m)\u001b[0m\u001b[0;34m\u001b[0m\u001b[0;34m\u001b[0m\u001b[0m\n\u001b[1;32m     12\u001b[0m \u001b[0mplt\u001b[0m\u001b[0;34m.\u001b[0m\u001b[0mylabel\u001b[0m\u001b[0;34m(\u001b[0m\u001b[0;34m'Probability Density'\u001b[0m\u001b[0;34m)\u001b[0m\u001b[0;34m;\u001b[0m\u001b[0;34m\u001b[0m\u001b[0;34m\u001b[0m\u001b[0m\n",
      "\u001b[0;31mNameError\u001b[0m: name 'plt' is not defined"
     ]
    },
    {
     "data": {
      "image/png": "[encoded data removed]",
      "text/plain": [
       "<Figure size 432x288 with 1 Axes>"
      ]
     },
     "metadata": {},
     "output_type": "display_data"
    }
   ],
   "source": [
    "xs = np.arange(0,1,0.01)\n",
    "\n",
    "sns.lineplot(x=xs, y=[beta(1,1).pdf(x) for x in xs], label=\"a=1, b=1\")\n",
    "sns.lineplot(x=xs, y=[beta(10,10).pdf(x) for x in xs], label=\"a=10, b=10\")\n",
    "sns.lineplot(x=xs, y=[beta(50,50).pdf(x) for x in xs], label=\"a=50, b=50\")\n",
    "sns.lineplot(x=xs, y=[beta(20,10).pdf(x) for x in xs], label=\"a=20, b=10\")\n",
    "sns.lineplot(x=xs, y=[beta(10,20).pdf(x) for x in xs], label=\"a=10, b=20\")\n",
    "sns.lineplot(x=xs, y=[beta(1,10).pdf(x) for x in xs], label=\"a=1, b=5\")\n",
    "sns.lineplot(x=xs, y=[beta(10,1).pdf(x) for x in xs], label=\"a=5, b=1\")\n",
    "plt.legend(loc='right', bbox_to_anchor=(1.35, 0.5))\n",
    "plt.xlabel('Outcomes')\n",
    "plt.ylabel('Probability Density');\n"
   ]
  },
  {
   "cell_type": "code",
   "execution_count": null,
   "metadata": {},
   "outputs": [],
   "source": []
  },
  {
   "cell_type": "code",
   "execution_count": null,
   "metadata": {},
   "outputs": [],
   "source": []
  }
 ],
 "metadata": {
  "kernelspec": {
   "display_name": "Python 3",
   "language": "python",
   "name": "python3"
  },
  "language_info": {
   "codemirror_mode": {
    "name": "ipython",
    "version": 3
   },
   "file_extension": ".py",
   "mimetype": "text/x-python",
   "name": "python",
   "nbconvert_exporter": "python",
   "pygments_lexer": "ipython3",
   "version": "3.9.0"
  },
  "varInspector": {
   "cols": {
    "lenName": 16,
    "lenType": 16,
    "lenVar": 40
   },
   "kernels_config": {
    "python": {
     "delete_cmd_postfix": "",
     "delete_cmd_prefix": "del ",
     "library": "var_list.py",
     "varRefreshCmd": "print(var_dic_list())"
    },
    "r": {
     "delete_cmd_postfix": ") ",
     "delete_cmd_prefix": "rm(",
     "library": "var_list.r",
     "varRefreshCmd": "cat(var_dic_list()) "
    }
   },
   "types_to_exclude": [
    "module",
    "function",
    "builtin_function_or_method",
    "instance",
    "_Feature"
   ],
   "window_display": false
  }
 },
 "nbformat": 4,
 "nbformat_minor": 4
}