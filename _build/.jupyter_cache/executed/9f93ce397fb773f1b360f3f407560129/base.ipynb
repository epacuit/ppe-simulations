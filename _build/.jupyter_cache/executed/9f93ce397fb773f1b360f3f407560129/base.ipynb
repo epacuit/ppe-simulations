{
 "cells": [
  {
   "cell_type": "code",
   "execution_count": 1,
   "metadata": {},
   "outputs": [],
   "source": [
    "from mesa import Agent, Model"
   ]
  },
  {
   "cell_type": "code",
   "execution_count": 2,
   "metadata": {},
   "outputs": [],
   "source": [
    "class MyAgent(Agent): \n",
    "    \n",
    "    def __init__(self, unique_id, model = None):\n",
    "        super().__init__(unique_id, model)\n",
    "        # initialize an agent \n",
    "        \n",
    "    ### add other methods that are useful for your agent ###\n",
    "    \n",
    "    def step(self):\n",
    "        # what does the agent do each step of the simulation?\n",
    "        pass\n",
    "    \n",
    "class MyModel(Model): \n",
    "    \n",
    "    def __init__(self):\n",
    "        super().__init__()\n",
    "        # initialize a model and create agents \n",
    "                \n",
    "    ### add other methods that are useful for your simulation ###\n",
    "    \n",
    "    def step(self):\n",
    "        # executes a step of the simulation\n",
    "        pass"
   ]
  },
  {
   "cell_type": "code",
   "execution_count": null,
   "metadata": {},
   "outputs": [],
   "source": []
  },
  {
   "cell_type": "code",
   "execution_count": null,
   "metadata": {},
   "outputs": [],
   "source": []
  }
 ],
 "metadata": {
  "kernelspec": {
   "display_name": "Python 3",
   "language": "python",
   "name": "python3"
  },
  "language_info": {
   "codemirror_mode": {
    "name": "ipython",
    "version": 3
   },
   "file_extension": ".py",
   "mimetype": "text/x-python",
   "name": "python",
   "nbconvert_exporter": "python",
   "pygments_lexer": "ipython3",
   "version": "3.9.0"
  },
  "varInspector": {
   "cols": {
    "lenName": 16,
    "lenType": 16,
    "lenVar": 40
   },
   "kernels_config": {
    "python": {
     "delete_cmd_postfix": "",
     "delete_cmd_prefix": "del ",
     "library": "var_list.py",
     "varRefreshCmd": "print(var_dic_list())"
    },
    "r": {
     "delete_cmd_postfix": ") ",
     "delete_cmd_prefix": "rm(",
     "library": "var_list.r",
     "varRefreshCmd": "cat(var_dic_list()) "
    }
   },
   "types_to_exclude": [
    "module",
    "function",
    "builtin_function_or_method",
    "instance",
    "_Feature"
   ],
   "window_display": false
  }
 },
 "nbformat": 4,
 "nbformat_minor": 4
}