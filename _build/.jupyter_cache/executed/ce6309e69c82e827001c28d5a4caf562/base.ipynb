{
 "cells": [
  {
   "cell_type": "code",
   "execution_count": 1,
   "metadata": {},
   "outputs": [
    {
     "name": "stdout",
     "output_type": "stream",
     "text": [
      "Agent Class\n",
      "Agent a's unique id is  1\n",
      "Agent Class\n",
      "Agent b's unique id is  2\n"
     ]
    }
   ],
   "source": [
    "class Agent():\n",
    "    \n",
    "    class_name = 'Agent Class'\n",
    "    def __init__(self, unique_id):\n",
    "        self.unique_id = unique_id\n",
    "        \n",
    "a = Agent(1)\n",
    "b = Agent(2)\n",
    "\n",
    "print(a.class_name)\n",
    "print(\"Agent a's unique id is \", a.unique_id)\n",
    "\n",
    "print(b.class_name)\n",
    "print(\"Agent b's unique id is \", b.unique_id)\n"
   ]
  },
  {
   "cell_type": "code",
   "execution_count": 2,
   "metadata": {},
   "outputs": [
    {
     "name": "stdout",
     "output_type": "stream",
     "text": [
      "<__main__.Agent object at 0x10ec06f70>\n",
      "<__main__.Agent object at 0x10ec06f70>\n"
     ]
    }
   ],
   "source": [
    "class Agent():\n",
    "    \n",
    "    class_name = 'Agent Class'\n",
    "    def __init__(self, unique_id):\n",
    "        self.unique_id = unique_id\n",
    "        print(self)\n",
    "\n",
    "a = Agent(1)\n",
    "print(a)"
   ]
  },
  {
   "cell_type": "code",
   "execution_count": 3,
   "metadata": {},
   "outputs": [],
   "source": [
    "import random"
   ]
  },
  {
   "cell_type": "code",
   "execution_count": 4,
   "metadata": {},
   "outputs": [],
   "source": [
    "class Agent():\n",
    "    \n",
    "    class_name = 'Agent Class'\n",
    "    def __init__(self, unique_id):\n",
    "        self.unique_id = unique_id\n",
    "\n",
    "    def flip(self): \n",
    "        return 'H' if random.random() < 0.5 else 'T'"
   ]
  },
  {
   "cell_type": "code",
   "execution_count": 5,
   "metadata": {},
   "outputs": [
    {
     "name": "stdout",
     "output_type": "stream",
     "text": [
      "T\n",
      "T\n",
      "T\n",
      "H\n",
      "T\n"
     ]
    }
   ],
   "source": [
    "a = Agent(1) # create an agent\n",
    "\n",
    "# let agent a flip a fair coin 5 times\n",
    "# there will be different outputs everytime this code is executed\n",
    "for i in range(5):\n",
    "    print(a.flip())"
   ]
  },
  {
   "cell_type": "code",
   "execution_count": 6,
   "metadata": {},
   "outputs": [],
   "source": [
    "class Agent():\n",
    "    \n",
    "    class_name = 'Agent Class'\n",
    "    def __init__(self, unique_id):\n",
    "        self.unique_id = unique_id\n",
    "\n",
    "    def flip(self): \n",
    "        return 'H' if random.random() < 0.5 else 'T'\n",
    "    \n",
    "    def multiple_flips(self, num = 5): \n",
    "        return [self.flip() for n in range(num)]\n"
   ]
  },
  {
   "cell_type": "code",
   "execution_count": 7,
   "metadata": {},
   "outputs": [
    {
     "name": "stdout",
     "output_type": "stream",
     "text": [
      "['H', 'T', 'H', 'H', 'T', 'H', 'T', 'H', 'H', 'H']\n"
     ]
    }
   ],
   "source": [
    "a = Agent(1) # create an agent\n",
    "\n",
    "print(a.multiple_flips(10))"
   ]
  },
  {
   "cell_type": "code",
   "execution_count": 8,
   "metadata": {},
   "outputs": [],
   "source": [
    "class Agent():\n",
    "    \n",
    "    class_name = 'Agent Class'\n",
    "    def __init__(self, unique_id):\n",
    "        self.unique_id = unique_id\n",
    "\n",
    "class CoinFlipper(Agent):\n",
    "    \n",
    "    def __init__(self, bias):\n",
    "        self.bias = bias\n",
    "        \n",
    "    def flip(self): \n",
    "        return 'H' if random.random() < self.bias else 'T'\n",
    "    \n",
    "    def multiple_flips(self, num = 5): \n",
    "        return [self.flip() for n in range(num)]\n"
   ]
  },
  {
   "cell_type": "code",
   "execution_count": 9,
   "metadata": {},
   "outputs": [
    {
     "name": "stdout",
     "output_type": "stream",
     "text": [
      "['H', 'T', 'H', 'H', 'T']\n",
      "Agent Class\n"
     ]
    }
   ],
   "source": [
    "a = CoinFlipper(0.5)\n",
    "print(a.multiple_flips())\n",
    "print(a.class_name)"
   ]
  },
  {
   "cell_type": "code",
   "execution_count": 10,
   "metadata": {},
   "outputs": [
    {
     "ename": "AttributeError",
     "evalue": "'CoinFlipper' object has no attribute 'unique_id'",
     "output_type": "error",
     "traceback": [
      "\u001b[0;31m---------------------------------------------------------------------------\u001b[0m",
      "\u001b[0;31mAttributeError\u001b[0m                            Traceback (most recent call last)",
      "\u001b[0;32m<ipython-input-10-aec31d94d2cf>\u001b[0m in \u001b[0;36m<module>\u001b[0;34m\u001b[0m\n\u001b[1;32m      1\u001b[0m \u001b[0ma\u001b[0m \u001b[0;34m=\u001b[0m \u001b[0mCoinFlipper\u001b[0m\u001b[0;34m(\u001b[0m\u001b[0;36m0.5\u001b[0m\u001b[0;34m)\u001b[0m\u001b[0;34m\u001b[0m\u001b[0;34m\u001b[0m\u001b[0m\n\u001b[0;32m----> 2\u001b[0;31m \u001b[0ma\u001b[0m\u001b[0;34m.\u001b[0m\u001b[0munique_id\u001b[0m \u001b[0;31m# produces an error since the CoinFlipper class doesn't have a unique_id attribute\u001b[0m\u001b[0;34m\u001b[0m\u001b[0;34m\u001b[0m\u001b[0m\n\u001b[0m",
      "\u001b[0;31mAttributeError\u001b[0m: 'CoinFlipper' object has no attribute 'unique_id'"
     ]
    }
   ],
   "source": [
    "a = CoinFlipper(0.5)\n",
    "a.unique_id # produces an error since the CoinFlipper class doesn't have a unique_id attribute"
   ]
  },
  {
   "cell_type": "code",
   "execution_count": 11,
   "metadata": {},
   "outputs": [
    {
     "data": {
      "text/plain": [
       "1"
      ]
     },
     "execution_count": 11,
     "metadata": {},
     "output_type": "execute_result"
    }
   ],
   "source": [
    "class Agent():\n",
    "    \n",
    "    class_name = 'Agent Class'\n",
    "    def __init__(self, unique_id):\n",
    "        self.unique_id = unique_id\n",
    "\n",
    "class CoinFlipper(Agent):\n",
    "    \n",
    "    def __init__(self, unique_id, bias):\n",
    "        Agent.__init__(self, unique_id) # explicitly call the base class __init__ function\n",
    "        self.bias = bias\n",
    "        \n",
    "    def flip(self): \n",
    "        return 'H' if random.random() < self.bias else 'T'\n",
    "    \n",
    "    def multiple_flips(self, num = 5): \n",
    "        return [self.flip() for n in range(num)]\n",
    "\n",
    "a = CoinFlipper(1, 0.5)\n",
    "a.unique_id "
   ]
  },
  {
   "cell_type": "code",
   "execution_count": 12,
   "metadata": {},
   "outputs": [
    {
     "data": {
      "text/plain": [
       "1"
      ]
     },
     "execution_count": 12,
     "metadata": {},
     "output_type": "execute_result"
    }
   ],
   "source": [
    "class Agent():\n",
    "    \n",
    "    class_name = 'Agent Class'\n",
    "    def __init__(self, unique_id):\n",
    "        self.unique_id = unique_id\n",
    "\n",
    "class CoinFlipper(Agent):\n",
    "    \n",
    "    def __init__(self, unique_id, bias):\n",
    "        super().__init__(unique_id) # super() refers to the base class\n",
    "        self.bias = bias\n",
    "        \n",
    "    def flip(self): \n",
    "        return 'H' if random.random() < self.bias else 'T'\n",
    "    \n",
    "    def multiple_flips(self, num = 5): \n",
    "        return [self.flip() for n in range(num)]\n",
    "\n",
    "a = CoinFlipper(1, 0.5)\n",
    "a.unique_id "
   ]
  },
  {
   "cell_type": "code",
   "execution_count": 13,
   "metadata": {},
   "outputs": [],
   "source": [
    "def original_func(n):\n",
    "    print(\"Original function\")\n",
    "    return n*2\n",
    "\n",
    "# a decorator\n",
    "def my_decorator(func):  # takes our original function as input\n",
    "    \n",
    "    def wrapper(*args):  # wraps our original function with some extra functionality\n",
    "        print(f\"A decoration before {func.__name__}.\")\n",
    "        result = func(*args)\n",
    "        print(f\"A decoration after {func.__name__} with result {result}\")\n",
    "        return result + 10 # add 10 the result of func\n",
    "    \n",
    "    return wrapper  # returns the unexecuted wrapper function which we can can excute later"
   ]
  },
  {
   "cell_type": "code",
   "execution_count": 14,
   "metadata": {},
   "outputs": [
    {
     "name": "stdout",
     "output_type": "stream",
     "text": [
      "Original function\n"
     ]
    },
    {
     "data": {
      "text/plain": [
       "20"
      ]
     },
     "execution_count": 14,
     "metadata": {},
     "output_type": "execute_result"
    }
   ],
   "source": [
    "original_func(10)"
   ]
  },
  {
   "cell_type": "code",
   "execution_count": 15,
   "metadata": {},
   "outputs": [
    {
     "name": "stdout",
     "output_type": "stream",
     "text": [
      "A decoration before original_func.\n",
      "Original function\n",
      "A decoration after original_func with result 20\n"
     ]
    },
    {
     "data": {
      "text/plain": [
       "30"
      ]
     },
     "execution_count": 15,
     "metadata": {},
     "output_type": "execute_result"
    }
   ],
   "source": [
    "my_decorator(original_func)(10)"
   ]
  },
  {
   "cell_type": "code",
   "execution_count": 16,
   "metadata": {},
   "outputs": [
    {
     "name": "stdout",
     "output_type": "stream",
     "text": [
      "A decoration before another_func.\n",
      "Another func\n",
      "A decoration after another_func with result 7\n"
     ]
    },
    {
     "data": {
      "text/plain": [
       "17"
      ]
     },
     "execution_count": 16,
     "metadata": {},
     "output_type": "execute_result"
    }
   ],
   "source": [
    "@my_decorator\n",
    "def another_func(n): \n",
    "    print(\"Another func\")\n",
    "    return n + 2\n",
    "\n",
    "another_func(5)"
   ]
  },
  {
   "cell_type": "code",
   "execution_count": 17,
   "metadata": {},
   "outputs": [
    {
     "name": "stdout",
     "output_type": "stream",
     "text": [
      "the bias of c is  0.5\n",
      "the probability of heads is  0.5\n",
      "the probability of tails is  0.5\n",
      "['T', 'T', 'H', 'T', 'H', 'H', 'T', 'H', 'T', 'T'] \n",
      "\n",
      "the bias of c is  0.75\n",
      "the probability of heads is  0.75\n",
      "the probability of tails is  0.25\n",
      "['H', 'T', 'T', 'T', 'H', 'H', 'H', 'H', 'T', 'H']\n"
     ]
    }
   ],
   "source": [
    "class Coin():\n",
    "    \n",
    "    def __init__(self, bias = 0.5): \n",
    "        \n",
    "        self._bias = 0.5 \n",
    "        \n",
    "    @property\n",
    "    def bias(self): \n",
    "        \"\"\"Get the bias of the coin\"\"\"\n",
    "        return self._bias\n",
    "    \n",
    "    @bias.setter\n",
    "    def bias(self, b):\n",
    "        \"\"\"Set the bias and raise and error if bias is not between 0 and 1\"\"\"\n",
    "        if b >= 0 and b <=1:\n",
    "            self._bias = b\n",
    "        else:\n",
    "            raise ValueError(\"Bias must be between 0 and 1\")\n",
    "    \n",
    "    @property\n",
    "    def pr_heads(self):\n",
    "        \"\"\"Get the probability of heads\"\"\"\n",
    "        return self._bias\n",
    "    \n",
    "    @property\n",
    "    def pr_tails(self):\n",
    "        \"\"\"Get the probability of heads\"\"\"\n",
    "        return 1 - self._bias\n",
    "\n",
    "    def flip(self):\n",
    "        \"\"\"flip the coin\"\"\"\n",
    "        return 'H' if random.random() < self._bias else 'T'\n",
    "\n",
    "    def flips(self, num=10):\n",
    "        \"\"\"flip the coin\"\"\"\n",
    "        return [self.flip() for n in range(num)]\n",
    "    \n",
    "c = Coin()\n",
    "print(\"the bias of c is \", c.bias)\n",
    "print(\"the probability of heads is \", c.pr_heads)\n",
    "print(\"the probability of tails is \", c.pr_tails)\n",
    "print(c.flips(), \"\\n\")\n",
    "\n",
    "# now change the bias\n",
    "c.bias = 0.75\n",
    "print(\"the bias of c is \", c.bias)\n",
    "print(\"the probability of heads is \", c.pr_heads)\n",
    "print(\"the probability of tails is \", c.pr_tails)\n",
    "print(c.flips())\n"
   ]
  },
  {
   "cell_type": "code",
   "execution_count": 18,
   "metadata": {},
   "outputs": [
    {
     "ename": "ValueError",
     "evalue": "Bias must be between 0 and 1",
     "output_type": "error",
     "traceback": [
      "\u001b[0;31m---------------------------------------------------------------------------\u001b[0m",
      "\u001b[0;31mValueError\u001b[0m                                Traceback (most recent call last)",
      "\u001b[0;32m<ipython-input-18-6e018a2fac61>\u001b[0m in \u001b[0;36m<module>\u001b[0;34m\u001b[0m\n\u001b[0;32m----> 1\u001b[0;31m \u001b[0mc\u001b[0m\u001b[0;34m.\u001b[0m\u001b[0mbias\u001b[0m \u001b[0;34m=\u001b[0m \u001b[0;36m1.5\u001b[0m\u001b[0;34m\u001b[0m\u001b[0;34m\u001b[0m\u001b[0m\n\u001b[0m",
      "\u001b[0;32m<ipython-input-17-cae20d2aafaf>\u001b[0m in \u001b[0;36mbias\u001b[0;34m(self, b)\u001b[0m\n\u001b[1;32m     16\u001b[0m             \u001b[0mself\u001b[0m\u001b[0;34m.\u001b[0m\u001b[0m_bias\u001b[0m \u001b[0;34m=\u001b[0m \u001b[0mb\u001b[0m\u001b[0;34m\u001b[0m\u001b[0;34m\u001b[0m\u001b[0m\n\u001b[1;32m     17\u001b[0m         \u001b[0;32melse\u001b[0m\u001b[0;34m:\u001b[0m\u001b[0;34m\u001b[0m\u001b[0;34m\u001b[0m\u001b[0m\n\u001b[0;32m---> 18\u001b[0;31m             \u001b[0;32mraise\u001b[0m \u001b[0mValueError\u001b[0m\u001b[0;34m(\u001b[0m\u001b[0;34m\"Bias must be between 0 and 1\"\u001b[0m\u001b[0;34m)\u001b[0m\u001b[0;34m\u001b[0m\u001b[0;34m\u001b[0m\u001b[0m\n\u001b[0m\u001b[1;32m     19\u001b[0m \u001b[0;34m\u001b[0m\u001b[0m\n\u001b[1;32m     20\u001b[0m     \u001b[0;34m@\u001b[0m\u001b[0mproperty\u001b[0m\u001b[0;34m\u001b[0m\u001b[0;34m\u001b[0m\u001b[0m\n",
      "\u001b[0;31mValueError\u001b[0m: Bias must be between 0 and 1"
     ]
    }
   ],
   "source": [
    "c.bias = 1.5"
   ]
  },
  {
   "cell_type": "code",
   "execution_count": null,
   "metadata": {},
   "outputs": [],
   "source": []
  }
 ],
 "metadata": {
  "kernelspec": {
   "display_name": "Python 3",
   "language": "python",
   "name": "python3"
  },
  "language_info": {
   "codemirror_mode": {
    "name": "ipython",
    "version": 3
   },
   "file_extension": ".py",
   "mimetype": "text/x-python",
   "name": "python",
   "nbconvert_exporter": "python",
   "pygments_lexer": "ipython3",
   "version": "3.9.0"
  },
  "varInspector": {
   "cols": {
    "lenName": 16,
    "lenType": 16,
    "lenVar": 40
   },
   "kernels_config": {
    "python": {
     "delete_cmd_postfix": "",
     "delete_cmd_prefix": "del ",
     "library": "var_list.py",
     "varRefreshCmd": "print(var_dic_list())"
    },
    "r": {
     "delete_cmd_postfix": ") ",
     "delete_cmd_prefix": "rm(",
     "library": "var_list.r",
     "varRefreshCmd": "cat(var_dic_list()) "
    }
   },
   "types_to_exclude": [
    "module",
    "function",
    "builtin_function_or_method",
    "instance",
    "_Feature"
   ],
   "window_display": false
  }
 },
 "nbformat": 4,
 "nbformat_minor": 4
}