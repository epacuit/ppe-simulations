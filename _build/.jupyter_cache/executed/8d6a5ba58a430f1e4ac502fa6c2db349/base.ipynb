{
 "cells": [
  {
   "cell_type": "code",
   "execution_count": 1,
   "metadata": {},
   "outputs": [],
   "source": [
    "from mesa import Agent, Model"
   ]
  },
  {
   "cell_type": "code",
   "execution_count": 2,
   "metadata": {},
   "outputs": [],
   "source": [
    "class MyAgent(Agent): \n",
    "    \n",
    "    def __init__(self, unique_id, model = None):\n",
    "        super().__init__(unique_id, model)\n",
    "        # initialize an agent \n",
    "        \n",
    "    ### add other methods that are useful for your agent ###\n",
    "    \n",
    "    def step(self):\n",
    "        # what does the agent do each step of the simulation?\n",
    "        pass\n",
    "    \n",
    "class MyModel(Model): \n",
    "    \n",
    "    def __init__(self):\n",
    "        super().__init__()\n",
    "        # initialize a model and create agents \n",
    "                \n",
    "    ### add other methods that are useful for your simulation ###\n",
    "    \n",
    "    def step(self):\n",
    "        # executes a step of the simulation\n",
    "        pass"
   ]
  },
  {
   "cell_type": "code",
   "execution_count": 3,
   "metadata": {},
   "outputs": [],
   "source": [
    "from mesa.time import RandomActivation"
   ]
  },
  {
   "cell_type": "code",
   "execution_count": 4,
   "metadata": {},
   "outputs": [],
   "source": [
    "\n",
    "class Player(Agent): \n",
    "    \n",
    "    def __init__(self, unique_id, model = None, init_payout = 10):\n",
    "        super().__init__(unique_id, model)\n",
    "        self.payout = init_payout\n",
    "        self.current_flip = None # the current flip of the coin\n",
    "        self.model = model\n",
    "        \n",
    "    def flip(self): \n",
    "        return 'H' if self.random.random() < 0.5 else 'T'\n",
    "\n",
    "    def step(self): \n",
    "        \n",
    "        if self.payout > 0: \n",
    "            \n",
    "            # find possible opponents (any other player with a positive payout)\n",
    "            possible_opponents = [_p for _p in self.model.schedule.agents if _p != self if _p.payout > 0]\n",
    "            if len(possible_opponents) > 0: \n",
    "                # choose a random opponent\n",
    "                opponent = self.random.choice(possible_opponents)\n",
    "                \n",
    "                # play the game\n",
    "                if self.flip() == opponent.flip(): \n",
    "                    # outcomes match, so gain 1 and opponent loses 1  \n",
    "                    self.payout += 1\n",
    "                    opponent.payout -= 1\n",
    "\n",
    "                else: \n",
    "                    # outcomes mismatch, so lose 1 and opponent gains 1\n",
    "                    self.payout -= 1\n",
    "                    opponent.payout += 1\n",
    "\n",
    "class CoinGame(Model): \n",
    "    \n",
    "    def __init__(self, num_players, seed = None):\n",
    "        \n",
    "        self.num_players = num_players\n",
    "        \n",
    "        self.schedule = RandomActivation(self) # use random activation\n",
    "        \n",
    "        # creat the players and add them to the schedule\n",
    "        for p_id in range(num_players): \n",
    "            \n",
    "            p = Player(p_id, self)\n",
    "            self.schedule.add(p)\n",
    "            \n",
    "        # keep track of when the model should stop running\n",
    "        self.running = True\n",
    "        \n",
    "    def step(self): \n",
    "        \n",
    "        # call each players step function after randomly shuffling the agents\n",
    "        self.schedule.step()\n",
    "        \n",
    "        # if there is only one player with a non-zero amount of money, then stop running\n",
    "        if len([_p for _p in self.schedule.agents if _p.payout > 0]) == 1:\n",
    "            self.running = False\n"
   ]
  },
  {
   "cell_type": "code",
   "execution_count": 5,
   "metadata": {},
   "outputs": [
    {
     "name": "stdout",
     "output_type": "stream",
     "text": [
      "The players initial payouts:\n",
      "[10, 10, 10, 10, 10, 10, 10, 10, 10, 10] \n",
      "\n",
      "After 999 rounds the final payouts: \n",
      "[0, 5, 0, 0, 0, 0, 0, 95, 0, 0]\n"
     ]
    }
   ],
   "source": [
    "# create a CoinGame with 10 players\n",
    "g = CoinGame(10)\n",
    "\n",
    "num_rounds = 1000\n",
    "\n",
    "print(\"The players initial payouts:\")\n",
    "print([p.payout for p in g.schedule.agents], \"\\n\")\n",
    "\n",
    "# run the simulation for a maximu of num_rounds\n",
    "for r in range(num_rounds): \n",
    "    g.step()\n",
    "    # break out of the loop if the model stops running\n",
    "    if not g.running: \n",
    "        break\n",
    "    \n",
    "print(f\"After {r} rounds the final payouts: \")\n",
    "print([p.payout for p in g.schedule.agents])"
   ]
  },
  {
   "cell_type": "code",
   "execution_count": 6,
   "metadata": {},
   "outputs": [
    {
     "name": "stdout",
     "output_type": "stream",
     "text": [
      "The players initial payouts:\n",
      "[10, 10, 10, 10, 10, 10, 10, 10, 10, 10] \n",
      "\n",
      "After 999 rounds the final payouts: \n",
      "[38, 0, 0, 0, 0, 0, 0, 0, 0, 62]\n",
      "\n",
      "Run the simulation again with the same seed.\n",
      "\n",
      "The players initial payouts:\n",
      "[10, 10, 10, 10, 10, 10, 10, 10, 10, 10] \n",
      "\n",
      "After 999 rounds the final payouts: \n",
      "[38, 0, 0, 0, 0, 0, 0, 0, 0, 62]\n"
     ]
    }
   ],
   "source": [
    "# create a CoinGame with 10 players\n",
    "g = CoinGame(10, seed = 1)\n",
    "\n",
    "num_rounds = 1000\n",
    "\n",
    "print(\"The players initial payouts:\")\n",
    "print([p.payout for p in g.schedule.agents], \"\\n\")\n",
    "\n",
    "# run the simulation for a maximu of num_rounds\n",
    "for r in range(num_rounds): \n",
    "    g.step()\n",
    "    # break out of the loop if the model stops running\n",
    "    if not g.running: \n",
    "        break\n",
    "    \n",
    "print(f\"After {r} rounds the final payouts: \")\n",
    "print([p.payout for p in g.schedule.agents])\n",
    "\n",
    "print(\"\\nRun the simulation again with the same seed.\\n\")\n",
    "g = CoinGame(10, seed = 1)\n",
    "\n",
    "num_rounds = 1000\n",
    "\n",
    "print(\"The players initial payouts:\")\n",
    "print([p.payout for p in g.schedule.agents], \"\\n\")\n",
    "\n",
    "# run the simulation for a maximu of num_rounds\n",
    "for r in range(num_rounds): \n",
    "    g.step()\n",
    "    # break out of the loop if the model stops running\n",
    "    if not g.running: \n",
    "        break\n",
    "    \n",
    "print(f\"After {r} rounds the final payouts: \")\n",
    "print([p.payout for p in g.schedule.agents])"
   ]
  },
  {
   "cell_type": "code",
   "execution_count": null,
   "metadata": {},
   "outputs": [],
   "source": []
  }
 ],
 "metadata": {
  "kernelspec": {
   "display_name": "Python 3",
   "language": "python",
   "name": "python3"
  },
  "language_info": {
   "codemirror_mode": {
    "name": "ipython",
    "version": 3
   },
   "file_extension": ".py",
   "mimetype": "text/x-python",
   "name": "python",
   "nbconvert_exporter": "python",
   "pygments_lexer": "ipython3",
   "version": "3.9.0"
  },
  "varInspector": {
   "cols": {
    "lenName": 16,
    "lenType": 16,
    "lenVar": 40
   },
   "kernels_config": {
    "python": {
     "delete_cmd_postfix": "",
     "delete_cmd_prefix": "del ",
     "library": "var_list.py",
     "varRefreshCmd": "print(var_dic_list())"
    },
    "r": {
     "delete_cmd_postfix": ") ",
     "delete_cmd_prefix": "rm(",
     "library": "var_list.r",
     "varRefreshCmd": "cat(var_dic_list()) "
    }
   },
   "types_to_exclude": [
    "module",
    "function",
    "builtin_function_or_method",
    "instance",
    "_Feature"
   ],
   "window_display": false
  }
 },
 "nbformat": 4,
 "nbformat_minor": 4
}