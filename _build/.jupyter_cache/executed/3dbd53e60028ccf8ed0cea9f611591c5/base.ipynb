{
 "cells": [
  {
   "cell_type": "code",
   "execution_count": 1,
   "metadata": {
    "scrolled": false,
    "slideshow": {
     "slide_type": "slide"
    }
   },
   "outputs": [
    {
     "name": "stdout",
     "output_type": "stream",
     "text": [
      "(array([1., 0., 0., 0., 0., 0., 0., 0., 0., 0., 0.]), array([0., 0., 0., 0., 0., 0., 0., 0., 0., 0., 1.]))\n"
     ]
    },
    {
     "name": "stdout",
     "output_type": "stream",
     "text": [
      "(array([0., 1., 0., 0., 0., 0., 0., 0., 0., 0., 0.]), array([0., 0., 0., 0., 0., 0., 0., 0., 0., 1., 0.]))\n"
     ]
    },
    {
     "name": "stdout",
     "output_type": "stream",
     "text": [
      "(array([0., 0., 1., 0., 0., 0., 0., 0., 0., 0., 0.]), array([0., 0., 0., 0., 0., 0., 0., 0., 1., 0., 0.]))\n"
     ]
    },
    {
     "name": "stdout",
     "output_type": "stream",
     "text": [
      "(array([0., 0., 0., 1., 0., 0., 0., 0., 0., 0., 0.]), array([0., 0., 0., 0., 0., 0., 0., 1., 0., 0., 0.]))\n"
     ]
    },
    {
     "name": "stdout",
     "output_type": "stream",
     "text": [
      "(array([0., 0., 0., 0., 1., 0., 0., 0., 0., 0., 0.]), array([0., 0., 0., 0., 0., 0., 1., 0., 0., 0., 0.]))\n"
     ]
    },
    {
     "name": "stdout",
     "output_type": "stream",
     "text": [
      "(array([0., 0., 0., 0., 0., 1., 0., 0., 0., 0., 0.]), array([0., 0., 0., 0., 0., 1., 0., 0., 0., 0., 0.]))\n"
     ]
    },
    {
     "name": "stdout",
     "output_type": "stream",
     "text": [
      "(array([0., 0., 0., 0., 0., 0., 1., 0., 0., 0., 0.]), array([0., 0., 0., 0., 1., 0., 0., 0., 0., 0., 0.]))\n"
     ]
    },
    {
     "name": "stdout",
     "output_type": "stream",
     "text": [
      "(array([0., 0., 0., 0., 0., 0., 0., 1., 0., 0., 0.]), array([0., 0., 0., 1., 0., 0., 0., 0., 0., 0., 0.]))\n"
     ]
    },
    {
     "name": "stdout",
     "output_type": "stream",
     "text": [
      "(array([0., 0., 0., 0., 0., 0., 0., 0., 1., 0., 0.]), array([0., 0., 1., 0., 0., 0., 0., 0., 0., 0., 0.]))\n"
     ]
    },
    {
     "name": "stdout",
     "output_type": "stream",
     "text": [
      "(array([0., 0., 0., 0., 0., 0., 0., 0., 0., 1., 0.]), array([0., 1., 0., 0., 0., 0., 0., 0., 0., 0., 0.]))\n"
     ]
    },
    {
     "name": "stdout",
     "output_type": "stream",
     "text": [
      "(array([0., 0., 0., 0., 0., 0., 0., 0., 0., 0., 1.]), array([1., 0., 0., 0., 0., 0., 0., 0., 0., 0., 0.]))\n",
      "(array([0., 0., 0., 0., 0., 0., 0., 0., 0., 0., 1.]), array([0., 0., 0., 0., 0., 0., 0., 0., 0., 0., 1.]))\n"
     ]
    },
    {
     "name": "stdout",
     "output_type": "stream",
     "text": [
      "(array([-0.        ,  0.88888889,  0.11111111,  0.        ,  0.        ,\n",
      "        0.        ,  0.        ,  0.        ,  0.        ,  0.        ,\n",
      "        0.        ]), array([-0. , -0. , -0. , -0. , -0. , -0. , -0. , -0. ,  0.5,  0.5,  0. ]))\n"
     ]
    },
    {
     "name": "stdout",
     "output_type": "stream",
     "text": [
      "(array([-0.        ,  0.77777778,  0.        ,  0.22222222,  0.        ,\n",
      "        0.        ,  0.        ,  0.        ,  0.        ,  0.        ,\n",
      "        0.        ]), array([-0.        , -0.        , -0.        , -0.        , -0.        ,\n",
      "       -0.        , -0.        ,  0.33333333,  0.        ,  0.66666667,\n",
      "        0.        ]))\n"
     ]
    },
    {
     "name": "stdout",
     "output_type": "stream",
     "text": [
      "(array([-0.        ,  0.66666667,  0.        ,  0.        ,  0.33333333,\n",
      "        0.        ,  0.        ,  0.        ,  0.        ,  0.        ,\n",
      "        0.        ]), array([-0.  , -0.  , -0.  , -0.  , -0.  , -0.  ,  0.25,  0.  ,  0.  ,\n",
      "        0.75,  0.  ]))\n"
     ]
    },
    {
     "name": "stdout",
     "output_type": "stream",
     "text": [
      "(array([-0.        ,  0.55555556,  0.        ,  0.        ,  0.        ,\n",
      "        0.44444444,  0.        ,  0.        ,  0.        ,  0.        ,\n",
      "        0.        ]), array([-0. , -0. , -0. , -0. , -0. ,  0.2,  0. ,  0. ,  0. ,  0.8,  0. ]))\n"
     ]
    }
   ],
   "source": [
    "import nashpy as nash\n",
    "import numpy as np\n",
    "\n",
    "A = np.array([[0, 0, 0, 0, 0, 0, 0, 0, 0, 0, 0], \n",
    "              [1, 1, 1, 1, 1, 1, 1, 1, 1, 1, 0],\n",
    "              [2, 2, 2, 2, 2, 2, 2, 2, 2, 0, 0],\n",
    "              [3, 3, 3, 3, 3, 3, 3, 3, 0, 0, 0],\n",
    "              [4, 4, 4, 4, 4, 4, 4, 0, 0, 0, 0],\n",
    "              [5, 5, 5, 5, 5, 5, 0, 0, 0, 0, 0],\n",
    "              [6, 6, 6, 6, 6, 0, 0, 0, 0, 0, 0],\n",
    "              [7, 7, 7, 7, 0, 0, 0, 0, 0, 0, 0],\n",
    "              [8, 8, 8, 0, 0, 0, 0, 0, 0, 0, 0],\n",
    "              [9, 9, 0, 0, 0, 0, 0, 0, 0, 0, 0],\n",
    "              [10, 0, 0, 0, 0, 0, 0, 0, 0, 0, 0]\n",
    "             ])\n",
    "\n",
    "B = np.array([[0, 1, 2, 3, 4, 5, 6, 7, 8, 9, 10], \n",
    "              [0, 1, 2, 3, 4, 5, 6, 7, 8, 9, 0], \n",
    "              [0, 1, 2, 3, 4, 5, 6, 7, 8, 0, 0], \n",
    "              [0, 1, 2, 3, 4, 5, 6, 7, 0, 0, 0], \n",
    "              [0, 1, 2, 3, 4, 5, 6, 0, 0, 0, 0], \n",
    "              [0, 1, 2, 3, 4, 5, 0, 0, 0, 0, 0], \n",
    "              [0, 1, 2, 3, 4, 0, 0, 0, 0, 0, 0], \n",
    "              [0, 1, 2, 3, 0, 0, 0, 0, 0, 0, 0], \n",
    "              [0, 1, 2, 0, 0, 0, 0, 0, 0, 0, 0], \n",
    "              [0, 1, 0, 0, 0, 0, 0, 0, 0, 0, 0], \n",
    "              [0, 0, 0, 0, 0, 0, 0, 0, 0, 0, 0], \n",
    "             ])\n",
    "divide_the_dollar = nash.Game(A, B)\n",
    "\n",
    "num_nash_eq = 0\n",
    "for eq in divide_the_dollar.support_enumeration():\n",
    "    print(eq)\n",
    "    if num_nash_eq == 15:\n",
    "        # there are infinitely many Nash equilibrium, so only print out the first 15\n",
    "        break\n",
    "    num_nash_eq += 1"
   ]
  },
  {
   "cell_type": "code",
   "execution_count": 2,
   "metadata": {
    "slideshow": {
     "slide_type": "skip"
    }
   },
   "outputs": [],
   "source": [
    "\n",
    "# make graphs look nice\n",
    "import seaborn as sns\n",
    "sns.set()"
   ]
  },
  {
   "cell_type": "code",
   "execution_count": 3,
   "metadata": {
    "slideshow": {
     "slide_type": "slide"
    }
   },
   "outputs": [
    {
     "data": {
      "image/png": "[encoded data removed]",
      "text/plain": [
       "<Figure size 432x288 with 1 Axes>"
      ]
     },
     "metadata": {
      "needs_background": "light"
     },
     "output_type": "display_data"
    }
   ],
   "source": [
    "import matplotlib.pyplot as plt\n",
    "%matplotlib inline\n",
    "\n",
    "# PD payoffs\n",
    "#a = 3; b = 0; c = 4; d = 1\n",
    "\n",
    "# SH payoffs\n",
    "a = 4; b = 1; c = 3; d = 2\n",
    "\n",
    "# Coord payoffs\n",
    "a = 1; b = 0; c = 0; d = 1\n",
    "\n",
    "pA = [0.49]\n",
    "pB = [1 - pA[0]]\n",
    "\n",
    "for t in range(100):\n",
    "\n",
    "    fA = pA[t] * a + pB[t] * b\n",
    "    fB = pA[t] * c + pB[t] * d\n",
    "    f = pA[t] * fA + pB[t] * fB\n",
    "\n",
    "    pA.append(pA[t] + (pA[t] * ((fA - f) / f)))\n",
    "    pB.append(pB[t] + (pB[t] * ((fB - f) / f)))\n",
    "    \n",
    "plt.plot(pA, 'r', label ='share of strategy A')\n",
    "plt.plot(pB, 'b', label ='share of strategy B')\n",
    "plt.ylim(-0.1, 1.1)\n",
    "plt.legend(loc='center', bbox_to_anchor=[1.25,0.75]);"
   ]
  },
  {
   "cell_type": "code",
   "execution_count": 4,
   "metadata": {
    "slideshow": {
     "slide_type": "slide"
    }
   },
   "outputs": [
    {
     "name": "stdout",
     "output_type": "stream",
     "text": [
      "Initial Probabilities {0: [0.15376646526834287], 1: [0.09649528619644486], 2: [0.02136719160290944], 3: [0.0011919287036384213], 4: [0.12603971433814365], 5: [0.08211397700886712], 6: [0.07101490890693382], 7: [0.20028058101790977], 8: [0.010641676689444603], 9: [0.21554241415740827], 10: [0.021545856109957167]}\n",
      "[5]\n"
     ]
    },
    {
     "data": {
      "image/png": "[encoded data removed]",
      "text/plain": [
       "<Figure size 432x288 with 1 Axes>"
      ]
     },
     "metadata": {
      "needs_background": "light"
     },
     "output_type": "display_data"
    }
   ],
   "source": [
    "\n",
    "strats = [0, 1, 2, 3, 4, 5, 6, 7, 8, 9, 10]\n",
    "\n",
    "init_probs = list(np.random.dirichlet((1,)* len(strats)))\n",
    "#x0, x1, x2, x3, x4, x5, x6, x7, x8, x9, x10 = [0.0544685, 0.236312, 0.0560727, 0.0469244, 0.0562243, 0.0703294, 0.151136, 0.162231, 0.0098273, 0.111366, 0.0451093]\n",
    "#x0, x1, x2, x3, x4, x5, x6, x7, x8, x9, x10 =  [0.410376, 0.107375, 0.0253916, 0.116684, 0.0813494, 0.00573677, 0.0277155, 0.0112791, 0.0163166, 0.191699, 0.00607705]\n",
    "strat_probs = { strats[i]:[init_probs[i]] for i in range(len(strats)) }\n",
    "\n",
    "print(\"Initial Probabilities\", strat_probs)\n",
    "\n",
    "def payout(s,other_s):\n",
    "    \n",
    "    return s if (s+other_s) <= 10 else 0\n",
    "\n",
    "\n",
    "for t in range(50):\n",
    "    \n",
    "    fs = {s: sum(strat_probs[other_strat][t] * payout(s, other_strat) \n",
    "                 for other_strat in strats) \n",
    "          for s in strats}\n",
    "    f = sum([strat_probs[s][t] * fs[s] for s in strats])\n",
    "    \n",
    "    for s in strats: \n",
    "        strat_probs[s].append(strat_probs[s][t] + ((strat_probs[s][t] * (fs[s] - f)) / f))\n",
    "    \n",
    "threshold = 0.001\n",
    "\n",
    "winning_strats = [s for s in strats if  strat_probs[s][-1] > threshold]\n",
    "print(winning_strats)\n",
    "for s in strats:\n",
    "    plt.plot(strat_probs[s],   label = str(s))\n",
    "plt.legend(loc='best', bbox_to_anchor=[1.25,1])\n",
    "\n",
    "plt.show()"
   ]
  },
  {
   "cell_type": "code",
   "execution_count": 5,
   "metadata": {
    "slideshow": {
     "slide_type": "slide"
    }
   },
   "outputs": [
    {
     "data": {
      "application/vnd.jupyter.widget-view+json": {
       "model_id": "62fdb3d7a6c340d28ab04a51552235ac",
       "version_major": 2,
       "version_minor": 0
      },
      "text/plain": [
       "  0%|          | 0/1000 [00:00<?, ?it/s]"
      ]
     },
     "metadata": {},
     "output_type": "display_data"
    }
   ],
   "source": [
    "import tqdm.notebook as tqdm \n",
    "\n",
    "def payout(s,other_s):\n",
    "    \n",
    "    return s if (s+other_s) <= 10 else 0\n",
    "\n",
    "def run_sim(strats):\n",
    "\n",
    "    init_probs = list(np.random.dirichlet((1,)* len(strats)))\n",
    "\n",
    "    strat_probs = { strats[i]:[init_probs[i]] for i in range(len(strats)) }\n",
    "\n",
    "    for t in range(1000):\n",
    "\n",
    "        fs = {s: sum(strat_probs[other_strat][t] * payout(s, other_strat) \n",
    "                     for other_strat in strats) \n",
    "              for s in strats}\n",
    "        f = sum([strat_probs[s][t] * fs[s] for s in strats])\n",
    "\n",
    "        for s in strats: \n",
    "            strat_probs[s].append(strat_probs[s][t] + ((strat_probs[s][t] * (fs[s] - f)) / f))\n",
    "    \n",
    "    threshold = 0.001\n",
    "    return sorted([s for s in strats if  strat_probs[s][-1] > threshold])\n",
    "\n",
    "strats = [0, 1, 2, 3, 4, 5, 6, 7, 8, 9, 10]\n",
    "\n",
    "num_converge = {\n",
    "    (0,10): 0, \n",
    "    (1, 9): 0,\n",
    "    (2, 8): 0, \n",
    "    (3, 7): 0,\n",
    "    (4, 6): 0, \n",
    "    (5,): 0\n",
    "}\n",
    "\n",
    "num_trials = 1000\n",
    "for t in tqdm.tqdm(range(num_trials)):\n",
    "    winning_strats = run_sim(strats)\n",
    "    num_converge[tuple(winning_strats)] += 1"
   ]
  },
  {
   "cell_type": "code",
   "execution_count": 6,
   "metadata": {
    "slideshow": {
     "slide_type": "slide"
    }
   },
   "outputs": [
    {
     "data": {
      "image/png": "[encoded data removed]",
      "text/plain": [
       "<Figure size 432x288 with 1 Axes>"
      ]
     },
     "metadata": {
      "needs_background": "light"
     },
     "output_type": "display_data"
    }
   ],
   "source": [
    "\n",
    "fig = plt.figure()\n",
    "ax = fig.add_axes([0,0,1,1])\n",
    "\n",
    "langs = ['(0,10)', '(1,9)', '(2,8)', '(3,7)', '(4,6)', '(5,5)']\n",
    "students = [num_converge[(0,10)],\n",
    "            num_converge[(1,9)],\n",
    "            num_converge[(2,8)],\n",
    "            num_converge[(3,7)], \n",
    "            num_converge[(4,6)],\n",
    "            num_converge[(5,)]]\n",
    "ax.bar(langs,students)\n",
    "plt.show()"
   ]
  },
  {
   "cell_type": "code",
   "execution_count": 7,
   "metadata": {
    "slideshow": {
     "slide_type": "slide"
    }
   },
   "outputs": [],
   "source": [
    "from mesa import Model, Agent\n",
    "from mesa.time import RandomActivation\n",
    "from mesa.space import SingleGrid, NetworkGrid\n",
    "from mesa.datacollection import DataCollector\n",
    "import random\n",
    "import nashpy as nash\n",
    "import matplotlib.pyplot as plt\n",
    "from IPython.display import clear_output\n",
    "from ipywidgets import widgets, interact, interact_manual\n",
    "import seaborn as sns\n",
    "import numpy as np\n",
    "import pandas\n"
   ]
  },
  {
   "cell_type": "code",
   "execution_count": 8,
   "metadata": {
    "slideshow": {
     "slide_type": "slide"
    }
   },
   "outputs": [],
   "source": [
    "def payout(s,other_s):\n",
    "    \n",
    "    return s if (s+other_s) <= 10 else 0\n",
    "\n",
    "class DivideDollarPlayer(Agent):\n",
    "    '''\n",
    "    A player for the divide th dollar game \n",
    "    '''\n",
    "    def __init__(self, unique_id, pos, model, strat):\n",
    "\n",
    "        super().__init__(unique_id, model)\n",
    "        self.pos = pos\n",
    "        self.strat = strat # fixed strategy to play in the game \n",
    "\n",
    "    def average_payout(self):\n",
    "        '''find the average payout when playing the game against all neighbors'''\n",
    "        neighbors = self.model.grid.neighbor_iter(self.pos)\n",
    "        return np.average([payout(self.strat, n.strat) for n in neighbors])\n",
    "    \n",
    "    def total_payout(self):\n",
    "        '''find the total payout when playing the game against all neighbors'''\n",
    "        neighbors = self.model.grid.neighbor_iter(self.pos)\n",
    "        return np.sum([payout(self.strat, n.strat) for n in neighbors])\n",
    "    \n",
    "    def step(self):\n",
    "        pass\n",
    "    \n",
    "class DivideDollarLatticeModel(Model):\n",
    "    '''\n",
    "    Play a fixed game on a lattice.\n",
    "    '''\n",
    "    def __init__(self, height, width,  strats, num_changes_per_step, mutation, update_type, use_grid):\n",
    "        \n",
    "        self.height = height\n",
    "        self.width = width\n",
    "        self.strats = strats\n",
    "        self.update_type = update_type\n",
    "        self.num_changes_per_step = num_changes_per_step\n",
    "        self.mutation = mutation\n",
    "        \n",
    "        self.use_grid = use_grid\n",
    "        \n",
    "        self.schedule = RandomActivation(self)\n",
    "        self.grid = SingleGrid(height, width, torus=True)\n",
    "        \n",
    "        self.datacollector = DataCollector({\n",
    "             \"0\": lambda m: np.sum([1 for a in m.schedule.agents if a.strat == 0]),\n",
    "             \"1\": lambda m: np.sum([1 for a in m.schedule.agents if a.strat == 1]),\n",
    "             \"2\": lambda m: np.sum([1 for a in m.schedule.agents if a.strat == 2]),\n",
    "             \"3\": lambda m: np.sum([1 for a in m.schedule.agents if a.strat == 3]),\n",
    "             \"4\": lambda m: np.sum([1 for a in m.schedule.agents if a.strat == 4]),\n",
    "             \"5\": lambda m: np.sum([1 for a in m.schedule.agents if a.strat == 5]),\n",
    "             \"6\": lambda m: np.sum([1 for a in m.schedule.agents if a.strat == 6]),\n",
    "             \"7\": lambda m: np.sum([1 for a in m.schedule.agents if a.strat == 7]),\n",
    "             \"8\": lambda m: np.sum([1 for a in m.schedule.agents if a.strat == 8]),\n",
    "             \"9\": lambda m: np.sum([1 for a in m.schedule.agents if a.strat == 9]),\n",
    "             \"10\": lambda m: np.sum([1 for a in m.schedule.agents if a.strat == 10]),\n",
    "         } )\n",
    "        self.running = True\n",
    "        \n",
    "        # Set up agents\n",
    "        agent_id = 0\n",
    "        for cell in self.grid.coord_iter():\n",
    "            _,x,y = cell\n",
    "            strat = random.choice(strats)\n",
    "            agent = DivideDollarPlayer(agent_id, (x, y), self, strat)\n",
    "            self.grid.position_agent(agent, x=x, y=y)\n",
    "            self.schedule.add(agent)\n",
    "            agent_id += 1\n",
    "        \n",
    "    \n",
    "    def step(self):\n",
    "        for i in range(self.num_changes_per_step):\n",
    "            \n",
    "            # choose a random agent\n",
    "            focal_agent = np.random.choice(self.schedule.agents)\n",
    "            \n",
    "            \n",
    "            # find all the neighbors of the agent\n",
    "            \n",
    "            if use_grid: \n",
    "                neighbors = self.grid.get_neighbors(focal_agent.pos, moore=True)\n",
    "            else: \n",
    "                neighbors = random.sample(self.schedule.agents,8)\n",
    "            \n",
    "            if self.update_type == 'imitator':\n",
    "                # imitate most successful neighbor\n",
    "                total_payouts  = {a: a.total_payout() for a in neighbors}\n",
    "\n",
    "                max_payout = max(total_payouts.values())\n",
    "\n",
    "                strat_to_imitate = random.choice([a.strat for a in total_payouts.keys() if total_payouts[a] == max_payout])\n",
    "\n",
    "            if self.update_type == 'prob_imitator':\n",
    "                \n",
    "                # get the average payouts for each neighbor\n",
    "                average_payouts = [a.average_payout() for a in neighbors]\n",
    "                total_average_payouts = np.sum(average_payouts)\n",
    "                \n",
    "                # probabilities for each neighbor\n",
    "                neighbor_probs = [n.average_payout() / total_average_payouts for n in neighbors]\n",
    "                \n",
    "                # probabilistically imitate most successful neighbor \n",
    "                strat_to_imitate = np.random.choice(neighbors, 1, p=neighbor_probs)[0].strat\n",
    "            \n",
    "            \n",
    "            # mutations\n",
    "            \n",
    "            if random.random() < self.mutation:\n",
    "                focal_agent.strat = random.choice([s for s in strats if s != strat_to_imitate])\n",
    "            else: \n",
    "                focal_agent.strat = strat_to_imitate\n",
    "            \n",
    "            self.datacollector.collect(self)\n",
    "            \n",
    "            self.schedule.steps += 1\n",
    "        \n",
    "        # stop running if all agents have the same strategy\n",
    "        if len(list(set([a.strat for a in self.schedule.agents]))) == 1:\n",
    "            self.running=False\n"
   ]
  },
  {
   "cell_type": "code",
   "execution_count": 9,
   "metadata": {
    "slideshow": {
     "slide_type": "slide"
    }
   },
   "outputs": [],
   "source": [
    "strats = [0,1,2,3,4,5,6,7,8,9,10]\n",
    "\n",
    "height, width = 20, 20 \n",
    "num_changes_per_step = 1\n",
    "mutation = 0.0\n",
    "update_type = 'imitator'\n",
    "use_grid = True\n",
    "\n",
    "m=DivideDollarLatticeModel(height,width,  strats, 1,  0.0, update_type, use_grid)\n",
    "\n",
    "running = True\n",
    "while running and m.schedule.steps < 1000:\n",
    "    m.step()\n",
    "    if len(list(set([a.strat for a in m.schedule.agents]))) == 1:\n",
    "        running=False"
   ]
  },
  {
   "cell_type": "code",
   "execution_count": 10,
   "metadata": {
    "slideshow": {
     "slide_type": "slide"
    }
   },
   "outputs": [
    {
     "data": {
      "text/html": [
       "<div>\n",
       "<style scoped>\n",
       "    .dataframe tbody tr th:only-of-type {\n",
       "        vertical-align: middle;\n",
       "    }\n",
       "\n",
       "    .dataframe tbody tr th {\n",
       "        vertical-align: top;\n",
       "    }\n",
       "\n",
       "    .dataframe thead th {\n",
       "        text-align: right;\n",
       "    }\n",
       "</style>\n",
       "<table border=\"1\" class=\"dataframe\">\n",
       "  <thead>\n",
       "    <tr style=\"text-align: right;\">\n",
       "      <th></th>\n",
       "      <th>0</th>\n",
       "      <th>1</th>\n",
       "      <th>2</th>\n",
       "      <th>3</th>\n",
       "      <th>4</th>\n",
       "      <th>5</th>\n",
       "      <th>6</th>\n",
       "      <th>7</th>\n",
       "      <th>8</th>\n",
       "      <th>9</th>\n",
       "      <th>10</th>\n",
       "    </tr>\n",
       "  </thead>\n",
       "  <tbody>\n",
       "    <tr>\n",
       "      <th>0</th>\n",
       "      <td>40</td>\n",
       "      <td>42</td>\n",
       "      <td>34</td>\n",
       "      <td>29</td>\n",
       "      <td>35</td>\n",
       "      <td>37</td>\n",
       "      <td>29</td>\n",
       "      <td>37</td>\n",
       "      <td>47</td>\n",
       "      <td>34</td>\n",
       "      <td>36</td>\n",
       "    </tr>\n",
       "    <tr>\n",
       "      <th>1</th>\n",
       "      <td>40</td>\n",
       "      <td>41</td>\n",
       "      <td>34</td>\n",
       "      <td>29</td>\n",
       "      <td>35</td>\n",
       "      <td>37</td>\n",
       "      <td>29</td>\n",
       "      <td>37</td>\n",
       "      <td>48</td>\n",
       "      <td>34</td>\n",
       "      <td>36</td>\n",
       "    </tr>\n",
       "    <tr>\n",
       "      <th>2</th>\n",
       "      <td>40</td>\n",
       "      <td>41</td>\n",
       "      <td>34</td>\n",
       "      <td>29</td>\n",
       "      <td>35</td>\n",
       "      <td>37</td>\n",
       "      <td>29</td>\n",
       "      <td>37</td>\n",
       "      <td>48</td>\n",
       "      <td>34</td>\n",
       "      <td>36</td>\n",
       "    </tr>\n",
       "    <tr>\n",
       "      <th>3</th>\n",
       "      <td>40</td>\n",
       "      <td>41</td>\n",
       "      <td>34</td>\n",
       "      <td>29</td>\n",
       "      <td>36</td>\n",
       "      <td>36</td>\n",
       "      <td>29</td>\n",
       "      <td>37</td>\n",
       "      <td>48</td>\n",
       "      <td>34</td>\n",
       "      <td>36</td>\n",
       "    </tr>\n",
       "    <tr>\n",
       "      <th>4</th>\n",
       "      <td>40</td>\n",
       "      <td>41</td>\n",
       "      <td>34</td>\n",
       "      <td>29</td>\n",
       "      <td>36</td>\n",
       "      <td>36</td>\n",
       "      <td>30</td>\n",
       "      <td>36</td>\n",
       "      <td>48</td>\n",
       "      <td>34</td>\n",
       "      <td>36</td>\n",
       "    </tr>\n",
       "    <tr>\n",
       "      <th>...</th>\n",
       "      <td>...</td>\n",
       "      <td>...</td>\n",
       "      <td>...</td>\n",
       "      <td>...</td>\n",
       "      <td>...</td>\n",
       "      <td>...</td>\n",
       "      <td>...</td>\n",
       "      <td>...</td>\n",
       "      <td>...</td>\n",
       "      <td>...</td>\n",
       "      <td>...</td>\n",
       "    </tr>\n",
       "    <tr>\n",
       "      <th>995</th>\n",
       "      <td>5</td>\n",
       "      <td>3</td>\n",
       "      <td>5</td>\n",
       "      <td>14</td>\n",
       "      <td>59</td>\n",
       "      <td>241</td>\n",
       "      <td>8</td>\n",
       "      <td>25</td>\n",
       "      <td>23</td>\n",
       "      <td>11</td>\n",
       "      <td>6</td>\n",
       "    </tr>\n",
       "    <tr>\n",
       "      <th>996</th>\n",
       "      <td>5</td>\n",
       "      <td>3</td>\n",
       "      <td>6</td>\n",
       "      <td>14</td>\n",
       "      <td>59</td>\n",
       "      <td>241</td>\n",
       "      <td>8</td>\n",
       "      <td>25</td>\n",
       "      <td>22</td>\n",
       "      <td>11</td>\n",
       "      <td>6</td>\n",
       "    </tr>\n",
       "    <tr>\n",
       "      <th>997</th>\n",
       "      <td>5</td>\n",
       "      <td>3</td>\n",
       "      <td>6</td>\n",
       "      <td>15</td>\n",
       "      <td>59</td>\n",
       "      <td>241</td>\n",
       "      <td>8</td>\n",
       "      <td>24</td>\n",
       "      <td>22</td>\n",
       "      <td>11</td>\n",
       "      <td>6</td>\n",
       "    </tr>\n",
       "    <tr>\n",
       "      <th>998</th>\n",
       "      <td>5</td>\n",
       "      <td>3</td>\n",
       "      <td>6</td>\n",
       "      <td>15</td>\n",
       "      <td>59</td>\n",
       "      <td>241</td>\n",
       "      <td>8</td>\n",
       "      <td>24</td>\n",
       "      <td>22</td>\n",
       "      <td>11</td>\n",
       "      <td>6</td>\n",
       "    </tr>\n",
       "    <tr>\n",
       "      <th>999</th>\n",
       "      <td>5</td>\n",
       "      <td>3</td>\n",
       "      <td>6</td>\n",
       "      <td>15</td>\n",
       "      <td>59</td>\n",
       "      <td>241</td>\n",
       "      <td>8</td>\n",
       "      <td>24</td>\n",
       "      <td>22</td>\n",
       "      <td>11</td>\n",
       "      <td>6</td>\n",
       "    </tr>\n",
       "  </tbody>\n",
       "</table>\n",
       "<p>1000 rows × 11 columns</p>\n",
       "</div>"
      ],
      "text/plain": [
       "      0   1   2   3   4    5   6   7   8   9  10\n",
       "0    40  42  34  29  35   37  29  37  47  34  36\n",
       "1    40  41  34  29  35   37  29  37  48  34  36\n",
       "2    40  41  34  29  35   37  29  37  48  34  36\n",
       "3    40  41  34  29  36   36  29  37  48  34  36\n",
       "4    40  41  34  29  36   36  30  36  48  34  36\n",
       "..   ..  ..  ..  ..  ..  ...  ..  ..  ..  ..  ..\n",
       "995   5   3   5  14  59  241   8  25  23  11   6\n",
       "996   5   3   6  14  59  241   8  25  22  11   6\n",
       "997   5   3   6  15  59  241   8  24  22  11   6\n",
       "998   5   3   6  15  59  241   8  24  22  11   6\n",
       "999   5   3   6  15  59  241   8  24  22  11   6\n",
       "\n",
       "[1000 rows x 11 columns]"
      ]
     },
     "execution_count": 10,
     "metadata": {},
     "output_type": "execute_result"
    }
   ],
   "source": [
    "df = m.datacollector.get_model_vars_dataframe()\n",
    "df"
   ]
  },
  {
   "cell_type": "code",
   "execution_count": 11,
   "metadata": {
    "slideshow": {
     "slide_type": "slide"
    }
   },
   "outputs": [
    {
     "data": {
      "image/png": "[encoded data removed]",
      "text/plain": [
       "<Figure size 842.4x595.44 with 1 Axes>"
      ]
     },
     "metadata": {},
     "output_type": "display_data"
    }
   ],
   "source": [
    "sns.set(rc={'figure.figsize':(11.7,8.27)})\n",
    "for s in strats:\n",
    "    plt.plot(list(df[str(s)]), lw=2, label = str(s))\n",
    "    \n",
    "plt.legend(loc='best', bbox_to_anchor=[1.15,1]);\n"
   ]
  }
 ],
 "metadata": {
  "celltoolbar": "Slideshow",
  "kernelspec": {
   "display_name": "Python 3",
   "language": "python",
   "name": "python3"
  },
  "language_info": {
   "codemirror_mode": {
    "name": "ipython",
    "version": 3
   },
   "file_extension": ".py",
   "mimetype": "text/x-python",
   "name": "python",
   "nbconvert_exporter": "python",
   "pygments_lexer": "ipython3",
   "version": "3.9.0"
  },
  "varInspector": {
   "cols": {
    "lenName": 16,
    "lenType": 16,
    "lenVar": 40
   },
   "kernels_config": {
    "python": {
     "delete_cmd_postfix": "",
     "delete_cmd_prefix": "del ",
     "library": "var_list.py",
     "varRefreshCmd": "print(var_dic_list())"
    },
    "r": {
     "delete_cmd_postfix": ") ",
     "delete_cmd_prefix": "rm(",
     "library": "var_list.r",
     "varRefreshCmd": "cat(var_dic_list()) "
    }
   },
   "types_to_exclude": [
    "module",
    "function",
    "builtin_function_or_method",
    "instance",
    "_Feature"
   ],
   "window_display": false
  },
  "widgets": {
   "application/vnd.jupyter.widget-state+json": {
    "state": {
     "3f06f7086a7d495f8641a357e4aabc43": {
      "model_module": "@jupyter-widgets/controls",
      "model_module_version": "1.5.0",
      "model_name": "ProgressStyleModel",
      "state": {
       "_model_module": "@jupyter-widgets/controls",
       "_model_module_version": "1.5.0",
       "_model_name": "ProgressStyleModel",
       "_view_count": null,
       "_view_module": "@jupyter-widgets/base",
       "_view_module_version": "1.2.0",
       "_view_name": "StyleView",
       "bar_color": null,
       "description_width": ""
      }
     },
     "4148860a57394c8fbe8542ff0b9f0df8": {
      "model_module": "@jupyter-widgets/controls",
      "model_module_version": "1.5.0",
      "model_name": "FloatProgressModel",
      "state": {
       "_dom_classes": [],
       "_model_module": "@jupyter-widgets/controls",
       "_model_module_version": "1.5.0",
       "_model_name": "FloatProgressModel",
       "_view_count": null,
       "_view_module": "@jupyter-widgets/controls",
       "_view_module_version": "1.5.0",
       "_view_name": "ProgressView",
       "bar_style": "success",
       "description": "",
       "description_tooltip": null,
       "layout": "IPY_MODEL_e0c270f887444b7bb80b552765edafff",
       "max": 1000.0,
       "min": 0.0,
       "orientation": "horizontal",
       "style": "IPY_MODEL_3f06f7086a7d495f8641a357e4aabc43",
       "value": 1000.0
      }
     },
     "57b802ff983f42b89d0efc80dac901e7": {
      "model_module": "@jupyter-widgets/base",
      "model_module_version": "1.2.0",
      "model_name": "LayoutModel",
      "state": {
       "_model_module": "@jupyter-widgets/base",
       "_model_module_version": "1.2.0",
       "_model_name": "LayoutModel",
       "_view_count": null,
       "_view_module": "@jupyter-widgets/base",
       "_view_module_version": "1.2.0",
       "_view_name": "LayoutView",
       "align_content": null,
       "align_items": null,
       "align_self": null,
       "border": null,
       "bottom": null,
       "display": null,
       "flex": null,
       "flex_flow": null,
       "grid_area": null,
       "grid_auto_columns": null,
       "grid_auto_flow": null,
       "grid_auto_rows": null,
       "grid_column": null,
       "grid_gap": null,
       "grid_row": null,
       "grid_template_areas": null,
       "grid_template_columns": null,
       "grid_template_rows": null,
       "height": null,
       "justify_content": null,
       "justify_items": null,
       "left": null,
       "margin": null,
       "max_height": null,
       "max_width": null,
       "min_height": null,
       "min_width": null,
       "object_fit": null,
       "object_position": null,
       "order": null,
       "overflow": null,
       "overflow_x": null,
       "overflow_y": null,
       "padding": null,
       "right": null,
       "top": null,
       "visibility": null,
       "width": null
      }
     },
     "62fdb3d7a6c340d28ab04a51552235ac": {
      "model_module": "@jupyter-widgets/controls",
      "model_module_version": "1.5.0",
      "model_name": "HBoxModel",
      "state": {
       "_dom_classes": [],
       "_model_module": "@jupyter-widgets/controls",
       "_model_module_version": "1.5.0",
       "_model_name": "HBoxModel",
       "_view_count": null,
       "_view_module": "@jupyter-widgets/controls",
       "_view_module_version": "1.5.0",
       "_view_name": "HBoxView",
       "box_style": "",
       "children": [
        "IPY_MODEL_707cb1aa88a54097bda108f5ededeec0",
        "IPY_MODEL_4148860a57394c8fbe8542ff0b9f0df8",
        "IPY_MODEL_bdda398e154e425b9f318270de72e539"
       ],
       "layout": "IPY_MODEL_57b802ff983f42b89d0efc80dac901e7"
      }
     },
     "707cb1aa88a54097bda108f5ededeec0": {
      "model_module": "@jupyter-widgets/controls",
      "model_module_version": "1.5.0",
      "model_name": "HTMLModel",
      "state": {
       "_dom_classes": [],
       "_model_module": "@jupyter-widgets/controls",
       "_model_module_version": "1.5.0",
       "_model_name": "HTMLModel",
       "_view_count": null,
       "_view_module": "@jupyter-widgets/controls",
       "_view_module_version": "1.5.0",
       "_view_name": "HTMLView",
       "description": "",
       "description_tooltip": null,
       "layout": "IPY_MODEL_e6601fd318cd4054ad7252d3c4160924",
       "placeholder": "​",
       "style": "IPY_MODEL_d8fe393700fe4e299845b05cccaff5b1",
       "value": "100%"
      }
     },
     "811d4eededeb425492b61877df928be2": {
      "model_module": "@jupyter-widgets/base",
      "model_module_version": "1.2.0",
      "model_name": "LayoutModel",
      "state": {
       "_model_module": "@jupyter-widgets/base",
       "_model_module_version": "1.2.0",
       "_model_name": "LayoutModel",
       "_view_count": null,
       "_view_module": "@jupyter-widgets/base",
       "_view_module_version": "1.2.0",
       "_view_name": "LayoutView",
       "align_content": null,
       "align_items": null,
       "align_self": null,
       "border": null,
       "bottom": null,
       "display": null,
       "flex": null,
       "flex_flow": null,
       "grid_area": null,
       "grid_auto_columns": null,
       "grid_auto_flow": null,
       "grid_auto_rows": null,
       "grid_column": null,
       "grid_gap": null,
       "grid_row": null,
       "grid_template_areas": null,
       "grid_template_columns": null,
       "grid_template_rows": null,
       "height": null,
       "justify_content": null,
       "justify_items": null,
       "left": null,
       "margin": null,
       "max_height": null,
       "max_width": null,
       "min_height": null,
       "min_width": null,
       "object_fit": null,
       "object_position": null,
       "order": null,
       "overflow": null,
       "overflow_x": null,
       "overflow_y": null,
       "padding": null,
       "right": null,
       "top": null,
       "visibility": null,
       "width": null
      }
     },
     "b7d12843aa554605907163d705bc73c5": {
      "model_module": "@jupyter-widgets/controls",
      "model_module_version": "1.5.0",
      "model_name": "DescriptionStyleModel",
      "state": {
       "_model_module": "@jupyter-widgets/controls",
       "_model_module_version": "1.5.0",
       "_model_name": "DescriptionStyleModel",
       "_view_count": null,
       "_view_module": "@jupyter-widgets/base",
       "_view_module_version": "1.2.0",
       "_view_name": "StyleView",
       "description_width": ""
      }
     },
     "bdda398e154e425b9f318270de72e539": {
      "model_module": "@jupyter-widgets/controls",
      "model_module_version": "1.5.0",
      "model_name": "HTMLModel",
      "state": {
       "_dom_classes": [],
       "_model_module": "@jupyter-widgets/controls",
       "_model_module_version": "1.5.0",
       "_model_name": "HTMLModel",
       "_view_count": null,
       "_view_module": "@jupyter-widgets/controls",
       "_view_module_version": "1.5.0",
       "_view_name": "HTMLView",
       "description": "",
       "description_tooltip": null,
       "layout": "IPY_MODEL_811d4eededeb425492b61877df928be2",
       "placeholder": "​",
       "style": "IPY_MODEL_b7d12843aa554605907163d705bc73c5",
       "value": " 1000/1000 [01:54&lt;00:00,  8.35it/s]"
      }
     },
     "d8fe393700fe4e299845b05cccaff5b1": {
      "model_module": "@jupyter-widgets/controls",
      "model_module_version": "1.5.0",
      "model_name": "DescriptionStyleModel",
      "state": {
       "_model_module": "@jupyter-widgets/controls",
       "_model_module_version": "1.5.0",
       "_model_name": "DescriptionStyleModel",
       "_view_count": null,
       "_view_module": "@jupyter-widgets/base",
       "_view_module_version": "1.2.0",
       "_view_name": "StyleView",
       "description_width": ""
      }
     },
     "e0c270f887444b7bb80b552765edafff": {
      "model_module": "@jupyter-widgets/base",
      "model_module_version": "1.2.0",
      "model_name": "LayoutModel",
      "state": {
       "_model_module": "@jupyter-widgets/base",
       "_model_module_version": "1.2.0",
       "_model_name": "LayoutModel",
       "_view_count": null,
       "_view_module": "@jupyter-widgets/base",
       "_view_module_version": "1.2.0",
       "_view_name": "LayoutView",
       "align_content": null,
       "align_items": null,
       "align_self": null,
       "border": null,
       "bottom": null,
       "display": null,
       "flex": null,
       "flex_flow": null,
       "grid_area": null,
       "grid_auto_columns": null,
       "grid_auto_flow": null,
       "grid_auto_rows": null,
       "grid_column": null,
       "grid_gap": null,
       "grid_row": null,
       "grid_template_areas": null,
       "grid_template_columns": null,
       "grid_template_rows": null,
       "height": null,
       "justify_content": null,
       "justify_items": null,
       "left": null,
       "margin": null,
       "max_height": null,
       "max_width": null,
       "min_height": null,
       "min_width": null,
       "object_fit": null,
       "object_position": null,
       "order": null,
       "overflow": null,
       "overflow_x": null,
       "overflow_y": null,
       "padding": null,
       "right": null,
       "top": null,
       "visibility": null,
       "width": null
      }
     },
     "e6601fd318cd4054ad7252d3c4160924": {
      "model_module": "@jupyter-widgets/base",
      "model_module_version": "1.2.0",
      "model_name": "LayoutModel",
      "state": {
       "_model_module": "@jupyter-widgets/base",
       "_model_module_version": "1.2.0",
       "_model_name": "LayoutModel",
       "_view_count": null,
       "_view_module": "@jupyter-widgets/base",
       "_view_module_version": "1.2.0",
       "_view_name": "LayoutView",
       "align_content": null,
       "align_items": null,
       "align_self": null,
       "border": null,
       "bottom": null,
       "display": null,
       "flex": null,
       "flex_flow": null,
       "grid_area": null,
       "grid_auto_columns": null,
       "grid_auto_flow": null,
       "grid_auto_rows": null,
       "grid_column": null,
       "grid_gap": null,
       "grid_row": null,
       "grid_template_areas": null,
       "grid_template_columns": null,
       "grid_template_rows": null,
       "height": null,
       "justify_content": null,
       "justify_items": null,
       "left": null,
       "margin": null,
       "max_height": null,
       "max_width": null,
       "min_height": null,
       "min_width": null,
       "object_fit": null,
       "object_position": null,
       "order": null,
       "overflow": null,
       "overflow_x": null,
       "overflow_y": null,
       "padding": null,
       "right": null,
       "top": null,
       "visibility": null,
       "width": null
      }
     }
    },
    "version_major": 2,
    "version_minor": 0
   }
  }
 },
 "nbformat": 4,
 "nbformat_minor": 4
}