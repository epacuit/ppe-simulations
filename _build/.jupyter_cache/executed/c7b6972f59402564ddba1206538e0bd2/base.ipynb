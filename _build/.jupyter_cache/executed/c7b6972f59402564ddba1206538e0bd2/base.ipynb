{
 "cells": [
  {
   "cell_type": "code",
   "execution_count": 1,
   "metadata": {},
   "outputs": [
    {
     "name": "stdout",
     "output_type": "stream",
     "text": [
      "Agent Class\n",
      "Agent a's unique id is  1\n",
      "Agent Class\n",
      "Agent b's unique id is  2\n"
     ]
    }
   ],
   "source": [
    "class Agent():\n",
    "    \n",
    "    class_name = 'Agent Class'\n",
    "    def __init__(self, unique_id):\n",
    "        self.unique_id = unique_id\n",
    "        \n",
    "a = Agent(1)\n",
    "b = Agent(2)\n",
    "\n",
    "print(a.class_name)\n",
    "print(\"Agent a's unique id is \", a.unique_id)\n",
    "\n",
    "print(b.class_name)\n",
    "print(\"Agent b's unique id is \", b.unique_id)\n"
   ]
  },
  {
   "cell_type": "code",
   "execution_count": 2,
   "metadata": {},
   "outputs": [
    {
     "name": "stdout",
     "output_type": "stream",
     "text": [
      "<__main__.Agent object at 0x106ef5f70>\n",
      "<__main__.Agent object at 0x106ef5f70>\n"
     ]
    }
   ],
   "source": [
    "class Agent():\n",
    "    \n",
    "    class_name = 'Agent Class'\n",
    "    def __init__(self, unique_id):\n",
    "        self.unique_id = unique_id\n",
    "        print(self)\n",
    "\n",
    "a = Agent(1)\n",
    "print(a)"
   ]
  },
  {
   "cell_type": "code",
   "execution_count": 3,
   "metadata": {},
   "outputs": [],
   "source": [
    "import random"
   ]
  },
  {
   "cell_type": "code",
   "execution_count": 4,
   "metadata": {},
   "outputs": [],
   "source": [
    "class Agent():\n",
    "    \n",
    "    class_name = 'Agent Class'\n",
    "    def __init__(self, unique_id):\n",
    "        self.unique_id = unique_id\n",
    "\n",
    "    def flip(self): \n",
    "        return 'H' if random.random() < 0.5 else 'T'"
   ]
  },
  {
   "cell_type": "code",
   "execution_count": 5,
   "metadata": {},
   "outputs": [
    {
     "name": "stdout",
     "output_type": "stream",
     "text": [
      "H\n",
      "H\n",
      "H\n",
      "T\n",
      "T\n"
     ]
    }
   ],
   "source": [
    "a = Agent(1) # create an agent\n",
    "\n",
    "# let agent a flip a fair coin 5 times\n",
    "# there will be different outputs everytime this code is executed\n",
    "for i in range(5):\n",
    "    print(a.flip())"
   ]
  },
  {
   "cell_type": "code",
   "execution_count": 6,
   "metadata": {},
   "outputs": [],
   "source": [
    "class Agent():\n",
    "    \n",
    "    class_name = 'Agent Class'\n",
    "    def __init__(self, unique_id):\n",
    "        self.unique_id = unique_id\n",
    "\n",
    "    def flip(self): \n",
    "        return 'H' if random.random() < 0.5 else 'T'\n",
    "    \n",
    "    def multiple_flips(self, num = 5): \n",
    "        return [self.flip() for n in range(num)]\n"
   ]
  },
  {
   "cell_type": "code",
   "execution_count": 7,
   "metadata": {},
   "outputs": [
    {
     "name": "stdout",
     "output_type": "stream",
     "text": [
      "['H', 'T', 'T', 'H', 'H', 'T', 'H', 'T', 'H', 'H']\n"
     ]
    }
   ],
   "source": [
    "a = Agent(1) # create an agent\n",
    "\n",
    "print(a.multiple_flips(10))"
   ]
  },
  {
   "cell_type": "code",
   "execution_count": 8,
   "metadata": {},
   "outputs": [],
   "source": [
    "class Agent():\n",
    "    \n",
    "    class_name = 'Agent Class'\n",
    "    def __init__(self, unique_id):\n",
    "        self.unique_id = unique_id\n",
    "\n",
    "class CoinFlipper(Agent):\n",
    "    \n",
    "    def __init__(self, bias):\n",
    "        self.bias = bias\n",
    "        \n",
    "    def flip(self): \n",
    "        return 'H' if random.random() < self.bias else 'T'\n",
    "    \n",
    "    def multiple_flips(self, num = 5): \n",
    "        return [self.flip() for n in range(num)]\n"
   ]
  },
  {
   "cell_type": "code",
   "execution_count": 9,
   "metadata": {},
   "outputs": [
    {
     "name": "stdout",
     "output_type": "stream",
     "text": [
      "['H', 'H', 'H', 'T', 'H']\n",
      "Agent Class\n"
     ]
    }
   ],
   "source": [
    "a = CoinFlipper(0.5)\n",
    "print(a.multiple_flips())\n",
    "print(a.class_name)"
   ]
  },
  {
   "cell_type": "code",
   "execution_count": 10,
   "metadata": {},
   "outputs": [
    {
     "ename": "AttributeError",
     "evalue": "'CoinFlipper' object has no attribute 'unique_id'",
     "output_type": "error",
     "traceback": [
      "\u001b[0;31m---------------------------------------------------------------------------\u001b[0m",
      "\u001b[0;31mAttributeError\u001b[0m                            Traceback (most recent call last)",
      "\u001b[0;32m<ipython-input-10-aec31d94d2cf>\u001b[0m in \u001b[0;36m<module>\u001b[0;34m\u001b[0m\n\u001b[1;32m      1\u001b[0m \u001b[0ma\u001b[0m \u001b[0;34m=\u001b[0m \u001b[0mCoinFlipper\u001b[0m\u001b[0;34m(\u001b[0m\u001b[0;36m0.5\u001b[0m\u001b[0;34m)\u001b[0m\u001b[0;34m\u001b[0m\u001b[0;34m\u001b[0m\u001b[0m\n\u001b[0;32m----> 2\u001b[0;31m \u001b[0ma\u001b[0m\u001b[0;34m.\u001b[0m\u001b[0munique_id\u001b[0m \u001b[0;31m# produces an error since the CoinFlipper class doesn't have a unique_id attribute\u001b[0m\u001b[0;34m\u001b[0m\u001b[0;34m\u001b[0m\u001b[0m\n\u001b[0m",
      "\u001b[0;31mAttributeError\u001b[0m: 'CoinFlipper' object has no attribute 'unique_id'"
     ]
    }
   ],
   "source": [
    "a = CoinFlipper(0.5)\n",
    "a.unique_id # produces an error since the CoinFlipper class doesn't have a unique_id attribute"
   ]
  },
  {
   "cell_type": "code",
   "execution_count": 11,
   "metadata": {},
   "outputs": [
    {
     "data": {
      "text/plain": [
       "1"
      ]
     },
     "execution_count": 11,
     "metadata": {},
     "output_type": "execute_result"
    }
   ],
   "source": [
    "class Agent():\n",
    "    \n",
    "    class_name = 'Agent Class'\n",
    "    def __init__(self, unique_id):\n",
    "        self.unique_id = unique_id\n",
    "\n",
    "class CoinFlipper(Agent):\n",
    "    \n",
    "    def __init__(self, unique_id, bias):\n",
    "        Agent.__init__(self, unique_id) # explicitly call the base class __init__ function\n",
    "        self.bias = bias\n",
    "        \n",
    "    def flip(self): \n",
    "        return 'H' if random.random() < self.bias else 'T'\n",
    "    \n",
    "    def multiple_flips(self, num = 5): \n",
    "        return [self.flip() for n in range(num)]\n",
    "\n",
    "a = CoinFlipper(1, 0.5)\n",
    "a.unique_id "
   ]
  },
  {
   "cell_type": "code",
   "execution_count": 12,
   "metadata": {},
   "outputs": [
    {
     "data": {
      "text/plain": [
       "1"
      ]
     },
     "execution_count": 12,
     "metadata": {},
     "output_type": "execute_result"
    }
   ],
   "source": [
    "class Agent():\n",
    "    \n",
    "    class_name = 'Agent Class'\n",
    "    def __init__(self, unique_id):\n",
    "        self.unique_id = unique_id\n",
    "\n",
    "class CoinFlipper(Agent):\n",
    "    \n",
    "    def __init__(self, unique_id, bias):\n",
    "        super().__init__(unique_id) # super() refers to the base class\n",
    "        self.bias = bias\n",
    "        \n",
    "    def flip(self): \n",
    "        return 'H' if random.random() < self.bias else 'T'\n",
    "    \n",
    "    def multiple_flips(self, num = 5): \n",
    "        return [self.flip() for n in range(num)]\n",
    "\n",
    "a = CoinFlipper(1, 0.5)\n",
    "a.unique_id "
   ]
  },
  {
   "cell_type": "code",
   "execution_count": null,
   "metadata": {},
   "outputs": [],
   "source": []
  }
 ],
 "metadata": {
  "kernelspec": {
   "display_name": "Python 3",
   "language": "python",
   "name": "python3"
  },
  "language_info": {
   "codemirror_mode": {
    "name": "ipython",
    "version": 3
   },
   "file_extension": ".py",
   "mimetype": "text/x-python",
   "name": "python",
   "nbconvert_exporter": "python",
   "pygments_lexer": "ipython3",
   "version": "3.9.0"
  },
  "varInspector": {
   "cols": {
    "lenName": 16,
    "lenType": 16,
    "lenVar": 40
   },
   "kernels_config": {
    "python": {
     "delete_cmd_postfix": "",
     "delete_cmd_prefix": "del ",
     "library": "var_list.py",
     "varRefreshCmd": "print(var_dic_list())"
    },
    "r": {
     "delete_cmd_postfix": ") ",
     "delete_cmd_prefix": "rm(",
     "library": "var_list.r",
     "varRefreshCmd": "cat(var_dic_list()) "
    }
   },
   "types_to_exclude": [
    "module",
    "function",
    "builtin_function_or_method",
    "instance",
    "_Feature"
   ],
   "window_display": false
  }
 },
 "nbformat": 4,
 "nbformat_minor": 4
}