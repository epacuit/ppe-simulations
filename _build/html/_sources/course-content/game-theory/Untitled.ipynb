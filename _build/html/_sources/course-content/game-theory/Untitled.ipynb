{
 "cells": [
  {
   "cell_type": "code",
   "execution_count": 10,
   "metadata": {
    "slideshow": {
     "slide_type": "slide"
    }
   },
   "outputs": [
    {
     "name": "stdout",
     "output_type": "stream",
     "text": [
      "test\n"
     ]
    }
   ],
   "source": [
    "from mesa import Agent\n",
    "\n",
    "class MyAgent(Agent):\n",
    "    def __init__(self, param):\n",
    "        self.param = param\n",
    "    def step(self):\n",
    "        print(\"The agent parameter is \", self.param)\n",
    "a = MyAgent(\"test\")\n",
    "print(a.param)\n"
   ]
  },
  {
   "cell_type": "code",
   "execution_count": 15,
   "metadata": {
    "slideshow": {
     "slide_type": "slide"
    }
   },
   "outputs": [
    {
     "name": "stdout",
     "output_type": "stream",
     "text": [
      "The agent parameter is test\n"
     ]
    }
   ],
   "source": [
    "from mesa import Agent\n",
    "\n",
    "class MyAgent(Agent):\n",
    "    def __init__(self, param):\n",
    "        self.param = param\n",
    "    def step(self):\n",
    "        print(\"The agent parameter is\", self.param)\n",
    "a = MyAgent(\"test\")\n",
    "a.step()\n"
   ]
  },
  {
   "cell_type": "code",
   "execution_count": 24,
   "metadata": {
    "slideshow": {
     "slide_type": "slide"
    }
   },
   "outputs": [
    {
     "name": "stdout",
     "output_type": "stream",
     "text": [
      "7\n",
      " Base class for a model agent. \n"
     ]
    }
   ],
   "source": [
    "from mesa import Agent\n",
    "\n",
    "class MyAgent(Agent):\n",
    "    def __init__(self, param):\n",
    "        self.param = param\n",
    "        super().__init__(7, None)\n",
    "    def step(self):\n",
    "        print(\"The agent parameter is \", self.param)\n",
    "\n",
    "a = MyAgent(\"test\")\n",
    "\n",
    "print(a.unique_id)\n"
   ]
  },
  {
   "cell_type": "code",
   "execution_count": 25,
   "metadata": {
    "slideshow": {
     "slide_type": "slide"
    }
   },
   "outputs": [
    {
     "ename": "AttributeError",
     "evalue": "'A2' object has no attribute 'param1'",
     "output_type": "error",
     "traceback": [
      "\u001b[0;31m---------------------------------------------------------------------------\u001b[0m",
      "\u001b[0;31mAttributeError\u001b[0m                            Traceback (most recent call last)",
      "\u001b[0;32m<ipython-input-25-a52257216364>\u001b[0m in \u001b[0;36m<module>\u001b[0;34m\u001b[0m\n\u001b[1;32m      8\u001b[0m \u001b[0;34m\u001b[0m\u001b[0m\n\u001b[1;32m      9\u001b[0m \u001b[0ma\u001b[0m \u001b[0;34m=\u001b[0m \u001b[0mA2\u001b[0m\u001b[0;34m(\u001b[0m\u001b[0;34m\"test\"\u001b[0m\u001b[0;34m)\u001b[0m\u001b[0;34m\u001b[0m\u001b[0;34m\u001b[0m\u001b[0m\n\u001b[0;32m---> 10\u001b[0;31m \u001b[0mprint\u001b[0m\u001b[0;34m(\u001b[0m\u001b[0ma\u001b[0m\u001b[0;34m.\u001b[0m\u001b[0mparam1\u001b[0m\u001b[0;34m)\u001b[0m\u001b[0;34m\u001b[0m\u001b[0;34m\u001b[0m\u001b[0m\n\u001b[0m",
      "\u001b[0;31mAttributeError\u001b[0m: 'A2' object has no attribute 'param1'"
     ]
    }
   ],
   "source": [
    "class A1():\n",
    "    def __init__(self, param):\n",
    "        self.param1 = param\n",
    "\n",
    "class A2(A1):\n",
    "    def __init__(self, param):\n",
    "        self.param2 = param\n",
    "\n",
    "a = A2(\"test\")\n",
    "print(a.param1)\n"
   ]
  },
  {
   "cell_type": "code",
   "execution_count": 14,
   "metadata": {
    "slideshow": {
     "slide_type": "slide"
    }
   },
   "outputs": [
    {
     "name": "stdout",
     "output_type": "stream",
     "text": [
      "another parameter\n"
     ]
    }
   ],
   "source": [
    "class A1():\n",
    "    def __init__(self, param):\n",
    "        self.param1 = param\n",
    "\n",
    "class A2(A1):\n",
    "    def __init__(self, param):\n",
    "        self.param2 = param\n",
    "        super().__init__(\"another parameter\")\n",
    "\n",
    "a = A2(\"test\")\n",
    "print(a.param1)\n"
   ]
  },
  {
   "cell_type": "markdown",
   "metadata": {
    "slideshow": {
     "slide_type": "slide"
    }
   },
   "source": [
    "# Modification to the Schelling Model\n",
    "\n",
    "\n",
    "\n",
    "* Limit the size of groupings. \n",
    "\n",
    "* Modify the move strategy: When an unhappy agent moves, let the agent move to the *closest* happy spot. If there is no such a spot available in an agent's turn, let the agent stay at the original position. \n",
    "\n",
    "* Add  a value to the spots might simulate how some areas are more expensive and desirable to others. Some people might understand that they are living around people they may not like, but the area they live in can compensate for that.\n",
    "\n",
    "* A \"neighborhood\" could be more than just immediate neighbors and extend maybe another row and column. \n",
    "\n",
    "* Alter the 2D grid structure into a 3D cube with more locations for agents to reside. \n",
    "\n",
    "* Instead of a strict tolerance, make the moving probability a random distribution based on the homophilly number (possibly exponential distribution). \n",
    "\n"
   ]
  },
  {
   "cell_type": "markdown",
   "metadata": {
    "slideshow": {
     "slide_type": "slide"
    }
   },
   "source": [
    "# Modification to the Schelling Model\n",
    "\n",
    "* Agents will get increasingly upset if they are unable to move when they want to, causing their homophily to grow. Perhaps this could emulate the beginnings of resentment towards other groups in real life.\n",
    "\n",
    "* Agents can are only willing to move a certain distance: this is often the case in real life, considering transportation costs.\n",
    "\n",
    "* More than 2 type of agents and/or let the agents have different characteristics.  Whit is the highest threshold possible while still ensuring that 100 percent of the agents are happy. \n",
    "\n",
    "* Introduce more agent types and rank how much one agent type \"likes\" the others. This is more reflective of the real world, where there are many different groups of people that get along with other groups to varying degrees. \n",
    "\n",
    "* Examine the effect of a change in homophily: Set the original distribution with a certain extent of segregation. For example, the original distribution could be a stable one in which everyone has at least three similar neighbors. Now, examine what could happen if everyone increases their homophily requirement; for example, everyone wants at least four similar neighbors instead of two. \n",
    "\n",
    "\n"
   ]
  },
  {
   "cell_type": "code",
   "execution_count": null,
   "metadata": {},
   "outputs": [],
   "source": []
  }
 ],
 "metadata": {
  "celltoolbar": "Slideshow",
  "kernelspec": {
   "display_name": "Python 3",
   "language": "python",
   "name": "python3"
  },
  "language_info": {
   "codemirror_mode": {
    "name": "ipython",
    "version": 3
   },
   "file_extension": ".py",
   "mimetype": "text/x-python",
   "name": "python",
   "nbconvert_exporter": "python",
   "pygments_lexer": "ipython3",
   "version": "3.8.5"
  },
  "varInspector": {
   "cols": {
    "lenName": 16,
    "lenType": 16,
    "lenVar": 40
   },
   "kernels_config": {
    "python": {
     "delete_cmd_postfix": "",
     "delete_cmd_prefix": "del ",
     "library": "var_list.py",
     "varRefreshCmd": "print(var_dic_list())"
    },
    "r": {
     "delete_cmd_postfix": ") ",
     "delete_cmd_prefix": "rm(",
     "library": "var_list.r",
     "varRefreshCmd": "cat(var_dic_list()) "
    }
   },
   "types_to_exclude": [
    "module",
    "function",
    "builtin_function_or_method",
    "instance",
    "_Feature"
   ],
   "window_display": false
  }
 },
 "nbformat": 4,
 "nbformat_minor": 4
}
