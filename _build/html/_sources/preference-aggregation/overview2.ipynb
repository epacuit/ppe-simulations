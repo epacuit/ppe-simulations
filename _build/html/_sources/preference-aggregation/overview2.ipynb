{
 "cells": [
  {
   "cell_type": "markdown",
   "metadata": {},
   "source": [
    "# Overview "
   ]
  },
  {
   "cell_type": "markdown",
   "metadata": {},
   "source": [
    "E. Pacuit (2019). [Voting Methods](https://plato.stanford.edu/entries/voting-methods/), Stanford Encyclopedia of Philosophy. \n"
   ]
  },
  {
   "cell_type": "markdown",
   "metadata": {},
   "source": [
    "![voting-intro](voting-intro.jpg)"
   ]
  },
  {
   "cell_type": "markdown",
   "metadata": {},
   "source": [
    "## Rankings and Profiles\n",
    "\n",
    "* $V$ is a finite set of voters.\n",
    "* $X$ is a (typically finite) set of alternatives, or candidates.\n",
    "* A relation $P$ on $X$ is a **linear order** if it is transitive (for all $x,y,z\\in X$, if $x\\mathrel{P} y$ and $y\\mathrel{P} z$, then $x\\mathrel{P} z$, irreflexive (there is no $x\\in X$ with $x\\mathrel{P}$), and complete (for all $x,y\\in X$, either $x\\mathrel{P} y$ or $y\\mathrel{P} x$.   \n",
    "* $\\mathcal{L}(X)$ is the set of all linear orders over the set $X$.\n",
    "* A **profile** for $X$ and $V$ is a function $\\mathbf{P}$ assigning to $i\\in V$ a linear order $\\mathbf{P}_i$ on $X$. So, $a\\mathbf{P}_ib$ means that voter $i$ strictly prefers candidate $a$ to $b$, or $a$ is ranked above $b$. Let $X(\\mathbf{P})$ be the candidates in $\\mathbf{P}$ and $V(\\mathbf{P})$ the voters in $\\mathbf{P}$. \n",
    "* For a profile $\\mathbf{P}$ and candidates $x,y\\in X(\\mathbf{P})$, the **margin for $x$ over $y$** is $$Margin_{\\mathbf{P}}(x,y) = |\\{i\\mid x\\mathrel{\\mathbf{P}_i} y\\}| -  |\\{i\\mid y\\mathrel{\\mathbf{P}_i} x\\}|$$\n"
   ]
  },
  {
   "cell_type": "code",
   "execution_count": 10,
   "metadata": {},
   "outputs": [],
   "source": [
    "# import the Profile class\n",
    "from voting.profiles import Profile\n"
   ]
  },
  {
   "cell_type": "code",
   "execution_count": 11,
   "metadata": {},
   "outputs": [
    {
     "name": "stdout",
     "output_type": "stream",
     "text": [
      "There are 6 voters in the profile.\n",
      "+---+---+---+\n",
      "| 1 | 2 | 3 |\n",
      "+---+---+---+\n",
      "| 0 | 2 | 1 |\n",
      "| 1 | 1 | 2 |\n",
      "| 2 | 0 | 0 |\n",
      "+---+---+---+\n"
     ]
    }
   ],
   "source": [
    "num_cands = 3\n",
    "rankings = [\n",
    "    (0, 1, 2), \n",
    "    (2, 1, 0), \n",
    "    (1, 2, 0)\n",
    "]\n",
    "rcounts = [1, 2, 3] \n",
    "#1 voter with the ranking (0,1,2),\n",
    "#2 voters with the ranking (2,1,0) and \n",
    "#3 voters with the ranking (1,2,0)num_cands = 3\n",
    "prof = Profile(rankings, num_cands, rcounts=rcounts)\n",
    "print(f\"There are {prof.num_voters} voters in the profile.\")\n",
    "\n",
    "# display prof2  - the header is the number of voters with each ranking\n",
    "prof.display()"
   ]
  },
  {
   "cell_type": "code",
   "execution_count": 12,
   "metadata": {},
   "outputs": [
    {
     "name": "stdout",
     "output_type": "stream",
     "text": [
      "+---+---+---+\n",
      "| 1 | 2 | 3 |\n",
      "+---+---+---+\n",
      "| a | c | b |\n",
      "| b | b | c |\n",
      "| c | a | a |\n",
      "+---+---+---+\n"
     ]
    }
   ],
   "source": [
    "rankings = [\n",
    "    (0, 1, 2), \n",
    "    (2, 1, 0), \n",
    "    (1, 2, 0)\n",
    "]\n",
    "rcounts = [1, 2, 3] \n",
    "#1 voter with the ranking (0,1,2),\n",
    "#2 voters with the ranking (2,1,0) and \n",
    "#3 voters with the ranking (1,2,0)num_cands = 3\n",
    "cmap={0:\"a\", 1:\"b\", 2:\"c\"}\n",
    "prof2 = Profile(rankings, num_cands, rcounts=rcounts, cmap=cmap)\n",
    "\n",
    "# display prof2  - the header is the number of voters with each ranking\n",
    "# the candidate names are used in cmap\n",
    "prof2.display()"
   ]
  },
  {
   "cell_type": "markdown",
   "metadata": {},
   "source": [
    "There are a number of useful methods associated with a Profile.  Suppose that $\\mathbf{P}$ is a profile and $a,b\\in X(\\mathbf{P})$.\n",
    "\n",
    "* The support for $a$ over $b$ is $|\\{i\\in V(\\mathbf{P})\\mid a\\mathrel{\\mathbf{P}_i}b\\}|$. \n",
    "* The **margin of $a$ over $b$ in $\\mathbf{P}$** is $Margin_\\mathbf{P}(a,b)=|\\{i\\in V(\\mathbf{P})\\mid a\\mathrel{\\mathbf{P}_i}b\\}| -|\\{i\\in V(\\mathbf{P})\\mid b\\mathrel{\\mathbf{P}_i} a\\}|.$\n",
    "* Candidate $a$ is **majority preferred** to $b$ when $Margin_\\mathbf{P}(a,b)> 0$.\n"
   ]
  },
  {
   "cell_type": "code",
   "execution_count": 13,
   "metadata": {},
   "outputs": [
    {
     "name": "stdout",
     "output_type": "stream",
     "text": [
      "+---+---+---+---+---+\n",
      "| 1 | 1 | 1 | 1 | 1 |\n",
      "+---+---+---+---+---+\n",
      "| 0 | 2 | 3 | 1 | 1 |\n",
      "| 1 | 3 | 1 | 2 | 3 |\n",
      "| 2 | 1 | 2 | 0 | 2 |\n",
      "| 3 | 0 | 0 | 3 | 0 |\n",
      "+---+---+---+---+---+\n",
      "\n",
      "The candidates are [0, 1, 2, 3]\n",
      "support of 2 over 3:  3\n",
      "support of 3 over 2:  2\n",
      "Margin(2,3) =   1\n",
      "Margin(3,2) =   -1\n",
      "2 is majority preferred to 3 is  True\n",
      "3 is majority preferred to 2 is  False\n",
      "The number of voters that rank 2 in 1st place is  1\n",
      "The number of voters that rank 2 in 2nd place is  1\n",
      "The size of a strict majority of voters is  3\n"
     ]
    }
   ],
   "source": [
    "rankings = [\n",
    "    (0, 1, 2, 3), \n",
    "    (2, 3, 1, 0), \n",
    "    (3, 1, 2, 0), \n",
    "    (1, 2, 0, 3), \n",
    "    (1, 3, 2, 0)\n",
    "]\n",
    "num_cands = 4\n",
    "prof = Profile(rankings, num_cands)\n",
    "\n",
    "prof.display()\n",
    "\n",
    "c1 = 2\n",
    "c2 = 3\n",
    "\n",
    "print(\"\")\n",
    "print(f\"The candidates are {list(prof.candidates)}\")\n",
    "print(f\"support of {c1} over {c2}: \", prof.support(c1,c2))\n",
    "print(f\"support of {c2} over {c1}: \", prof.support(c2, c1))\n",
    "print(f\"Margin({c1},{c2}) =  \", prof.margin(c1,c2))\n",
    "print(f\"Margin({c2},{c1}) =  \", prof.margin(c2,c1))\n",
    "print(f\"{c1} is majority preferred to {c2} is \", prof.majority_prefers(c1,c2))\n",
    "print(f\"{c2} is majority preferred to {c1} is \", prof.majority_prefers(c2,c1))\n",
    "print(f\"The number of voters that rank {c1} in 1st place is \", prof.num_rank(c1, 1))\n",
    "print(f\"The number of voters that rank {c1} in 2nd place is \", prof.num_rank(c1, 2))\n",
    "print(f\"The size of a strict majority of voters is \", prof.strict_maj_size())\n"
   ]
  },
  {
   "cell_type": "markdown",
   "metadata": {},
   "source": [
    "In addition, there are methods for each of the following: \n",
    "\n",
    "* **Condorcet winner**: a candidate that is majority preferred to every other candidate (returns None if the Condorcet winner does not exist)\n",
    "* **weak Condorcet winner**: a list of candidates that are not majority preferred by any other candidate (returns None if no such candidate exists) \n",
    "* **Condorcet loser**: a candidate that is majority dispreferred by every other candidate (returns None if the Condorcet loser does not exist)\n",
    "* **Plurality scores**: a dictionary associating with each candidate its plurality score\n",
    "* **Borda scores**: a dictionary associating with each candidate its Borda score"
   ]
  },
  {
   "cell_type": "code",
   "execution_count": 14,
   "metadata": {},
   "outputs": [
    {
     "name": "stdout",
     "output_type": "stream",
     "text": [
      "+---+---+---+---+---+\n",
      "| 1 | 1 | 1 | 1 | 1 |\n",
      "+---+---+---+---+---+\n",
      "| 0 | 2 | 3 | 1 | 1 |\n",
      "| 1 | 3 | 1 | 2 | 3 |\n",
      "| 2 | 1 | 2 | 0 | 2 |\n",
      "| 3 | 0 | 0 | 3 | 0 |\n",
      "+---+---+---+---+---+\n",
      "\n",
      "The plurality scores are  {0: 1, 1: 2, 2: 1, 3: 1}\n",
      "The Borda scores are  {0: 4, 1: 11, 2: 8, 3: 7}\n",
      "The Condorcet winner is  1\n",
      "The weak Condorcet winner is  [1]\n",
      "The Condorcet loser is  0\n"
     ]
    }
   ],
   "source": [
    "rankings = [\n",
    "    (0, 1, 2, 3), \n",
    "    (2, 3, 1, 0), \n",
    "    (3, 1, 2, 0), \n",
    "    (1, 2, 0, 3), \n",
    "    (1, 3, 2, 0)\n",
    "]\n",
    "num_cands = 4\n",
    "prof = Profile(rankings, num_cands)\n",
    "\n",
    "prof.display()\n",
    "print(\"\")\n",
    "print(f\"The plurality scores are \", prof.plurality_scores())\n",
    "print(f\"The Borda scores are \", prof.borda_scores())\n",
    "print(f\"The Condorcet winner is \", prof.condorcet_winner())\n",
    "print(f\"The weak Condorcet winner is \", prof.weak_condorcet_winner())\n",
    "print(f\"The Condorcet loser is \", prof.condorcet_loser())\n"
   ]
  },
  {
   "cell_type": "markdown",
   "metadata": {},
   "source": [
    "##  Margin Graphs\n",
    "\n",
    "The **margin graph** of a profile $\\mathbf{P}$ is a weighted directed graph where the nodes are the candidates and there is an edge from $a$ to $b$ when $Margin_{\\mathbf{P}}(a,b)>0,$ weighted by $Margin_{\\mathbf{P}}(a,b)$.   \n",
    "\n",
    "A margin graph for a Profile object is a networkx object. "
   ]
  },
  {
   "cell_type": "code",
   "execution_count": 15,
   "metadata": {},
   "outputs": [
    {
     "name": "stdout",
     "output_type": "stream",
     "text": [
      "+---+---+---+---+---+\n",
      "| 1 | 1 | 1 | 1 | 1 |\n",
      "+---+---+---+---+---+\n",
      "| 0 | 2 | 3 | 1 | 1 |\n",
      "| 1 | 3 | 1 | 2 | 3 |\n",
      "| 2 | 1 | 2 | 0 | 2 |\n",
      "| 3 | 0 | 0 | 3 | 0 |\n",
      "+---+---+---+---+---+\n",
      "<class 'networkx.classes.digraph.DiGraph'>\n",
      "The nodes are the candidates  [0, 1, 2, 3]\n",
      "The edges are the majority relations  [(1, 0), (1, 2), (1, 3), (2, 0), (2, 3), (3, 0)]\n",
      "The weights are the margins \n",
      " Edge (1, 0): {'weight': 3}\n",
      " Edge (1, 2): {'weight': 3}\n",
      " Edge (1, 3): {'weight': 1}\n",
      " Edge (2, 0): {'weight': 3}\n",
      " Edge (2, 3): {'weight': 1}\n",
      " Edge (3, 0): {'weight': 1}\n"
     ]
    },
    {
     "data": {
      "image/png": "[encoded data removed]",
      "text/plain": [
       "<Figure size 432x288 with 1 Axes>"
      ]
     },
     "metadata": {},
     "output_type": "display_data"
    }
   ],
   "source": [
    "rankings = [\n",
    "    (0, 1, 2, 3), \n",
    "    (2, 3, 1, 0), \n",
    "    (3, 1, 2, 0), \n",
    "    (1, 2, 0, 3), \n",
    "    (1, 3, 2, 0)\n",
    "]\n",
    "num_cands = 4\n",
    "prof = Profile(rankings, num_cands)\n",
    "\n",
    "prof.display()\n",
    "\n",
    "mg = prof.margin_graph()\n",
    "# mg is a networkx object\n",
    "print(type(mg))\n",
    "print(\"The nodes are the candidates \", mg.nodes)\n",
    "print(\"The edges are the majority relations \", mg.edges)\n",
    "print(\"The weights are the margins \\n\", \"\\n \".join([f\"Edge {e}: {mg.get_edge_data(*e)}\" for e in mg.edges]))\n",
    "\n",
    "# display the margin graph\n",
    "prof.display_margin_graph()\n"
   ]
  },
  {
   "cell_type": "markdown",
   "metadata": {},
   "source": [
    "### Majority Cycle"
   ]
  },
  {
   "cell_type": "code",
   "execution_count": 16,
   "metadata": {},
   "outputs": [
    {
     "name": "stdout",
     "output_type": "stream",
     "text": [
      "+---+---+---+\n",
      "| 1 | 1 | 1 |\n",
      "+---+---+---+\n",
      "| 0 | 1 | 2 |\n",
      "| 1 | 2 | 0 |\n",
      "| 2 | 0 | 1 |\n",
      "+---+---+---+\n"
     ]
    },
    {
     "data": {
      "image/png": "[encoded data removed]",
      "text/plain": [
       "<Figure size 432x288 with 1 Axes>"
      ]
     },
     "metadata": {},
     "output_type": "display_data"
    }
   ],
   "source": [
    "rankings = [\n",
    "    (0, 1, 2), \n",
    "    (1, 2, 0), \n",
    "    (2, 0, 1)\n",
    "]\n",
    "num_cands = 3\n",
    "prof = Profile(rankings, num_cands)\n",
    "\n",
    "prof.display()\n",
    "\n",
    "prof.display_margin_graph()\n"
   ]
  },
  {
   "cell_type": "code",
   "execution_count": 17,
   "metadata": {},
   "outputs": [
    {
     "name": "stdout",
     "output_type": "stream",
     "text": [
      "+---+---+---+\n",
      "| 2 | 2 | 3 |\n",
      "+---+---+---+\n",
      "| 0 | 1 | 2 |\n",
      "| 1 | 2 | 0 |\n",
      "| 2 | 0 | 1 |\n",
      "+---+---+---+\n"
     ]
    },
    {
     "data": {
      "image/png": "[encoded data removed]",
      "text/plain": [
       "<Figure size 432x288 with 1 Axes>"
      ]
     },
     "metadata": {},
     "output_type": "display_data"
    }
   ],
   "source": [
    "rankings = [\n",
    "    (0, 1, 2), \n",
    "    (1, 2, 0), \n",
    "    (2, 0, 1)\n",
    "]\n",
    "rcounts = [2, 2, 3]\n",
    "num_cands = 3\n",
    "prof = Profile(rankings, num_cands, rcounts = rcounts)\n",
    "\n",
    "prof.display()\n",
    "\n",
    "prof.display_margin_graph()\n"
   ]
  },
  {
   "cell_type": "markdown",
   "metadata": {},
   "source": [
    "## Voting Methods\n",
    "\n",
    "A **voting method** is a function $F$ mapping profiles (in the domain of $F$) to non-empty set of candidates:  $\\varnothing \\neq F(\\mathbf{P})\\subseteq X(\\mathbf{P})$\n"
   ]
  },
  {
   "cell_type": "code",
   "execution_count": 18,
   "metadata": {},
   "outputs": [],
   "source": [
    "from voting.voting_methods import *\n",
    "# all_vms is an list of all the voting methods that have been implemented\n",
    "# all_vms_mg is a list of all voting methods that accept margin graphs as input"
   ]
  },
  {
   "cell_type": "code",
   "execution_count": 19,
   "metadata": {},
   "outputs": [
    {
     "name": "stdout",
     "output_type": "stream",
     "text": [
      "Plurality\n",
      "A plurality winnner a candidate that is ranked first by the most voters\n",
      "    \n",
      "Borda\n",
      "A Borda winner is a candidate with the larget Borda score. \n",
      "    \n",
      "    The Borda score of the candidates is calculated as follows: If there are $m$ candidates, then \n",
      "    the Borda score of candidate $c$ is \\sum_{r=1}^{m (m - r) * Rank(c,r)$ where $Rank(c,r)$ is the \n",
      "    number of voters that rank candidate $c$ in position $r$. \n",
      "    \n",
      "Anti-Plurality\n",
      "An anti-plurality winnner is a candidate that is ranked last by the fewest voters\n",
      "Ranked Choice\n",
      "If there is a majority winner then that candidate is the ranked choice winner\n",
      "    If there is no majority winner, then remove all candidates that are ranked first by the fewest \n",
      "    number of voters.  Continue removing candidates with the fewest number first-place votes until \n",
      "    there is a candidate with a majority of first place votes.  \n",
      "    \n",
      "    Note: If there is  more than one candidate with the fewest number of first-place votes, then *all*\n",
      "    such candidates are removed from the profile. \n",
      "    \n",
      "    Note: We typically refer to this method as \"Ranked Choice\", but it also known as \"Hare\" or \"IRV\"\n",
      "    \n",
      "PluralityWRunoff\n",
      "If there is a majority winner then that candidate is the plurality with runoff winner\n",
      "    If there is no majority winner, then hold a runoff with  the top two candidates: \n",
      "    either two (or more candidates)  with the most first place votes or the candidate with \n",
      "    the most first place votes and the candidate with the 2nd highest first place votes \n",
      "    are ranked first by the fewest number of voters.    \n",
      "    \n",
      "    Note: If the candidates are all tied for the most first place votes, then all candidates are winners. \n",
      "    \n",
      "Coombs\n",
      "If there is a majority winner then that candidate is the Coombs winner\n",
      "    If there is no majority winner, then remove all candidates that are ranked last by the greatest \n",
      "    number of voters.  Continue removing candidates with the most last-place votes until \n",
      "    there is a candidate with a majority of first place votes.  \n",
      "    \n",
      "    Note: If there is  more than one candidate with the most number of last-place votes, then *all*\n",
      "    such candidates are removed from the profile. \n",
      "    \n",
      "Coombs TB\n",
      "Coombs with a fixed tie-breaking rule:  If there is a majority winner then that candidate \n",
      "    is the Coombs winner.  If there is no majority winner, then remove all candidates that \n",
      "    are ranked last by the greatest  number of voters.   If there are ties, then choose the candidate\n",
      "    according to a fixed tie-breaking rule (given below). Continue removing candidates with the \n",
      "    most last-place votes until     there is a candidate with a majority of first place votes.  \n",
      "    \n",
      "    The tie-breaking rule is any linear order (i.e., list) of the candidates.  The default rule \n",
      "    is to order the candidates as follows: 0,....,num_cands-1\n",
      "\n",
      "    \n",
      "Coombs PUT\n",
      "Coombs with parallel universe tie-breaking (PUT).  Apply the Coombs method with a tie-breaker\n",
      "    for each possible linear order over the candidates. \n",
      "    \n",
      "    Warning: This will take a long time on profiles with many candidates.\n",
      "Baldwin\n",
      "Iteratively remove all candidates with the lowest Borda score until a single \n",
      "    candidate remains.   If, at any stage, all  candidates have the same Borda score, \n",
      "    then all (remaining) candidates are winners.\n",
      "    \n",
      "Strict Nanson\n",
      "Iteratively remove all candidates with the  Borda score strictly below the average Borda score\n",
      "    until one candidate remains.   If, at any stage, all  candidates have the same Borda score, \n",
      "    then all (remaining) candidates are winners.\n",
      "    \n",
      "Weak Nanson\n",
      "Iteratively remove all candidates with the  Borda score less than or equal to the average Borda score\n",
      "    until one candidate remains.   If, at any stage, all  candidates have the same Borda score, \n",
      "    then all (remaining) candidates are winners.\n",
      "    \n",
      "Condorcet\n",
      "Return the Condorcet winner if one exists, otherwise return all the candidates\n",
      "Copeland\n",
      "The Copeland score for c is the number of candidates that c is majority preferred to \n",
      "    minus the number of candidates majority preferred to c.   The Copeland winners are the candidates\n",
      "    with the max Copeland score.\n",
      "Llull\n",
      "The Llull score for a candidate c is the number of candidates that c is weakly majority \n",
      "    preferred to.   The Llull winners are the candidates with the greatest Llull score.\n",
      "Uncovered Set\n",
      "See the explanation for uc_gill_mg\n",
      "Uncovered Set - Fishburn\n",
      "See the explaination of uc_fish_mg\n",
      "GETCHA\n",
      "See the explanation of getcha_mg\n",
      "GOCHA\n",
      "See the explanation of gocha_mg\n",
      "Minimax\n",
      "Return the candidates with the smallest maximum pairwise defeat.  That is, for each \n",
      "    candidate c determine the biggest margin of a candidate c1 over c, then select \n",
      "    the candidates with the smallest such loss. Alson known as the Simpson-Kramer Rule.\n",
      "    \n",
      "Split Cycle\n",
      "A *majority cycle in a profile P is a sequence x_1,...,x_n of distinct candidates in \n",
      "    P with x_1=x_n such that for 1 <= k <= n-1,  x_k is majority preferred to x_{k+1}.\n",
      "    The *strength of* a majority is the minimal margin in the cycle.  \n",
      "    Say that a defeats b in P if the margin of a over b is positive and greater than \n",
      "    the strength of the strongest majority cycle containing a and b. The Split Cycle winners\n",
      "    are the undefeated candidates.\n",
      "    \n",
      "Split Cycle\n",
      "Implementation of Split Cycle using a variation of the Floyd Warshall-Algorithm  \n",
      "    \n",
      "Beat Path\n",
      "For candidates a and b, a *path from a to b in P* is a sequence \n",
      "    x_1,...,x_n of distinct candidates in P with  x_1=a and x_n=b such that \n",
      "    for 1 <= k <= n-1$, x_k is majority preferred to x_{k+1}.  The *strength of a path* \n",
      "    is the minimal margin along that path.  Say that a defeats b in P if \n",
      "    the strength of the strongest path from a to b is greater than the strength of \n",
      "    the strongest path from b to a. Then Beat Path winners are the undefeated candidates. \n",
      "    Also known as the Schulze Rule.\n",
      "    \n",
      "Beat Path\n",
      "Implementation of Beat Path using a variation of the Floyd Warshall-Algorithm\n",
      "    See https://en.wikipedia.org/wiki/Schulze_method#Implementation\n",
      "    \n",
      "Ranked Pairs\n",
      "Order the edges in the weak margin graph from largest to smallest and lock them \n",
      "    in in that order, skipping edges that create a cycle.   Break ties using a tie-breaking \n",
      "    linear ordering over the edges.   A candidate is a Ranked Pairs winner if it wins according \n",
      "    to some tie-breaking rule. Also known as Tideman's Rule.\n",
      "    \n",
      "Iterated Removal Condorcet Loser\n",
      "The winners are the candidates that survive iterated removal of \n",
      "    Condorcet losers\n",
      "    \n",
      "Daunou\n",
      "Implementaiton of Daunou's voting method as described in the paper: \n",
      "    https://link.springer.com/article/10.1007/s00355-020-01276-w\n",
      "    \n",
      "    If there is a Condorcet winner, then that candidate is the winner.  Otherwise, \n",
      "    iteratively remove all Condorcet losers then select the plurality winner from among \n",
      "    the remaining conadidates\n",
      "    \n",
      "Blacks\n",
      "Blacks method returns the Condorcet winner if one exists, otherwise return the Borda winners.\n",
      "    \n"
     ]
    }
   ],
   "source": [
    "\n",
    "vms = [\n",
    "    plurality, \n",
    "    borda,\n",
    "    plurality_with_runoff,\n",
    "    hare,\n",
    "    coombs,\n",
    "]\n",
    "\n",
    "for vm in all_vms: \n",
    "    print(vm.name)\n",
    "    print(vm.__doc__)\n",
    "    \n"
   ]
  },
  {
   "cell_type": "code",
   "execution_count": 20,
   "metadata": {},
   "outputs": [
    {
     "name": "stdout",
     "output_type": "stream",
     "text": [
      "+---+---+---+---+---+\n",
      "| 1 | 1 | 1 | 1 | 1 |\n",
      "+---+---+---+---+---+\n",
      "| 0 | 2 | 3 | 1 | 1 |\n",
      "| 1 | 3 | 1 | 2 | 3 |\n",
      "| 2 | 1 | 2 | 0 | 2 |\n",
      "| 3 | 0 | 0 | 3 | 0 |\n",
      "+---+---+---+---+---+\n",
      "Plurality winners: [1]\n",
      "Borda winners: [1]\n",
      "PluralityWRunoff winners: [1]\n",
      "Ranked Choice winners: [1]\n",
      "Coombs winners: [1]\n"
     ]
    }
   ],
   "source": [
    "rankings = [\n",
    "    (0, 1, 2, 3), \n",
    "    (2, 3, 1, 0), \n",
    "    (3, 1, 2, 0), \n",
    "    (1, 2, 0, 3), \n",
    "    (1, 3, 2, 0)\n",
    "]\n",
    "num_cands = 4\n",
    "prof = Profile(rankings, num_cands)\n",
    "\n",
    "prof.display()\n",
    "\n",
    "for vm in vms: \n",
    "    print(f\"{vm.name} winners: {vm(prof)}\")\n"
   ]
  },
  {
   "cell_type": "code",
   "execution_count": 21,
   "metadata": {},
   "outputs": [
    {
     "name": "stdout",
     "output_type": "stream",
     "text": [
      "+---+---+---+\n",
      "| 2 | 2 | 1 |\n",
      "+---+---+---+\n",
      "| 0 | 1 | 2 |\n",
      "| 1 | 2 | 0 |\n",
      "| 2 | 0 | 1 |\n",
      "+---+---+---+\n",
      "Plurality winners: [0, 1]\n",
      "Borda winners: [1]\n",
      "PluralityWRunoff winners: [0]\n",
      "Ranked Choice winners: [0]\n",
      "Coombs winners: [1]\n"
     ]
    }
   ],
   "source": [
    "rankings = [(0,1,2), (1,2,0), (2,0,1)]\n",
    "rcounts = [2,2,1]\n",
    "num_cands = 3\n",
    "prof = Profile(rankings, num_cands, rcounts=rcounts)\n",
    "prof.display()\n",
    "\n",
    "for vm in vms: \n",
    "    print(f\"{vm.name} winners: {vm(prof)}\")\n"
   ]
  },
  {
   "cell_type": "markdown",
   "metadata": {},
   "source": [
    "## Voting Method Tutorial\n",
    "\n",
    "\n",
    "<iframe width=650 height=700 src=\"https://voting-methods-tutorial.herokuapp.com/\"></iframe>"
   ]
  },
  {
   "cell_type": "markdown",
   "metadata": {},
   "source": [
    "## Online Voting Tools\n",
    "\n",
    "1. [www.preflib.org](https://www.preflib.org/)\n",
    "2. [voting.ml](https://voting.ml/)\n",
    "3. [www.robovote.org](http://www.robovote.org/)\n",
    "4. [civs.cs.cornell.edu/](https://civs.cs.cornell.edu/)\n",
    "3. [www.fairvote.org](https://www.fairvote.org/)\n",
    "5. [SF Open Source Voting (osvtac.github.io)](https://osvtac.github.io)"
   ]
  },
  {
   "cell_type": "code",
   "execution_count": null,
   "metadata": {},
   "outputs": [],
   "source": []
  }
 ],
 "metadata": {
  "kernelspec": {
   "display_name": "Python 3",
   "language": "python",
   "name": "python3"
  },
  "language_info": {
   "codemirror_mode": {
    "name": "ipython",
    "version": 3
   },
   "file_extension": ".py",
   "mimetype": "text/x-python",
   "name": "python",
   "nbconvert_exporter": "python",
   "pygments_lexer": "ipython3",
   "version": "3.8.5"
  },
  "varInspector": {
   "cols": {
    "lenName": 16,
    "lenType": 16,
    "lenVar": 40
   },
   "kernels_config": {
    "python": {
     "delete_cmd_postfix": "",
     "delete_cmd_prefix": "del ",
     "library": "var_list.py",
     "varRefreshCmd": "print(var_dic_list())"
    },
    "r": {
     "delete_cmd_postfix": ") ",
     "delete_cmd_prefix": "rm(",
     "library": "var_list.r",
     "varRefreshCmd": "cat(var_dic_list()) "
    }
   },
   "types_to_exclude": [
    "module",
    "function",
    "builtin_function_or_method",
    "instance",
    "_Feature"
   ],
   "window_display": false
  }
 },
 "nbformat": 4,
 "nbformat_minor": 4
}
