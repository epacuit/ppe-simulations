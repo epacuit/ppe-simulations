{
 "cells": [
  {
   "cell_type": "markdown",
   "metadata": {},
   "source": [
    "# Probability Models"
   ]
  },
  {
   "cell_type": "markdown",
   "metadata": {},
   "source": [
    "To generate profiles, we use the [Preflib.org](https://preflib.org) tools available at [https://github.com/PrefLib/PrefLib-Tools](https://github.com/PrefLib/PrefLib-Tools).   \n",
    "\n",
    "\n",
    "## Impartial (Anonymous) Culture\n",
    "\n",
    "1. IC: Impartial Culture Model - generate a profile by sampling  from a uniform distribution over profiles with $n$ candidates and $m$ voters. \n",
    "\n",
    "2. IAC: Impartial Anonymous Culture Model - generate a profile by sampling  from a uniform distribution over *anonymous* profiles with $n$ candidates and $m$ voters. \n",
    "\n",
    "3. INAC: Impartial Anonymous and Neutral Culture Model<br/>\n",
    "    O. Egecioglu and A. Giritligil (2013). [The Impartial, Anonymous, and Neutral Culture Model: A Probability Model for Sampling Public Preference Structures](https://sites.cs.ucsb.edu/~omer/DOWNLOADABLE/GMAS_public_preference13.pdf), Journal of Mathematical Sociology, 37: pp. 203 - 222"
   ]
  },
  {
   "cell_type": "code",
   "execution_count": 1,
   "metadata": {
    "tags": [
     "hide-input"
    ]
   },
   "outputs": [],
   "source": [
    "# import the Profile class\n",
    "from voting.profiles import Profile\n",
    "from voting.generate_profiles import *\n",
    "from voting.voting_methods import *\n",
    "import networkx as nx\n",
    "from itertools import combinations\n",
    "import matplotlib.pyplot as plt\n",
    "import pickle\n",
    "import random\n",
    "\n",
    "from tqdm.notebook import tqdm"
   ]
  },
  {
   "cell_type": "code",
   "execution_count": 2,
   "metadata": {},
   "outputs": [
    {
     "name": "stdout",
     "output_type": "stream",
     "text": [
      "74.0% of profiles have a Condorcet winner.\n",
      "46.0% of profiles have a majority cycle.\n"
     ]
    }
   ],
   "source": [
    "pm=\"IC\"\n",
    "num_trials = 1000\n",
    "num_candidates = 5\n",
    "num_voters = 1001\n",
    "\n",
    "num_condorcet_winner = 0\n",
    "num_cycles = 0\n",
    "for t in range(num_trials): \n",
    "    prof = generate_profile(num_candidates, num_voters, probmod = pm)\n",
    "    num_condorcet_winner += prof.condorcet_winner() is not None\n",
    "    num_cycles += has_cycle(prof.margin_graph())\n",
    "    \n",
    "print(f\"{round(num_condorcet_winner / num_trials, 2) *100}% of profiles have a Condorcet winner.\")\n",
    "print(f\"{round(num_cycles / num_trials, 2) *100}% of profiles have a majority cycle.\")"
   ]
  },
  {
   "cell_type": "code",
   "execution_count": 3,
   "metadata": {},
   "outputs": [
    {
     "name": "stdout",
     "output_type": "stream",
     "text": [
      "72.0% of profiles have a Condorcet winner.\n",
      "48.0% of profiles have a majority cycle.\n"
     ]
    }
   ],
   "source": [
    "pm=\"IAC\"\n",
    "num_trials = 1000\n",
    "num_candidates = 5\n",
    "num_voters = 1001\n",
    "\n",
    "num_condorcet_winner = 0\n",
    "num_cycles = 0\n",
    "for t in range(num_trials): \n",
    "    prof = generate_profile(num_candidates, num_voters, probmod = pm)\n",
    "    num_condorcet_winner += prof.condorcet_winner() is not None\n",
    "    num_cycles += has_cycle(prof.margin_graph())\n",
    "print(f\"{round(num_condorcet_winner / num_trials, 2) *100}% of profiles have a Condorcet winner.\")\n",
    "print(f\"{round(num_cycles / num_trials, 2) * 100}% of profiles have a majority cycle.\")"
   ]
  },
  {
   "cell_type": "code",
   "execution_count": 4,
   "metadata": {},
   "outputs": [
    {
     "name": "stdout",
     "output_type": "stream",
     "text": [
      "CPU times: user 3 µs, sys: 1 µs, total: 4 µs\n",
      "Wall time: 5.96 µs\n"
     ]
    }
   ],
   "source": [
    "%%time \n",
    "\n",
    "SKIP_SIMULATION = True\n",
    "\n",
    "if not SKIP_SIMULATION: \n",
    "    all_num_candidates = [3, 4, 5, 6, 10]\n",
    "    all_num_voters = [10, 11, 100, 101, 1000, 1001]\n",
    "    num_trials = 25000\n",
    "\n",
    "    voting_scenarios = list(product(all_num_candidates, all_num_voters))\n",
    "    data = {vs: \n",
    "            {\n",
    "                \"perc_condorcet_winners\": {\"IC\": 0, \"IAC\": 0},\n",
    "                \"perc_cycles\": {\"IC\": 0, \"IAC\": 0},            \n",
    "            } \n",
    "            for vs in voting_scenarios\n",
    "           }\n",
    "\n",
    "    for nc, nv in tqdm(voting_scenarios): \n",
    "        num_condorcet_winner_IC = 0\n",
    "        num_condorcet_winner_IAC = 0\n",
    "        num_cycle_IC = 0\n",
    "        num_cycle_IAC = 0\n",
    "        for t in range(num_trials): \n",
    "            prof_IC = generate_profile(nc, nv, probmod=\"IC\")       \n",
    "            prof_IAC = generate_profile(nc, nv, probmod=\"IAC\")        \n",
    "\n",
    "            num_condorcet_winner_IC += prof_IC.condorcet_winner() is not None \n",
    "            num_cycle_IC += has_cycle(prof_IC.margin_graph())\n",
    "\n",
    "            num_condorcet_winner_IAC += prof_IAC.condorcet_winner() is not None \n",
    "            num_cycle_IAC += has_cycle(prof_IAC.margin_graph())\n",
    "\n",
    "        data[(nc, nv)][\"perc_condorcet_winners\"][\"IC\"] = num_condorcet_winner_IC /  num_trials\n",
    "        data[(nc, nv)][\"perc_cycles\"][\"IC\"] = num_cycle_IC /  num_trials\n",
    "        data[(nc, nv)][\"perc_condorcet_winners\"][\"IAC\"] = num_condorcet_winner_IAC /  num_trials\n",
    "        data[(nc, nv)][\"perc_cycles\"][\"IAC\"] = num_cycle_IAC /  num_trials\n",
    "\n",
    "    pickle.dump(data, open(\"condorcet_data.pkl\", \"wb\"))"
   ]
  },
  {
   "cell_type": "code",
   "execution_count": 5,
   "metadata": {},
   "outputs": [
    {
     "name": "stdout",
     "output_type": "stream",
     "text": [
      "|    | 10         | 11         | 100        | 101        | 1000       | 1001       |\n",
      "|----|------------|------------|------------|------------|------------|------------|\n",
      "|  3 | 0.58, 0.73 | 0.92, 0.94 | 0.79, 0.91 | 0.91, 0.94 | 0.87, 0.94 | 0.91, 0.94 |\n",
      "|  4 | 0.47, 0.54 | 0.84, 0.85 | 0.69, 0.78 | 0.82, 0.84 | 0.78, 0.83 | 0.83, 0.84 |\n",
      "|  5 | 0.39, 0.41 | 0.77, 0.77 | 0.61, 0.65 | 0.75, 0.75 | 0.7, 0.74  | 0.75, 0.75 |\n",
      "|  6 | 0.34, 0.34 | 0.71, 0.71 | 0.54, 0.56 | 0.69, 0.68 | 0.64, 0.66 | 0.68, 0.68 |\n",
      "| 10 | 0.21, 0.21 | 0.55, 0.55 | 0.39, 0.38 | 0.52, 0.52 | 0.47, 0.47 | 0.51, 0.51 |\n"
     ]
    }
   ],
   "source": [
    "import tabulate\n",
    "\n",
    "if SKIP_SIMULATION: \n",
    "    data = pickle.load(open(\"condorcet_data.pkl\", \"rb\"))\n",
    "    all_num_candidates = [3, 4, 5, 6, 10]\n",
    "    all_num_voters = [10, 11, 100, 101, 1000, 1001]\n",
    "\n",
    "table = list()\n",
    "headers = list()\n",
    "\n",
    "for nc in all_num_candidates: \n",
    "    row = [nc]\n",
    "    for nv in all_num_voters: \n",
    "        row.append(f\"{round(data[(nc, nv)]['perc_condorcet_winners']['IC'],2)}, {round(data[(nc, nv)]['perc_condorcet_winners']['IAC'],2)}\")\n",
    "    table.append(row)\n",
    "headers = [str(nv) for nv in all_num_voters]\n",
    "print(tabulate.tabulate(table, headers, tablefmt=\"github\"))\n",
    "                   "
   ]
  },
  {
   "cell_type": "markdown",
   "metadata": {},
   "source": [
    "## Urn Model\n",
    "\n",
    "In the Polya-Eggenberger urn model, each voter in turn randomly draws a linear order from an urn. Initially the urn is $\\mathcal{L}(X)$. If a voter randomly chooses $L$ from the urn, we return $L$ to the urn plus $\\alpha\\in\\mathbb{N}$ copies of $L$. \n",
    "\n",
    "* IC is the special case where $\\alpha=0$. \n",
    "* IAC is the special case where $\\alpha=1$. \n"
   ]
  },
  {
   "cell_type": "code",
   "execution_count": 6,
   "metadata": {
    "scrolled": false
   },
   "outputs": [
    {
     "name": "stdout",
     "output_type": "stream",
     "text": [
      "Generated by the URN model with alpha = 0\n",
      "+---+---+---+---+\n",
      "| 1 | 1 | 2 | 1 |\n",
      "+---+---+---+---+\n",
      "| 3 | 2 | 1 | 3 |\n",
      "| 1 | 1 | 2 | 0 |\n",
      "| 2 | 0 | 0 | 1 |\n",
      "| 0 | 3 | 3 | 2 |\n",
      "+---+---+---+---+\n",
      "Generated by the URN model with alpha = 1\n",
      "+---+---+---+---+---+\n",
      "| 1 | 1 | 1 | 1 | 1 |\n",
      "+---+---+---+---+---+\n",
      "| 2 | 1 | 0 | 1 | 0 |\n",
      "| 0 | 3 | 3 | 0 | 3 |\n",
      "| 1 | 0 | 1 | 2 | 2 |\n",
      "| 3 | 2 | 2 | 3 | 1 |\n",
      "+---+---+---+---+---+\n",
      "Generate by URN model with alpha = 10\n",
      "+---+---+---+\n",
      "| 1 | 3 | 1 |\n",
      "+---+---+---+\n",
      "| 2 | 2 | 3 |\n",
      "| 3 | 0 | 2 |\n",
      "| 0 | 3 | 0 |\n",
      "| 1 | 1 | 1 |\n",
      "+---+---+---+\n",
      "Generate by URN model with alpha = 100\n",
      "+---+\n",
      "| 5 |\n",
      "+---+\n",
      "| 1 |\n",
      "| 0 |\n",
      "| 2 |\n",
      "| 3 |\n",
      "+---+\n"
     ]
    }
   ],
   "source": [
    "print(\"Generated by the URN model with alpha = 0\")\n",
    "prof = generate_profile(4, 5, probmod=\"URN\", probmod_param=0)\n",
    "prof.display()\n",
    "\n",
    "print(\"Generated by the URN model with alpha = 1\")\n",
    "prof = generate_profile(4, 5, probmod=\"URN\", probmod_param=1)\n",
    "prof.display()\n",
    "\n",
    "print(\"Generate by URN model with alpha = 10\")\n",
    "prof = generate_profile(4, 5, probmod=\"URN\", probmod_param=10)\n",
    "prof.display()\n",
    "\n",
    "print(\"Generate by URN model with alpha = 100\")\n",
    "prof = generate_profile(4, 5, probmod=\"URN\", probmod_param=100)\n",
    "prof.display()"
   ]
  },
  {
   "cell_type": "code",
   "execution_count": 7,
   "metadata": {},
   "outputs": [],
   "source": [
    "## from preflib tools ###\n",
    "\n",
    "# Generate votes based on the URN Model..\n",
    "# we need numvotes with replace replacements.\n",
    "def gen_urn(numvotes, replace, alts):\n",
    "    voteMap = {}\n",
    "    ReplaceVotes  = {}\n",
    "    \n",
    "    ICsize = math.factorial(len(alts))\n",
    "    print(\"ICsize \", ICsize)\n",
    "    ReplaceSize = 0\n",
    "\n",
    "    for x in range(numvotes):\n",
    "        print(\"initially  voteMap is\", voteMap)\n",
    "        print(\"initially ReplaceVotes is\", ReplaceVotes)\n",
    "        flip =  random.randint(1, ICsize+ReplaceSize)\n",
    "        print(\"flip:\", flip)\n",
    "        if flip <= ICsize:\n",
    "            #generate an IC vote and make a suitable number of replacements...\n",
    "            print(\"flip less than ICsize, so generate a new ranking\")\n",
    "            tvote = tuple(np.random.permutation(len(alts))) # gen_ic_vote(alts)\n",
    "            voteMap[tvote] = (voteMap.get(tvote, 0) + 1)\n",
    "            ReplaceVotes[tvote] = (ReplaceVotes.get(tvote, 0) + replace)\n",
    "            ReplaceSize += replace\n",
    "            print(\"ReplaceSize\", ReplaceSize)\n",
    "            print(\"made \" + str(tvote))\n",
    "        else:\n",
    "            print(\"find the ranking from ReplaceVote \")\n",
    "\n",
    "            #iterate over replacement hash and select proper vote.\n",
    "            flip = flip - ICsize\n",
    "            for vote in ReplaceVotes.keys():\n",
    "                print(\"testing \", vote)\n",
    "                flip = flip - ReplaceVotes[vote]\n",
    "                print(\"flip is now\", flip)\n",
    "                if flip <= 0:\n",
    "                    print(\"Found the ranking\")\n",
    "                    voteMap[vote] = (voteMap.get(vote, 0) + 1)\n",
    "                    ReplaceVotes[vote] = (ReplaceVotes.get(vote, 0) + replace)\n",
    "                    ReplaceSize += replace\n",
    "                    break\n",
    "            else:\n",
    "                print(\"We Have a problem... replace fell through....\")\t\t\n",
    "                exit()\n",
    "        print(\"now, voteMap is\", voteMap)\n",
    "        print(\"now, ReplaceVotes is\", ReplaceVotes)\n",
    "        print(\"======\\n\")\n",
    "    return voteMap\n",
    "\n",
    "# Return a TUPLE! IC vote given a vector of alternatives.   \n",
    "\n",
    "def gen_ic_vote(alts):\n",
    "    options = list(alts)\n",
    "    vote  = []\n",
    "    while(len(options) > 0):\n",
    "        #randomly select an option\n",
    "        vote.append(options.pop(random.randint(0,len(options)-1)))\n",
    "    return tuple(vote)\n"
   ]
  },
  {
   "cell_type": "code",
   "execution_count": 8,
   "metadata": {},
   "outputs": [
    {
     "name": "stdout",
     "output_type": "stream",
     "text": [
      "ICsize  24\n",
      "initially  voteMap is {}\n",
      "initially ReplaceVotes is {}\n",
      "flip: 6\n",
      "flip less than ICsize, so generate a new ranking\n",
      "ReplaceSize 1\n",
      "made (2, 0, 1, 3)\n",
      "now, voteMap is {(2, 0, 1, 3): 1}\n",
      "now, ReplaceVotes is {(2, 0, 1, 3): 1}\n",
      "======\n",
      "\n",
      "initially  voteMap is {(2, 0, 1, 3): 1}\n",
      "initially ReplaceVotes is {(2, 0, 1, 3): 1}\n",
      "flip: 10\n",
      "flip less than ICsize, so generate a new ranking\n",
      "ReplaceSize 2\n",
      "made (3, 1, 2, 0)\n",
      "now, voteMap is {(2, 0, 1, 3): 1, (3, 1, 2, 0): 1}\n",
      "now, ReplaceVotes is {(2, 0, 1, 3): 1, (3, 1, 2, 0): 1}\n",
      "======\n",
      "\n",
      "initially  voteMap is {(2, 0, 1, 3): 1, (3, 1, 2, 0): 1}\n",
      "initially ReplaceVotes is {(2, 0, 1, 3): 1, (3, 1, 2, 0): 1}\n",
      "flip: 22\n",
      "flip less than ICsize, so generate a new ranking\n",
      "ReplaceSize 3\n",
      "made (3, 1, 0, 2)\n",
      "now, voteMap is {(2, 0, 1, 3): 1, (3, 1, 2, 0): 1, (3, 1, 0, 2): 1}\n",
      "now, ReplaceVotes is {(2, 0, 1, 3): 1, (3, 1, 2, 0): 1, (3, 1, 0, 2): 1}\n",
      "======\n",
      "\n",
      "initially  voteMap is {(2, 0, 1, 3): 1, (3, 1, 2, 0): 1, (3, 1, 0, 2): 1}\n",
      "initially ReplaceVotes is {(2, 0, 1, 3): 1, (3, 1, 2, 0): 1, (3, 1, 0, 2): 1}\n",
      "flip: 9\n",
      "flip less than ICsize, so generate a new ranking\n",
      "ReplaceSize 4\n",
      "made (1, 0, 3, 2)\n",
      "now, voteMap is {(2, 0, 1, 3): 1, (3, 1, 2, 0): 1, (3, 1, 0, 2): 1, (1, 0, 3, 2): 1}\n",
      "now, ReplaceVotes is {(2, 0, 1, 3): 1, (3, 1, 2, 0): 1, (3, 1, 0, 2): 1, (1, 0, 3, 2): 1}\n",
      "======\n",
      "\n",
      "initially  voteMap is {(2, 0, 1, 3): 1, (3, 1, 2, 0): 1, (3, 1, 0, 2): 1, (1, 0, 3, 2): 1}\n",
      "initially ReplaceVotes is {(2, 0, 1, 3): 1, (3, 1, 2, 0): 1, (3, 1, 0, 2): 1, (1, 0, 3, 2): 1}\n",
      "flip: 18\n",
      "flip less than ICsize, so generate a new ranking\n",
      "ReplaceSize 5\n",
      "made (0, 1, 3, 2)\n",
      "now, voteMap is {(2, 0, 1, 3): 1, (3, 1, 2, 0): 1, (3, 1, 0, 2): 1, (1, 0, 3, 2): 1, (0, 1, 3, 2): 1}\n",
      "now, ReplaceVotes is {(2, 0, 1, 3): 1, (3, 1, 2, 0): 1, (3, 1, 0, 2): 1, (1, 0, 3, 2): 1, (0, 1, 3, 2): 1}\n",
      "======\n",
      "\n"
     ]
    },
    {
     "data": {
      "text/plain": [
       "{(2, 0, 1, 3): 1,\n",
       " (3, 1, 2, 0): 1,\n",
       " (3, 1, 0, 2): 1,\n",
       " (1, 0, 3, 2): 1,\n",
       " (0, 1, 3, 2): 1}"
      ]
     },
     "execution_count": 8,
     "metadata": {},
     "output_type": "execute_result"
    }
   ],
   "source": [
    "gen_urn(5,1,[0,1,2,3])"
   ]
  },
  {
   "cell_type": "markdown",
   "metadata": {},
   "source": [
    "## Mallows Model\n",
    "\n",
    "In the Mallow's model, given a reference ranking $L_0\\in\\mathcal{L}(X)$ and $\\phi\\in (0,1]$, the probability that a voter's ballot is $L\\in\\mathcal{L}(X)$ is $Pr_{L_0}(L)=\\phi^{\\tau(L,L_0)}/C$ where $\\tau(L,L_0)= {{|X|}\\choose{2}} - |L\\cap L_0|$, the Kendell-tau distance of $L$ to $L_0$, and $C$ is a normalization constant.   \n",
    "\n",
    "\n",
    "The **Kendal-tau** distance, also known as the **swap** distance,  between rankings $R_1$ and $R_2$ is the minimal number of swaps of adjacent candidates needed to turn vote $R_1$ into vote $R_2$.\n",
    "\n",
    "\n",
    "E.g., the rankings $a\\ b\\ c\\ d$  and $a\\ d\\ b\\ c$ has a swap distance of 2. \n",
    "\n",
    "IC is the special case where $\\phi=1$.  \n",
    "\n",
    "\n",
    "MALLOWS_2REF: Consider an ordering $L_0$ and its converse $L_0^{-1}$ (e.g., $L_0$ ranks candidates from more liberal to more conservative, and $L_0^{-1}$ vice versa), in which case the probability that a voter's ballot is $L$ is $\\frac{1}{2} Pr_{L_0}(L)+\\frac{1}{2}Pr_{L_0^{-1}}(L)$. "
   ]
  },
  {
   "cell_type": "code",
   "execution_count": 9,
   "metadata": {},
   "outputs": [],
   "source": [
    "import random \n",
    "\n",
    "# For Phi and a given number of candidates, compute the\n",
    "# insertion probability vectors.\n",
    "def compute_mallows_insertvec_dist(ncand, phi):\n",
    "    #Compute the Various Mallows Probability Distros\n",
    "    vec_dist = {}\n",
    "    for i in range(1, ncand+1):\n",
    "        #Start with an empty distro of length i\n",
    "        dist = [0] * i\n",
    "        #compute the denom = phi^0 + phi^1 + ... phi^(i-1)\n",
    "        denom = sum([pow(phi,k) for k in range(i)])\n",
    "        #Fill each element of the distro with phi^i-j / denom\n",
    "        for j in range(1, i+1):\n",
    "            dist[j-1] = pow(phi, i - j) / denom\n",
    "        #print(str(dist) + \"total: \" + str(sum(dist)))\n",
    "        vec_dist[i] = dist\n",
    "    return vec_dist\n",
    "\n",
    "# Return a value drawn from a particular distribution.\n",
    "def draw(values, distro):\n",
    "    #Return a value randomly from a given discrete distribution.\n",
    "    #This is a bit hacked together -- only need that the distribution\n",
    "    #sums to 1.0 within 5 digits of rounding.\n",
    "    if round(sum(distro),5) != 1.0:\n",
    "        print(\"Input Distro is not a Distro...\")\n",
    "        print(str(distro) + \"  Sum: \" + str(sum(distro)))\n",
    "        exit()\n",
    "    if len(distro) != len(values):\n",
    "        print(\"Values and Distro have different length\")\n",
    "\n",
    "    cv = 0\n",
    "    draw = random.random() - distro[cv]\n",
    "    while draw > 0.0:\n",
    "        cv+= 1\n",
    "        draw -= distro[cv]\n",
    "    return values[cv]\n"
   ]
  },
  {
   "cell_type": "code",
   "execution_count": 10,
   "metadata": {},
   "outputs": [],
   "source": [
    "\n",
    "# Generate a Mallows model with the various mixing parameters passed in\n",
    "# nvoters is the number of votes we need\n",
    "# candmap is a candidate map\n",
    "# mix is an array such that sum(mix) == 1 and describes the distro over the models\n",
    "# phis is an array len(phis) = len(mix) = len(refs) that is the phi for the particular model\n",
    "# refs is an array of dicts that describe the reference ranking for the set.\n",
    "def gen_mallows(nvoters, candmap, mix, phis, refs):\n",
    "\n",
    "    if len(mix) != len(phis) or len(phis) != len(refs):\n",
    "        print(\"Mix != Phis != Refs\")\n",
    "        exit()\n",
    "\n",
    "    print(\"refs is\", refs)\n",
    "    #Precompute the distros for each Phi and Ref.\n",
    "    #Turn each ref into an order for ease of use...\n",
    "    m_insert_dists = []\n",
    "    for i in range(len(mix)):\n",
    "        m_insert_dists.append(compute_mallows_insertvec_dist(len(candmap), phis[i]))\n",
    "    print(\"m_insert_dists\", m_insert_dists)\n",
    "    #Now, generate votes...\n",
    "    votemap = {}\n",
    "    for cvoter in range(nvoters):\n",
    "        cmodel = draw(list(range(len(mix))), mix)\n",
    "        print(\"cmodel is \", cmodel)\n",
    "        #Generate a vote for the selected model\n",
    "        insvec = [0] * len(candmap)\n",
    "        for i in range(1, len(insvec)+1):\n",
    "            #options are 1...max\n",
    "            print(\"i is \", i)\n",
    "            print(\"Options: \" + str(list(range(1, i+1))))\n",
    "            print(\"Drawing on model \" + str(cmodel))\n",
    "            print(\"Dist: \" + str(m_insert_dists[cmodel][i]))\n",
    "            print(\"range \", list(range(1, i+1)))\n",
    "            insvec[i-1] = draw(list(range(1, i+1)), m_insert_dists[cmodel][i])\n",
    "            print(\"choice is \", insvec[i-1]) \n",
    "            print(\"--\\n\")\n",
    "        print(\"\\ninsvec is \", insvec,\"\\n\")\n",
    "        vote = []\n",
    "        for i in range(len(refs[cmodel])):\n",
    "            print(\"i is \", i)\n",
    "            print(\"refs is \", refs[cmodel])\n",
    "            print(\"building vote \", refs[cmodel][i])\n",
    "            #print(\"building vote insvec[i] - 1\", insvec[i]-1)\n",
    "            vote.insert(insvec[i]-1, refs[cmodel][i])\n",
    "            print(\"vote is \", vote)\n",
    "            print(\"++++\\n\")\n",
    "        print(\"mallows vote: \" + str(vote))\n",
    "        tvote = tuple(vote)\n",
    "        \n",
    "        votemap[tuple(vote)] = votemap.get(tuple(vote), 0) + 1\n",
    "        print(\"-------\\n\")\n",
    "    return votemap\n"
   ]
  },
  {
   "cell_type": "code",
   "execution_count": 11,
   "metadata": {
    "scrolled": false
   },
   "outputs": [
    {
     "name": "stdout",
     "output_type": "stream",
     "text": [
      "{0: 0, 1: 1, 2: 2, 3: 3}\n",
      "refs is [{0: 3, 1: 1, 2: 0, 3: 2}]\n",
      "m_insert_dists [{1: [1.0], 2: [0.5, 0.5], 3: [0.3333333333333333, 0.3333333333333333, 0.3333333333333333], 4: [0.25, 0.25, 0.25, 0.25]}]\n",
      "cmodel is  0\n",
      "i is  1\n",
      "Options: [1]\n",
      "Drawing on model 0\n",
      "Dist: [1.0]\n",
      "range  [1]\n",
      "choice is  1\n",
      "--\n",
      "\n",
      "i is  2\n",
      "Options: [1, 2]\n",
      "Drawing on model 0\n",
      "Dist: [0.5, 0.5]\n",
      "range  [1, 2]\n",
      "choice is  1\n",
      "--\n",
      "\n",
      "i is  3\n",
      "Options: [1, 2, 3]\n",
      "Drawing on model 0\n",
      "Dist: [0.3333333333333333, 0.3333333333333333, 0.3333333333333333]\n",
      "range  [1, 2, 3]\n",
      "choice is  2\n",
      "--\n",
      "\n",
      "i is  4\n",
      "Options: [1, 2, 3, 4]\n",
      "Drawing on model 0\n",
      "Dist: [0.25, 0.25, 0.25, 0.25]\n",
      "range  [1, 2, 3, 4]\n",
      "choice is  2\n",
      "--\n",
      "\n",
      "\n",
      "insvec is  [1, 1, 2, 2] \n",
      "\n",
      "i is  0\n",
      "refs is  {0: 3, 1: 1, 2: 0, 3: 2}\n",
      "building vote  3\n",
      "vote is  [3]\n",
      "++++\n",
      "\n",
      "i is  1\n",
      "refs is  {0: 3, 1: 1, 2: 0, 3: 2}\n",
      "building vote  1\n",
      "vote is  [1, 3]\n",
      "++++\n",
      "\n",
      "i is  2\n",
      "refs is  {0: 3, 1: 1, 2: 0, 3: 2}\n",
      "building vote  0\n",
      "vote is  [1, 0, 3]\n",
      "++++\n",
      "\n",
      "i is  3\n",
      "refs is  {0: 3, 1: 1, 2: 0, 3: 2}\n",
      "building vote  2\n",
      "vote is  [1, 2, 0, 3]\n",
      "++++\n",
      "\n",
      "mallows vote: [1, 2, 0, 3]\n",
      "-------\n",
      "\n",
      "cmodel is  0\n",
      "i is  1\n",
      "Options: [1]\n",
      "Drawing on model 0\n",
      "Dist: [1.0]\n",
      "range  [1]\n",
      "choice is  1\n",
      "--\n",
      "\n",
      "i is  2\n",
      "Options: [1, 2]\n",
      "Drawing on model 0\n",
      "Dist: [0.5, 0.5]\n",
      "range  [1, 2]\n",
      "choice is  1\n",
      "--\n",
      "\n",
      "i is  3\n",
      "Options: [1, 2, 3]\n",
      "Drawing on model 0\n",
      "Dist: [0.3333333333333333, 0.3333333333333333, 0.3333333333333333]\n",
      "range  [1, 2, 3]\n",
      "choice is  2\n",
      "--\n",
      "\n",
      "i is  4\n",
      "Options: [1, 2, 3, 4]\n",
      "Drawing on model 0\n",
      "Dist: [0.25, 0.25, 0.25, 0.25]\n",
      "range  [1, 2, 3, 4]\n",
      "choice is  3\n",
      "--\n",
      "\n",
      "\n",
      "insvec is  [1, 1, 2, 3] \n",
      "\n",
      "i is  0\n",
      "refs is  {0: 3, 1: 1, 2: 0, 3: 2}\n",
      "building vote  3\n",
      "vote is  [3]\n",
      "++++\n",
      "\n",
      "i is  1\n",
      "refs is  {0: 3, 1: 1, 2: 0, 3: 2}\n",
      "building vote  1\n",
      "vote is  [1, 3]\n",
      "++++\n",
      "\n",
      "i is  2\n",
      "refs is  {0: 3, 1: 1, 2: 0, 3: 2}\n",
      "building vote  0\n",
      "vote is  [1, 0, 3]\n",
      "++++\n",
      "\n",
      "i is  3\n",
      "refs is  {0: 3, 1: 1, 2: 0, 3: 2}\n",
      "building vote  2\n",
      "vote is  [1, 0, 2, 3]\n",
      "++++\n",
      "\n",
      "mallows vote: [1, 0, 2, 3]\n",
      "-------\n",
      "\n",
      "{(1, 2, 0, 3): 1, (1, 0, 2, 3): 1}\n"
     ]
    }
   ],
   "source": [
    "num_cands = 4\n",
    "num_voters = 2\n",
    "phis = [1.0]\n",
    "cmap = {cn:cn for cn in range(num_cands)}\n",
    "print(cmap)\n",
    "\n",
    "\n",
    "print(gen_mallows(num_voters, \n",
    "                  cmap, \n",
    "                  [1.0], \n",
    "                  phis, \n",
    "                  [{0:3, 1:1, 2:0, 3:2}]))"
   ]
  },
  {
   "cell_type": "code",
   "execution_count": 12,
   "metadata": {},
   "outputs": [
    {
     "name": "stdout",
     "output_type": "stream",
     "text": [
      "Generated by the MALLOWS model with phi = 0\n",
      "+---+\n",
      "| 5 |\n",
      "+---+\n",
      "| 2 |\n",
      "| 3 |\n",
      "| 1 |\n",
      "| 0 |\n",
      "+---+\n",
      "Generated by the MALLOWS model with phi = 0.1\n",
      "+---+---+---+---+\n",
      "| 2 | 1 | 1 | 1 |\n",
      "+---+---+---+---+\n",
      "| 0 | 1 | 0 | 0 |\n",
      "| 1 | 0 | 1 | 3 |\n",
      "| 3 | 3 | 2 | 1 |\n",
      "| 2 | 2 | 3 | 2 |\n",
      "+---+---+---+---+\n",
      "Generated by the MALLOWS model with phi = 0.5\n",
      "+---+---+---+\n",
      "| 1 | 2 | 2 |\n",
      "+---+---+---+\n",
      "| 0 | 1 | 1 |\n",
      "| 1 | 3 | 0 |\n",
      "| 3 | 0 | 3 |\n",
      "| 2 | 2 | 2 |\n",
      "+---+---+---+\n",
      "Generated by the MALLOWS model with phi = 0.8\n",
      "+---+---+---+---+---+\n",
      "| 1 | 1 | 1 | 1 | 1 |\n",
      "+---+---+---+---+---+\n",
      "| 2 | 2 | 0 | 3 | 2 |\n",
      "| 0 | 0 | 3 | 2 | 1 |\n",
      "| 3 | 1 | 1 | 1 | 3 |\n",
      "| 1 | 3 | 2 | 0 | 0 |\n",
      "+---+---+---+---+---+\n",
      "Generated by the MALLOWS model with phi = 1\n",
      "+---+---+---+---+---+\n",
      "| 1 | 1 | 1 | 1 | 1 |\n",
      "+---+---+---+---+---+\n",
      "| 1 | 1 | 3 | 2 | 3 |\n",
      "| 2 | 2 | 2 | 1 | 1 |\n",
      "| 3 | 0 | 0 | 3 | 2 |\n",
      "| 0 | 3 | 1 | 0 | 0 |\n",
      "+---+---+---+---+---+\n"
     ]
    }
   ],
   "source": [
    "print(\"Generated by the MALLOWS model with phi = 0\")\n",
    "prof = generate_profile(4, 5, probmod=\"MALLOWS\", probmod_param=0)\n",
    "prof.display()\n",
    "\n",
    "print(\"Generated by the MALLOWS model with phi = 0.1\")\n",
    "prof = generate_profile(4, 5, probmod=\"MALLOWS\", probmod_param=0.1)\n",
    "prof.display()\n",
    "\n",
    "print(\"Generated by the MALLOWS model with phi = 0.5\")\n",
    "prof = generate_profile(4, 5, probmod=\"MALLOWS\", probmod_param=0.5)\n",
    "prof.display()\n",
    "\n",
    "print(\"Generated by the MALLOWS model with phi = 0.8\")\n",
    "prof = generate_profile(4, 5, probmod=\"MALLOWS\", probmod_param=0.8)\n",
    "prof.display()\n",
    "\n",
    "\n",
    "print(\"Generated by the MALLOWS model with phi = 1\")\n",
    "prof = generate_profile(4, 5, probmod=\"MALLOWS\", probmod_param=1.0)\n",
    "prof.display()\n"
   ]
  },
  {
   "cell_type": "markdown",
   "metadata": {},
   "source": [
    "## Single Peaked \n",
    "\n"
   ]
  },
  {
   "cell_type": "code",
   "execution_count": 13,
   "metadata": {},
   "outputs": [],
   "source": [
    "# Return a Tuple for a IC-Single Peaked... with alternatives in range 1....range.\n",
    "def gen_icsp_single_vote(alts):\n",
    "    a = 0\n",
    "    b = len(alts)-1\n",
    "    temp = []\n",
    "    while a != b:\n",
    "        print(f\"a={a}, b={b}\")\n",
    "        if random.randint(0,1) == 1:\n",
    "            temp.append(alts[a])\n",
    "            a+= 1\n",
    "        else:\n",
    "            temp.append(alts[b])\n",
    "            b -= 1\n",
    "        print(\"temp is \", temp)\n",
    "    temp.append(alts[a])\n",
    "    print(temp)\n",
    "    print(\"-----\\n\")\n",
    "    return tuple(temp[::-1]) # reverse\n",
    "\n",
    "\n",
    "def gen_single_peaked_impartial_culture_strict(nvotes, alts):\n",
    "    voteset = {}\n",
    "    for i in range(nvotes):\n",
    "        tvote = gen_icsp_single_vote(alts)\n",
    "        voteset[tvote] = voteset.get(tvote, 0) + 1\n",
    "    return voteset\n",
    "\n",
    "\n"
   ]
  },
  {
   "cell_type": "code",
   "execution_count": 14,
   "metadata": {},
   "outputs": [
    {
     "name": "stdout",
     "output_type": "stream",
     "text": [
      "a=0, b=3\n",
      "temp is  [3]\n",
      "a=0, b=2\n",
      "temp is  [3, 2]\n",
      "a=0, b=1\n",
      "temp is  [3, 2, 1]\n",
      "[3, 2, 1, 0]\n",
      "-----\n",
      "\n",
      "+---+\n",
      "| 1 |\n",
      "+---+\n",
      "| 0 |\n",
      "| 1 |\n",
      "| 2 |\n",
      "| 3 |\n",
      "+---+\n"
     ]
    }
   ],
   "source": [
    "num_cands = 4\n",
    "num_voters = 1\n",
    "\n",
    "vs = gen_single_peaked_impartial_culture_strict(num_voters, list(range(num_cands)))\n",
    "\n",
    "prof = Profile([v[0] for v in vs.items()], num_cands, rcounts = [v[1] for v in vs.items()])\n",
    "prof.display()"
   ]
  },
  {
   "cell_type": "markdown",
   "metadata": {},
   "source": [
    "## Spatial Model \n",
    "\n",
    "S. Merrill, III (1993). [Voting behavior under the directional spatial model of electoral\n",
    "competition](https://link.springer.com/article/10.1007/BF01047992), Public Choice 77, pp. 739 - 756.\n",
    "\n"
   ]
  },
  {
   "cell_type": "code",
   "execution_count": 15,
   "metadata": {},
   "outputs": [],
   "source": [
    "def voter_utility(v_pos, c_pos, beta):\n",
    "    '''Based on the Rabinowitz and Macdonald (1989) mixed model\n",
    "    described in Section 3, pp. 745 - 747 of \n",
    "    \"Voting behavior under the directional spatial model of electoral competition\" by S. Merrill III \n",
    "    \n",
    "    beta = 1 is the proximity model\n",
    "    beta = 0 is the directional model\n",
    "    '''\n",
    "    return 2 * np.dot(v_pos, c_pos) - beta*(np.linalg.norm(v_pos)**2 + np.linalg.norm(c_pos)**2)\n",
    "\n",
    "def create_prof_spatial_model2(num_voters, cmap, params):\n",
    "    num_dim = params[0] # the first component of the parameter is the number of dimensions\n",
    "    beta = params[1] # used to define the mixed model: beta = 1 is proximity model (i.e., Euclidean distance)\n",
    "    num_cands = len(cmap.keys())  \n",
    "    mean = [0] * num_dim # mean is 0 for each dimension\n",
    "    cov = np.diag([1]*num_dim)  # diagonal covariance\n",
    "    \n",
    "    # sample candidate/voter positions using a multivariate normal distribution\n",
    "    cand_positions = np.random.multivariate_normal(np.array(mean), cov, num_cands)\n",
    "    voter_positions = np.random.multivariate_normal(np.array(mean), cov, num_voters)\n",
    "    \n",
    "    # generate the rankings and counts for each ranking\n",
    "    ranking_counts = dict()\n",
    "    for v,v_pos in enumerate(voter_positions):\n",
    "        v_utils = {voter_utility(v_pos,c_pos,beta): c for c,c_pos in enumerate(cand_positions)}\n",
    "        ranking = tuple([v_utils[_u] for _u in sorted(v_utils.keys(),reverse=True)])\n",
    "        if ranking in ranking_counts.keys():\n",
    "            ranking_counts[ranking] += 1\n",
    "        else:\n",
    "            ranking_counts.update({ranking:1})\n",
    "    \n",
    "    # list of tuples where first component is a ranking and the second is the count\n",
    "    prof_counts = ranking_counts.items()\n",
    "    \n",
    "    return [rc[0] for rc in prof_counts], [rc[1] for rc in prof_counts], list(voter_positions), list(cand_positions)\n"
   ]
  },
  {
   "cell_type": "code",
   "execution_count": 16,
   "metadata": {},
   "outputs": [
    {
     "name": "stdout",
     "output_type": "stream",
     "text": [
      "+---+---+---+---+---+---+---+---+\n",
      "| 2 | 1 | 1 | 2 | 1 | 1 | 1 | 1 |\n",
      "+---+---+---+---+---+---+---+---+\n",
      "| 3 | 2 | 0 | 1 | 3 | 0 | 2 | 1 |\n",
      "| 1 | 0 | 3 | 2 | 0 | 3 | 1 | 3 |\n",
      "| 0 | 1 | 1 | 3 | 1 | 2 | 0 | 0 |\n",
      "| 2 | 3 | 2 | 0 | 2 | 1 | 3 | 2 |\n",
      "+---+---+---+---+---+---+---+---+\n",
      "the utility of 0 is -4.2397573039529854\n",
      "the utility of 1 is -1.5642872899301687\n",
      "the utility of 2 is -5.68553309339745\n",
      "the utility of 3 is -0.37672169365806474\n"
     ]
    },
    {
     "data": {
      "image/png": "[encoded data removed]",
      "text/plain": [
       "<Figure size 432x288 with 1 Axes>"
      ]
     },
     "metadata": {
      "filenames": {
       "image/png": "/Users/epacuit/Dropbox/teaching/ppe-simulation/notes/_build/jupyter_execute/preference-aggregation/probmodels_21_1.png"
      },
      "needs_background": "light"
     },
     "output_type": "display_data"
    }
   ],
   "source": [
    "num_cands = 4\n",
    "\n",
    "beta = 0.5\n",
    "dim = 2\n",
    "\n",
    "rankings,rcounts,voter_positions, cand_positions = create_prof_spatial_model2(10, \n",
    "                                                                              {c:c for c in range(num_cands)}, \n",
    "                                                                              [dim, beta])\n",
    "prof = Profile(rankings, num_cands, rcounts=rcounts)\n",
    "\n",
    "prof.display()\n",
    "\n",
    "plt.scatter([v[0] for v in voter_positions], [v[1] for v in voter_positions], color='blue', marker='x')\n",
    "\n",
    "plt.scatter([c[0] for c in cand_positions], [c[1] for c in cand_positions], color='red', marker='o')\n",
    "\n",
    "for c_idx,c in enumerate(cand_positions):\n",
    "    print(f\"the utility of {c_idx} is {voter_utility(voter_positions[0], c, beta)}\")\n",
    "\n",
    "for c_idx,c in enumerate(cand_positions):\n",
    "    plt.text(c[0]+0.05, c[1], c_idx)\n",
    "plt.show()"
   ]
  },
  {
   "cell_type": "code",
   "execution_count": 17,
   "metadata": {},
   "outputs": [
    {
     "name": "stdout",
     "output_type": "stream",
     "text": [
      "+---+---+---+---+---+\n",
      "| 1 | 3 | 1 | 4 | 1 |\n",
      "+---+---+---+---+---+\n",
      "| 1 | 2 | 0 | 2 | 0 |\n",
      "| 3 | 1 | 2 | 0 | 3 |\n",
      "| 2 | 0 | 1 | 1 | 2 |\n",
      "| 0 | 3 | 3 | 3 | 1 |\n",
      "+---+---+---+---+---+\n",
      "the utility of 0 is -2.5677402717633777\n",
      "the utility of 1 is -0.6786376429028804\n",
      "the utility of 2 is -1.8056133601070092\n",
      "the utility of 3 is -0.736847125052638\n"
     ]
    },
    {
     "data": {
      "image/png": "[encoded data removed]",
      "text/plain": [
       "<Figure size 432x288 with 1 Axes>"
      ]
     },
     "metadata": {
      "filenames": {
       "image/png": "/Users/epacuit/Dropbox/teaching/ppe-simulation/notes/_build/jupyter_execute/preference-aggregation/probmodels_22_1.png"
      },
      "needs_background": "light"
     },
     "output_type": "display_data"
    }
   ],
   "source": [
    "num_cands = 4\n",
    "beta = 1.0\n",
    "dim = 2\n",
    "\n",
    "\n",
    "rankings,rcounts,voter_positions, cand_positions = create_prof_spatial_model2(10, \n",
    "                                                                              {c:c for c in range(num_cands)}, \n",
    "                                                                              [dim, beta])\n",
    "\n",
    "\n",
    "prof = Profile(rankings, num_cands, rcounts=rcounts)\n",
    "\n",
    "prof.display()\n",
    "\n",
    "\n",
    "plt.scatter([v[0] for v in voter_positions], [v[1] for v in voter_positions], color='blue', marker='x')\n",
    "\n",
    "plt.scatter([c[0] for c in cand_positions], [c[1] for c in cand_positions], color='red', marker='o')\n",
    "\n",
    "plt.scatter([0], [0], color='black', marker='o')\n",
    "\n",
    "for c_idx,c in enumerate(cand_positions):\n",
    "    print(f\"the utility of {c_idx} is {voter_utility(voter_positions[0], c, beta)}\")\n",
    "\n",
    "    \n",
    "for c_idx,c in enumerate(cand_positions):\n",
    "    plt.text(c[0]+0.05, c[1], c_idx)\n",
    "plt.show()"
   ]
  },
  {
   "cell_type": "code",
   "execution_count": 18,
   "metadata": {},
   "outputs": [
    {
     "ename": "ModuleNotFoundError",
     "evalue": "No module named 'cplex'",
     "output_type": "error",
     "traceback": [
      "\u001b[0;31m---------------------------------------------------------------------------\u001b[0m",
      "\u001b[0;31mModuleNotFoundError\u001b[0m                       Traceback (most recent call last)",
      "\u001b[0;32m<ipython-input-18-cf0e0881ba74>\u001b[0m in \u001b[0;36m<module>\u001b[0;34m\u001b[0m\n\u001b[1;32m     11\u001b[0m \u001b[0;31m#1d_two_party\u001b[0m\u001b[0;34m\u001b[0m\u001b[0;34m\u001b[0m\u001b[0;34m\u001b[0m\u001b[0m\n\u001b[1;32m     12\u001b[0m \u001b[0;34m\u001b[0m\u001b[0m\n\u001b[0;32m---> 13\u001b[0;31m \u001b[0;32mfrom\u001b[0m \u001b[0mmapel\u001b[0m\u001b[0;34m.\u001b[0m\u001b[0mvoting\u001b[0m \u001b[0;32mimport\u001b[0m \u001b[0melections\u001b[0m\u001b[0;34m\u001b[0m\u001b[0;34m\u001b[0m\u001b[0m\n\u001b[0m\u001b[1;32m     14\u001b[0m \u001b[0;34m\u001b[0m\u001b[0m\n\u001b[1;32m     15\u001b[0m rankings = elections.generate_elections_1d_simple(election_model = e_model, \n",
      "\u001b[0;32m/usr/local/lib/python3.9/site-packages/mapel/__init__.py\u001b[0m in \u001b[0;36m<module>\u001b[0;34m\u001b[0m\n\u001b[1;32m      1\u001b[0m \u001b[0;34m\u001b[0m\u001b[0m\n\u001b[1;32m      2\u001b[0m \u001b[0;32mfrom\u001b[0m \u001b[0;34m.\u001b[0m\u001b[0mvoting\u001b[0m \u001b[0;32mimport\u001b[0m \u001b[0melections\u001b[0m \u001b[0;32mas\u001b[0m \u001b[0mel\u001b[0m\u001b[0;34m\u001b[0m\u001b[0;34m\u001b[0m\u001b[0m\n\u001b[0;32m----> 3\u001b[0;31m \u001b[0;32mfrom\u001b[0m \u001b[0;34m.\u001b[0m\u001b[0mvoting\u001b[0m \u001b[0;32mimport\u001b[0m \u001b[0mmetrics\u001b[0m \u001b[0;32mas\u001b[0m \u001b[0mmetr\u001b[0m\u001b[0;34m\u001b[0m\u001b[0;34m\u001b[0m\u001b[0m\n\u001b[0m\u001b[1;32m      4\u001b[0m \u001b[0;32mfrom\u001b[0m \u001b[0;34m.\u001b[0m\u001b[0mvoting\u001b[0m \u001b[0;32mimport\u001b[0m \u001b[0membedding\u001b[0m \u001b[0;32mas\u001b[0m \u001b[0memb\u001b[0m\u001b[0;34m\u001b[0m\u001b[0;34m\u001b[0m\u001b[0m\n\u001b[1;32m      5\u001b[0m \u001b[0;32mfrom\u001b[0m \u001b[0;34m.\u001b[0m\u001b[0mvoting\u001b[0m \u001b[0;32mimport\u001b[0m \u001b[0mprint\u001b[0m \u001b[0;32mas\u001b[0m \u001b[0mpr\u001b[0m\u001b[0;34m\u001b[0m\u001b[0;34m\u001b[0m\u001b[0m\n",
      "\u001b[0;32m/usr/local/lib/python3.9/site-packages/mapel/voting/metrics.py\u001b[0m in \u001b[0;36m<module>\u001b[0;34m\u001b[0m\n\u001b[1;32m      4\u001b[0m \u001b[0;32mfrom\u001b[0m \u001b[0;34m.\u001b[0m \u001b[0;32mimport\u001b[0m \u001b[0melections\u001b[0m \u001b[0;32mas\u001b[0m \u001b[0mel\u001b[0m\u001b[0;34m\u001b[0m\u001b[0;34m\u001b[0m\u001b[0m\n\u001b[1;32m      5\u001b[0m \u001b[0;32mfrom\u001b[0m \u001b[0;34m.\u001b[0m \u001b[0;32mimport\u001b[0m \u001b[0mobjects\u001b[0m \u001b[0;32mas\u001b[0m \u001b[0mobj\u001b[0m\u001b[0;34m\u001b[0m\u001b[0;34m\u001b[0m\u001b[0m\n\u001b[0;32m----> 6\u001b[0;31m \u001b[0;32mfrom\u001b[0m \u001b[0;34m.\u001b[0m \u001b[0;32mimport\u001b[0m \u001b[0mlp\u001b[0m \u001b[0;32mas\u001b[0m \u001b[0mlp\u001b[0m\u001b[0;34m\u001b[0m\u001b[0;34m\u001b[0m\u001b[0m\n\u001b[0m\u001b[1;32m      7\u001b[0m \u001b[0;32mimport\u001b[0m \u001b[0mrandom\u001b[0m \u001b[0;32mas\u001b[0m \u001b[0mrand\u001b[0m\u001b[0;34m\u001b[0m\u001b[0;34m\u001b[0m\u001b[0m\n\u001b[1;32m      8\u001b[0m \u001b[0;32mimport\u001b[0m \u001b[0mos\u001b[0m\u001b[0;34m\u001b[0m\u001b[0;34m\u001b[0m\u001b[0m\n",
      "\u001b[0;32m/usr/local/lib/python3.9/site-packages/mapel/voting/lp.py\u001b[0m in \u001b[0;36m<module>\u001b[0;34m\u001b[0m\n\u001b[1;32m      1\u001b[0m \u001b[0;31m#!/usr/bin/env python\u001b[0m\u001b[0;34m\u001b[0m\u001b[0;34m\u001b[0m\u001b[0;34m\u001b[0m\u001b[0m\n\u001b[1;32m      2\u001b[0m \u001b[0;34m\u001b[0m\u001b[0m\n\u001b[0;32m----> 3\u001b[0;31m \u001b[0;32mimport\u001b[0m \u001b[0mcplex\u001b[0m\u001b[0;34m\u001b[0m\u001b[0;34m\u001b[0m\u001b[0m\n\u001b[0m\u001b[1;32m      4\u001b[0m \u001b[0;34m\u001b[0m\u001b[0m\n\u001b[1;32m      5\u001b[0m \u001b[0;34m\u001b[0m\u001b[0m\n",
      "\u001b[0;31mModuleNotFoundError\u001b[0m: No module named 'cplex'"
     ]
    }
   ],
   "source": [
    "num_voters = 10\n",
    "num_cands = 4\n",
    "\n",
    "e_model = \"1d_interval\"\n",
    "#1d_interval\n",
    "#1d_interval_bis\"\n",
    "#1d_gaussian\n",
    "#1d_gaussian_bis\n",
    "#1d_one_sided_triangle\n",
    "#1d_full_triangle\n",
    "#1d_two_party \n",
    "\n",
    "from mapel.voting import elections\n",
    "\n",
    "rankings = elections.generate_elections_1d_simple(election_model = e_model, \n",
    "                                                  num_voters=num_voters, \n",
    "                                                  num_candidates = num_cands)\n",
    "\n",
    "prof = Profile([tuple(r) for r in rankings], num_cands)\n",
    "prof.display()\n"
   ]
  },
  {
   "cell_type": "code",
   "execution_count": 19,
   "metadata": {},
   "outputs": [
    {
     "ename": "NameError",
     "evalue": "name 'elections' is not defined",
     "output_type": "error",
     "traceback": [
      "\u001b[0;31m---------------------------------------------------------------------------\u001b[0m",
      "\u001b[0;31mNameError\u001b[0m                                 Traceback (most recent call last)",
      "\u001b[0;32m<ipython-input-19-b22a743d90ec>\u001b[0m in \u001b[0;36m<module>\u001b[0;34m\u001b[0m\n\u001b[1;32m     14\u001b[0m \u001b[0;34m\u001b[0m\u001b[0m\n\u001b[1;32m     15\u001b[0m \u001b[0;34m\u001b[0m\u001b[0m\n\u001b[0;32m---> 16\u001b[0;31m rankings = elections.generate_elections_2d_simple(election_model = e_model, \n\u001b[0m\u001b[1;32m     17\u001b[0m                                                   \u001b[0mnum_voters\u001b[0m\u001b[0;34m=\u001b[0m\u001b[0mnum_voters\u001b[0m\u001b[0;34m,\u001b[0m\u001b[0;34m\u001b[0m\u001b[0;34m\u001b[0m\u001b[0m\n\u001b[1;32m     18\u001b[0m                                                   num_candidates = num_cands)\n",
      "\u001b[0;31mNameError\u001b[0m: name 'elections' is not defined"
     ]
    }
   ],
   "source": [
    "num_voters = 10\n",
    "num_cands = 4\n",
    "\n",
    "e_model = \"2d_disc\"\n",
    "\n",
    "#2d_disc\n",
    "#2d_range_disc\n",
    "#2d_range_overlapping\n",
    "#2d_square \n",
    "#2d_sphere\n",
    "#2d_gaussian\n",
    "#2d_range_gaussian \n",
    "#2d_range_fourgau \n",
    "\n",
    "        \n",
    "rankings = elections.generate_elections_2d_simple(election_model = e_model, \n",
    "                                                  num_voters=num_voters, \n",
    "                                                  num_candidates = num_cands)\n",
    "\n",
    "prof = Profile([tuple(r) for r in rankings], num_cands)\n",
    "prof.display()\n"
   ]
  },
  {
   "cell_type": "code",
   "execution_count": 20,
   "metadata": {},
   "outputs": [
    {
     "ename": "NameError",
     "evalue": "name 'elections' is not defined",
     "output_type": "error",
     "traceback": [
      "\u001b[0;31m---------------------------------------------------------------------------\u001b[0m",
      "\u001b[0;31mNameError\u001b[0m                                 Traceback (most recent call last)",
      "\u001b[0;32m<ipython-input-20-db9f0758a7c3>\u001b[0m in \u001b[0;36m<module>\u001b[0;34m\u001b[0m\n\u001b[1;32m     20\u001b[0m \u001b[0;31m# 40d_ball\u001b[0m\u001b[0;34m\u001b[0m\u001b[0;34m\u001b[0m\u001b[0;34m\u001b[0m\u001b[0m\n\u001b[1;32m     21\u001b[0m \u001b[0;34m\u001b[0m\u001b[0m\n\u001b[0;32m---> 22\u001b[0;31m rankings = elections.generate_elections_nd_simple(election_model = e_model, \n\u001b[0m\u001b[1;32m     23\u001b[0m                                                   \u001b[0mnum_voters\u001b[0m\u001b[0;34m=\u001b[0m\u001b[0mnum_voters\u001b[0m\u001b[0;34m,\u001b[0m\u001b[0;34m\u001b[0m\u001b[0;34m\u001b[0m\u001b[0m\n\u001b[1;32m     24\u001b[0m                                                   num_candidates = num_cands)\n",
      "\u001b[0;31mNameError\u001b[0m: name 'elections' is not defined"
     ]
    }
   ],
   "source": [
    "num_voters = 10\n",
    "num_cands = 4\n",
    "\n",
    "\n",
    "e_model = \"40d_ball\"\n",
    "\n",
    "# 3d_sphere\n",
    "# 3d_cube\n",
    "# 3d_ball\n",
    "# 4d_sphere\n",
    "# 4d_cube\n",
    "# 4d_ball\n",
    "# 5d_sphere\n",
    "# 5d_cube\n",
    "# 5d_ball\n",
    "# 10d_cube\n",
    "# 15d_cube\n",
    "# 20d_cube\n",
    "# 40d_cube\n",
    "# 40d_ball\n",
    "   \n",
    "rankings = elections.generate_elections_nd_simple(election_model = e_model, \n",
    "                                                  num_voters=num_voters, \n",
    "                                                  num_candidates = num_cands)\n",
    "\n",
    "prof = Profile([tuple(r) for r in rankings], num_cands)\n",
    "prof.display()\n"
   ]
  },
  {
   "cell_type": "markdown",
   "metadata": {},
   "source": [
    "## Mapping Elections"
   ]
  },
  {
   "cell_type": "markdown",
   "metadata": {},
   "source": [
    "\n",
    "\n",
    "S. Szufa, P. Piotr Faliszewski, P. Skowron, A. Skinko,  and N. Talmon, [Drawing a Map of Elections in the Space of Statistical Cultures](http://www.ifaamas.org/Proceedings/aamas2020/pdfs/p1341.pdf), AAMAS 2020, Auckland, New Zealand, \n"
   ]
  },
  {
   "cell_type": "code",
   "execution_count": 21,
   "metadata": {},
   "outputs": [
    {
     "ename": "ModuleNotFoundError",
     "evalue": "No module named 'cplex'",
     "output_type": "error",
     "traceback": [
      "\u001b[0;31m---------------------------------------------------------------------------\u001b[0m",
      "\u001b[0;31mModuleNotFoundError\u001b[0m                       Traceback (most recent call last)",
      "\u001b[0;32m<ipython-input-21-34026e731af5>\u001b[0m in \u001b[0;36m<module>\u001b[0;34m\u001b[0m\n\u001b[0;32m----> 1\u001b[0;31m \u001b[0;32mimport\u001b[0m \u001b[0mmapel\u001b[0m\u001b[0;34m\u001b[0m\u001b[0;34m\u001b[0m\u001b[0m\n\u001b[0m\u001b[1;32m      2\u001b[0m \u001b[0;32mimport\u001b[0m \u001b[0mmath\u001b[0m\u001b[0;34m\u001b[0m\u001b[0;34m\u001b[0m\u001b[0m\n\u001b[1;32m      3\u001b[0m \u001b[0mmapel\u001b[0m\u001b[0;34m.\u001b[0m\u001b[0mhello\u001b[0m\u001b[0;34m(\u001b[0m\u001b[0;34m)\u001b[0m\u001b[0;34m\u001b[0m\u001b[0;34m\u001b[0m\u001b[0m\n\u001b[1;32m      4\u001b[0m \u001b[0;34m\u001b[0m\u001b[0m\n\u001b[1;32m      5\u001b[0m \u001b[0mprint\u001b[0m\u001b[0;34m(\u001b[0m\u001b[0;34m)\u001b[0m\u001b[0;34m\u001b[0m\u001b[0;34m\u001b[0m\u001b[0m\n",
      "\u001b[0;32m/usr/local/lib/python3.9/site-packages/mapel/__init__.py\u001b[0m in \u001b[0;36m<module>\u001b[0;34m\u001b[0m\n\u001b[1;32m      1\u001b[0m \u001b[0;34m\u001b[0m\u001b[0m\n\u001b[1;32m      2\u001b[0m \u001b[0;32mfrom\u001b[0m \u001b[0;34m.\u001b[0m\u001b[0mvoting\u001b[0m \u001b[0;32mimport\u001b[0m \u001b[0melections\u001b[0m \u001b[0;32mas\u001b[0m \u001b[0mel\u001b[0m\u001b[0;34m\u001b[0m\u001b[0;34m\u001b[0m\u001b[0m\n\u001b[0;32m----> 3\u001b[0;31m \u001b[0;32mfrom\u001b[0m \u001b[0;34m.\u001b[0m\u001b[0mvoting\u001b[0m \u001b[0;32mimport\u001b[0m \u001b[0mmetrics\u001b[0m \u001b[0;32mas\u001b[0m \u001b[0mmetr\u001b[0m\u001b[0;34m\u001b[0m\u001b[0;34m\u001b[0m\u001b[0m\n\u001b[0m\u001b[1;32m      4\u001b[0m \u001b[0;32mfrom\u001b[0m \u001b[0;34m.\u001b[0m\u001b[0mvoting\u001b[0m \u001b[0;32mimport\u001b[0m \u001b[0membedding\u001b[0m \u001b[0;32mas\u001b[0m \u001b[0memb\u001b[0m\u001b[0;34m\u001b[0m\u001b[0;34m\u001b[0m\u001b[0m\n\u001b[1;32m      5\u001b[0m \u001b[0;32mfrom\u001b[0m \u001b[0;34m.\u001b[0m\u001b[0mvoting\u001b[0m \u001b[0;32mimport\u001b[0m \u001b[0mprint\u001b[0m \u001b[0;32mas\u001b[0m \u001b[0mpr\u001b[0m\u001b[0;34m\u001b[0m\u001b[0;34m\u001b[0m\u001b[0m\n",
      "\u001b[0;32m/usr/local/lib/python3.9/site-packages/mapel/voting/metrics.py\u001b[0m in \u001b[0;36m<module>\u001b[0;34m\u001b[0m\n\u001b[1;32m      4\u001b[0m \u001b[0;32mfrom\u001b[0m \u001b[0;34m.\u001b[0m \u001b[0;32mimport\u001b[0m \u001b[0melections\u001b[0m \u001b[0;32mas\u001b[0m \u001b[0mel\u001b[0m\u001b[0;34m\u001b[0m\u001b[0;34m\u001b[0m\u001b[0m\n\u001b[1;32m      5\u001b[0m \u001b[0;32mfrom\u001b[0m \u001b[0;34m.\u001b[0m \u001b[0;32mimport\u001b[0m \u001b[0mobjects\u001b[0m \u001b[0;32mas\u001b[0m \u001b[0mobj\u001b[0m\u001b[0;34m\u001b[0m\u001b[0;34m\u001b[0m\u001b[0m\n\u001b[0;32m----> 6\u001b[0;31m \u001b[0;32mfrom\u001b[0m \u001b[0;34m.\u001b[0m \u001b[0;32mimport\u001b[0m \u001b[0mlp\u001b[0m \u001b[0;32mas\u001b[0m \u001b[0mlp\u001b[0m\u001b[0;34m\u001b[0m\u001b[0;34m\u001b[0m\u001b[0m\n\u001b[0m\u001b[1;32m      7\u001b[0m \u001b[0;32mimport\u001b[0m \u001b[0mrandom\u001b[0m \u001b[0;32mas\u001b[0m \u001b[0mrand\u001b[0m\u001b[0;34m\u001b[0m\u001b[0;34m\u001b[0m\u001b[0m\n\u001b[1;32m      8\u001b[0m \u001b[0;32mimport\u001b[0m \u001b[0mos\u001b[0m\u001b[0;34m\u001b[0m\u001b[0;34m\u001b[0m\u001b[0m\n",
      "\u001b[0;32m/usr/local/lib/python3.9/site-packages/mapel/voting/lp.py\u001b[0m in \u001b[0;36m<module>\u001b[0;34m\u001b[0m\n\u001b[1;32m      1\u001b[0m \u001b[0;31m#!/usr/bin/env python\u001b[0m\u001b[0;34m\u001b[0m\u001b[0;34m\u001b[0m\u001b[0;34m\u001b[0m\u001b[0m\n\u001b[1;32m      2\u001b[0m \u001b[0;34m\u001b[0m\u001b[0m\n\u001b[0;32m----> 3\u001b[0;31m \u001b[0;32mimport\u001b[0m \u001b[0mcplex\u001b[0m\u001b[0;34m\u001b[0m\u001b[0;34m\u001b[0m\u001b[0m\n\u001b[0m\u001b[1;32m      4\u001b[0m \u001b[0;34m\u001b[0m\u001b[0m\n\u001b[1;32m      5\u001b[0m \u001b[0;34m\u001b[0m\u001b[0m\n",
      "\u001b[0;31mModuleNotFoundError\u001b[0m: No module named 'cplex'"
     ]
    }
   ],
   "source": [
    "import mapel\n",
    "import math\n",
    "mapel.hello()\n",
    "\n",
    "print()\n",
    "\n",
    "#mapel.compute_highest_borda(\"testbed_100_100\") \n"
   ]
  },
  {
   "cell_type": "code",
   "execution_count": 22,
   "metadata": {},
   "outputs": [
    {
     "ename": "NameError",
     "evalue": "name 'mapel' is not defined",
     "output_type": "error",
     "traceback": [
      "\u001b[0;31m---------------------------------------------------------------------------\u001b[0m",
      "\u001b[0;31mNameError\u001b[0m                                 Traceback (most recent call last)",
      "\u001b[0;32m<ipython-input-22-895fb9650201>\u001b[0m in \u001b[0;36m<module>\u001b[0;34m\u001b[0m\n\u001b[0;32m----> 1\u001b[0;31m \u001b[0mmapel\u001b[0m\u001b[0;34m.\u001b[0m\u001b[0mprint_2d\u001b[0m\u001b[0;34m(\u001b[0m\u001b[0;34m\"testbed_100_100\"\u001b[0m\u001b[0;34m)\u001b[0m\u001b[0;34m\u001b[0m\u001b[0;34m\u001b[0m\u001b[0m\n\u001b[0m",
      "\u001b[0;31mNameError\u001b[0m: name 'mapel' is not defined"
     ]
    }
   ],
   "source": [
    "mapel.print_2d(\"testbed_100_100\")"
   ]
  },
  {
   "cell_type": "code",
   "execution_count": 23,
   "metadata": {},
   "outputs": [
    {
     "ename": "NameError",
     "evalue": "name 'mapel' is not defined",
     "output_type": "error",
     "traceback": [
      "\u001b[0;31m---------------------------------------------------------------------------\u001b[0m",
      "\u001b[0;31mNameError\u001b[0m                                 Traceback (most recent call last)",
      "\u001b[0;32m<ipython-input-23-9fbf16b19686>\u001b[0m in \u001b[0;36m<module>\u001b[0;34m\u001b[0m\n\u001b[0;32m----> 1\u001b[0;31m \u001b[0mmapel\u001b[0m\u001b[0;34m.\u001b[0m\u001b[0mprint_2d\u001b[0m\u001b[0;34m(\u001b[0m\u001b[0;34m\"testbed_100_100\"\u001b[0m\u001b[0;34m,\u001b[0m \u001b[0mmask\u001b[0m\u001b[0;34m=\u001b[0m\u001b[0;32mTrue\u001b[0m\u001b[0;34m)\u001b[0m\u001b[0;34m\u001b[0m\u001b[0;34m\u001b[0m\u001b[0m\n\u001b[0m",
      "\u001b[0;31mNameError\u001b[0m: name 'mapel' is not defined"
     ]
    }
   ],
   "source": [
    "mapel.print_2d(\"testbed_100_100\", mask=True)"
   ]
  },
  {
   "cell_type": "code",
   "execution_count": 24,
   "metadata": {},
   "outputs": [
    {
     "name": "stdout",
     "output_type": "stream",
     "text": [
      "0 0.0\n",
      "1 1.0\n",
      "2 1.0\n",
      "3 0.0\n",
      "4 0.0\n",
      "5 0.0\n",
      "6 0.0\n",
      "7 0.0\n",
      "8 0.0\n",
      "9 0.0\n",
      "10 0.0\n",
      "11 0.0\n",
      "12 0.0\n",
      "13 0.0\n",
      "14 0.0\n",
      "15 0.0\n",
      "16 1.0\n",
      "17 0.0\n",
      "18 0.0\n",
      "19 0.0\n"
     ]
    },
    {
     "name": "stdout",
     "output_type": "stream",
     "text": [
      "20 0.0\n",
      "21 0.0\n",
      "22 0.0\n",
      "23 0.0\n",
      "24 0.0\n",
      "25 0.0\n",
      "26 0.0\n",
      "27 0.0\n",
      "28 0.0\n",
      "29 0.0\n",
      "30 0.0\n",
      "31 0.0\n"
     ]
    },
    {
     "name": "stdout",
     "output_type": "stream",
     "text": [
      "32 0.0\n",
      "33 1.0\n",
      "34 0.0\n",
      "35 0.0\n",
      "36 0.0\n"
     ]
    },
    {
     "name": "stdout",
     "output_type": "stream",
     "text": [
      "37 0.0\n",
      "38 1.0\n",
      "39 0.0\n",
      "40 1.0\n",
      "41 1.0\n",
      "42 1.0\n",
      "43 1.0\n"
     ]
    },
    {
     "name": "stdout",
     "output_type": "stream",
     "text": [
      "44 0.0\n",
      "45 1.0\n",
      "46 0.0\n",
      "47 1.0\n",
      "48 1.0\n"
     ]
    },
    {
     "name": "stdout",
     "output_type": "stream",
     "text": [
      "49 0.0\n",
      "50 1.0\n",
      "51 0.0\n",
      "52 1.0\n",
      "53 0.0\n",
      "54 1.0\n"
     ]
    },
    {
     "name": "stdout",
     "output_type": "stream",
     "text": [
      "55 0.0\n",
      "56 0.0\n",
      "57 1.0\n",
      "58 1.0\n",
      "59 0.0\n",
      "60 1.0\n",
      "61 1.0\n"
     ]
    },
    {
     "name": "stdout",
     "output_type": "stream",
     "text": [
      "62 0.0\n",
      "63 0.0\n",
      "64 0.0\n",
      "65 1.0\n",
      "66 1.0\n",
      "67 1.0\n",
      "68 1.0\n",
      "69 1.0\n",
      "70 1.0\n",
      "71 1.0\n",
      "72 1.0\n"
     ]
    },
    {
     "name": "stdout",
     "output_type": "stream",
     "text": [
      "73 1.0\n",
      "74 0.0\n",
      "75 0.0\n",
      "76 1.0\n",
      "77 0.0\n",
      "78 0.0\n",
      "79 1.0\n",
      "80 1.0\n"
     ]
    },
    {
     "name": "stdout",
     "output_type": "stream",
     "text": [
      "81 1.0\n",
      "82 1.0\n",
      "83 1.0\n",
      "84 1.0\n",
      "85 1.0\n",
      "86 1.0\n",
      "87 1.0\n",
      "88 1.0\n"
     ]
    },
    {
     "name": "stdout",
     "output_type": "stream",
     "text": [
      "89 1.0\n",
      "90 1.0\n",
      "91 1.0\n",
      "92 1.0\n",
      "93 1.0\n",
      "94 1.0\n",
      "95 1.0\n",
      "96 1.0\n",
      "97 1.0\n",
      "98 1.0\n",
      "99 1.0\n",
      "100 1.0\n"
     ]
    },
    {
     "name": "stdout",
     "output_type": "stream",
     "text": [
      "101 1.0\n",
      "102 0.0\n",
      "103 1.0\n",
      "104 1.0\n",
      "105 1.0\n",
      "106 0.0\n",
      "107 0.0\n",
      "108 1.0\n",
      "109 1.0\n",
      "110 0.0\n"
     ]
    },
    {
     "name": "stdout",
     "output_type": "stream",
     "text": [
      "111 1.0\n",
      "112 1.0\n",
      "113 1.0\n",
      "114 1.0\n",
      "115 1.0\n",
      "116 1.0\n",
      "117 1.0\n",
      "118 1.0\n",
      "119 1.0\n",
      "120 1.0\n",
      "121 1.0\n",
      "122 1.0\n",
      "123 1.0\n"
     ]
    },
    {
     "name": "stdout",
     "output_type": "stream",
     "text": [
      "124 1.0\n",
      "125 1.0\n",
      "126 1.0\n",
      "127 1.0\n",
      "128 1.0\n",
      "129 1.0\n",
      "130 1.0\n",
      "131 1.0\n",
      "132 1.0\n",
      "133 1.0\n",
      "134 1.0\n",
      "135 1.0\n",
      "136 0.0\n",
      "137 1.0\n"
     ]
    },
    {
     "name": "stdout",
     "output_type": "stream",
     "text": [
      "138 1.0\n",
      "139 1.0\n",
      "140 1.0\n",
      "141 1.0\n",
      "142 1.0\n",
      "143 1.0\n",
      "144 1.0\n",
      "145 1.0\n",
      "146 1.0\n",
      "147 1.0\n",
      "148 1.0\n",
      "149 1.0\n",
      "150 1.0\n",
      "151 1.0\n",
      "152 1.0\n"
     ]
    },
    {
     "name": "stdout",
     "output_type": "stream",
     "text": [
      "153 0.0\n",
      "154 1.0\n",
      "155 1.0\n",
      "156 1.0\n",
      "157 1.0\n",
      "158 1.0\n",
      "159 0.0\n",
      "160 1.0\n",
      "161 1.0\n",
      "162 1.0\n",
      "163 1.0\n",
      "164 1.0\n",
      "165 1.0\n",
      "166 1.0\n"
     ]
    },
    {
     "name": "stdout",
     "output_type": "stream",
     "text": [
      "167 1.0\n",
      "168 1.0\n",
      "169 0.0\n",
      "170 1.0\n",
      "171 1.0\n",
      "172 1.0\n",
      "173 1.0\n",
      "174 0.0\n",
      "175 1.0\n",
      "176 0.0\n",
      "177 1.0\n",
      "178 1.0\n",
      "179 1.0\n",
      "180 1.0\n",
      "181 1.0\n",
      "182 1.0\n"
     ]
    },
    {
     "name": "stdout",
     "output_type": "stream",
     "text": [
      "183 1.0\n",
      "184 1.0\n",
      "185 1.0\n",
      "186 1.0\n",
      "187 1.0\n",
      "188 1.0\n",
      "189 0.0\n",
      "190 1.0\n",
      "191 1.0\n",
      "192 0.0\n",
      "193 1.0\n",
      "194 1.0\n",
      "195 1.0\n",
      "196 1.0\n",
      "197 1.0\n",
      "198 0.0\n"
     ]
    },
    {
     "name": "stdout",
     "output_type": "stream",
     "text": [
      "199 1.0\n",
      "200 1.0\n",
      "201 1.0\n",
      "202 1.0\n",
      "203 0.0\n",
      "204 1.0\n",
      "205 1.0\n",
      "206 0.0\n",
      "207 1.0\n",
      "208 1.0\n",
      "209 1.0\n",
      "210 0.0\n",
      "211 0.0\n"
     ]
    },
    {
     "name": "stdout",
     "output_type": "stream",
     "text": [
      "212 1.0\n",
      "213 0.0\n",
      "214 0.0\n",
      "215 0.0\n",
      "216 0.0\n"
     ]
    },
    {
     "name": "stdout",
     "output_type": "stream",
     "text": [
      "217 1.0\n",
      "218 0.0\n",
      "219 0.0\n",
      "220 0.0\n",
      "221 0.0\n",
      "222 0.0\n",
      "223 0.0\n"
     ]
    },
    {
     "name": "stdout",
     "output_type": "stream",
     "text": [
      "224 1.0\n",
      "225 0.0\n",
      "226 1.0\n",
      "227 0.0\n",
      "228 0.0\n",
      "229 0.0\n"
     ]
    },
    {
     "name": "stdout",
     "output_type": "stream",
     "text": [
      "230 0.0\n",
      "231 0.0\n",
      "232 0.0\n",
      "233 0.0\n",
      "234 0.0\n",
      "235 0.0\n",
      "236 0.0\n",
      "237 0.0\n",
      "238 0.0\n"
     ]
    },
    {
     "name": "stdout",
     "output_type": "stream",
     "text": [
      "239 0.0\n",
      "240 0.0\n",
      "241 0.0\n",
      "242 0.0\n",
      "243 0.0\n",
      "244 0.0\n",
      "245 0.0\n",
      "246 0.0\n",
      "247 0.0\n",
      "248 0.0\n"
     ]
    },
    {
     "name": "stdout",
     "output_type": "stream",
     "text": [
      "249 0.0\n",
      "250 0.0\n",
      "251 0.0\n",
      "252 0.0\n",
      "253 0.0\n",
      "254 0.0\n",
      "255 0.0\n",
      "256 0.0\n",
      "257 0.0\n",
      "258 0.0\n",
      "259 0.0\n",
      "260 0.0\n",
      "261 0.0\n",
      "262 0.0\n",
      "263 0.0\n",
      "264 0.0\n"
     ]
    },
    {
     "name": "stdout",
     "output_type": "stream",
     "text": [
      "265 0.0\n",
      "266 0.0\n",
      "267 0.0\n",
      "268 0.0\n",
      "269 0.0\n",
      "270 0.0\n",
      "271 1.0\n",
      "272 0.0\n",
      "273 0.0\n",
      "274 0.0\n",
      "275 0.0\n",
      "276 0.0\n",
      "277 0.0\n",
      "278 0.0\n",
      "279 0.0\n",
      "280 0.0\n"
     ]
    },
    {
     "name": "stdout",
     "output_type": "stream",
     "text": [
      "281 0.0\n",
      "282 0.0\n",
      "283 0.0\n",
      "284 0.0\n",
      "285 0.0\n",
      "286 0.0\n",
      "287 0.0\n",
      "288 0.0\n",
      "289 0.0\n",
      "290 0.0\n",
      "291 0.0\n",
      "292 0.0\n",
      "293 0.0\n",
      "294 0.0\n",
      "295 0.0\n",
      "296 0.0\n",
      "297 0.0\n"
     ]
    },
    {
     "name": "stdout",
     "output_type": "stream",
     "text": [
      "298 0.0\n",
      "299 0.0\n",
      "300 0.0\n",
      "301 0.0\n",
      "302 0.0\n",
      "303 0.0\n",
      "304 0.0\n",
      "305 0.0\n",
      "306 0.0\n",
      "307 1.0\n"
     ]
    },
    {
     "name": "stdout",
     "output_type": "stream",
     "text": [
      "308 0.0\n",
      "309 0.0\n",
      "310 0.0\n",
      "311 0.0\n",
      "312 0.0\n",
      "313 0.0\n",
      "314 0.0\n",
      "315 0.0\n",
      "316 1.0\n",
      "317 0.0\n",
      "318 0.0\n"
     ]
    },
    {
     "name": "stdout",
     "output_type": "stream",
     "text": [
      "319 0.0\n",
      "320 1.0\n",
      "321 0.0\n",
      "322 0.0\n",
      "323 0.0\n",
      "324 0.0\n",
      "325 0.0\n",
      "326 0.0\n"
     ]
    },
    {
     "name": "stdout",
     "output_type": "stream",
     "text": [
      "327 0.0\n",
      "328 0.0\n",
      "329 0.0\n",
      "330 1.0\n",
      "331 1.0\n",
      "332 1.0\n",
      "333 0.0\n",
      "334 1.0\n",
      "335 1.0\n",
      "336 1.0\n"
     ]
    },
    {
     "name": "stdout",
     "output_type": "stream",
     "text": [
      "337 1.0\n",
      "338 1.0\n",
      "339 1.0\n",
      "340 1.0\n",
      "341 1.0\n",
      "342 1.0\n",
      "343 0.0\n",
      "344 0.0\n",
      "345 0.0\n",
      "346 1.0\n"
     ]
    },
    {
     "name": "stdout",
     "output_type": "stream",
     "text": [
      "347 1.0\n",
      "348 1.0\n",
      "349 1.0\n",
      "350 1.0\n",
      "351 1.0\n",
      "352 1.0\n",
      "353 1.0\n",
      "354 1.0\n",
      "355 1.0\n",
      "356 1.0\n"
     ]
    },
    {
     "name": "stdout",
     "output_type": "stream",
     "text": [
      "357 1.0\n",
      "358 1.0\n",
      "359 1.0\n",
      "360 1.0\n",
      "361 0.0\n",
      "362 0.0\n"
     ]
    },
    {
     "name": "stdout",
     "output_type": "stream",
     "text": [
      "363 0.0\n",
      "364 0.0\n",
      "365 0.0\n",
      "366 0.0\n",
      "367 1.0\n"
     ]
    },
    {
     "name": "stdout",
     "output_type": "stream",
     "text": [
      "368 0.0\n",
      "369 1.0\n",
      "370 0.0\n",
      "371 0.0\n",
      "372 0.0\n",
      "373 1.0\n"
     ]
    },
    {
     "name": "stdout",
     "output_type": "stream",
     "text": [
      "374 0.0\n",
      "375 0.0\n",
      "376 0.0\n",
      "377 0.0\n"
     ]
    },
    {
     "name": "stdout",
     "output_type": "stream",
     "text": [
      "378 1.0\n",
      "379 0.0\n",
      "380 1.0\n",
      "381 0.0\n",
      "382 1.0\n"
     ]
    },
    {
     "name": "stdout",
     "output_type": "stream",
     "text": [
      "383 0.0\n",
      "384 1.0\n",
      "385 0.0\n",
      "386 0.0\n",
      "387 1.0\n"
     ]
    },
    {
     "name": "stdout",
     "output_type": "stream",
     "text": [
      "388 0.0\n",
      "389 0.0\n",
      "390 1.0\n",
      "391 1.0\n",
      "392 0.0\n"
     ]
    },
    {
     "name": "stdout",
     "output_type": "stream",
     "text": [
      "393 1.0\n",
      "394 1.0\n",
      "395 1.0\n",
      "396 1.0\n",
      "397 1.0\n",
      "398 1.0\n",
      "399 1.0\n"
     ]
    },
    {
     "name": "stdout",
     "output_type": "stream",
     "text": [
      "400 1.0\n",
      "401 1.0\n",
      "402 0.0\n",
      "403 1.0\n",
      "404 1.0\n"
     ]
    },
    {
     "name": "stdout",
     "output_type": "stream",
     "text": [
      "405 1.0\n",
      "406 0.0\n",
      "407 1.0\n",
      "408 1.0\n",
      "409 1.0\n",
      "410 1.0\n"
     ]
    },
    {
     "name": "stdout",
     "output_type": "stream",
     "text": [
      "411 1.0\n",
      "412 1.0\n",
      "413 1.0\n",
      "414 1.0\n",
      "415 0.0\n",
      "416 1.0\n",
      "417 1.0\n"
     ]
    },
    {
     "name": "stdout",
     "output_type": "stream",
     "text": [
      "418 1.0\n",
      "419 1.0\n",
      "420 0.0\n",
      "421 1.0\n",
      "422 1.0\n",
      "423 1.0\n",
      "424 1.0\n",
      "425 0.0\n",
      "426 0.0\n",
      "427 1.0\n",
      "428 0.0\n",
      "429 0.0\n",
      "430 0.0\n",
      "431 0.0\n",
      "432 0.0\n",
      "433 0.0\n",
      "434 0.0\n",
      "435 1.0\n",
      "436 1.0\n",
      "437 1.0\n"
     ]
    },
    {
     "name": "stdout",
     "output_type": "stream",
     "text": [
      "438 0.0\n",
      "439 1.0\n",
      "440 0.0\n",
      "441 0.0\n",
      "442 0.0\n",
      "443 0.0\n",
      "444 0.0\n",
      "445 1.0\n",
      "446 0.0\n",
      "447 1.0\n",
      "448 0.0\n",
      "449 1.0\n",
      "450 1.0\n",
      "451 0.0\n",
      "452 0.0\n",
      "453 1.0\n",
      "454 0.0\n",
      "455 0.0\n",
      "456 0.0\n",
      "457 1.0\n",
      "458 0.0\n",
      "459 0.0\n"
     ]
    },
    {
     "name": "stdout",
     "output_type": "stream",
     "text": [
      "460 0.0\n",
      "461 0.0\n",
      "462 1.0\n",
      "463 0.0\n",
      "464 1.0\n",
      "465 0.0\n",
      "466 0.0\n",
      "467 0.0\n",
      "468 0.0\n",
      "469 0.0\n",
      "470 1.0\n",
      "471 0.0\n",
      "472 0.0\n",
      "473 0.0\n",
      "474 0.0\n",
      "475 0.0\n",
      "476 0.0\n",
      "477 0.0\n",
      "478 0.0\n",
      "479 0.0\n",
      "480 0.0\n"
     ]
    },
    {
     "name": "stdout",
     "output_type": "stream",
     "text": [
      "481 0.0\n",
      "482 0.0\n",
      "483 0.0\n",
      "484 0.0\n",
      "485 0.0\n",
      "486 0.0\n",
      "487 0.0\n",
      "488 0.0\n",
      "489 0.0\n",
      "490 0.0\n",
      "491 0.0\n",
      "492 0.0\n",
      "493 0.0\n",
      "494 0.0\n",
      "495 0.0\n",
      "496 0.0\n",
      "497 0.0\n",
      "498 0.0\n",
      "499 1.0\n",
      "500 1.0\n",
      "501 1.0\n",
      "502 0.0\n",
      "503 0.0\n"
     ]
    },
    {
     "name": "stdout",
     "output_type": "stream",
     "text": [
      "504 0.0\n",
      "505 0.0\n",
      "506 0.0\n",
      "507 0.0\n",
      "508 0.0\n",
      "509 0.0\n",
      "510 0.0\n",
      "511 0.0\n",
      "512 0.0\n",
      "513 0.0\n",
      "514 0.0\n",
      "515 0.0\n",
      "516 0.0\n",
      "517 1.0\n",
      "518 0.0\n",
      "519 0.0\n",
      "520 1.0\n",
      "521 0.0\n",
      "522 0.0\n",
      "523 1.0\n",
      "524 0.0\n",
      "525 0.0\n"
     ]
    },
    {
     "name": "stdout",
     "output_type": "stream",
     "text": [
      "526 0.0\n",
      "527 0.0\n",
      "528 1.0\n",
      "529 0.0\n",
      "530 0.0\n",
      "531 0.0\n",
      "532 0.0\n",
      "533 0.0\n",
      "534 0.0\n",
      "535 0.0\n",
      "536 1.0\n",
      "537 1.0\n",
      "538 0.0\n",
      "539 0.0\n",
      "540 0.0\n",
      "541 0.0\n",
      "542 0.0\n",
      "543 0.0\n",
      "544 1.0\n",
      "545 0.0\n",
      "546 0.0\n",
      "547 0.0\n"
     ]
    },
    {
     "name": "stdout",
     "output_type": "stream",
     "text": [
      "548 0.0\n",
      "549 0.0\n",
      "550 0.0\n",
      "551 0.0\n",
      "552 0.0\n",
      "553 0.0\n",
      "554 0.0\n",
      "555 0.0\n",
      "556 0.0\n",
      "557 0.0\n",
      "558 0.0\n",
      "559 0.0\n",
      "560 0.0\n",
      "561 0.0\n",
      "562 0.0\n",
      "563 0.0\n",
      "564 0.0\n",
      "565 0.0\n",
      "566 0.0\n",
      "567 0.0\n",
      "568 0.0\n",
      "569 0.0\n"
     ]
    },
    {
     "name": "stdout",
     "output_type": "stream",
     "text": [
      "570 0.0\n",
      "571 0.0\n",
      "572 0.0\n",
      "573 0.0\n",
      "574 0.0\n",
      "575 0.0\n",
      "576 0.0\n",
      "577 0.0\n",
      "578 0.0\n",
      "579 0.0\n",
      "580 0.0\n",
      "581 0.0\n",
      "582 0.0\n",
      "583 0.0\n",
      "584 0.0\n",
      "585 1.0\n",
      "586 0.0\n",
      "587 0.0\n",
      "588 0.0\n",
      "589 0.0\n",
      "590 0.0\n",
      "591 0.0\n"
     ]
    },
    {
     "name": "stdout",
     "output_type": "stream",
     "text": [
      "592 0.0\n",
      "593 0.0\n",
      "594 0.0\n",
      "595 0.0\n",
      "596 0.0\n",
      "597 0.0\n",
      "598 0.0\n",
      "599 0.0\n",
      "600 0.0\n",
      "601 0.0\n",
      "602 0.0\n",
      "603 0.0\n",
      "604 0.0\n",
      "605 0.0\n",
      "606 0.0\n",
      "607 0.0\n",
      "608 0.0\n",
      "609 0.0\n",
      "610 0.0\n",
      "611 0.0\n"
     ]
    },
    {
     "name": "stdout",
     "output_type": "stream",
     "text": [
      "612 0.0\n",
      "613 0.0\n",
      "614 0.0\n",
      "615 0.0\n",
      "616 0.0\n",
      "617 0.0\n",
      "618 0.0\n",
      "619 0.0\n",
      "620 0.0\n",
      "621 0.0\n",
      "622 1.0\n",
      "623 0.0\n",
      "624 0.0\n",
      "625 0.0\n",
      "626 0.0\n",
      "627 0.0\n",
      "628 1.0\n",
      "629 0.0\n",
      "630 0.0\n",
      "631 1.0\n",
      "632 0.0\n",
      "633 0.0\n",
      "634 0.0\n",
      "635 0.0\n",
      "636 0.0\n",
      "637 0.0\n",
      "638 1.0\n",
      "639 0.0\n",
      "640 0.0\n"
     ]
    },
    {
     "name": "stdout",
     "output_type": "stream",
     "text": [
      "641 0.0\n",
      "642 1.0\n",
      "643 1.0\n",
      "644 0.0\n",
      "645 0.0\n",
      "646 1.0\n",
      "647 1.0\n",
      "648 1.0\n",
      "649 1.0\n",
      "650 1.0\n",
      "651 1.0\n",
      "652 0.0\n",
      "653 0.0\n",
      "654 0.0\n",
      "655 0.0\n",
      "656 0.0\n",
      "657 0.0\n",
      "658 1.0\n",
      "659 0.0\n",
      "660 1.0\n",
      "661 1.0\n",
      "662 1.0\n",
      "663 1.0\n",
      "664 1.0\n",
      "665 1.0\n",
      "666 1.0\n",
      "667 1.0\n",
      "668 1.0\n"
     ]
    },
    {
     "name": "stdout",
     "output_type": "stream",
     "text": [
      "669 1.0\n",
      "670 1.0\n",
      "671 1.0\n",
      "672 0.0\n",
      "673 1.0\n",
      "674 1.0\n",
      "675 1.0\n",
      "676 1.0\n",
      "677 1.0\n",
      "678 1.0\n",
      "679 1.0\n",
      "680 1.0\n",
      "681 1.0\n",
      "682 1.0\n",
      "683 1.0\n",
      "684 1.0\n",
      "685 1.0\n",
      "686 1.0\n",
      "687 1.0\n"
     ]
    },
    {
     "name": "stdout",
     "output_type": "stream",
     "text": [
      "688 1.0\n",
      "689 1.0\n",
      "690 1.0\n",
      "691 1.0\n",
      "692 1.0\n",
      "693 1.0\n",
      "694 1.0\n",
      "695 1.0\n",
      "696 1.0\n",
      "697 1.0\n",
      "698 1.0\n",
      "699 1.0\n",
      "700 1.0\n",
      "701 1.0\n",
      "702 1.0\n",
      "703 1.0\n",
      "704 1.0\n",
      "705 1.0\n",
      "706 1.0\n",
      "707 1.0\n",
      "708 1.0\n",
      "709 1.0\n",
      "710 1.0\n",
      "711 1.0\n",
      "712 1.0\n",
      "713 1.0\n",
      "714 1.0\n",
      "715 1.0\n",
      "716 1.0\n",
      "717 1.0\n",
      "718 1.0\n",
      "719 1.0\n"
     ]
    },
    {
     "name": "stdout",
     "output_type": "stream",
     "text": [
      "720 1.0\n",
      "721 1.0\n",
      "722 1.0\n",
      "723 1.0\n",
      "724 1.0\n",
      "725 1.0\n",
      "726 1.0\n",
      "727 1.0\n",
      "728 1.0\n",
      "729 1.0\n",
      "730 1.0\n",
      "731 1.0\n",
      "732 1.0\n",
      "733 1.0\n",
      "734 1.0\n",
      "735 1.0\n",
      "736 1.0\n",
      "737 1.0\n",
      "738 1.0\n",
      "739 1.0\n",
      "740 1.0\n",
      "741 1.0\n",
      "742 1.0\n",
      "743 1.0\n",
      "744 1.0\n",
      "745 1.0\n",
      "746 1.0\n",
      "747 1.0\n",
      "748 1.0\n",
      "749 1.0\n",
      "750 1.0\n",
      "751 1.0\n",
      "752 1.0\n"
     ]
    },
    {
     "name": "stdout",
     "output_type": "stream",
     "text": [
      "753 1.0\n",
      "754 1.0\n",
      "755 1.0\n",
      "756 1.0\n",
      "757 1.0\n",
      "758 1.0\n",
      "759 1.0\n",
      "760 1.0\n",
      "761 1.0\n",
      "762 1.0\n",
      "763 1.0\n",
      "764 1.0\n",
      "765 1.0\n",
      "766 1.0\n",
      "767 1.0\n",
      "768 1.0\n",
      "769 1.0\n",
      "770 1.0\n",
      "771 1.0\n",
      "772 1.0\n",
      "773 1.0\n",
      "774 1.0\n",
      "775 1.0\n",
      "776 1.0\n",
      "777 1.0\n",
      "778 1.0\n",
      "779 1.0\n",
      "780 1.0\n",
      "781 1.0\n",
      "782 1.0\n",
      "783 1.0\n",
      "784 1.0\n"
     ]
    },
    {
     "name": "stdout",
     "output_type": "stream",
     "text": [
      "785 1.0\n",
      "786 1.0\n",
      "787 1.0\n",
      "788 1.0\n",
      "789 1.0\n",
      "790 1.0\n",
      "791 1.0\n",
      "792 1.0\n",
      "793 1.0\n",
      "794 1.0\n",
      "795 1.0\n",
      "796 1.0\n",
      "797 1.0\n",
      "798 1.0\n",
      "799 1.0\n"
     ]
    }
   ],
   "source": [
    "import os\n",
    "from mapel.voting import objects as obj\n",
    "\n",
    "def get_highest_borda_score(election):\n",
    "    scores = [0 for _ in range(election.num_candidates)]\n",
    "    for vote in election.votes:\n",
    "        print(vote)\n",
    "        for i in range(len(vote)):\n",
    "            scores[vote[i]] += election.num_candidates - i - 1\n",
    "    return max(scores)\n",
    "\n",
    "\n",
    "def is_condorect_winner(election):\n",
    "\n",
    "    for i in range(election.num_candidates):\n",
    "\n",
    "        condocret_winner = True\n",
    "        for j in range(election.num_candidates):\n",
    "\n",
    "            diff = 0\n",
    "            for k in range(election.num_voters):\n",
    "\n",
    "                if election.potes[k][i] <= election.potes[k][j]:\n",
    "                    diff += 1\n",
    "\n",
    "            if diff < math.ceil((election.num_voters+1)/2.):\n",
    "                condocret_winner = False\n",
    "                break\n",
    "\n",
    "        if condocret_winner:\n",
    "            return True\n",
    "\n",
    "    return False\n",
    "\n",
    "\n",
    "def compute_highest_borda(experiment_id):\n",
    "\n",
    "    model = obj.Model(experiment_id)\n",
    "    for i in range(model.num_elections)[0:10]:\n",
    "        election_id = 'core_' + str(i)\n",
    "        election = obj.Election(experiment_id, election_id)\n",
    "        score = get_highest_borda_score(election)\n",
    "        print(i, score)\n",
    "\n",
    "        file_name = 'borda_score.txt'\n",
    "        path = os.path.join(os.getcwd(), 'experiments', experiment_id, 'controllers', 'advanced', file_name)\n",
    "        with open(path, 'a') as txtfile:\n",
    "            txtfile.write(str(score) + \"\\n\")\n",
    "\n",
    "def compute_condorcet_winner(experiment_id):\n",
    "\n",
    "    model = obj.Model(experiment_id)\n",
    "    file_name = 'condorcet_score.txt'\n",
    "    path = os.path.join(os.getcwd(), 'experiments', experiment_id, 'controllers', 'advanced', file_name)\n",
    "    os.remove(path)\n",
    "    for i in range(model.num_elections):\n",
    "        election_id = 'core_' + str(i)\n",
    "        election = obj.Election(experiment_id, election_id)\n",
    "        score = float(int(is_condorect_winner(election)))\n",
    "        print(i, score)\n",
    "\n",
    "        file_name = 'condorcet_score.txt'\n",
    "        path = os.path.join(os.getcwd(), 'experiments', experiment_id, 'controllers', 'advanced', file_name)\n",
    "        with open(path, 'a') as txtfile:\n",
    "            txtfile.write(str(score) + \"\\n\")\n",
    "\n",
    "compute_condorcet_winner('testbed_100_100')"
   ]
  },
  {
   "cell_type": "code",
   "execution_count": 25,
   "metadata": {},
   "outputs": [
    {
     "ename": "NameError",
     "evalue": "name 'mapel' is not defined",
     "output_type": "error",
     "traceback": [
      "\u001b[0;31m---------------------------------------------------------------------------\u001b[0m",
      "\u001b[0;31mNameError\u001b[0m                                 Traceback (most recent call last)",
      "\u001b[0;32m<ipython-input-25-9fbf16b19686>\u001b[0m in \u001b[0;36m<module>\u001b[0;34m\u001b[0m\n\u001b[0;32m----> 1\u001b[0;31m \u001b[0mmapel\u001b[0m\u001b[0;34m.\u001b[0m\u001b[0mprint_2d\u001b[0m\u001b[0;34m(\u001b[0m\u001b[0;34m\"testbed_100_100\"\u001b[0m\u001b[0;34m,\u001b[0m \u001b[0mmask\u001b[0m\u001b[0;34m=\u001b[0m\u001b[0;32mTrue\u001b[0m\u001b[0;34m)\u001b[0m\u001b[0;34m\u001b[0m\u001b[0;34m\u001b[0m\u001b[0m\n\u001b[0m",
      "\u001b[0;31mNameError\u001b[0m: name 'mapel' is not defined"
     ]
    }
   ],
   "source": [
    "mapel.print_2d(\"testbed_100_100\", mask=True)"
   ]
  },
  {
   "cell_type": "code",
   "execution_count": 26,
   "metadata": {},
   "outputs": [
    {
     "ename": "NameError",
     "evalue": "name 'mapel' is not defined",
     "output_type": "error",
     "traceback": [
      "\u001b[0;31m---------------------------------------------------------------------------\u001b[0m",
      "\u001b[0;31mNameError\u001b[0m                                 Traceback (most recent call last)",
      "\u001b[0;32m<ipython-input-26-6f289ef9bba4>\u001b[0m in \u001b[0;36m<module>\u001b[0;34m\u001b[0m\n\u001b[1;32m      1\u001b[0m \u001b[0mfile_name\u001b[0m \u001b[0;34m=\u001b[0m \u001b[0;34m'condorcet_score'\u001b[0m\u001b[0;34m\u001b[0m\u001b[0;34m\u001b[0m\u001b[0m\n\u001b[0;32m----> 2\u001b[0;31m \u001b[0mmapel\u001b[0m\u001b[0;34m.\u001b[0m\u001b[0mprint_2d\u001b[0m\u001b[0;34m(\u001b[0m\u001b[0;34m'testbed_100_100'\u001b[0m\u001b[0;34m,\u001b[0m \u001b[0mvalues\u001b[0m\u001b[0;34m=\u001b[0m\u001b[0mfile_name\u001b[0m\u001b[0;34m)\u001b[0m\u001b[0;34m\u001b[0m\u001b[0;34m\u001b[0m\u001b[0m\n\u001b[0m",
      "\u001b[0;31mNameError\u001b[0m: name 'mapel' is not defined"
     ]
    }
   ],
   "source": [
    "file_name = 'condorcet_score'\n",
    "mapel.print_2d('testbed_100_100', values=file_name)\n"
   ]
  },
  {
   "cell_type": "code",
   "execution_count": 27,
   "metadata": {},
   "outputs": [
    {
     "name": "stdout",
     "output_type": "stream",
     "text": [
      "0 5.0\n",
      "1 5.0\n"
     ]
    },
    {
     "name": "stdout",
     "output_type": "stream",
     "text": [
      "2 5.0\n",
      "3 4.0\n"
     ]
    },
    {
     "name": "stdout",
     "output_type": "stream",
     "text": [
      "4 3.0\n",
      "5 5.0\n"
     ]
    },
    {
     "name": "stdout",
     "output_type": "stream",
     "text": [
      "6 3.0\n",
      "7 5.0\n"
     ]
    },
    {
     "name": "stdout",
     "output_type": "stream",
     "text": [
      "8 5.0\n",
      "9 4.0\n",
      "10 4.0\n"
     ]
    },
    {
     "name": "stdout",
     "output_type": "stream",
     "text": [
      "11 5.0\n",
      "12 5.0\n"
     ]
    },
    {
     "name": "stdout",
     "output_type": "stream",
     "text": [
      "13 5.0\n",
      "14 5.0\n",
      "15 5.0\n"
     ]
    },
    {
     "name": "stdout",
     "output_type": "stream",
     "text": [
      "16 5.0\n",
      "17 5.0\n"
     ]
    },
    {
     "name": "stdout",
     "output_type": "stream",
     "text": [
      "18 5.0\n",
      "19 5.0\n"
     ]
    },
    {
     "name": "stdout",
     "output_type": "stream",
     "text": [
      "20 5.0\n",
      "21 5.0\n"
     ]
    },
    {
     "name": "stdout",
     "output_type": "stream",
     "text": [
      "22 5.0\n",
      "23 5.0\n"
     ]
    },
    {
     "name": "stdout",
     "output_type": "stream",
     "text": [
      "24 5.0\n",
      "25 5.0\n"
     ]
    },
    {
     "name": "stdout",
     "output_type": "stream",
     "text": [
      "26 5.0\n",
      "27 4.0\n"
     ]
    },
    {
     "name": "stdout",
     "output_type": "stream",
     "text": [
      "28 5.0\n",
      "29 5.0\n"
     ]
    },
    {
     "name": "stdout",
     "output_type": "stream",
     "text": [
      "30 5.0\n"
     ]
    },
    {
     "name": "stdout",
     "output_type": "stream",
     "text": [
      "31 5.0\n"
     ]
    },
    {
     "name": "stdout",
     "output_type": "stream",
     "text": [
      "32 4.0\n"
     ]
    },
    {
     "name": "stdout",
     "output_type": "stream",
     "text": [
      "33 5.0\n"
     ]
    },
    {
     "name": "stdout",
     "output_type": "stream",
     "text": [
      "34 5.0\n"
     ]
    },
    {
     "name": "stdout",
     "output_type": "stream",
     "text": [
      "35 5.0\n"
     ]
    },
    {
     "name": "stdout",
     "output_type": "stream",
     "text": [
      "36 5.0\n"
     ]
    },
    {
     "name": "stdout",
     "output_type": "stream",
     "text": [
      "37 5.0\n"
     ]
    },
    {
     "name": "stdout",
     "output_type": "stream",
     "text": [
      "38 5.0\n"
     ]
    },
    {
     "name": "stdout",
     "output_type": "stream",
     "text": [
      "39 5.0\n"
     ]
    },
    {
     "name": "stdout",
     "output_type": "stream",
     "text": [
      "40 5.0\n"
     ]
    },
    {
     "name": "stdout",
     "output_type": "stream",
     "text": [
      "41 5.0\n"
     ]
    },
    {
     "name": "stdout",
     "output_type": "stream",
     "text": [
      "42 5.0\n"
     ]
    },
    {
     "name": "stdout",
     "output_type": "stream",
     "text": [
      "43 2.0\n"
     ]
    },
    {
     "name": "stdout",
     "output_type": "stream",
     "text": [
      "44 5.0\n"
     ]
    },
    {
     "name": "stdout",
     "output_type": "stream",
     "text": [
      "45 5.0\n"
     ]
    },
    {
     "name": "stdout",
     "output_type": "stream",
     "text": [
      "46 5.0\n"
     ]
    },
    {
     "name": "stdout",
     "output_type": "stream",
     "text": [
      "47 5.0\n"
     ]
    },
    {
     "name": "stdout",
     "output_type": "stream",
     "text": [
      "48 4.0\n"
     ]
    },
    {
     "name": "stdout",
     "output_type": "stream",
     "text": [
      "49 5.0\n"
     ]
    },
    {
     "name": "stdout",
     "output_type": "stream",
     "text": [
      "50 5.0\n"
     ]
    },
    {
     "name": "stdout",
     "output_type": "stream",
     "text": [
      "51 5.0\n"
     ]
    },
    {
     "name": "stdout",
     "output_type": "stream",
     "text": [
      "52 5.0\n"
     ]
    },
    {
     "name": "stdout",
     "output_type": "stream",
     "text": [
      "53 4.0\n"
     ]
    },
    {
     "name": "stdout",
     "output_type": "stream",
     "text": [
      "54 5.0\n"
     ]
    },
    {
     "name": "stdout",
     "output_type": "stream",
     "text": [
      "55 5.0\n"
     ]
    },
    {
     "name": "stdout",
     "output_type": "stream",
     "text": [
      "56 5.0\n"
     ]
    },
    {
     "name": "stdout",
     "output_type": "stream",
     "text": [
      "57 5.0\n"
     ]
    },
    {
     "name": "stdout",
     "output_type": "stream",
     "text": [
      "58 5.0\n"
     ]
    },
    {
     "name": "stdout",
     "output_type": "stream",
     "text": [
      "59 5.0\n"
     ]
    },
    {
     "name": "stdout",
     "output_type": "stream",
     "text": [
      "60 5.0\n"
     ]
    },
    {
     "name": "stdout",
     "output_type": "stream",
     "text": [
      "61 4.0\n"
     ]
    },
    {
     "name": "stdout",
     "output_type": "stream",
     "text": [
      "62 5.0\n"
     ]
    },
    {
     "name": "stdout",
     "output_type": "stream",
     "text": [
      "63 5.0\n"
     ]
    },
    {
     "name": "stdout",
     "output_type": "stream",
     "text": [
      "64 5.0\n"
     ]
    },
    {
     "name": "stdout",
     "output_type": "stream",
     "text": [
      "65 3.0\n"
     ]
    },
    {
     "name": "stdout",
     "output_type": "stream",
     "text": [
      "66 3.0\n"
     ]
    },
    {
     "name": "stdout",
     "output_type": "stream",
     "text": [
      "67 5.0\n"
     ]
    },
    {
     "name": "stdout",
     "output_type": "stream",
     "text": [
      "68 5.0\n"
     ]
    },
    {
     "name": "stdout",
     "output_type": "stream",
     "text": [
      "69 5.0\n"
     ]
    },
    {
     "name": "stdout",
     "output_type": "stream",
     "text": [
      "70 5.0\n"
     ]
    },
    {
     "name": "stdout",
     "output_type": "stream",
     "text": [
      "71 4.0\n"
     ]
    },
    {
     "name": "stdout",
     "output_type": "stream",
     "text": [
      "72 4.0\n"
     ]
    },
    {
     "name": "stdout",
     "output_type": "stream",
     "text": [
      "73 5.0\n"
     ]
    },
    {
     "name": "stdout",
     "output_type": "stream",
     "text": [
      "74 5.0\n"
     ]
    },
    {
     "name": "stdout",
     "output_type": "stream",
     "text": [
      "75 5.0\n"
     ]
    },
    {
     "name": "stdout",
     "output_type": "stream",
     "text": [
      "76 5.0\n"
     ]
    },
    {
     "name": "stdout",
     "output_type": "stream",
     "text": [
      "77 5.0\n"
     ]
    },
    {
     "name": "stdout",
     "output_type": "stream",
     "text": [
      "78 5.0\n"
     ]
    },
    {
     "name": "stdout",
     "output_type": "stream",
     "text": [
      "79 4.0\n"
     ]
    },
    {
     "name": "stdout",
     "output_type": "stream",
     "text": [
      "80 5.0\n"
     ]
    },
    {
     "name": "stdout",
     "output_type": "stream",
     "text": [
      "81 5.0\n"
     ]
    },
    {
     "name": "stdout",
     "output_type": "stream",
     "text": [
      "82 5.0\n"
     ]
    },
    {
     "name": "stdout",
     "output_type": "stream",
     "text": [
      "83 5.0\n"
     ]
    },
    {
     "name": "stdout",
     "output_type": "stream",
     "text": [
      "84 5.0\n"
     ]
    },
    {
     "name": "stdout",
     "output_type": "stream",
     "text": [
      "85 4.0\n"
     ]
    },
    {
     "name": "stdout",
     "output_type": "stream",
     "text": [
      "86 5.0\n"
     ]
    },
    {
     "name": "stdout",
     "output_type": "stream",
     "text": [
      "87 5.0\n"
     ]
    },
    {
     "name": "stdout",
     "output_type": "stream",
     "text": [
      "88 5.0\n"
     ]
    },
    {
     "name": "stdout",
     "output_type": "stream",
     "text": [
      "89 5.0\n"
     ]
    },
    {
     "name": "stdout",
     "output_type": "stream",
     "text": [
      "90 5.0\n"
     ]
    },
    {
     "name": "stdout",
     "output_type": "stream",
     "text": [
      "91 5.0\n"
     ]
    },
    {
     "name": "stdout",
     "output_type": "stream",
     "text": [
      "92 4.0\n"
     ]
    },
    {
     "name": "stdout",
     "output_type": "stream",
     "text": [
      "93 5.0\n"
     ]
    },
    {
     "name": "stdout",
     "output_type": "stream",
     "text": [
      "94 5.0\n"
     ]
    },
    {
     "name": "stdout",
     "output_type": "stream",
     "text": [
      "95 5.0\n"
     ]
    },
    {
     "name": "stdout",
     "output_type": "stream",
     "text": [
      "96 5.0\n"
     ]
    },
    {
     "name": "stdout",
     "output_type": "stream",
     "text": [
      "97 5.0\n"
     ]
    },
    {
     "name": "stdout",
     "output_type": "stream",
     "text": [
      "98 4.0\n"
     ]
    },
    {
     "name": "stdout",
     "output_type": "stream",
     "text": [
      "99 4.0\n"
     ]
    },
    {
     "name": "stdout",
     "output_type": "stream",
     "text": [
      "100 5.0\n"
     ]
    },
    {
     "name": "stdout",
     "output_type": "stream",
     "text": [
      "101 4.0\n"
     ]
    },
    {
     "name": "stdout",
     "output_type": "stream",
     "text": [
      "102 5.0\n"
     ]
    },
    {
     "name": "stdout",
     "output_type": "stream",
     "text": [
      "103 3.0\n"
     ]
    },
    {
     "name": "stdout",
     "output_type": "stream",
     "text": [
      "104 5.0\n"
     ]
    },
    {
     "name": "stdout",
     "output_type": "stream",
     "text": [
      "105 4.0\n"
     ]
    },
    {
     "name": "stdout",
     "output_type": "stream",
     "text": [
      "106 4.0\n"
     ]
    },
    {
     "name": "stdout",
     "output_type": "stream",
     "text": [
      "107 5.0\n"
     ]
    },
    {
     "name": "stdout",
     "output_type": "stream",
     "text": [
      "108 5.0\n"
     ]
    },
    {
     "name": "stdout",
     "output_type": "stream",
     "text": [
      "109 5.0\n"
     ]
    },
    {
     "name": "stdout",
     "output_type": "stream",
     "text": [
      "110 5.0\n"
     ]
    },
    {
     "name": "stdout",
     "output_type": "stream",
     "text": [
      "111 5.0\n"
     ]
    },
    {
     "name": "stdout",
     "output_type": "stream",
     "text": [
      "112 5.0\n"
     ]
    },
    {
     "name": "stdout",
     "output_type": "stream",
     "text": [
      "113 5.0\n"
     ]
    },
    {
     "name": "stdout",
     "output_type": "stream",
     "text": [
      "114 5.0\n"
     ]
    },
    {
     "name": "stdout",
     "output_type": "stream",
     "text": [
      "115 3.0\n"
     ]
    },
    {
     "name": "stdout",
     "output_type": "stream",
     "text": [
      "116 3.0\n"
     ]
    },
    {
     "name": "stdout",
     "output_type": "stream",
     "text": [
      "117 5.0\n"
     ]
    },
    {
     "name": "stdout",
     "output_type": "stream",
     "text": [
      "118 5.0\n"
     ]
    },
    {
     "name": "stdout",
     "output_type": "stream",
     "text": [
      "119 4.0\n"
     ]
    },
    {
     "name": "stdout",
     "output_type": "stream",
     "text": [
      "120 3.0\n",
      "121 5.0\n"
     ]
    },
    {
     "name": "stdout",
     "output_type": "stream",
     "text": [
      "122 5.0\n",
      "123 4.0\n"
     ]
    },
    {
     "name": "stdout",
     "output_type": "stream",
     "text": [
      "124 4.0\n",
      "125 5.0\n"
     ]
    },
    {
     "name": "stdout",
     "output_type": "stream",
     "text": [
      "126 4.0\n",
      "127 5.0\n"
     ]
    },
    {
     "name": "stdout",
     "output_type": "stream",
     "text": [
      "128 5.0\n"
     ]
    },
    {
     "name": "stdout",
     "output_type": "stream",
     "text": [
      "129 5.0\n"
     ]
    },
    {
     "name": "stdout",
     "output_type": "stream",
     "text": [
      "130 5.0\n"
     ]
    },
    {
     "name": "stdout",
     "output_type": "stream",
     "text": [
      "131 5.0\n",
      "132 5.0\n"
     ]
    },
    {
     "name": "stdout",
     "output_type": "stream",
     "text": [
      "133 4.0\n",
      "134 5.0\n"
     ]
    },
    {
     "name": "stdout",
     "output_type": "stream",
     "text": [
      "135 5.0\n",
      "136 5.0\n"
     ]
    },
    {
     "name": "stdout",
     "output_type": "stream",
     "text": [
      "137 4.0\n"
     ]
    },
    {
     "name": "stdout",
     "output_type": "stream",
     "text": [
      "138 5.0\n"
     ]
    },
    {
     "name": "stdout",
     "output_type": "stream",
     "text": [
      "139 5.0\n"
     ]
    },
    {
     "name": "stdout",
     "output_type": "stream",
     "text": [
      "140 5.0\n"
     ]
    },
    {
     "name": "stdout",
     "output_type": "stream",
     "text": [
      "141 4.0\n",
      "142 5.0\n"
     ]
    },
    {
     "name": "stdout",
     "output_type": "stream",
     "text": [
      "143 5.0\n",
      "144 5.0\n"
     ]
    },
    {
     "name": "stdout",
     "output_type": "stream",
     "text": [
      "145 5.0\n"
     ]
    },
    {
     "name": "stdout",
     "output_type": "stream",
     "text": [
      "146 5.0\n"
     ]
    },
    {
     "name": "stdout",
     "output_type": "stream",
     "text": [
      "147 4.0\n"
     ]
    },
    {
     "name": "stdout",
     "output_type": "stream",
     "text": [
      "148 5.0\n"
     ]
    },
    {
     "name": "stdout",
     "output_type": "stream",
     "text": [
      "149 5.0\n",
      "150 0.0\n"
     ]
    },
    {
     "name": "stdout",
     "output_type": "stream",
     "text": [
      "151 5.0\n",
      "152 3.0\n"
     ]
    },
    {
     "name": "stdout",
     "output_type": "stream",
     "text": [
      "153 5.0\n",
      "154 5.0\n"
     ]
    },
    {
     "name": "stdout",
     "output_type": "stream",
     "text": [
      "155 5.0\n",
      "156 5.0\n"
     ]
    },
    {
     "name": "stdout",
     "output_type": "stream",
     "text": [
      "157 5.0\n",
      "158 5.0\n"
     ]
    },
    {
     "name": "stdout",
     "output_type": "stream",
     "text": [
      "159 4.0\n",
      "160 5.0\n"
     ]
    },
    {
     "name": "stdout",
     "output_type": "stream",
     "text": [
      "161 5.0\n",
      "162 5.0\n"
     ]
    },
    {
     "name": "stdout",
     "output_type": "stream",
     "text": [
      "163 5.0\n",
      "164 4.0\n"
     ]
    },
    {
     "name": "stdout",
     "output_type": "stream",
     "text": [
      "165 5.0\n",
      "166 1.0\n"
     ]
    },
    {
     "name": "stdout",
     "output_type": "stream",
     "text": [
      "167 5.0\n",
      "168 5.0\n"
     ]
    },
    {
     "name": "stdout",
     "output_type": "stream",
     "text": [
      "169 4.0\n",
      "170 5.0\n"
     ]
    },
    {
     "name": "stdout",
     "output_type": "stream",
     "text": [
      "171 5.0\n",
      "172 4.0\n"
     ]
    },
    {
     "name": "stdout",
     "output_type": "stream",
     "text": [
      "173 5.0\n",
      "174 4.0\n"
     ]
    },
    {
     "name": "stdout",
     "output_type": "stream",
     "text": [
      "175 5.0\n",
      "176 5.0\n"
     ]
    },
    {
     "name": "stdout",
     "output_type": "stream",
     "text": [
      "177 4.0\n",
      "178 0.0\n"
     ]
    },
    {
     "name": "stdout",
     "output_type": "stream",
     "text": [
      "179 5.0\n",
      "180 5.0\n"
     ]
    },
    {
     "name": "stdout",
     "output_type": "stream",
     "text": [
      "181 5.0\n",
      "182 5.0\n"
     ]
    },
    {
     "name": "stdout",
     "output_type": "stream",
     "text": [
      "183 5.0\n",
      "184 4.0\n"
     ]
    },
    {
     "name": "stdout",
     "output_type": "stream",
     "text": [
      "185 4.0\n",
      "186 5.0\n"
     ]
    },
    {
     "name": "stdout",
     "output_type": "stream",
     "text": [
      "187 5.0\n",
      "188 5.0\n"
     ]
    },
    {
     "name": "stdout",
     "output_type": "stream",
     "text": [
      "189 5.0\n",
      "190 4.0\n"
     ]
    },
    {
     "name": "stdout",
     "output_type": "stream",
     "text": [
      "191 5.0\n",
      "192 5.0\n"
     ]
    },
    {
     "name": "stdout",
     "output_type": "stream",
     "text": [
      "193 5.0\n",
      "194 5.0\n"
     ]
    },
    {
     "name": "stdout",
     "output_type": "stream",
     "text": [
      "195 5.0\n",
      "196 0.0\n"
     ]
    },
    {
     "name": "stdout",
     "output_type": "stream",
     "text": [
      "197 0.0\n"
     ]
    },
    {
     "name": "stdout",
     "output_type": "stream",
     "text": [
      "198 4.0\n",
      "199 5.0\n"
     ]
    },
    {
     "name": "stdout",
     "output_type": "stream",
     "text": [
      "200 5.0\n",
      "201 5.0\n"
     ]
    },
    {
     "name": "stdout",
     "output_type": "stream",
     "text": [
      "202 4.0\n",
      "203 5.0\n"
     ]
    },
    {
     "name": "stdout",
     "output_type": "stream",
     "text": [
      "204 0.0\n",
      "205 5.0\n"
     ]
    },
    {
     "name": "stdout",
     "output_type": "stream",
     "text": [
      "206 5.0\n",
      "207 5.0\n"
     ]
    },
    {
     "name": "stdout",
     "output_type": "stream",
     "text": [
      "208 5.0\n",
      "209 5.0\n"
     ]
    },
    {
     "name": "stdout",
     "output_type": "stream",
     "text": [
      "210 4.0\n"
     ]
    },
    {
     "name": "stdout",
     "output_type": "stream",
     "text": [
      "211 5.0\n"
     ]
    },
    {
     "name": "stdout",
     "output_type": "stream",
     "text": [
      "212 5.0\n"
     ]
    },
    {
     "name": "stdout",
     "output_type": "stream",
     "text": [
      "213 5.0\n"
     ]
    },
    {
     "name": "stdout",
     "output_type": "stream",
     "text": [
      "214 5.0\n"
     ]
    },
    {
     "name": "stdout",
     "output_type": "stream",
     "text": [
      "215 4.0\n"
     ]
    },
    {
     "name": "stdout",
     "output_type": "stream",
     "text": [
      "216 4.0\n"
     ]
    },
    {
     "name": "stdout",
     "output_type": "stream",
     "text": [
      "217 5.0\n"
     ]
    },
    {
     "name": "stdout",
     "output_type": "stream",
     "text": [
      "218 4.0\n"
     ]
    },
    {
     "name": "stdout",
     "output_type": "stream",
     "text": [
      "219 5.0\n"
     ]
    },
    {
     "name": "stdout",
     "output_type": "stream",
     "text": [
      "220 5.0\n"
     ]
    },
    {
     "name": "stdout",
     "output_type": "stream",
     "text": [
      "221 5.0\n"
     ]
    },
    {
     "name": "stdout",
     "output_type": "stream",
     "text": [
      "222 4.0\n"
     ]
    },
    {
     "name": "stdout",
     "output_type": "stream",
     "text": [
      "223 5.0\n"
     ]
    },
    {
     "name": "stdout",
     "output_type": "stream",
     "text": [
      "224 2.0\n"
     ]
    },
    {
     "name": "stdout",
     "output_type": "stream",
     "text": [
      "225 4.0\n"
     ]
    },
    {
     "name": "stdout",
     "output_type": "stream",
     "text": [
      "226 1.0\n"
     ]
    },
    {
     "name": "stdout",
     "output_type": "stream",
     "text": [
      "227 5.0\n"
     ]
    },
    {
     "name": "stdout",
     "output_type": "stream",
     "text": [
      "228 5.0\n"
     ]
    },
    {
     "name": "stdout",
     "output_type": "stream",
     "text": [
      "229 4.0\n"
     ]
    },
    {
     "name": "stdout",
     "output_type": "stream",
     "text": [
      "230 3.0\n"
     ]
    },
    {
     "name": "stdout",
     "output_type": "stream",
     "text": [
      "231 5.0\n"
     ]
    },
    {
     "name": "stdout",
     "output_type": "stream",
     "text": [
      "232 5.0\n"
     ]
    },
    {
     "name": "stdout",
     "output_type": "stream",
     "text": [
      "233 3.0\n"
     ]
    },
    {
     "name": "stdout",
     "output_type": "stream",
     "text": [
      "234 5.0\n"
     ]
    },
    {
     "name": "stdout",
     "output_type": "stream",
     "text": [
      "235 5.0\n"
     ]
    },
    {
     "name": "stdout",
     "output_type": "stream",
     "text": [
      "236 2.0\n"
     ]
    },
    {
     "name": "stdout",
     "output_type": "stream",
     "text": [
      "237 1.0\n"
     ]
    },
    {
     "name": "stdout",
     "output_type": "stream",
     "text": [
      "238 5.0\n"
     ]
    },
    {
     "name": "stdout",
     "output_type": "stream",
     "text": [
      "239 4.0\n"
     ]
    },
    {
     "name": "stdout",
     "output_type": "stream",
     "text": [
      "240 5.0\n"
     ]
    },
    {
     "name": "stdout",
     "output_type": "stream",
     "text": [
      "241 4.0\n"
     ]
    },
    {
     "name": "stdout",
     "output_type": "stream",
     "text": [
      "242 5.0\n"
     ]
    },
    {
     "name": "stdout",
     "output_type": "stream",
     "text": [
      "243 3.0\n"
     ]
    },
    {
     "name": "stdout",
     "output_type": "stream",
     "text": [
      "244 5.0\n"
     ]
    },
    {
     "name": "stdout",
     "output_type": "stream",
     "text": [
      "245 5.0\n"
     ]
    },
    {
     "name": "stdout",
     "output_type": "stream",
     "text": [
      "246 5.0\n"
     ]
    },
    {
     "name": "stdout",
     "output_type": "stream",
     "text": [
      "247 5.0\n"
     ]
    },
    {
     "name": "stdout",
     "output_type": "stream",
     "text": [
      "248 5.0\n"
     ]
    },
    {
     "name": "stdout",
     "output_type": "stream",
     "text": [
      "249 5.0\n"
     ]
    },
    {
     "name": "stdout",
     "output_type": "stream",
     "text": [
      "250 5.0\n"
     ]
    },
    {
     "name": "stdout",
     "output_type": "stream",
     "text": [
      "251 5.0\n"
     ]
    },
    {
     "name": "stdout",
     "output_type": "stream",
     "text": [
      "252 4.0\n"
     ]
    },
    {
     "name": "stdout",
     "output_type": "stream",
     "text": [
      "253 5.0\n"
     ]
    },
    {
     "name": "stdout",
     "output_type": "stream",
     "text": [
      "254 5.0\n"
     ]
    },
    {
     "name": "stdout",
     "output_type": "stream",
     "text": [
      "255 2.0\n"
     ]
    },
    {
     "name": "stdout",
     "output_type": "stream",
     "text": [
      "256 4.0\n"
     ]
    },
    {
     "name": "stdout",
     "output_type": "stream",
     "text": [
      "257 5.0\n"
     ]
    },
    {
     "name": "stdout",
     "output_type": "stream",
     "text": [
      "258 5.0\n"
     ]
    },
    {
     "name": "stdout",
     "output_type": "stream",
     "text": [
      "259 3.0\n"
     ]
    },
    {
     "name": "stdout",
     "output_type": "stream",
     "text": [
      "260 5.0\n"
     ]
    },
    {
     "name": "stdout",
     "output_type": "stream",
     "text": [
      "261 5.0\n"
     ]
    },
    {
     "name": "stdout",
     "output_type": "stream",
     "text": [
      "262 4.0\n"
     ]
    },
    {
     "name": "stdout",
     "output_type": "stream",
     "text": [
      "263 4.0\n"
     ]
    },
    {
     "name": "stdout",
     "output_type": "stream",
     "text": [
      "264 4.0\n"
     ]
    },
    {
     "name": "stdout",
     "output_type": "stream",
     "text": [
      "265 5.0\n"
     ]
    },
    {
     "name": "stdout",
     "output_type": "stream",
     "text": [
      "266 5.0\n"
     ]
    },
    {
     "name": "stdout",
     "output_type": "stream",
     "text": [
      "267 4.0\n"
     ]
    },
    {
     "name": "stdout",
     "output_type": "stream",
     "text": [
      "268 5.0\n"
     ]
    },
    {
     "name": "stdout",
     "output_type": "stream",
     "text": [
      "269 5.0\n",
      "270 4.0\n"
     ]
    },
    {
     "name": "stdout",
     "output_type": "stream",
     "text": [
      "271 4.0\n",
      "272 5.0\n"
     ]
    },
    {
     "name": "stdout",
     "output_type": "stream",
     "text": [
      "273 4.0\n",
      "274 5.0\n"
     ]
    },
    {
     "name": "stdout",
     "output_type": "stream",
     "text": [
      "275 5.0\n",
      "276 5.0\n"
     ]
    },
    {
     "name": "stdout",
     "output_type": "stream",
     "text": [
      "277 5.0\n",
      "278 3.0\n"
     ]
    },
    {
     "name": "stdout",
     "output_type": "stream",
     "text": [
      "279 5.0\n",
      "280 5.0\n"
     ]
    },
    {
     "name": "stdout",
     "output_type": "stream",
     "text": [
      "281 5.0\n",
      "282 3.0\n"
     ]
    },
    {
     "name": "stdout",
     "output_type": "stream",
     "text": [
      "283 5.0\n",
      "284 5.0\n"
     ]
    },
    {
     "name": "stdout",
     "output_type": "stream",
     "text": [
      "285 5.0\n",
      "286 5.0\n"
     ]
    },
    {
     "name": "stdout",
     "output_type": "stream",
     "text": [
      "287 4.0\n",
      "288 5.0\n"
     ]
    },
    {
     "name": "stdout",
     "output_type": "stream",
     "text": [
      "289 5.0\n",
      "290 4.0\n"
     ]
    },
    {
     "name": "stdout",
     "output_type": "stream",
     "text": [
      "291 5.0\n",
      "292 4.0\n"
     ]
    },
    {
     "name": "stdout",
     "output_type": "stream",
     "text": [
      "293 5.0\n",
      "294 5.0\n"
     ]
    },
    {
     "name": "stdout",
     "output_type": "stream",
     "text": [
      "295 5.0\n",
      "296 5.0\n"
     ]
    },
    {
     "name": "stdout",
     "output_type": "stream",
     "text": [
      "297 5.0\n",
      "298 5.0\n"
     ]
    },
    {
     "name": "stdout",
     "output_type": "stream",
     "text": [
      "299 5.0\n"
     ]
    },
    {
     "name": "stdout",
     "output_type": "stream",
     "text": [
      "300 5.0\n"
     ]
    },
    {
     "name": "stdout",
     "output_type": "stream",
     "text": [
      "301 5.0\n"
     ]
    },
    {
     "name": "stdout",
     "output_type": "stream",
     "text": [
      "302 5.0\n"
     ]
    },
    {
     "name": "stdout",
     "output_type": "stream",
     "text": [
      "303 5.0\n"
     ]
    },
    {
     "name": "stdout",
     "output_type": "stream",
     "text": [
      "304 5.0\n"
     ]
    },
    {
     "name": "stdout",
     "output_type": "stream",
     "text": [
      "305 5.0\n"
     ]
    },
    {
     "name": "stdout",
     "output_type": "stream",
     "text": [
      "306 4.0\n"
     ]
    },
    {
     "name": "stdout",
     "output_type": "stream",
     "text": [
      "307 5.0\n"
     ]
    },
    {
     "name": "stdout",
     "output_type": "stream",
     "text": [
      "308 5.0\n"
     ]
    },
    {
     "name": "stdout",
     "output_type": "stream",
     "text": [
      "309 5.0\n"
     ]
    },
    {
     "name": "stdout",
     "output_type": "stream",
     "text": [
      "310 5.0\n"
     ]
    },
    {
     "name": "stdout",
     "output_type": "stream",
     "text": [
      "311 3.0\n"
     ]
    },
    {
     "name": "stdout",
     "output_type": "stream",
     "text": [
      "312 5.0\n"
     ]
    },
    {
     "name": "stdout",
     "output_type": "stream",
     "text": [
      "313 5.0\n"
     ]
    },
    {
     "name": "stdout",
     "output_type": "stream",
     "text": [
      "314 5.0\n"
     ]
    },
    {
     "name": "stdout",
     "output_type": "stream",
     "text": [
      "315 5.0\n"
     ]
    },
    {
     "name": "stdout",
     "output_type": "stream",
     "text": [
      "316 4.0\n"
     ]
    },
    {
     "name": "stdout",
     "output_type": "stream",
     "text": [
      "317 5.0\n"
     ]
    },
    {
     "name": "stdout",
     "output_type": "stream",
     "text": [
      "318 5.0\n"
     ]
    },
    {
     "name": "stdout",
     "output_type": "stream",
     "text": [
      "319 4.0\n"
     ]
    },
    {
     "name": "stdout",
     "output_type": "stream",
     "text": [
      "320 5.0\n"
     ]
    },
    {
     "name": "stdout",
     "output_type": "stream",
     "text": [
      "321 4.0\n"
     ]
    },
    {
     "name": "stdout",
     "output_type": "stream",
     "text": [
      "322 5.0\n"
     ]
    },
    {
     "name": "stdout",
     "output_type": "stream",
     "text": [
      "323 4.0\n"
     ]
    },
    {
     "name": "stdout",
     "output_type": "stream",
     "text": [
      "324 5.0\n"
     ]
    },
    {
     "name": "stdout",
     "output_type": "stream",
     "text": [
      "325 5.0\n"
     ]
    },
    {
     "name": "stdout",
     "output_type": "stream",
     "text": [
      "326 5.0\n"
     ]
    },
    {
     "name": "stdout",
     "output_type": "stream",
     "text": [
      "327 3.0\n"
     ]
    },
    {
     "name": "stdout",
     "output_type": "stream",
     "text": [
      "328 5.0\n"
     ]
    },
    {
     "name": "stdout",
     "output_type": "stream",
     "text": [
      "329 5.0\n"
     ]
    },
    {
     "name": "stdout",
     "output_type": "stream",
     "text": [
      "330 5.0\n"
     ]
    },
    {
     "name": "stdout",
     "output_type": "stream",
     "text": [
      "331 4.0\n"
     ]
    },
    {
     "name": "stdout",
     "output_type": "stream",
     "text": [
      "332 3.0\n"
     ]
    },
    {
     "name": "stdout",
     "output_type": "stream",
     "text": [
      "333 5.0\n"
     ]
    },
    {
     "name": "stdout",
     "output_type": "stream",
     "text": [
      "334 5.0\n"
     ]
    },
    {
     "name": "stdout",
     "output_type": "stream",
     "text": [
      "335 4.0\n"
     ]
    },
    {
     "name": "stdout",
     "output_type": "stream",
     "text": [
      "336 5.0\n"
     ]
    },
    {
     "name": "stdout",
     "output_type": "stream",
     "text": [
      "337 5.0\n"
     ]
    },
    {
     "name": "stdout",
     "output_type": "stream",
     "text": [
      "338 5.0\n"
     ]
    },
    {
     "name": "stdout",
     "output_type": "stream",
     "text": [
      "339 5.0\n"
     ]
    },
    {
     "name": "stdout",
     "output_type": "stream",
     "text": [
      "340 5.0\n"
     ]
    },
    {
     "name": "stdout",
     "output_type": "stream",
     "text": [
      "341 4.0\n"
     ]
    },
    {
     "name": "stdout",
     "output_type": "stream",
     "text": [
      "342 5.0\n"
     ]
    },
    {
     "name": "stdout",
     "output_type": "stream",
     "text": [
      "343 5.0\n"
     ]
    },
    {
     "name": "stdout",
     "output_type": "stream",
     "text": [
      "344 5.0\n"
     ]
    },
    {
     "name": "stdout",
     "output_type": "stream",
     "text": [
      "345 5.0\n"
     ]
    },
    {
     "name": "stdout",
     "output_type": "stream",
     "text": [
      "346 4.0\n"
     ]
    },
    {
     "name": "stdout",
     "output_type": "stream",
     "text": [
      "347 5.0\n"
     ]
    },
    {
     "name": "stdout",
     "output_type": "stream",
     "text": [
      "348 3.0\n"
     ]
    },
    {
     "name": "stdout",
     "output_type": "stream",
     "text": [
      "349 5.0\n"
     ]
    },
    {
     "name": "stdout",
     "output_type": "stream",
     "text": [
      "350 5.0\n"
     ]
    },
    {
     "name": "stdout",
     "output_type": "stream",
     "text": [
      "351 5.0\n"
     ]
    },
    {
     "name": "stdout",
     "output_type": "stream",
     "text": [
      "352 5.0\n"
     ]
    },
    {
     "name": "stdout",
     "output_type": "stream",
     "text": [
      "353 5.0\n"
     ]
    },
    {
     "name": "stdout",
     "output_type": "stream",
     "text": [
      "354 5.0\n"
     ]
    },
    {
     "name": "stdout",
     "output_type": "stream",
     "text": [
      "355 5.0\n"
     ]
    },
    {
     "name": "stdout",
     "output_type": "stream",
     "text": [
      "356 5.0\n"
     ]
    },
    {
     "name": "stdout",
     "output_type": "stream",
     "text": [
      "357 4.0\n"
     ]
    },
    {
     "name": "stdout",
     "output_type": "stream",
     "text": [
      "358 5.0\n",
      "359 5.0\n"
     ]
    },
    {
     "name": "stdout",
     "output_type": "stream",
     "text": [
      "360 3.0\n"
     ]
    },
    {
     "name": "stdout",
     "output_type": "stream",
     "text": [
      "361 5.0\n"
     ]
    },
    {
     "name": "stdout",
     "output_type": "stream",
     "text": [
      "362 5.0\n"
     ]
    },
    {
     "name": "stdout",
     "output_type": "stream",
     "text": [
      "363 4.0\n"
     ]
    },
    {
     "name": "stdout",
     "output_type": "stream",
     "text": [
      "364 5.0\n"
     ]
    },
    {
     "name": "stdout",
     "output_type": "stream",
     "text": [
      "365 5.0\n"
     ]
    },
    {
     "name": "stdout",
     "output_type": "stream",
     "text": [
      "366 5.0\n"
     ]
    },
    {
     "name": "stdout",
     "output_type": "stream",
     "text": [
      "367 5.0\n"
     ]
    },
    {
     "name": "stdout",
     "output_type": "stream",
     "text": [
      "368 5.0\n"
     ]
    },
    {
     "name": "stdout",
     "output_type": "stream",
     "text": [
      "369 5.0\n"
     ]
    },
    {
     "name": "stdout",
     "output_type": "stream",
     "text": [
      "370 5.0\n"
     ]
    },
    {
     "name": "stdout",
     "output_type": "stream",
     "text": [
      "371 5.0\n"
     ]
    },
    {
     "name": "stdout",
     "output_type": "stream",
     "text": [
      "372 5.0\n"
     ]
    },
    {
     "name": "stdout",
     "output_type": "stream",
     "text": [
      "373 5.0\n"
     ]
    },
    {
     "name": "stdout",
     "output_type": "stream",
     "text": [
      "374 4.0\n"
     ]
    },
    {
     "name": "stdout",
     "output_type": "stream",
     "text": [
      "375 4.0\n"
     ]
    },
    {
     "name": "stdout",
     "output_type": "stream",
     "text": [
      "376 3.0\n"
     ]
    },
    {
     "name": "stdout",
     "output_type": "stream",
     "text": [
      "377 5.0\n"
     ]
    },
    {
     "name": "stdout",
     "output_type": "stream",
     "text": [
      "378 1.0\n"
     ]
    },
    {
     "name": "stdout",
     "output_type": "stream",
     "text": [
      "379 5.0\n"
     ]
    },
    {
     "name": "stdout",
     "output_type": "stream",
     "text": [
      "380 4.0\n"
     ]
    },
    {
     "name": "stdout",
     "output_type": "stream",
     "text": [
      "381 5.0\n"
     ]
    },
    {
     "name": "stdout",
     "output_type": "stream",
     "text": [
      "382 3.0\n"
     ]
    },
    {
     "name": "stdout",
     "output_type": "stream",
     "text": [
      "383 5.0\n"
     ]
    },
    {
     "name": "stdout",
     "output_type": "stream",
     "text": [
      "384 5.0\n"
     ]
    },
    {
     "name": "stdout",
     "output_type": "stream",
     "text": [
      "385 5.0\n"
     ]
    },
    {
     "name": "stdout",
     "output_type": "stream",
     "text": [
      "386 5.0\n"
     ]
    },
    {
     "name": "stdout",
     "output_type": "stream",
     "text": [
      "387 5.0\n"
     ]
    },
    {
     "name": "stdout",
     "output_type": "stream",
     "text": [
      "388 5.0\n"
     ]
    },
    {
     "name": "stdout",
     "output_type": "stream",
     "text": [
      "389 4.0\n"
     ]
    },
    {
     "name": "stdout",
     "output_type": "stream",
     "text": [
      "390 1.0\n"
     ]
    },
    {
     "name": "stdout",
     "output_type": "stream",
     "text": [
      "391 1.0\n"
     ]
    },
    {
     "name": "stdout",
     "output_type": "stream",
     "text": [
      "392 5.0\n"
     ]
    },
    {
     "name": "stdout",
     "output_type": "stream",
     "text": [
      "393 5.0\n"
     ]
    },
    {
     "name": "stdout",
     "output_type": "stream",
     "text": [
      "394 4.0\n"
     ]
    },
    {
     "name": "stdout",
     "output_type": "stream",
     "text": [
      "395 5.0\n"
     ]
    },
    {
     "name": "stdout",
     "output_type": "stream",
     "text": [
      "396 3.0\n"
     ]
    },
    {
     "name": "stdout",
     "output_type": "stream",
     "text": [
      "397 5.0\n"
     ]
    },
    {
     "name": "stdout",
     "output_type": "stream",
     "text": [
      "398 4.0\n"
     ]
    },
    {
     "name": "stdout",
     "output_type": "stream",
     "text": [
      "399 0.0\n"
     ]
    },
    {
     "name": "stdout",
     "output_type": "stream",
     "text": [
      "400 5.0\n"
     ]
    },
    {
     "name": "stdout",
     "output_type": "stream",
     "text": [
      "401 5.0\n"
     ]
    },
    {
     "name": "stdout",
     "output_type": "stream",
     "text": [
      "402 3.0\n"
     ]
    },
    {
     "name": "stdout",
     "output_type": "stream",
     "text": [
      "403 5.0\n"
     ]
    },
    {
     "name": "stdout",
     "output_type": "stream",
     "text": [
      "404 3.0\n"
     ]
    },
    {
     "name": "stdout",
     "output_type": "stream",
     "text": [
      "405 1.0\n"
     ]
    },
    {
     "name": "stdout",
     "output_type": "stream",
     "text": [
      "406 3.0\n"
     ]
    },
    {
     "name": "stdout",
     "output_type": "stream",
     "text": [
      "407 5.0\n"
     ]
    },
    {
     "name": "stdout",
     "output_type": "stream",
     "text": [
      "408 4.0\n"
     ]
    },
    {
     "name": "stdout",
     "output_type": "stream",
     "text": [
      "409 5.0\n"
     ]
    },
    {
     "name": "stdout",
     "output_type": "stream",
     "text": [
      "410 3.0\n"
     ]
    },
    {
     "name": "stdout",
     "output_type": "stream",
     "text": [
      "411 2.0\n"
     ]
    },
    {
     "name": "stdout",
     "output_type": "stream",
     "text": [
      "412 0.0\n"
     ]
    },
    {
     "name": "stdout",
     "output_type": "stream",
     "text": [
      "413 4.0\n"
     ]
    },
    {
     "name": "stdout",
     "output_type": "stream",
     "text": [
      "414 4.0\n"
     ]
    },
    {
     "name": "stdout",
     "output_type": "stream",
     "text": [
      "415 4.0\n"
     ]
    },
    {
     "name": "stdout",
     "output_type": "stream",
     "text": [
      "416 2.0\n"
     ]
    },
    {
     "name": "stdout",
     "output_type": "stream",
     "text": [
      "417 5.0\n"
     ]
    },
    {
     "name": "stdout",
     "output_type": "stream",
     "text": [
      "418 5.0\n"
     ]
    },
    {
     "name": "stdout",
     "output_type": "stream",
     "text": [
      "419 3.0\n"
     ]
    },
    {
     "name": "stdout",
     "output_type": "stream",
     "text": [
      "420 1.0\n",
      "421 1.0\n",
      "422 0.0\n",
      "423 1.0\n",
      "424 0.0\n"
     ]
    },
    {
     "name": "stdout",
     "output_type": "stream",
     "text": [
      "425 4.0\n"
     ]
    },
    {
     "name": "stdout",
     "output_type": "stream",
     "text": [
      "426 1.0\n",
      "427 1.0\n"
     ]
    },
    {
     "name": "stdout",
     "output_type": "stream",
     "text": [
      "428 1.0\n"
     ]
    },
    {
     "name": "stdout",
     "output_type": "stream",
     "text": [
      "429 1.0\n"
     ]
    },
    {
     "name": "stdout",
     "output_type": "stream",
     "text": [
      "430 2.0\n"
     ]
    },
    {
     "name": "stdout",
     "output_type": "stream",
     "text": [
      "431 1.0\n"
     ]
    },
    {
     "name": "stdout",
     "output_type": "stream",
     "text": [
      "432 2.0\n"
     ]
    },
    {
     "name": "stdout",
     "output_type": "stream",
     "text": [
      "433 5.0\n"
     ]
    },
    {
     "name": "stdout",
     "output_type": "stream",
     "text": [
      "434 4.0\n",
      "435 0.0\n",
      "436 0.0\n",
      "437 0.0\n"
     ]
    },
    {
     "name": "stdout",
     "output_type": "stream",
     "text": [
      "438 3.0\n",
      "439 1.0\n",
      "440 2.0\n"
     ]
    },
    {
     "name": "stdout",
     "output_type": "stream",
     "text": [
      "441 2.0\n"
     ]
    },
    {
     "name": "stdout",
     "output_type": "stream",
     "text": [
      "442 1.0\n"
     ]
    },
    {
     "name": "stdout",
     "output_type": "stream",
     "text": [
      "443 5.0\n"
     ]
    },
    {
     "name": "stdout",
     "output_type": "stream",
     "text": [
      "444 1.0\n"
     ]
    },
    {
     "name": "stdout",
     "output_type": "stream",
     "text": [
      "445 4.0\n"
     ]
    },
    {
     "name": "stdout",
     "output_type": "stream",
     "text": [
      "446 1.0\n"
     ]
    },
    {
     "name": "stdout",
     "output_type": "stream",
     "text": [
      "447 0.0\n"
     ]
    },
    {
     "name": "stdout",
     "output_type": "stream",
     "text": [
      "448 4.0\n"
     ]
    },
    {
     "name": "stdout",
     "output_type": "stream",
     "text": [
      "449 1.0\n"
     ]
    },
    {
     "name": "stdout",
     "output_type": "stream",
     "text": [
      "450 1.0\n"
     ]
    },
    {
     "name": "stdout",
     "output_type": "stream",
     "text": [
      "451 3.0\n"
     ]
    },
    {
     "name": "stdout",
     "output_type": "stream",
     "text": [
      "452 0.0\n",
      "453 0.0\n"
     ]
    },
    {
     "name": "stdout",
     "output_type": "stream",
     "text": [
      "454 4.0\n"
     ]
    },
    {
     "name": "stdout",
     "output_type": "stream",
     "text": [
      "455 2.0\n"
     ]
    },
    {
     "name": "stdout",
     "output_type": "stream",
     "text": [
      "456 3.0\n"
     ]
    },
    {
     "name": "stdout",
     "output_type": "stream",
     "text": [
      "457 0.0\n"
     ]
    },
    {
     "name": "stdout",
     "output_type": "stream",
     "text": [
      "458 5.0\n",
      "459 5.0\n"
     ]
    },
    {
     "name": "stdout",
     "output_type": "stream",
     "text": [
      "460 2.0\n"
     ]
    },
    {
     "name": "stdout",
     "output_type": "stream",
     "text": [
      "461 2.0\n"
     ]
    },
    {
     "name": "stdout",
     "output_type": "stream",
     "text": [
      "462 1.0\n"
     ]
    },
    {
     "name": "stdout",
     "output_type": "stream",
     "text": [
      "463 2.0\n"
     ]
    },
    {
     "name": "stdout",
     "output_type": "stream",
     "text": [
      "464 3.0\n"
     ]
    },
    {
     "name": "stdout",
     "output_type": "stream",
     "text": [
      "465 1.0\n",
      "466 5.0\n"
     ]
    },
    {
     "name": "stdout",
     "output_type": "stream",
     "text": [
      "467 3.0\n"
     ]
    },
    {
     "name": "stdout",
     "output_type": "stream",
     "text": [
      "468 5.0\n"
     ]
    },
    {
     "name": "stdout",
     "output_type": "stream",
     "text": [
      "469 2.0\n",
      "470 1.0\n"
     ]
    },
    {
     "name": "stdout",
     "output_type": "stream",
     "text": [
      "471 2.0\n"
     ]
    },
    {
     "name": "stdout",
     "output_type": "stream",
     "text": [
      "472 1.0\n"
     ]
    },
    {
     "name": "stdout",
     "output_type": "stream",
     "text": [
      "473 5.0\n"
     ]
    },
    {
     "name": "stdout",
     "output_type": "stream",
     "text": [
      "474 2.0\n"
     ]
    },
    {
     "name": "stdout",
     "output_type": "stream",
     "text": [
      "475 4.0\n"
     ]
    },
    {
     "name": "stdout",
     "output_type": "stream",
     "text": [
      "476 3.0\n"
     ]
    },
    {
     "name": "stdout",
     "output_type": "stream",
     "text": [
      "477 1.0\n"
     ]
    },
    {
     "name": "stdout",
     "output_type": "stream",
     "text": [
      "478 1.0\n"
     ]
    },
    {
     "name": "stdout",
     "output_type": "stream",
     "text": [
      "479 4.0\n"
     ]
    },
    {
     "name": "stdout",
     "output_type": "stream",
     "text": [
      "480 3.0\n"
     ]
    },
    {
     "name": "stdout",
     "output_type": "stream",
     "text": [
      "481 2.0\n"
     ]
    },
    {
     "name": "stdout",
     "output_type": "stream",
     "text": [
      "482 4.0\n"
     ]
    },
    {
     "name": "stdout",
     "output_type": "stream",
     "text": [
      "483 4.0\n"
     ]
    },
    {
     "name": "stdout",
     "output_type": "stream",
     "text": [
      "484 5.0\n"
     ]
    },
    {
     "name": "stdout",
     "output_type": "stream",
     "text": [
      "485 4.0\n"
     ]
    },
    {
     "name": "stdout",
     "output_type": "stream",
     "text": [
      "486 4.0\n"
     ]
    },
    {
     "name": "stdout",
     "output_type": "stream",
     "text": [
      "487 4.0\n"
     ]
    },
    {
     "name": "stdout",
     "output_type": "stream",
     "text": [
      "488 2.0\n"
     ]
    },
    {
     "name": "stdout",
     "output_type": "stream",
     "text": [
      "489 4.0\n"
     ]
    },
    {
     "name": "stdout",
     "output_type": "stream",
     "text": [
      "490 2.0\n",
      "491 3.0\n"
     ]
    },
    {
     "name": "stdout",
     "output_type": "stream",
     "text": [
      "492 4.0\n"
     ]
    },
    {
     "name": "stdout",
     "output_type": "stream",
     "text": [
      "493 1.0\n"
     ]
    },
    {
     "name": "stdout",
     "output_type": "stream",
     "text": [
      "494 4.0\n"
     ]
    },
    {
     "name": "stdout",
     "output_type": "stream",
     "text": [
      "495 4.0\n"
     ]
    },
    {
     "name": "stdout",
     "output_type": "stream",
     "text": [
      "496 5.0\n"
     ]
    },
    {
     "name": "stdout",
     "output_type": "stream",
     "text": [
      "497 5.0\n"
     ]
    },
    {
     "name": "stdout",
     "output_type": "stream",
     "text": [
      "498 3.0\n"
     ]
    },
    {
     "name": "stdout",
     "output_type": "stream",
     "text": [
      "499 5.0\n"
     ]
    },
    {
     "name": "stdout",
     "output_type": "stream",
     "text": [
      "500 5.0\n",
      "501 1.0\n"
     ]
    },
    {
     "name": "stdout",
     "output_type": "stream",
     "text": [
      "502 3.0\n"
     ]
    },
    {
     "name": "stdout",
     "output_type": "stream",
     "text": [
      "503 4.0\n"
     ]
    },
    {
     "name": "stdout",
     "output_type": "stream",
     "text": [
      "504 4.0\n"
     ]
    },
    {
     "name": "stdout",
     "output_type": "stream",
     "text": [
      "505 4.0\n",
      "506 4.0\n"
     ]
    },
    {
     "name": "stdout",
     "output_type": "stream",
     "text": [
      "507 3.0\n"
     ]
    },
    {
     "name": "stdout",
     "output_type": "stream",
     "text": [
      "508 1.0\n"
     ]
    },
    {
     "name": "stdout",
     "output_type": "stream",
     "text": [
      "509 3.0\n"
     ]
    },
    {
     "name": "stdout",
     "output_type": "stream",
     "text": [
      "510 3.0\n",
      "511 4.0\n"
     ]
    },
    {
     "name": "stdout",
     "output_type": "stream",
     "text": [
      "512 5.0\n",
      "513 3.0\n"
     ]
    },
    {
     "name": "stdout",
     "output_type": "stream",
     "text": [
      "514 5.0\n"
     ]
    },
    {
     "name": "stdout",
     "output_type": "stream",
     "text": [
      "515 3.0\n",
      "516 5.0\n"
     ]
    },
    {
     "name": "stdout",
     "output_type": "stream",
     "text": [
      "517 4.0\n",
      "518 5.0\n"
     ]
    },
    {
     "name": "stdout",
     "output_type": "stream",
     "text": [
      "519 3.0\n",
      "520 0.0\n"
     ]
    },
    {
     "name": "stdout",
     "output_type": "stream",
     "text": [
      "521 4.0\n"
     ]
    },
    {
     "name": "stdout",
     "output_type": "stream",
     "text": [
      "522 5.0\n"
     ]
    },
    {
     "name": "stdout",
     "output_type": "stream",
     "text": [
      "523 4.0\n"
     ]
    },
    {
     "name": "stdout",
     "output_type": "stream",
     "text": [
      "524 5.0\n",
      "525 5.0\n"
     ]
    },
    {
     "name": "stdout",
     "output_type": "stream",
     "text": [
      "526 5.0\n"
     ]
    },
    {
     "name": "stdout",
     "output_type": "stream",
     "text": [
      "527 5.0\n"
     ]
    },
    {
     "name": "stdout",
     "output_type": "stream",
     "text": [
      "528 1.0\n",
      "529 4.0\n"
     ]
    },
    {
     "name": "stdout",
     "output_type": "stream",
     "text": [
      "530 0.0\n"
     ]
    },
    {
     "name": "stdout",
     "output_type": "stream",
     "text": [
      "531 3.0\n"
     ]
    },
    {
     "name": "stdout",
     "output_type": "stream",
     "text": [
      "532 4.0\n"
     ]
    },
    {
     "name": "stdout",
     "output_type": "stream",
     "text": [
      "533 5.0\n"
     ]
    },
    {
     "name": "stdout",
     "output_type": "stream",
     "text": [
      "534 4.0\n",
      "535 4.0\n"
     ]
    },
    {
     "name": "stdout",
     "output_type": "stream",
     "text": [
      "536 4.0\n"
     ]
    },
    {
     "name": "stdout",
     "output_type": "stream",
     "text": [
      "537 1.0\n"
     ]
    },
    {
     "name": "stdout",
     "output_type": "stream",
     "text": [
      "538 5.0\n"
     ]
    },
    {
     "name": "stdout",
     "output_type": "stream",
     "text": [
      "539 3.0\n"
     ]
    },
    {
     "name": "stdout",
     "output_type": "stream",
     "text": [
      "540 5.0\n"
     ]
    },
    {
     "name": "stdout",
     "output_type": "stream",
     "text": [
      "541 3.0\n",
      "542 5.0\n"
     ]
    },
    {
     "name": "stdout",
     "output_type": "stream",
     "text": [
      "543 4.0\n",
      "544 5.0\n"
     ]
    },
    {
     "name": "stdout",
     "output_type": "stream",
     "text": [
      "545 3.0\n"
     ]
    },
    {
     "name": "stdout",
     "output_type": "stream",
     "text": [
      "546 5.0\n",
      "547 5.0\n"
     ]
    },
    {
     "name": "stdout",
     "output_type": "stream",
     "text": [
      "548 5.0\n",
      "549 4.0\n"
     ]
    },
    {
     "name": "stdout",
     "output_type": "stream",
     "text": [
      "550 1.0\n",
      "551 5.0\n"
     ]
    },
    {
     "name": "stdout",
     "output_type": "stream",
     "text": [
      "552 5.0\n",
      "553 5.0\n"
     ]
    },
    {
     "name": "stdout",
     "output_type": "stream",
     "text": [
      "554 3.0\n",
      "555 4.0\n"
     ]
    },
    {
     "name": "stdout",
     "output_type": "stream",
     "text": [
      "556 5.0\n",
      "557 5.0\n"
     ]
    },
    {
     "name": "stdout",
     "output_type": "stream",
     "text": [
      "558 4.0\n"
     ]
    },
    {
     "name": "stdout",
     "output_type": "stream",
     "text": [
      "559 4.0\n"
     ]
    },
    {
     "name": "stdout",
     "output_type": "stream",
     "text": [
      "560 4.0\n",
      "561 4.0\n"
     ]
    },
    {
     "name": "stdout",
     "output_type": "stream",
     "text": [
      "562 5.0\n",
      "563 5.0\n"
     ]
    },
    {
     "name": "stdout",
     "output_type": "stream",
     "text": [
      "564 5.0\n"
     ]
    },
    {
     "name": "stdout",
     "output_type": "stream",
     "text": [
      "565 4.0\n"
     ]
    },
    {
     "name": "stdout",
     "output_type": "stream",
     "text": [
      "566 4.0\n"
     ]
    },
    {
     "name": "stdout",
     "output_type": "stream",
     "text": [
      "567 5.0\n",
      "568 1.0\n"
     ]
    },
    {
     "name": "stdout",
     "output_type": "stream",
     "text": [
      "569 5.0\n",
      "570 5.0\n"
     ]
    },
    {
     "name": "stdout",
     "output_type": "stream",
     "text": [
      "571 5.0\n",
      "572 4.0\n"
     ]
    },
    {
     "name": "stdout",
     "output_type": "stream",
     "text": [
      "573 3.0\n",
      "574 4.0\n"
     ]
    },
    {
     "name": "stdout",
     "output_type": "stream",
     "text": [
      "575 4.0\n",
      "576 5.0\n"
     ]
    },
    {
     "name": "stdout",
     "output_type": "stream",
     "text": [
      "577 5.0\n",
      "578 3.0\n"
     ]
    },
    {
     "name": "stdout",
     "output_type": "stream",
     "text": [
      "579 4.0\n",
      "580 5.0\n"
     ]
    },
    {
     "name": "stdout",
     "output_type": "stream",
     "text": [
      "581 5.0\n",
      "582 5.0\n"
     ]
    },
    {
     "name": "stdout",
     "output_type": "stream",
     "text": [
      "583 3.0\n",
      "584 4.0\n"
     ]
    },
    {
     "name": "stdout",
     "output_type": "stream",
     "text": [
      "585 5.0\n",
      "586 5.0\n"
     ]
    },
    {
     "name": "stdout",
     "output_type": "stream",
     "text": [
      "587 5.0\n",
      "588 5.0\n"
     ]
    },
    {
     "name": "stdout",
     "output_type": "stream",
     "text": [
      "589 4.0\n"
     ]
    },
    {
     "name": "stdout",
     "output_type": "stream",
     "text": [
      "590 5.0\n",
      "591 4.0\n"
     ]
    },
    {
     "name": "stdout",
     "output_type": "stream",
     "text": [
      "592 5.0\n",
      "593 4.0\n"
     ]
    },
    {
     "name": "stdout",
     "output_type": "stream",
     "text": [
      "594 4.0\n",
      "595 4.0\n"
     ]
    },
    {
     "name": "stdout",
     "output_type": "stream",
     "text": [
      "596 5.0\n",
      "597 5.0\n"
     ]
    },
    {
     "name": "stdout",
     "output_type": "stream",
     "text": [
      "598 5.0\n",
      "599 5.0\n"
     ]
    },
    {
     "name": "stdout",
     "output_type": "stream",
     "text": [
      "600 5.0\n",
      "601 5.0\n"
     ]
    },
    {
     "name": "stdout",
     "output_type": "stream",
     "text": [
      "602 5.0\n",
      "603 5.0\n"
     ]
    },
    {
     "name": "stdout",
     "output_type": "stream",
     "text": [
      "604 5.0\n",
      "605 5.0\n"
     ]
    },
    {
     "name": "stdout",
     "output_type": "stream",
     "text": [
      "606 5.0\n",
      "607 5.0\n"
     ]
    },
    {
     "name": "stdout",
     "output_type": "stream",
     "text": [
      "608 4.0\n",
      "609 5.0\n"
     ]
    },
    {
     "name": "stdout",
     "output_type": "stream",
     "text": [
      "610 5.0\n",
      "611 5.0\n"
     ]
    },
    {
     "name": "stdout",
     "output_type": "stream",
     "text": [
      "612 4.0\n",
      "613 5.0\n"
     ]
    },
    {
     "name": "stdout",
     "output_type": "stream",
     "text": [
      "614 5.0\n",
      "615 5.0\n"
     ]
    },
    {
     "name": "stdout",
     "output_type": "stream",
     "text": [
      "616 5.0\n",
      "617 5.0\n"
     ]
    },
    {
     "name": "stdout",
     "output_type": "stream",
     "text": [
      "618 5.0\n",
      "619 4.0\n"
     ]
    },
    {
     "name": "stdout",
     "output_type": "stream",
     "text": [
      "620 4.0\n",
      "621 3.0\n"
     ]
    },
    {
     "name": "stdout",
     "output_type": "stream",
     "text": [
      "622 0.0\n",
      "623 5.0\n"
     ]
    },
    {
     "name": "stdout",
     "output_type": "stream",
     "text": [
      "624 5.0\n",
      "625 5.0\n"
     ]
    },
    {
     "name": "stdout",
     "output_type": "stream",
     "text": [
      "626 4.0\n",
      "627 5.0\n"
     ]
    },
    {
     "name": "stdout",
     "output_type": "stream",
     "text": [
      "628 5.0\n",
      "629 4.0\n"
     ]
    },
    {
     "name": "stdout",
     "output_type": "stream",
     "text": [
      "630 5.0\n",
      "631 5.0\n"
     ]
    },
    {
     "name": "stdout",
     "output_type": "stream",
     "text": [
      "632 5.0\n",
      "633 5.0\n"
     ]
    },
    {
     "name": "stdout",
     "output_type": "stream",
     "text": [
      "634 3.0\n",
      "635 5.0\n"
     ]
    },
    {
     "name": "stdout",
     "output_type": "stream",
     "text": [
      "636 3.0\n",
      "637 5.0\n"
     ]
    },
    {
     "name": "stdout",
     "output_type": "stream",
     "text": [
      "638 4.0\n",
      "639 4.0\n"
     ]
    },
    {
     "name": "stdout",
     "output_type": "stream",
     "text": [
      "640 5.0\n",
      "641 3.0\n"
     ]
    },
    {
     "name": "stdout",
     "output_type": "stream",
     "text": [
      "642 4.0\n",
      "643 0.0\n"
     ]
    },
    {
     "name": "stdout",
     "output_type": "stream",
     "text": [
      "644 4.0\n",
      "645 4.0\n"
     ]
    },
    {
     "name": "stdout",
     "output_type": "stream",
     "text": [
      "646 5.0\n",
      "647 5.0\n"
     ]
    },
    {
     "name": "stdout",
     "output_type": "stream",
     "text": [
      "648 5.0\n",
      "649 0.0\n"
     ]
    },
    {
     "name": "stdout",
     "output_type": "stream",
     "text": [
      "650 4.0\n",
      "651 5.0\n"
     ]
    },
    {
     "name": "stdout",
     "output_type": "stream",
     "text": [
      "652 5.0\n",
      "653 5.0\n"
     ]
    },
    {
     "name": "stdout",
     "output_type": "stream",
     "text": [
      "654 4.0\n",
      "655 5.0\n"
     ]
    },
    {
     "name": "stdout",
     "output_type": "stream",
     "text": [
      "656 5.0\n",
      "657 5.0\n"
     ]
    },
    {
     "name": "stdout",
     "output_type": "stream",
     "text": [
      "658 5.0\n",
      "659 4.0\n"
     ]
    },
    {
     "name": "stdout",
     "output_type": "stream",
     "text": [
      "660 0.0\n"
     ]
    },
    {
     "name": "stdout",
     "output_type": "stream",
     "text": [
      "661 0.0\n"
     ]
    },
    {
     "name": "stdout",
     "output_type": "stream",
     "text": [
      "662 0.0\n"
     ]
    },
    {
     "name": "stdout",
     "output_type": "stream",
     "text": [
      "663 0.0\n"
     ]
    },
    {
     "name": "stdout",
     "output_type": "stream",
     "text": [
      "664 0.0\n"
     ]
    },
    {
     "name": "stdout",
     "output_type": "stream",
     "text": [
      "665 0.0\n"
     ]
    },
    {
     "name": "stdout",
     "output_type": "stream",
     "text": [
      "666 0.0\n"
     ]
    },
    {
     "name": "stdout",
     "output_type": "stream",
     "text": [
      "667 0.0\n"
     ]
    },
    {
     "name": "stdout",
     "output_type": "stream",
     "text": [
      "668 1.0\n"
     ]
    },
    {
     "name": "stdout",
     "output_type": "stream",
     "text": [
      "669 5.0\n"
     ]
    },
    {
     "name": "stdout",
     "output_type": "stream",
     "text": [
      "670 0.0\n"
     ]
    },
    {
     "name": "stdout",
     "output_type": "stream",
     "text": [
      "671 0.0\n"
     ]
    },
    {
     "name": "stdout",
     "output_type": "stream",
     "text": [
      "672 5.0\n"
     ]
    },
    {
     "name": "stdout",
     "output_type": "stream",
     "text": [
      "673 0.0\n"
     ]
    },
    {
     "name": "stdout",
     "output_type": "stream",
     "text": [
      "674 0.0\n"
     ]
    },
    {
     "name": "stdout",
     "output_type": "stream",
     "text": [
      "675 0.0\n"
     ]
    },
    {
     "name": "stdout",
     "output_type": "stream",
     "text": [
      "676 0.0\n"
     ]
    },
    {
     "name": "stdout",
     "output_type": "stream",
     "text": [
      "677 0.0\n"
     ]
    },
    {
     "name": "stdout",
     "output_type": "stream",
     "text": [
      "678 0.0\n"
     ]
    },
    {
     "name": "stdout",
     "output_type": "stream",
     "text": [
      "679 0.0\n"
     ]
    },
    {
     "name": "stdout",
     "output_type": "stream",
     "text": [
      "680 0.0\n"
     ]
    },
    {
     "name": "stdout",
     "output_type": "stream",
     "text": [
      "681 0.0\n"
     ]
    },
    {
     "name": "stdout",
     "output_type": "stream",
     "text": [
      "682 0.0\n"
     ]
    },
    {
     "name": "stdout",
     "output_type": "stream",
     "text": [
      "683 0.0\n",
      "684 0.0\n"
     ]
    },
    {
     "name": "stdout",
     "output_type": "stream",
     "text": [
      "685 0.0\n"
     ]
    },
    {
     "name": "stdout",
     "output_type": "stream",
     "text": [
      "686 0.0\n"
     ]
    },
    {
     "name": "stdout",
     "output_type": "stream",
     "text": [
      "687 0.0\n"
     ]
    },
    {
     "name": "stdout",
     "output_type": "stream",
     "text": [
      "688 0.0\n",
      "689 0.0\n"
     ]
    },
    {
     "name": "stdout",
     "output_type": "stream",
     "text": [
      "690 0.0\n",
      "691 0.0\n",
      "692 0.0\n"
     ]
    },
    {
     "name": "stdout",
     "output_type": "stream",
     "text": [
      "693 0.0\n"
     ]
    },
    {
     "name": "stdout",
     "output_type": "stream",
     "text": [
      "694 0.0\n"
     ]
    },
    {
     "name": "stdout",
     "output_type": "stream",
     "text": [
      "695 0.0\n"
     ]
    },
    {
     "name": "stdout",
     "output_type": "stream",
     "text": [
      "696 0.0\n"
     ]
    },
    {
     "name": "stdout",
     "output_type": "stream",
     "text": [
      "697 0.0\n"
     ]
    },
    {
     "name": "stdout",
     "output_type": "stream",
     "text": [
      "698 0.0\n"
     ]
    },
    {
     "name": "stdout",
     "output_type": "stream",
     "text": [
      "699 0.0\n",
      "700 0.0\n",
      "701 0.0\n",
      "702 0.0\n",
      "703 0.0\n"
     ]
    },
    {
     "name": "stdout",
     "output_type": "stream",
     "text": [
      "704 0.0\n",
      "705 0.0\n",
      "706 0.0\n",
      "707 0.0\n",
      "708 0.0\n"
     ]
    },
    {
     "name": "stdout",
     "output_type": "stream",
     "text": [
      "709 0.0\n",
      "710 0.0\n",
      "711 0.0\n",
      "712 0.0\n",
      "713 0.0\n"
     ]
    },
    {
     "name": "stdout",
     "output_type": "stream",
     "text": [
      "714 0.0\n",
      "715 0.0\n",
      "716 0.0\n",
      "717 0.0\n",
      "718 0.0\n"
     ]
    },
    {
     "name": "stdout",
     "output_type": "stream",
     "text": [
      "719 0.0\n",
      "720 0.0\n",
      "721 0.0\n",
      "722 0.0\n",
      "723 0.0\n"
     ]
    },
    {
     "name": "stdout",
     "output_type": "stream",
     "text": [
      "724 0.0\n",
      "725 0.0\n",
      "726 0.0\n",
      "727 0.0\n",
      "728 0.0\n"
     ]
    },
    {
     "name": "stdout",
     "output_type": "stream",
     "text": [
      "729 0.0\n",
      "730 0.0\n",
      "731 0.0\n",
      "732 0.0\n",
      "733 0.0\n"
     ]
    },
    {
     "name": "stdout",
     "output_type": "stream",
     "text": [
      "734 0.0\n",
      "735 0.0\n",
      "736 0.0\n",
      "737 0.0\n",
      "738 0.0\n"
     ]
    },
    {
     "name": "stdout",
     "output_type": "stream",
     "text": [
      "739 0.0\n",
      "740 0.0\n",
      "741 0.0\n",
      "742 0.0\n",
      "743 0.0\n"
     ]
    },
    {
     "name": "stdout",
     "output_type": "stream",
     "text": [
      "744 0.0\n",
      "745 0.0\n",
      "746 0.0\n",
      "747 0.0\n",
      "748 0.0\n"
     ]
    },
    {
     "name": "stdout",
     "output_type": "stream",
     "text": [
      "749 0.0\n",
      "750 0.0\n",
      "751 0.0\n",
      "752 0.0\n",
      "753 0.0\n"
     ]
    },
    {
     "name": "stdout",
     "output_type": "stream",
     "text": [
      "754 0.0\n",
      "755 0.0\n",
      "756 0.0\n",
      "757 0.0\n",
      "758 0.0\n"
     ]
    },
    {
     "name": "stdout",
     "output_type": "stream",
     "text": [
      "759 0.0\n",
      "760 0.0\n",
      "761 0.0\n",
      "762 0.0\n",
      "763 0.0\n"
     ]
    },
    {
     "name": "stdout",
     "output_type": "stream",
     "text": [
      "764 0.0\n",
      "765 0.0\n",
      "766 0.0\n",
      "767 0.0\n",
      "768 0.0\n"
     ]
    },
    {
     "name": "stdout",
     "output_type": "stream",
     "text": [
      "769 0.0\n",
      "770 0.0\n",
      "771 0.0\n",
      "772 0.0\n",
      "773 0.0\n"
     ]
    },
    {
     "name": "stdout",
     "output_type": "stream",
     "text": [
      "774 0.0\n",
      "775 0.0\n",
      "776 0.0\n",
      "777 0.0\n",
      "778 0.0\n"
     ]
    },
    {
     "name": "stdout",
     "output_type": "stream",
     "text": [
      "779 0.0\n",
      "780 0.0\n",
      "781 0.0\n",
      "782 0.0\n",
      "783 0.0\n"
     ]
    },
    {
     "name": "stdout",
     "output_type": "stream",
     "text": [
      "784 0.0\n",
      "785 0.0\n",
      "786 0.0\n",
      "787 0.0\n",
      "788 0.0\n"
     ]
    },
    {
     "name": "stdout",
     "output_type": "stream",
     "text": [
      "789 0.0\n",
      "790 0.0\n",
      "791 0.0\n",
      "792 0.0\n",
      "793 0.0\n"
     ]
    },
    {
     "name": "stdout",
     "output_type": "stream",
     "text": [
      "794 0.0\n",
      "795 0.0\n",
      "796 0.0\n",
      "797 0.0\n",
      "798 0.0\n"
     ]
    },
    {
     "name": "stdout",
     "output_type": "stream",
     "text": [
      "799 0.0\n"
     ]
    }
   ],
   "source": [
    "vms = [borda, hare, coombs, plurality_with_runoff, minimax]\n",
    "\n",
    "def compute_diff_winners(experiment_id):\n",
    "\n",
    "    file_name = 'diffvms_score.txt'\n",
    "    path = os.path.join(os.getcwd(), 'experiments', experiment_id, 'controllers', 'advanced', file_name)\n",
    "    os.remove(path)\n",
    "    model = obj.Model(experiment_id)\n",
    "    for i in range(model.num_elections):\n",
    "        election_id = 'core_' + str(i)\n",
    "        election = obj.Election(experiment_id, election_id)\n",
    "        #print(election.votes)\n",
    "        prof = Profile([tuple(r) for r in election.votes], election.num_candidates)\n",
    "        num_diff = 0\n",
    "        for vm in vms: \n",
    "            if plurality(prof) != vm(prof): \n",
    "                num_diff += 1\n",
    "        score = float(num_diff) \n",
    "        print(i, score)\n",
    "\n",
    "        file_name = 'diffvms_score.txt'\n",
    "        path = os.path.join(os.getcwd(), 'experiments', experiment_id, 'controllers', 'advanced', file_name)\n",
    "        with open(path, 'a') as txtfile:\n",
    "            txtfile.write(str(score) + \"\\n\")\n",
    "\n",
    "compute_diff_winners('testbed_100_100')\n",
    "\n"
   ]
  },
  {
   "cell_type": "code",
   "execution_count": 28,
   "metadata": {},
   "outputs": [
    {
     "ename": "NameError",
     "evalue": "name 'mapel' is not defined",
     "output_type": "error",
     "traceback": [
      "\u001b[0;31m---------------------------------------------------------------------------\u001b[0m",
      "\u001b[0;31mNameError\u001b[0m                                 Traceback (most recent call last)",
      "\u001b[0;32m<ipython-input-28-d381e972d576>\u001b[0m in \u001b[0;36m<module>\u001b[0;34m\u001b[0m\n\u001b[1;32m      1\u001b[0m \u001b[0mfile_name\u001b[0m \u001b[0;34m=\u001b[0m \u001b[0;34m'diffvms_score'\u001b[0m\u001b[0;34m\u001b[0m\u001b[0;34m\u001b[0m\u001b[0m\n\u001b[0;32m----> 2\u001b[0;31m \u001b[0mmapel\u001b[0m\u001b[0;34m.\u001b[0m\u001b[0mprint_2d\u001b[0m\u001b[0;34m(\u001b[0m\u001b[0;34m'testbed_100_100'\u001b[0m\u001b[0;34m,\u001b[0m \u001b[0mvalues\u001b[0m\u001b[0;34m=\u001b[0m\u001b[0mfile_name\u001b[0m\u001b[0;34m)\u001b[0m\u001b[0;34m\u001b[0m\u001b[0;34m\u001b[0m\u001b[0m\n\u001b[0m",
      "\u001b[0;31mNameError\u001b[0m: name 'mapel' is not defined"
     ]
    }
   ],
   "source": [
    "file_name = 'diffvms_score'\n",
    "mapel.print_2d('testbed_100_100', values=file_name)\n"
   ]
  },
  {
   "cell_type": "code",
   "execution_count": 29,
   "metadata": {},
   "outputs": [
    {
     "name": "stdout",
     "output_type": "stream",
     "text": [
      "0 1.0\n",
      "1 0.0\n",
      "2 0.0\n",
      "3 1.0\n",
      "4 1.0\n",
      "5 1.0\n"
     ]
    },
    {
     "name": "stdout",
     "output_type": "stream",
     "text": [
      "6 1.0\n",
      "7 1.0\n",
      "8 1.0\n",
      "9 1.0\n",
      "10 1.0\n",
      "11 1.0\n"
     ]
    },
    {
     "name": "stdout",
     "output_type": "stream",
     "text": [
      "12 1.0\n",
      "13 1.0\n",
      "14 1.0\n",
      "15 1.0\n",
      "16 0.0\n",
      "17 1.0\n"
     ]
    },
    {
     "name": "stdout",
     "output_type": "stream",
     "text": [
      "18 1.0\n",
      "19 1.0\n",
      "20 1.0\n",
      "21 1.0\n",
      "22 1.0\n",
      "23 1.0\n"
     ]
    },
    {
     "name": "stdout",
     "output_type": "stream",
     "text": [
      "24 1.0\n",
      "25 1.0\n",
      "26 1.0\n",
      "27 1.0\n",
      "28 1.0\n",
      "29 1.0\n"
     ]
    },
    {
     "name": "stdout",
     "output_type": "stream",
     "text": [
      "30 1.0\n",
      "31 1.0\n",
      "32 1.0\n",
      "33 0.0\n",
      "34 1.0\n",
      "35 1.0\n",
      "36 1.0\n"
     ]
    },
    {
     "name": "stdout",
     "output_type": "stream",
     "text": [
      "37 1.0\n",
      "38 0.0\n",
      "39 1.0\n",
      "40 0.0\n",
      "41 0.0\n",
      "42 0.0\n",
      "43 1.0\n"
     ]
    },
    {
     "name": "stdout",
     "output_type": "stream",
     "text": [
      "44 1.0\n",
      "45 0.0\n",
      "46 1.0\n",
      "47 0.0\n",
      "48 0.0\n",
      "49 1.0\n",
      "50 0.0\n"
     ]
    },
    {
     "name": "stdout",
     "output_type": "stream",
     "text": [
      "51 1.0\n",
      "52 0.0\n",
      "53 1.0\n",
      "54 0.0\n",
      "55 1.0\n",
      "56 1.0\n",
      "57 0.0\n"
     ]
    },
    {
     "name": "stdout",
     "output_type": "stream",
     "text": [
      "58 0.0\n",
      "59 1.0\n",
      "60 0.0\n",
      "61 0.0\n",
      "62 1.0\n",
      "63 1.0\n",
      "64 1.0\n"
     ]
    },
    {
     "name": "stdout",
     "output_type": "stream",
     "text": [
      "65 0.0\n",
      "66 0.0\n",
      "67 0.0\n",
      "68 0.0\n",
      "69 0.0\n",
      "70 0.0\n",
      "71 0.0\n"
     ]
    },
    {
     "name": "stdout",
     "output_type": "stream",
     "text": [
      "72 0.0\n",
      "73 0.0\n",
      "74 1.0\n",
      "75 1.0\n",
      "76 0.0\n",
      "77 1.0\n",
      "78 1.0\n"
     ]
    },
    {
     "name": "stdout",
     "output_type": "stream",
     "text": [
      "79 0.0\n",
      "80 0.0\n",
      "81 0.0\n",
      "82 0.0\n",
      "83 0.0\n",
      "84 0.0\n",
      "85 0.0\n"
     ]
    },
    {
     "name": "stdout",
     "output_type": "stream",
     "text": [
      "86 0.0\n",
      "87 0.0\n",
      "88 0.0\n",
      "89 0.0\n",
      "90 0.0\n",
      "91 0.0\n",
      "92 0.0\n"
     ]
    },
    {
     "name": "stdout",
     "output_type": "stream",
     "text": [
      "93 0.0\n",
      "94 0.0\n",
      "95 0.0\n",
      "96 0.0\n",
      "97 0.0\n",
      "98 0.0\n",
      "99 0.0\n"
     ]
    },
    {
     "name": "stdout",
     "output_type": "stream",
     "text": [
      "100 0.0\n",
      "101 0.0\n",
      "102 1.0\n",
      "103 0.0\n",
      "104 0.0\n",
      "105 0.0\n",
      "106 1.0\n"
     ]
    },
    {
     "name": "stdout",
     "output_type": "stream",
     "text": [
      "107 1.0\n",
      "108 0.0\n",
      "109 0.0\n",
      "110 1.0\n",
      "111 0.0\n",
      "112 0.0\n",
      "113 0.0\n"
     ]
    },
    {
     "name": "stdout",
     "output_type": "stream",
     "text": [
      "114 0.0\n",
      "115 0.0\n",
      "116 0.0\n",
      "117 0.0\n",
      "118 0.0\n",
      "119 0.0\n",
      "120 0.0\n"
     ]
    },
    {
     "name": "stdout",
     "output_type": "stream",
     "text": [
      "121 0.0\n",
      "122 0.0\n",
      "123 0.0\n",
      "124 0.0\n",
      "125 0.0\n",
      "126 0.0\n"
     ]
    },
    {
     "name": "stdout",
     "output_type": "stream",
     "text": [
      "127 0.0\n",
      "128 0.0\n",
      "129 0.0\n",
      "130 0.0\n",
      "131 0.0\n",
      "132 0.0\n",
      "133 0.0\n"
     ]
    },
    {
     "name": "stdout",
     "output_type": "stream",
     "text": [
      "134 0.0\n",
      "135 0.0\n",
      "136 1.0\n",
      "137 0.0\n",
      "138 0.0\n",
      "139 0.0\n"
     ]
    },
    {
     "name": "stdout",
     "output_type": "stream",
     "text": [
      "140 0.0\n",
      "141 0.0\n",
      "142 0.0\n",
      "143 0.0\n",
      "144 0.0\n",
      "145 0.0\n"
     ]
    },
    {
     "name": "stdout",
     "output_type": "stream",
     "text": [
      "146 0.0\n",
      "147 0.0\n",
      "148 0.0\n",
      "149 0.0\n",
      "150 1.0\n",
      "151 0.0\n",
      "152 0.0\n"
     ]
    },
    {
     "name": "stdout",
     "output_type": "stream",
     "text": [
      "153 1.0\n",
      "154 0.0\n",
      "155 0.0\n",
      "156 0.0\n",
      "157 0.0\n",
      "158 0.0\n"
     ]
    },
    {
     "name": "stdout",
     "output_type": "stream",
     "text": [
      "159 1.0\n",
      "160 0.0\n",
      "161 0.0\n",
      "162 0.0\n",
      "163 0.0\n",
      "164 0.0\n"
     ]
    },
    {
     "name": "stdout",
     "output_type": "stream",
     "text": [
      "165 0.0\n",
      "166 1.0\n",
      "167 0.0\n",
      "168 0.0\n",
      "169 1.0\n",
      "170 0.0\n"
     ]
    },
    {
     "name": "stdout",
     "output_type": "stream",
     "text": [
      "171 0.0\n",
      "172 0.0\n",
      "173 0.0\n",
      "174 1.0\n",
      "175 0.0\n",
      "176 1.0\n"
     ]
    },
    {
     "name": "stdout",
     "output_type": "stream",
     "text": [
      "177 0.0\n",
      "178 1.0\n",
      "179 0.0\n",
      "180 0.0\n",
      "181 0.0\n",
      "182 0.0\n"
     ]
    },
    {
     "name": "stdout",
     "output_type": "stream",
     "text": [
      "183 0.0\n",
      "184 0.0\n",
      "185 0.0\n",
      "186 0.0\n",
      "187 0.0\n",
      "188 0.0\n"
     ]
    },
    {
     "name": "stdout",
     "output_type": "stream",
     "text": [
      "189 1.0\n",
      "190 0.0\n",
      "191 0.0\n",
      "192 1.0\n",
      "193 0.0\n",
      "194 0.0\n"
     ]
    },
    {
     "name": "stdout",
     "output_type": "stream",
     "text": [
      "195 0.0\n",
      "196 1.0\n",
      "197 1.0\n",
      "198 1.0\n",
      "199 0.0\n",
      "200 0.0\n"
     ]
    },
    {
     "name": "stdout",
     "output_type": "stream",
     "text": [
      "201 0.0\n",
      "202 0.0\n",
      "203 1.0\n",
      "204 1.0\n",
      "205 0.0\n",
      "206 1.0\n"
     ]
    },
    {
     "name": "stdout",
     "output_type": "stream",
     "text": [
      "207 0.0\n",
      "208 0.0\n",
      "209 0.0\n",
      "210 1.0\n",
      "211 1.0\n",
      "212 0.0\n",
      "213 1.0\n"
     ]
    },
    {
     "name": "stdout",
     "output_type": "stream",
     "text": [
      "214 1.0\n",
      "215 1.0\n",
      "216 1.0\n",
      "217 0.0\n",
      "218 1.0\n",
      "219 1.0\n",
      "220 1.0\n"
     ]
    },
    {
     "name": "stdout",
     "output_type": "stream",
     "text": [
      "221 1.0\n",
      "222 1.0\n",
      "223 1.0\n",
      "224 1.0\n",
      "225 1.0\n",
      "226 1.0\n",
      "227 1.0\n"
     ]
    },
    {
     "name": "stdout",
     "output_type": "stream",
     "text": [
      "228 1.0\n",
      "229 1.0\n",
      "230 1.0\n",
      "231 1.0\n",
      "232 1.0\n",
      "233 1.0\n",
      "234 1.0\n"
     ]
    },
    {
     "name": "stdout",
     "output_type": "stream",
     "text": [
      "235 1.0\n",
      "236 1.0\n",
      "237 1.0\n",
      "238 1.0\n",
      "239 1.0\n",
      "240 1.0\n",
      "241 1.0\n"
     ]
    },
    {
     "name": "stdout",
     "output_type": "stream",
     "text": [
      "242 1.0\n",
      "243 1.0\n",
      "244 1.0\n",
      "245 1.0\n",
      "246 1.0\n",
      "247 1.0\n"
     ]
    },
    {
     "name": "stdout",
     "output_type": "stream",
     "text": [
      "248 1.0\n",
      "249 1.0\n",
      "250 1.0\n",
      "251 1.0\n",
      "252 1.0\n",
      "253 1.0\n"
     ]
    },
    {
     "name": "stdout",
     "output_type": "stream",
     "text": [
      "254 1.0\n",
      "255 1.0\n",
      "256 1.0\n",
      "257 1.0\n",
      "258 1.0\n",
      "259 1.0\n"
     ]
    },
    {
     "name": "stdout",
     "output_type": "stream",
     "text": [
      "260 1.0\n",
      "261 1.0\n",
      "262 1.0\n",
      "263 1.0\n",
      "264 1.0\n",
      "265 1.0\n"
     ]
    },
    {
     "name": "stdout",
     "output_type": "stream",
     "text": [
      "266 1.0\n",
      "267 1.0\n",
      "268 1.0\n",
      "269 1.0\n",
      "270 1.0\n",
      "271 0.0\n"
     ]
    },
    {
     "name": "stdout",
     "output_type": "stream",
     "text": [
      "272 1.0\n",
      "273 1.0\n",
      "274 1.0\n",
      "275 1.0\n",
      "276 1.0\n",
      "277 1.0\n"
     ]
    },
    {
     "name": "stdout",
     "output_type": "stream",
     "text": [
      "278 1.0\n",
      "279 1.0\n",
      "280 1.0\n",
      "281 1.0\n",
      "282 1.0\n",
      "283 1.0\n"
     ]
    },
    {
     "name": "stdout",
     "output_type": "stream",
     "text": [
      "284 1.0\n",
      "285 1.0\n",
      "286 1.0\n",
      "287 1.0\n",
      "288 1.0\n",
      "289 1.0\n"
     ]
    },
    {
     "name": "stdout",
     "output_type": "stream",
     "text": [
      "290 1.0\n",
      "291 1.0\n",
      "292 1.0\n",
      "293 1.0\n",
      "294 1.0\n",
      "295 1.0\n"
     ]
    },
    {
     "name": "stdout",
     "output_type": "stream",
     "text": [
      "296 1.0\n",
      "297 1.0\n",
      "298 1.0\n",
      "299 1.0\n",
      "300 1.0\n",
      "301 1.0\n"
     ]
    },
    {
     "name": "stdout",
     "output_type": "stream",
     "text": [
      "302 1.0\n",
      "303 1.0\n",
      "304 1.0\n",
      "305 1.0\n",
      "306 1.0\n",
      "307 0.0\n",
      "308 1.0\n"
     ]
    },
    {
     "name": "stdout",
     "output_type": "stream",
     "text": [
      "309 1.0\n",
      "310 1.0\n",
      "311 1.0\n",
      "312 1.0\n",
      "313 1.0\n",
      "314 1.0\n",
      "315 1.0\n"
     ]
    },
    {
     "name": "stdout",
     "output_type": "stream",
     "text": [
      "316 0.0\n",
      "317 1.0\n",
      "318 1.0\n",
      "319 1.0\n",
      "320 0.0\n",
      "321 1.0\n",
      "322 1.0\n"
     ]
    },
    {
     "name": "stdout",
     "output_type": "stream",
     "text": [
      "323 1.0\n",
      "324 1.0\n",
      "325 1.0\n",
      "326 1.0\n",
      "327 1.0\n",
      "328 1.0\n",
      "329 1.0\n"
     ]
    },
    {
     "name": "stdout",
     "output_type": "stream",
     "text": [
      "330 0.0\n",
      "331 0.0\n",
      "332 0.0\n",
      "333 1.0\n",
      "334 0.0\n",
      "335 0.0\n",
      "336 0.0\n"
     ]
    },
    {
     "name": "stdout",
     "output_type": "stream",
     "text": [
      "337 0.0\n",
      "338 0.0\n",
      "339 0.0\n",
      "340 0.0\n",
      "341 0.0\n",
      "342 0.0\n",
      "343 1.0\n"
     ]
    },
    {
     "name": "stdout",
     "output_type": "stream",
     "text": [
      "344 1.0\n",
      "345 1.0\n",
      "346 0.0\n",
      "347 0.0\n",
      "348 0.0\n",
      "349 0.0\n",
      "350 0.0\n"
     ]
    },
    {
     "name": "stdout",
     "output_type": "stream",
     "text": [
      "351 0.0\n",
      "352 0.0\n",
      "353 0.0\n",
      "354 0.0\n",
      "355 0.0\n",
      "356 0.0\n",
      "357 0.0\n"
     ]
    },
    {
     "name": "stdout",
     "output_type": "stream",
     "text": [
      "358 0.0\n",
      "359 0.0\n",
      "360 1.0\n",
      "361 1.0\n",
      "362 1.0\n",
      "363 1.0\n",
      "364 1.0\n"
     ]
    },
    {
     "name": "stdout",
     "output_type": "stream",
     "text": [
      "365 1.0\n",
      "366 1.0\n",
      "367 0.0\n",
      "368 1.0\n",
      "369 0.0\n",
      "370 1.0\n",
      "371 1.0\n"
     ]
    },
    {
     "name": "stdout",
     "output_type": "stream",
     "text": [
      "372 1.0\n",
      "373 0.0\n",
      "374 1.0\n",
      "375 1.0\n",
      "376 1.0\n",
      "377 1.0\n"
     ]
    },
    {
     "name": "stdout",
     "output_type": "stream",
     "text": [
      "378 1.0\n",
      "379 1.0\n",
      "380 0.0\n",
      "381 1.0\n",
      "382 0.0\n",
      "383 1.0\n",
      "384 0.0\n"
     ]
    },
    {
     "name": "stdout",
     "output_type": "stream",
     "text": [
      "385 1.0\n",
      "386 1.0\n",
      "387 0.0\n",
      "388 1.0\n",
      "389 1.0\n",
      "390 1.0\n",
      "391 1.0\n"
     ]
    },
    {
     "name": "stdout",
     "output_type": "stream",
     "text": [
      "392 1.0\n",
      "393 0.0\n",
      "394 0.0\n",
      "395 0.0\n",
      "396 0.0\n",
      "397 0.0\n",
      "398 0.0\n"
     ]
    },
    {
     "name": "stdout",
     "output_type": "stream",
     "text": [
      "399 1.0\n",
      "400 0.0\n",
      "401 0.0\n",
      "402 1.0\n",
      "403 0.0\n",
      "404 0.0\n",
      "405 1.0\n"
     ]
    },
    {
     "name": "stdout",
     "output_type": "stream",
     "text": [
      "406 1.0\n",
      "407 0.0\n",
      "408 0.0\n",
      "409 0.0\n",
      "410 0.0\n",
      "411 1.0\n",
      "412 1.0\n"
     ]
    },
    {
     "name": "stdout",
     "output_type": "stream",
     "text": [
      "413 0.0\n",
      "414 0.0\n",
      "415 1.0\n",
      "416 1.0\n",
      "417 0.0\n",
      "418 0.0\n",
      "419 0.0\n"
     ]
    },
    {
     "name": "stdout",
     "output_type": "stream",
     "text": [
      "420 1.0\n",
      "421 1.0\n",
      "422 1.0\n",
      "423 1.0\n",
      "424 1.0\n",
      "425 1.0\n",
      "426 1.0\n"
     ]
    },
    {
     "name": "stdout",
     "output_type": "stream",
     "text": [
      "427 1.0\n",
      "428 1.0\n",
      "429 1.0\n",
      "430 1.0\n",
      "431 1.0\n",
      "432 1.0\n",
      "433 1.0\n"
     ]
    },
    {
     "name": "stdout",
     "output_type": "stream",
     "text": [
      "434 1.0\n",
      "435 1.0\n",
      "436 1.0\n",
      "437 1.0\n",
      "438 1.0\n",
      "439 1.0\n",
      "440 1.0\n"
     ]
    },
    {
     "name": "stdout",
     "output_type": "stream",
     "text": [
      "441 1.0\n",
      "442 1.0\n",
      "443 1.0\n",
      "444 1.0\n",
      "445 0.0\n",
      "446 1.0\n",
      "447 1.0\n"
     ]
    },
    {
     "name": "stdout",
     "output_type": "stream",
     "text": [
      "448 1.0\n",
      "449 1.0\n",
      "450 1.0\n",
      "451 1.0\n",
      "452 1.0\n",
      "453 1.0\n",
      "454 1.0\n"
     ]
    },
    {
     "name": "stdout",
     "output_type": "stream",
     "text": [
      "455 1.0\n",
      "456 1.0\n",
      "457 1.0\n",
      "458 1.0\n",
      "459 1.0\n",
      "460 1.0\n",
      "461 1.0\n"
     ]
    },
    {
     "name": "stdout",
     "output_type": "stream",
     "text": [
      "462 1.0\n",
      "463 1.0\n",
      "464 0.0\n",
      "465 1.0\n",
      "466 1.0\n",
      "467 1.0\n",
      "468 1.0\n"
     ]
    },
    {
     "name": "stdout",
     "output_type": "stream",
     "text": [
      "469 1.0\n",
      "470 1.0\n",
      "471 1.0\n",
      "472 1.0\n",
      "473 1.0\n",
      "474 1.0\n",
      "475 1.0\n"
     ]
    },
    {
     "name": "stdout",
     "output_type": "stream",
     "text": [
      "476 1.0\n",
      "477 1.0\n",
      "478 1.0\n",
      "479 1.0\n",
      "480 1.0\n",
      "481 1.0\n"
     ]
    },
    {
     "name": "stdout",
     "output_type": "stream",
     "text": [
      "482 1.0\n",
      "483 1.0\n",
      "484 1.0\n",
      "485 1.0\n",
      "486 1.0\n",
      "487 1.0\n"
     ]
    },
    {
     "name": "stdout",
     "output_type": "stream",
     "text": [
      "488 1.0\n",
      "489 1.0\n",
      "490 1.0\n",
      "491 1.0\n",
      "492 1.0\n",
      "493 1.0\n"
     ]
    },
    {
     "name": "stdout",
     "output_type": "stream",
     "text": [
      "494 1.0\n",
      "495 1.0\n",
      "496 1.0\n",
      "497 1.0\n",
      "498 1.0\n",
      "499 0.0\n"
     ]
    },
    {
     "name": "stdout",
     "output_type": "stream",
     "text": [
      "500 0.0\n",
      "501 1.0\n",
      "502 1.0\n",
      "503 1.0\n",
      "504 1.0\n",
      "505 1.0\n"
     ]
    },
    {
     "name": "stdout",
     "output_type": "stream",
     "text": [
      "506 1.0\n",
      "507 1.0\n",
      "508 1.0\n",
      "509 1.0\n",
      "510 1.0\n",
      "511 1.0\n"
     ]
    },
    {
     "name": "stdout",
     "output_type": "stream",
     "text": [
      "512 1.0\n",
      "513 1.0\n",
      "514 1.0\n",
      "515 1.0\n",
      "516 1.0\n",
      "517 0.0\n"
     ]
    },
    {
     "name": "stdout",
     "output_type": "stream",
     "text": [
      "518 1.0\n",
      "519 1.0\n",
      "520 1.0\n",
      "521 1.0\n",
      "522 1.0\n",
      "523 0.0\n"
     ]
    },
    {
     "name": "stdout",
     "output_type": "stream",
     "text": [
      "524 1.0\n",
      "525 1.0\n",
      "526 1.0\n",
      "527 1.0\n",
      "528 1.0\n",
      "529 1.0\n"
     ]
    },
    {
     "name": "stdout",
     "output_type": "stream",
     "text": [
      "530 1.0\n",
      "531 1.0\n",
      "532 1.0\n",
      "533 1.0\n",
      "534 1.0\n",
      "535 1.0\n"
     ]
    },
    {
     "name": "stdout",
     "output_type": "stream",
     "text": [
      "536 0.0\n",
      "537 1.0\n",
      "538 1.0\n",
      "539 1.0\n",
      "540 1.0\n",
      "541 1.0\n"
     ]
    },
    {
     "name": "stdout",
     "output_type": "stream",
     "text": [
      "542 1.0\n",
      "543 1.0\n",
      "544 0.0\n",
      "545 1.0\n",
      "546 1.0\n",
      "547 1.0\n"
     ]
    },
    {
     "name": "stdout",
     "output_type": "stream",
     "text": [
      "548 1.0\n",
      "549 1.0\n",
      "550 1.0\n",
      "551 1.0\n",
      "552 1.0\n",
      "553 1.0\n"
     ]
    },
    {
     "name": "stdout",
     "output_type": "stream",
     "text": [
      "554 1.0\n",
      "555 1.0\n",
      "556 1.0\n",
      "557 1.0\n",
      "558 1.0\n",
      "559 1.0\n"
     ]
    },
    {
     "name": "stdout",
     "output_type": "stream",
     "text": [
      "560 1.0\n",
      "561 1.0\n",
      "562 1.0\n",
      "563 1.0\n",
      "564 1.0\n",
      "565 1.0\n"
     ]
    },
    {
     "name": "stdout",
     "output_type": "stream",
     "text": [
      "566 1.0\n",
      "567 1.0\n",
      "568 1.0\n",
      "569 1.0\n",
      "570 1.0\n",
      "571 1.0\n"
     ]
    },
    {
     "name": "stdout",
     "output_type": "stream",
     "text": [
      "572 1.0\n",
      "573 1.0\n",
      "574 1.0\n",
      "575 1.0\n",
      "576 1.0\n",
      "577 1.0\n"
     ]
    },
    {
     "name": "stdout",
     "output_type": "stream",
     "text": [
      "578 1.0\n",
      "579 1.0\n",
      "580 1.0\n",
      "581 1.0\n",
      "582 1.0\n",
      "583 1.0\n"
     ]
    },
    {
     "name": "stdout",
     "output_type": "stream",
     "text": [
      "584 1.0\n",
      "585 0.0\n",
      "586 1.0\n",
      "587 1.0\n",
      "588 1.0\n",
      "589 1.0\n"
     ]
    },
    {
     "name": "stdout",
     "output_type": "stream",
     "text": [
      "590 1.0\n",
      "591 1.0\n",
      "592 1.0\n",
      "593 1.0\n",
      "594 1.0\n",
      "595 1.0\n"
     ]
    },
    {
     "name": "stdout",
     "output_type": "stream",
     "text": [
      "596 1.0\n",
      "597 1.0\n",
      "598 1.0\n",
      "599 1.0\n",
      "600 1.0\n",
      "601 1.0\n"
     ]
    },
    {
     "name": "stdout",
     "output_type": "stream",
     "text": [
      "602 1.0\n",
      "603 1.0\n",
      "604 1.0\n",
      "605 1.0\n",
      "606 1.0\n"
     ]
    },
    {
     "name": "stdout",
     "output_type": "stream",
     "text": [
      "607 1.0\n",
      "608 1.0\n",
      "609 1.0\n",
      "610 1.0\n",
      "611 1.0\n"
     ]
    },
    {
     "name": "stdout",
     "output_type": "stream",
     "text": [
      "612 1.0\n",
      "613 1.0\n",
      "614 1.0\n",
      "615 1.0\n",
      "616 1.0\n"
     ]
    },
    {
     "name": "stdout",
     "output_type": "stream",
     "text": [
      "617 1.0\n",
      "618 1.0\n",
      "619 1.0\n",
      "620 1.0\n",
      "621 1.0\n",
      "622 1.0\n"
     ]
    },
    {
     "name": "stdout",
     "output_type": "stream",
     "text": [
      "623 1.0\n",
      "624 1.0\n",
      "625 1.0\n",
      "626 1.0\n",
      "627 1.0\n",
      "628 0.0\n"
     ]
    },
    {
     "name": "stdout",
     "output_type": "stream",
     "text": [
      "629 1.0\n",
      "630 1.0\n",
      "631 0.0\n",
      "632 1.0\n",
      "633 1.0\n"
     ]
    },
    {
     "name": "stdout",
     "output_type": "stream",
     "text": [
      "634 1.0\n",
      "635 1.0\n",
      "636 1.0\n",
      "637 1.0\n",
      "638 0.0\n",
      "639 1.0\n"
     ]
    },
    {
     "name": "stdout",
     "output_type": "stream",
     "text": [
      "640 1.0\n",
      "641 1.0\n",
      "642 0.0\n",
      "643 1.0\n",
      "644 1.0\n",
      "645 1.0\n"
     ]
    },
    {
     "name": "stdout",
     "output_type": "stream",
     "text": [
      "646 0.0\n",
      "647 0.0\n",
      "648 0.0\n",
      "649 1.0\n",
      "650 0.0\n",
      "651 0.0\n"
     ]
    },
    {
     "name": "stdout",
     "output_type": "stream",
     "text": [
      "652 1.0\n",
      "653 1.0\n",
      "654 1.0\n",
      "655 1.0\n",
      "656 1.0\n",
      "657 1.0\n"
     ]
    },
    {
     "name": "stdout",
     "output_type": "stream",
     "text": [
      "658 0.0\n",
      "659 1.0\n",
      "660 1.0\n",
      "661 1.0\n",
      "662 1.0\n",
      "663 1.0\n",
      "664 1.0\n"
     ]
    },
    {
     "name": "stdout",
     "output_type": "stream",
     "text": [
      "665 1.0\n",
      "666 1.0\n",
      "667 1.0\n",
      "668 1.0\n",
      "669 0.0\n",
      "670 1.0\n",
      "671 1.0\n"
     ]
    },
    {
     "name": "stdout",
     "output_type": "stream",
     "text": [
      "672 1.0\n",
      "673 1.0\n",
      "674 1.0\n",
      "675 1.0\n",
      "676 1.0\n",
      "677 1.0\n",
      "678 1.0\n"
     ]
    },
    {
     "name": "stdout",
     "output_type": "stream",
     "text": [
      "679 1.0\n",
      "680 1.0\n",
      "681 1.0\n",
      "682 1.0\n",
      "683 1.0\n",
      "684 1.0\n",
      "685 1.0\n"
     ]
    },
    {
     "name": "stdout",
     "output_type": "stream",
     "text": [
      "686 1.0\n",
      "687 1.0\n",
      "688 1.0\n",
      "689 1.0\n",
      "690 1.0\n",
      "691 1.0\n",
      "692 1.0\n"
     ]
    },
    {
     "name": "stdout",
     "output_type": "stream",
     "text": [
      "693 1.0\n",
      "694 1.0\n",
      "695 1.0\n",
      "696 1.0\n",
      "697 1.0\n",
      "698 1.0\n",
      "699 1.0\n"
     ]
    },
    {
     "name": "stdout",
     "output_type": "stream",
     "text": [
      "700 1.0\n",
      "701 1.0\n",
      "702 1.0\n",
      "703 1.0\n",
      "704 1.0\n",
      "705 1.0\n",
      "706 1.0\n"
     ]
    },
    {
     "name": "stdout",
     "output_type": "stream",
     "text": [
      "707 1.0\n",
      "708 1.0\n",
      "709 1.0\n",
      "710 1.0\n",
      "711 1.0\n",
      "712 1.0\n",
      "713 1.0\n"
     ]
    },
    {
     "name": "stdout",
     "output_type": "stream",
     "text": [
      "714 1.0\n",
      "715 1.0\n",
      "716 1.0\n",
      "717 1.0\n",
      "718 1.0\n",
      "719 1.0\n",
      "720 1.0\n"
     ]
    },
    {
     "name": "stdout",
     "output_type": "stream",
     "text": [
      "721 1.0\n",
      "722 1.0\n",
      "723 1.0\n",
      "724 1.0\n",
      "725 1.0\n",
      "726 1.0\n",
      "727 1.0\n"
     ]
    },
    {
     "name": "stdout",
     "output_type": "stream",
     "text": [
      "728 1.0\n",
      "729 1.0\n",
      "730 1.0\n",
      "731 1.0\n",
      "732 1.0\n",
      "733 1.0\n",
      "734 1.0\n"
     ]
    },
    {
     "name": "stdout",
     "output_type": "stream",
     "text": [
      "735 1.0\n",
      "736 1.0\n",
      "737 1.0\n",
      "738 1.0\n",
      "739 1.0\n",
      "740 1.0\n",
      "741 1.0\n"
     ]
    },
    {
     "name": "stdout",
     "output_type": "stream",
     "text": [
      "742 1.0\n",
      "743 1.0\n",
      "744 1.0\n",
      "745 1.0\n",
      "746 1.0\n",
      "747 1.0\n"
     ]
    },
    {
     "name": "stdout",
     "output_type": "stream",
     "text": [
      "748 1.0\n",
      "749 1.0\n",
      "750 1.0\n",
      "751 1.0\n",
      "752 1.0\n",
      "753 1.0\n"
     ]
    },
    {
     "name": "stdout",
     "output_type": "stream",
     "text": [
      "754 1.0\n",
      "755 1.0\n",
      "756 1.0\n",
      "757 1.0\n",
      "758 1.0\n",
      "759 1.0\n",
      "760 1.0\n"
     ]
    },
    {
     "name": "stdout",
     "output_type": "stream",
     "text": [
      "761 1.0\n",
      "762 1.0\n",
      "763 1.0\n",
      "764 1.0\n",
      "765 1.0\n",
      "766 1.0\n",
      "767 1.0\n"
     ]
    },
    {
     "name": "stdout",
     "output_type": "stream",
     "text": [
      "768 1.0\n",
      "769 1.0\n",
      "770 1.0\n",
      "771 1.0\n",
      "772 1.0\n",
      "773 1.0\n",
      "774 1.0\n"
     ]
    },
    {
     "name": "stdout",
     "output_type": "stream",
     "text": [
      "775 1.0\n",
      "776 1.0\n",
      "777 1.0\n",
      "778 1.0\n",
      "779 1.0\n",
      "780 1.0\n",
      "781 1.0\n",
      "782 1.0\n"
     ]
    },
    {
     "name": "stdout",
     "output_type": "stream",
     "text": [
      "783 1.0\n",
      "784 1.0\n",
      "785 1.0\n",
      "786 1.0\n",
      "787 1.0\n",
      "788 1.0\n",
      "789 1.0\n",
      "790 1.0\n"
     ]
    },
    {
     "name": "stdout",
     "output_type": "stream",
     "text": [
      "791 1.0\n",
      "792 1.0\n",
      "793 1.0\n",
      "794 1.0\n",
      "795 1.0\n",
      "796 1.0\n",
      "797 1.0\n",
      "798 1.0\n"
     ]
    },
    {
     "name": "stdout",
     "output_type": "stream",
     "text": [
      "799 1.0\n"
     ]
    }
   ],
   "source": [
    "\n",
    "vm = plurality \n",
    "def compute_condorcet_eff(experiment_id):\n",
    "\n",
    "    model = obj.Model(experiment_id)\n",
    "    file_name = 'condorceteff_score.txt'\n",
    "    path = os.path.join(os.getcwd(), 'experiments', experiment_id, 'controllers', 'advanced', file_name)\n",
    "    os.remove(path)\n",
    "\n",
    "    for i in range(model.num_elections):\n",
    "        election_id = 'core_' + str(i)\n",
    "        election = obj.Election(experiment_id, election_id)\n",
    "        #print(election.votes)\n",
    "        prof = Profile([tuple(r) for r in election.votes], election.num_candidates)\n",
    "        cw = prof.condorcet_winner()\n",
    "        _score = cw is None or [cw] == vm(prof)\n",
    "        score = float(_score) \n",
    "        print(i, score)\n",
    "\n",
    "        path = os.path.join(os.getcwd(), 'experiments', experiment_id, 'controllers', 'advanced', file_name)\n",
    "        with open(path, 'a') as txtfile:\n",
    "            txtfile.write(str(score) + \"\\n\")\n",
    "\n",
    "compute_condorcet_eff('testbed_100_100')\n"
   ]
  },
  {
   "cell_type": "code",
   "execution_count": 30,
   "metadata": {},
   "outputs": [
    {
     "ename": "NameError",
     "evalue": "name 'mapel' is not defined",
     "output_type": "error",
     "traceback": [
      "\u001b[0;31m---------------------------------------------------------------------------\u001b[0m",
      "\u001b[0;31mNameError\u001b[0m                                 Traceback (most recent call last)",
      "\u001b[0;32m<ipython-input-30-46f35eb0ae72>\u001b[0m in \u001b[0;36m<module>\u001b[0;34m\u001b[0m\n\u001b[1;32m      1\u001b[0m \u001b[0mfile_name\u001b[0m \u001b[0;34m=\u001b[0m \u001b[0;34m'condorceteff_score'\u001b[0m\u001b[0;34m\u001b[0m\u001b[0;34m\u001b[0m\u001b[0m\n\u001b[0;32m----> 2\u001b[0;31m \u001b[0mmapel\u001b[0m\u001b[0;34m.\u001b[0m\u001b[0mprint_2d\u001b[0m\u001b[0;34m(\u001b[0m\u001b[0;34m'testbed_100_100'\u001b[0m\u001b[0;34m,\u001b[0m \u001b[0mvalues\u001b[0m\u001b[0;34m=\u001b[0m\u001b[0mfile_name\u001b[0m\u001b[0;34m,\u001b[0m \u001b[0mnormalizing_func\u001b[0m \u001b[0;34m=\u001b[0m \u001b[0;32mlambda\u001b[0m \u001b[0mx\u001b[0m\u001b[0;34m:\u001b[0m \u001b[0mx\u001b[0m\u001b[0;34m)\u001b[0m\u001b[0;34m\u001b[0m\u001b[0;34m\u001b[0m\u001b[0m\n\u001b[0m",
      "\u001b[0;31mNameError\u001b[0m: name 'mapel' is not defined"
     ]
    }
   ],
   "source": [
    "file_name = 'condorceteff_score'\n",
    "mapel.print_2d('testbed_100_100', values=file_name, normalizing_func = lambda x: x)\n"
   ]
  },
  {
   "cell_type": "code",
   "execution_count": 31,
   "metadata": {},
   "outputs": [
    {
     "name": "stdout",
     "output_type": "stream",
     "text": [
      "0 1.0\n",
      "1 1.0\n",
      "2 1.0\n",
      "3 1.0\n"
     ]
    },
    {
     "name": "stdout",
     "output_type": "stream",
     "text": [
      "4 2.0\n",
      "5 1.0\n",
      "6 1.0\n",
      "7 1.0\n"
     ]
    },
    {
     "name": "stdout",
     "output_type": "stream",
     "text": [
      "8 1.0\n",
      "9 1.0\n",
      "10 1.0\n",
      "11 1.0\n"
     ]
    },
    {
     "name": "stdout",
     "output_type": "stream",
     "text": [
      "12 1.0\n",
      "13 1.0\n",
      "14 1.0\n",
      "15 1.0\n"
     ]
    },
    {
     "name": "stdout",
     "output_type": "stream",
     "text": [
      "16 1.0\n",
      "17 1.0\n",
      "18 1.0\n",
      "19 1.0\n"
     ]
    },
    {
     "name": "stdout",
     "output_type": "stream",
     "text": [
      "20 1.0\n",
      "21 1.0\n",
      "22 1.0\n",
      "23 1.0\n"
     ]
    },
    {
     "name": "stdout",
     "output_type": "stream",
     "text": [
      "24 2.0\n",
      "25 1.0\n",
      "26 1.0\n",
      "27 1.0\n"
     ]
    },
    {
     "name": "stdout",
     "output_type": "stream",
     "text": [
      "28 1.0\n",
      "29 1.0\n",
      "30 1.0\n",
      "31 1.0\n",
      "32 1.0\n"
     ]
    },
    {
     "name": "stdout",
     "output_type": "stream",
     "text": [
      "33 1.0\n",
      "34 1.0\n",
      "35 1.0\n",
      "36 1.0\n",
      "37 1.0\n"
     ]
    },
    {
     "name": "stdout",
     "output_type": "stream",
     "text": [
      "38 1.0\n",
      "39 1.0\n",
      "40 1.0\n",
      "41 1.0\n",
      "42 1.0\n"
     ]
    },
    {
     "name": "stdout",
     "output_type": "stream",
     "text": [
      "43 1.0\n",
      "44 1.0\n",
      "45 1.0\n",
      "46 1.0\n",
      "47 1.0\n"
     ]
    },
    {
     "name": "stdout",
     "output_type": "stream",
     "text": [
      "48 1.0\n",
      "49 1.0\n",
      "50 1.0\n",
      "51 1.0\n",
      "52 1.0\n"
     ]
    },
    {
     "name": "stdout",
     "output_type": "stream",
     "text": [
      "53 2.0\n",
      "54 1.0\n",
      "55 1.0\n",
      "56 1.0\n",
      "57 1.0\n"
     ]
    },
    {
     "name": "stdout",
     "output_type": "stream",
     "text": [
      "58 1.0\n",
      "59 1.0\n",
      "60 1.0\n",
      "61 1.0\n",
      "62 1.0\n"
     ]
    },
    {
     "name": "stdout",
     "output_type": "stream",
     "text": [
      "63 1.0\n",
      "64 1.0\n",
      "65 1.0\n",
      "66 1.0\n",
      "67 1.0\n"
     ]
    },
    {
     "name": "stdout",
     "output_type": "stream",
     "text": [
      "68 1.0\n",
      "69 1.0\n",
      "70 1.0\n",
      "71 1.0\n",
      "72 1.0\n"
     ]
    },
    {
     "name": "stdout",
     "output_type": "stream",
     "text": [
      "73 1.0\n",
      "74 1.0\n",
      "75 1.0\n",
      "76 1.0\n"
     ]
    },
    {
     "name": "stdout",
     "output_type": "stream",
     "text": [
      "77 1.0\n",
      "78 2.0\n",
      "79 1.0\n",
      "80 1.0\n"
     ]
    },
    {
     "name": "stdout",
     "output_type": "stream",
     "text": [
      "81 1.0\n",
      "82 1.0\n",
      "83 1.0\n",
      "84 1.0\n",
      "85 1.0\n"
     ]
    },
    {
     "name": "stdout",
     "output_type": "stream",
     "text": [
      "86 1.0\n",
      "87 1.0\n",
      "88 1.0\n",
      "89 1.0\n",
      "90 1.0\n"
     ]
    },
    {
     "name": "stdout",
     "output_type": "stream",
     "text": [
      "91 1.0\n",
      "92 1.0\n",
      "93 1.0\n",
      "94 1.0\n"
     ]
    },
    {
     "name": "stdout",
     "output_type": "stream",
     "text": [
      "95 1.0\n",
      "96 1.0\n",
      "97 1.0\n",
      "98 1.0\n"
     ]
    },
    {
     "name": "stdout",
     "output_type": "stream",
     "text": [
      "99 1.0\n",
      "100 1.0\n",
      "101 1.0\n",
      "102 1.0\n"
     ]
    },
    {
     "name": "stdout",
     "output_type": "stream",
     "text": [
      "103 1.0\n",
      "104 1.0\n",
      "105 1.0\n",
      "106 1.0\n"
     ]
    },
    {
     "name": "stdout",
     "output_type": "stream",
     "text": [
      "107 1.0\n",
      "108 1.0\n",
      "109 1.0\n",
      "110 1.0\n"
     ]
    },
    {
     "name": "stdout",
     "output_type": "stream",
     "text": [
      "111 1.0\n",
      "112 1.0\n",
      "113 1.0\n",
      "114 1.0\n",
      "115 1.0\n"
     ]
    },
    {
     "name": "stdout",
     "output_type": "stream",
     "text": [
      "116 1.0\n",
      "117 1.0\n",
      "118 1.0\n",
      "119 1.0\n"
     ]
    },
    {
     "name": "stdout",
     "output_type": "stream",
     "text": [
      "120 1.0\n",
      "121 1.0\n",
      "122 1.0\n",
      "123 1.0\n"
     ]
    },
    {
     "name": "stdout",
     "output_type": "stream",
     "text": [
      "124 1.0\n",
      "125 1.0\n",
      "126 1.0\n",
      "127 2.0\n"
     ]
    },
    {
     "name": "stdout",
     "output_type": "stream",
     "text": [
      "128 1.0\n",
      "129 1.0\n",
      "130 1.0\n",
      "131 1.0\n"
     ]
    },
    {
     "name": "stdout",
     "output_type": "stream",
     "text": [
      "132 1.0\n",
      "133 1.0\n",
      "134 1.0\n",
      "135 1.0\n"
     ]
    },
    {
     "name": "stdout",
     "output_type": "stream",
     "text": [
      "136 1.0\n",
      "137 1.0\n",
      "138 1.0\n",
      "139 1.0\n"
     ]
    },
    {
     "name": "stdout",
     "output_type": "stream",
     "text": [
      "140 1.0\n",
      "141 1.0\n",
      "142 1.0\n",
      "143 1.0\n"
     ]
    },
    {
     "name": "stdout",
     "output_type": "stream",
     "text": [
      "144 1.0\n",
      "145 1.0\n",
      "146 1.0\n",
      "147 1.0\n"
     ]
    },
    {
     "name": "stdout",
     "output_type": "stream",
     "text": [
      "148 1.0\n",
      "149 1.0\n",
      "150 1.0\n",
      "151 1.0\n"
     ]
    },
    {
     "name": "stdout",
     "output_type": "stream",
     "text": [
      "152 1.0\n",
      "153 1.0\n",
      "154 1.0\n",
      "155 1.0\n"
     ]
    },
    {
     "name": "stdout",
     "output_type": "stream",
     "text": [
      "156 1.0\n",
      "157 1.0\n",
      "158 1.0\n",
      "159 1.0\n"
     ]
    },
    {
     "name": "stdout",
     "output_type": "stream",
     "text": [
      "160 1.0\n",
      "161 1.0\n",
      "162 1.0\n",
      "163 1.0\n"
     ]
    },
    {
     "name": "stdout",
     "output_type": "stream",
     "text": [
      "164 1.0\n",
      "165 1.0\n",
      "166 1.0\n",
      "167 1.0\n"
     ]
    },
    {
     "name": "stdout",
     "output_type": "stream",
     "text": [
      "168 1.0\n",
      "169 1.0\n",
      "170 1.0\n",
      "171 1.0\n"
     ]
    },
    {
     "name": "stdout",
     "output_type": "stream",
     "text": [
      "172 1.0\n",
      "173 2.0\n",
      "174 2.0\n",
      "175 1.0\n"
     ]
    },
    {
     "name": "stdout",
     "output_type": "stream",
     "text": [
      "176 1.0\n",
      "177 1.0\n",
      "178 1.0\n",
      "179 1.0\n"
     ]
    },
    {
     "name": "stdout",
     "output_type": "stream",
     "text": [
      "180 1.0\n",
      "181 1.0\n",
      "182 1.0\n",
      "183 1.0\n"
     ]
    },
    {
     "name": "stdout",
     "output_type": "stream",
     "text": [
      "184 1.0\n",
      "185 1.0\n",
      "186 1.0\n",
      "187 1.0\n"
     ]
    },
    {
     "name": "stdout",
     "output_type": "stream",
     "text": [
      "188 2.0\n",
      "189 1.0\n",
      "190 1.0\n",
      "191 1.0\n"
     ]
    },
    {
     "name": "stdout",
     "output_type": "stream",
     "text": [
      "192 1.0\n",
      "193 1.0\n",
      "194 1.0\n",
      "195 1.0\n",
      "196 1.0\n"
     ]
    },
    {
     "name": "stdout",
     "output_type": "stream",
     "text": [
      "197 1.0\n",
      "198 1.0\n",
      "199 1.0\n",
      "200 1.0\n"
     ]
    },
    {
     "name": "stdout",
     "output_type": "stream",
     "text": [
      "201 1.0\n",
      "202 1.0\n",
      "203 1.0\n",
      "204 1.0\n"
     ]
    },
    {
     "name": "stdout",
     "output_type": "stream",
     "text": [
      "205 1.0\n",
      "206 1.0\n",
      "207 1.0\n",
      "208 1.0\n"
     ]
    },
    {
     "name": "stdout",
     "output_type": "stream",
     "text": [
      "209 1.0\n",
      "210 1.0\n",
      "211 1.0\n",
      "212 1.0\n"
     ]
    },
    {
     "name": "stdout",
     "output_type": "stream",
     "text": [
      "213 1.0\n",
      "214 1.0\n",
      "215 1.0\n",
      "216 1.0\n",
      "217 1.0\n"
     ]
    },
    {
     "name": "stdout",
     "output_type": "stream",
     "text": [
      "218 1.0\n",
      "219 1.0\n",
      "220 1.0\n",
      "221 1.0\n",
      "222 1.0\n"
     ]
    },
    {
     "name": "stdout",
     "output_type": "stream",
     "text": [
      "223 1.0\n",
      "224 1.0\n",
      "225 1.0\n",
      "226 1.0\n",
      "227 1.0\n"
     ]
    },
    {
     "name": "stdout",
     "output_type": "stream",
     "text": [
      "228 1.0\n",
      "229 1.0\n",
      "230 1.0\n",
      "231 1.0\n",
      "232 1.0\n"
     ]
    },
    {
     "name": "stdout",
     "output_type": "stream",
     "text": [
      "233 1.0\n",
      "234 1.0\n",
      "235 1.0\n",
      "236 1.0\n",
      "237 1.0\n"
     ]
    },
    {
     "name": "stdout",
     "output_type": "stream",
     "text": [
      "238 1.0\n",
      "239 1.0\n",
      "240 1.0\n",
      "241 1.0\n"
     ]
    },
    {
     "name": "stdout",
     "output_type": "stream",
     "text": [
      "242 1.0\n",
      "243 1.0\n",
      "244 2.0\n",
      "245 1.0\n"
     ]
    },
    {
     "name": "stdout",
     "output_type": "stream",
     "text": [
      "246 1.0\n",
      "247 1.0\n",
      "248 1.0\n",
      "249 1.0\n"
     ]
    },
    {
     "name": "stdout",
     "output_type": "stream",
     "text": [
      "250 1.0\n",
      "251 1.0\n",
      "252 1.0\n",
      "253 1.0\n"
     ]
    },
    {
     "name": "stdout",
     "output_type": "stream",
     "text": [
      "254 1.0\n",
      "255 1.0\n",
      "256 2.0\n",
      "257 1.0\n"
     ]
    },
    {
     "name": "stdout",
     "output_type": "stream",
     "text": [
      "258 1.0\n",
      "259 1.0\n",
      "260 1.0\n",
      "261 1.0\n"
     ]
    },
    {
     "name": "stdout",
     "output_type": "stream",
     "text": [
      "262 1.0\n",
      "263 1.0\n",
      "264 1.0\n",
      "265 1.0\n"
     ]
    },
    {
     "name": "stdout",
     "output_type": "stream",
     "text": [
      "266 1.0\n",
      "267 1.0\n",
      "268 1.0\n",
      "269 1.0\n"
     ]
    },
    {
     "name": "stdout",
     "output_type": "stream",
     "text": [
      "270 1.0\n",
      "271 1.0\n",
      "272 1.0\n",
      "273 1.0\n"
     ]
    },
    {
     "name": "stdout",
     "output_type": "stream",
     "text": [
      "274 1.0\n",
      "275 1.0\n",
      "276 1.0\n",
      "277 1.0\n"
     ]
    },
    {
     "name": "stdout",
     "output_type": "stream",
     "text": [
      "278 1.0\n",
      "279 1.0\n",
      "280 1.0\n",
      "281 1.0\n"
     ]
    },
    {
     "name": "stdout",
     "output_type": "stream",
     "text": [
      "282 1.0\n",
      "283 1.0\n",
      "284 1.0\n",
      "285 1.0\n"
     ]
    },
    {
     "name": "stdout",
     "output_type": "stream",
     "text": [
      "286 1.0\n",
      "287 1.0\n",
      "288 1.0\n",
      "289 1.0\n"
     ]
    },
    {
     "name": "stdout",
     "output_type": "stream",
     "text": [
      "290 1.0\n",
      "291 1.0\n",
      "292 1.0\n",
      "293 1.0\n"
     ]
    },
    {
     "name": "stdout",
     "output_type": "stream",
     "text": [
      "294 1.0\n",
      "295 1.0\n",
      "296 1.0\n",
      "297 1.0\n"
     ]
    },
    {
     "name": "stdout",
     "output_type": "stream",
     "text": [
      "298 1.0\n",
      "299 1.0\n",
      "300 1.0\n",
      "301 1.0\n"
     ]
    },
    {
     "name": "stdout",
     "output_type": "stream",
     "text": [
      "302 1.0\n",
      "303 1.0\n",
      "304 1.0\n",
      "305 1.0\n"
     ]
    },
    {
     "name": "stdout",
     "output_type": "stream",
     "text": [
      "306 1.0\n",
      "307 1.0\n",
      "308 1.0\n",
      "309 1.0\n",
      "310 1.0\n"
     ]
    },
    {
     "name": "stdout",
     "output_type": "stream",
     "text": [
      "311 1.0\n",
      "312 1.0\n",
      "313 1.0\n",
      "314 1.0\n",
      "315 1.0\n"
     ]
    },
    {
     "name": "stdout",
     "output_type": "stream",
     "text": [
      "316 1.0\n",
      "317 1.0\n",
      "318 1.0\n",
      "319 1.0\n"
     ]
    },
    {
     "name": "stdout",
     "output_type": "stream",
     "text": [
      "320 1.0\n",
      "321 1.0\n",
      "322 1.0\n",
      "323 1.0\n"
     ]
    },
    {
     "name": "stdout",
     "output_type": "stream",
     "text": [
      "324 1.0\n",
      "325 2.0\n",
      "326 1.0\n",
      "327 1.0\n"
     ]
    },
    {
     "name": "stdout",
     "output_type": "stream",
     "text": [
      "328 1.0\n",
      "329 1.0\n",
      "330 1.0\n",
      "331 1.0\n",
      "332 1.0\n"
     ]
    },
    {
     "name": "stdout",
     "output_type": "stream",
     "text": [
      "333 1.0\n",
      "334 1.0\n",
      "335 1.0\n",
      "336 1.0\n",
      "337 1.0\n",
      "338 1.0\n"
     ]
    },
    {
     "name": "stdout",
     "output_type": "stream",
     "text": [
      "339 1.0\n",
      "340 1.0\n",
      "341 1.0\n",
      "342 1.0\n",
      "343 1.0\n",
      "344 1.0\n"
     ]
    },
    {
     "name": "stdout",
     "output_type": "stream",
     "text": [
      "345 1.0\n",
      "346 1.0\n",
      "347 1.0\n",
      "348 1.0\n",
      "349 1.0\n",
      "350 1.0\n"
     ]
    },
    {
     "name": "stdout",
     "output_type": "stream",
     "text": [
      "351 1.0\n",
      "352 1.0\n",
      "353 1.0\n",
      "354 2.0\n",
      "355 1.0\n",
      "356 1.0\n"
     ]
    },
    {
     "name": "stdout",
     "output_type": "stream",
     "text": [
      "357 1.0\n",
      "358 1.0\n",
      "359 1.0\n",
      "360 1.0\n",
      "361 1.0\n"
     ]
    },
    {
     "name": "stdout",
     "output_type": "stream",
     "text": [
      "362 1.0\n",
      "363 1.0\n",
      "364 1.0\n",
      "365 1.0\n",
      "366 1.0\n"
     ]
    },
    {
     "name": "stdout",
     "output_type": "stream",
     "text": [
      "367 1.0\n",
      "368 1.0\n",
      "369 1.0\n",
      "370 1.0\n",
      "371 1.0\n"
     ]
    },
    {
     "name": "stdout",
     "output_type": "stream",
     "text": [
      "372 1.0\n",
      "373 1.0\n",
      "374 2.0\n",
      "375 1.0\n",
      "376 1.0\n"
     ]
    },
    {
     "name": "stdout",
     "output_type": "stream",
     "text": [
      "377 1.0\n",
      "378 1.0\n",
      "379 1.0\n",
      "380 1.0\n",
      "381 1.0\n"
     ]
    },
    {
     "name": "stdout",
     "output_type": "stream",
     "text": [
      "382 1.0\n",
      "383 1.0\n",
      "384 1.0\n",
      "385 1.0\n",
      "386 1.0\n"
     ]
    },
    {
     "name": "stdout",
     "output_type": "stream",
     "text": [
      "387 1.0\n",
      "388 2.0\n",
      "389 1.0\n",
      "390 1.0\n",
      "391 1.0\n"
     ]
    },
    {
     "name": "stdout",
     "output_type": "stream",
     "text": [
      "392 1.0\n",
      "393 1.0\n",
      "394 1.0\n",
      "395 1.0\n",
      "396 1.0\n"
     ]
    },
    {
     "name": "stdout",
     "output_type": "stream",
     "text": [
      "397 1.0\n",
      "398 1.0\n",
      "399 1.0\n",
      "400 1.0\n",
      "401 1.0\n"
     ]
    },
    {
     "name": "stdout",
     "output_type": "stream",
     "text": [
      "402 1.0\n",
      "403 1.0\n",
      "404 1.0\n",
      "405 1.0\n",
      "406 1.0\n"
     ]
    },
    {
     "name": "stdout",
     "output_type": "stream",
     "text": [
      "407 1.0\n",
      "408 1.0\n",
      "409 1.0\n",
      "410 1.0\n",
      "411 1.0\n"
     ]
    },
    {
     "name": "stdout",
     "output_type": "stream",
     "text": [
      "412 1.0\n",
      "413 1.0\n",
      "414 1.0\n",
      "415 1.0\n",
      "416 2.0\n"
     ]
    },
    {
     "name": "stdout",
     "output_type": "stream",
     "text": [
      "417 1.0\n",
      "418 1.0\n",
      "419 1.0\n",
      "420 1.0\n",
      "421 1.0\n",
      "422 1.0\n"
     ]
    },
    {
     "name": "stdout",
     "output_type": "stream",
     "text": [
      "423 1.0\n",
      "424 1.0\n",
      "425 1.0\n",
      "426 1.0\n",
      "427 1.0\n",
      "428 1.0\n"
     ]
    },
    {
     "name": "stdout",
     "output_type": "stream",
     "text": [
      "429 1.0\n",
      "430 1.0\n",
      "431 1.0\n",
      "432 1.0\n",
      "433 1.0\n"
     ]
    },
    {
     "name": "stdout",
     "output_type": "stream",
     "text": [
      "434 2.0\n",
      "435 1.0\n",
      "436 1.0\n",
      "437 1.0\n",
      "438 1.0\n",
      "439 1.0\n"
     ]
    },
    {
     "name": "stdout",
     "output_type": "stream",
     "text": [
      "440 1.0\n",
      "441 1.0\n",
      "442 1.0\n",
      "443 2.0\n",
      "444 1.0\n"
     ]
    },
    {
     "name": "stdout",
     "output_type": "stream",
     "text": [
      "445 1.0\n",
      "446 1.0\n",
      "447 1.0\n",
      "448 1.0\n",
      "449 1.0\n",
      "450 1.0\n"
     ]
    },
    {
     "name": "stdout",
     "output_type": "stream",
     "text": [
      "451 1.0\n",
      "452 1.0\n",
      "453 1.0\n",
      "454 1.0\n",
      "455 1.0\n"
     ]
    },
    {
     "name": "stdout",
     "output_type": "stream",
     "text": [
      "456 1.0\n",
      "457 1.0\n",
      "458 1.0\n",
      "459 1.0\n",
      "460 1.0\n"
     ]
    },
    {
     "name": "stdout",
     "output_type": "stream",
     "text": [
      "461 1.0\n",
      "462 1.0\n",
      "463 1.0\n",
      "464 1.0\n",
      "465 1.0\n"
     ]
    },
    {
     "name": "stdout",
     "output_type": "stream",
     "text": [
      "466 1.0\n",
      "467 1.0\n",
      "468 1.0\n",
      "469 1.0\n",
      "470 1.0\n"
     ]
    },
    {
     "name": "stdout",
     "output_type": "stream",
     "text": [
      "471 1.0\n",
      "472 1.0\n",
      "473 1.0\n",
      "474 1.0\n",
      "475 1.0\n"
     ]
    },
    {
     "name": "stdout",
     "output_type": "stream",
     "text": [
      "476 1.0\n",
      "477 1.0\n",
      "478 1.0\n",
      "479 1.0\n",
      "480 1.0\n"
     ]
    },
    {
     "name": "stdout",
     "output_type": "stream",
     "text": [
      "481 1.0\n",
      "482 1.0\n",
      "483 1.0\n",
      "484 1.0\n",
      "485 1.0\n"
     ]
    },
    {
     "name": "stdout",
     "output_type": "stream",
     "text": [
      "486 1.0\n",
      "487 1.0\n",
      "488 1.0\n",
      "489 1.0\n",
      "490 1.0\n"
     ]
    },
    {
     "name": "stdout",
     "output_type": "stream",
     "text": [
      "491 1.0\n",
      "492 1.0\n",
      "493 1.0\n",
      "494 1.0\n",
      "495 1.0\n"
     ]
    },
    {
     "name": "stdout",
     "output_type": "stream",
     "text": [
      "496 1.0\n",
      "497 1.0\n",
      "498 1.0\n",
      "499 1.0\n",
      "500 1.0\n"
     ]
    },
    {
     "name": "stdout",
     "output_type": "stream",
     "text": [
      "501 1.0\n",
      "502 1.0\n",
      "503 1.0\n",
      "504 1.0\n",
      "505 1.0\n"
     ]
    },
    {
     "name": "stdout",
     "output_type": "stream",
     "text": [
      "506 1.0\n",
      "507 1.0\n",
      "508 1.0\n",
      "509 1.0\n",
      "510 1.0\n"
     ]
    },
    {
     "name": "stdout",
     "output_type": "stream",
     "text": [
      "511 1.0\n",
      "512 1.0\n",
      "513 1.0\n",
      "514 1.0\n",
      "515 1.0\n"
     ]
    },
    {
     "name": "stdout",
     "output_type": "stream",
     "text": [
      "516 1.0\n",
      "517 2.0\n",
      "518 1.0\n",
      "519 1.0\n",
      "520 1.0\n"
     ]
    },
    {
     "name": "stdout",
     "output_type": "stream",
     "text": [
      "521 1.0\n",
      "522 1.0\n",
      "523 1.0\n",
      "524 1.0\n",
      "525 1.0\n"
     ]
    },
    {
     "name": "stdout",
     "output_type": "stream",
     "text": [
      "526 2.0\n",
      "527 1.0\n",
      "528 1.0\n",
      "529 1.0\n",
      "530 1.0\n"
     ]
    },
    {
     "name": "stdout",
     "output_type": "stream",
     "text": [
      "531 1.0\n",
      "532 1.0\n",
      "533 1.0\n",
      "534 1.0\n",
      "535 1.0\n"
     ]
    },
    {
     "name": "stdout",
     "output_type": "stream",
     "text": [
      "536 1.0\n",
      "537 1.0\n",
      "538 1.0\n",
      "539 1.0\n"
     ]
    },
    {
     "name": "stdout",
     "output_type": "stream",
     "text": [
      "540 1.0\n",
      "541 1.0\n",
      "542 1.0\n",
      "543 1.0\n"
     ]
    },
    {
     "name": "stdout",
     "output_type": "stream",
     "text": [
      "544 1.0\n",
      "545 1.0\n",
      "546 1.0\n",
      "547 1.0\n"
     ]
    },
    {
     "name": "stdout",
     "output_type": "stream",
     "text": [
      "548 1.0\n",
      "549 2.0\n",
      "550 1.0\n",
      "551 1.0\n"
     ]
    },
    {
     "name": "stdout",
     "output_type": "stream",
     "text": [
      "552 1.0\n",
      "553 1.0\n",
      "554 1.0\n",
      "555 1.0\n"
     ]
    },
    {
     "name": "stdout",
     "output_type": "stream",
     "text": [
      "556 1.0\n",
      "557 1.0\n",
      "558 1.0\n",
      "559 1.0\n"
     ]
    },
    {
     "name": "stdout",
     "output_type": "stream",
     "text": [
      "560 1.0\n",
      "561 1.0\n",
      "562 1.0\n",
      "563 1.0\n"
     ]
    },
    {
     "name": "stdout",
     "output_type": "stream",
     "text": [
      "564 1.0\n",
      "565 2.0\n",
      "566 1.0\n",
      "567 1.0\n"
     ]
    },
    {
     "name": "stdout",
     "output_type": "stream",
     "text": [
      "568 1.0\n",
      "569 1.0\n",
      "570 1.0\n",
      "571 1.0\n"
     ]
    },
    {
     "name": "stdout",
     "output_type": "stream",
     "text": [
      "572 1.0\n",
      "573 1.0\n",
      "574 2.0\n",
      "575 1.0\n"
     ]
    },
    {
     "name": "stdout",
     "output_type": "stream",
     "text": [
      "576 1.0\n",
      "577 2.0\n",
      "578 1.0\n",
      "579 1.0\n"
     ]
    },
    {
     "name": "stdout",
     "output_type": "stream",
     "text": [
      "580 1.0\n",
      "581 1.0\n",
      "582 1.0\n",
      "583 1.0\n"
     ]
    },
    {
     "name": "stdout",
     "output_type": "stream",
     "text": [
      "584 1.0\n",
      "585 1.0\n",
      "586 1.0\n",
      "587 1.0\n"
     ]
    },
    {
     "name": "stdout",
     "output_type": "stream",
     "text": [
      "588 4.0\n",
      "589 1.0\n",
      "590 1.0\n",
      "591 1.0\n"
     ]
    },
    {
     "name": "stdout",
     "output_type": "stream",
     "text": [
      "592 1.0\n",
      "593 1.0\n",
      "594 1.0\n",
      "595 1.0\n"
     ]
    },
    {
     "name": "stdout",
     "output_type": "stream",
     "text": [
      "596 1.0\n",
      "597 1.0\n",
      "598 1.0\n",
      "599 1.0\n"
     ]
    },
    {
     "name": "stdout",
     "output_type": "stream",
     "text": [
      "600 1.0\n",
      "601 1.0\n",
      "602 1.0\n",
      "603 1.0\n"
     ]
    },
    {
     "name": "stdout",
     "output_type": "stream",
     "text": [
      "604 1.0\n",
      "605 1.0\n",
      "606 1.0\n",
      "607 1.0\n"
     ]
    },
    {
     "name": "stdout",
     "output_type": "stream",
     "text": [
      "608 1.0\n",
      "609 1.0\n",
      "610 1.0\n",
      "611 1.0\n"
     ]
    },
    {
     "name": "stdout",
     "output_type": "stream",
     "text": [
      "612 1.0\n",
      "613 1.0\n",
      "614 1.0\n",
      "615 1.0\n"
     ]
    },
    {
     "name": "stdout",
     "output_type": "stream",
     "text": [
      "616 1.0\n",
      "617 1.0\n",
      "618 1.0\n",
      "619 1.0\n"
     ]
    },
    {
     "name": "stdout",
     "output_type": "stream",
     "text": [
      "620 2.0\n",
      "621 1.0\n",
      "622 1.0\n",
      "623 1.0\n"
     ]
    },
    {
     "name": "stdout",
     "output_type": "stream",
     "text": [
      "624 1.0\n",
      "625 1.0\n",
      "626 1.0\n",
      "627 1.0\n"
     ]
    },
    {
     "name": "stdout",
     "output_type": "stream",
     "text": [
      "628 1.0\n",
      "629 1.0\n",
      "630 1.0\n",
      "631 1.0\n"
     ]
    },
    {
     "name": "stdout",
     "output_type": "stream",
     "text": [
      "632 1.0\n",
      "633 2.0\n",
      "634 1.0\n",
      "635 1.0\n"
     ]
    },
    {
     "name": "stdout",
     "output_type": "stream",
     "text": [
      "636 1.0\n",
      "637 1.0\n",
      "638 1.0\n",
      "639 2.0\n"
     ]
    },
    {
     "name": "stdout",
     "output_type": "stream",
     "text": [
      "640 1.0\n",
      "641 1.0\n",
      "642 1.0\n",
      "643 1.0\n",
      "644 2.0\n"
     ]
    },
    {
     "name": "stdout",
     "output_type": "stream",
     "text": [
      "645 1.0\n",
      "646 1.0\n",
      "647 1.0\n",
      "648 1.0\n",
      "649 1.0\n"
     ]
    },
    {
     "name": "stdout",
     "output_type": "stream",
     "text": [
      "650 1.0\n",
      "651 1.0\n",
      "652 1.0\n",
      "653 1.0\n"
     ]
    },
    {
     "name": "stdout",
     "output_type": "stream",
     "text": [
      "654 2.0\n",
      "655 1.0\n",
      "656 1.0\n",
      "657 1.0\n",
      "658 1.0\n"
     ]
    },
    {
     "name": "stdout",
     "output_type": "stream",
     "text": [
      "659 1.0\n",
      "660 1.0\n",
      "661 1.0\n",
      "662 1.0\n",
      "663 1.0\n",
      "664 1.0\n"
     ]
    },
    {
     "name": "stdout",
     "output_type": "stream",
     "text": [
      "665 1.0\n",
      "666 1.0\n",
      "667 1.0\n",
      "668 1.0\n",
      "669 1.0\n",
      "670 1.0\n"
     ]
    },
    {
     "name": "stdout",
     "output_type": "stream",
     "text": [
      "671 1.0\n",
      "672 2.0\n",
      "673 1.0\n",
      "674 1.0\n",
      "675 1.0\n",
      "676 1.0\n"
     ]
    },
    {
     "name": "stdout",
     "output_type": "stream",
     "text": [
      "677 1.0\n",
      "678 1.0\n",
      "679 1.0\n",
      "680 1.0\n",
      "681 1.0\n",
      "682 1.0\n"
     ]
    },
    {
     "name": "stdout",
     "output_type": "stream",
     "text": [
      "683 1.0\n",
      "684 1.0\n",
      "685 1.0\n",
      "686 1.0\n",
      "687 1.0\n",
      "688 1.0\n"
     ]
    },
    {
     "name": "stdout",
     "output_type": "stream",
     "text": [
      "689 1.0\n",
      "690 1.0\n",
      "691 1.0\n",
      "692 1.0\n",
      "693 1.0\n",
      "694 1.0\n",
      "695 1.0\n"
     ]
    },
    {
     "name": "stdout",
     "output_type": "stream",
     "text": [
      "696 1.0\n",
      "697 1.0\n",
      "698 1.0\n",
      "699 1.0\n",
      "700 1.0\n",
      "701 1.0\n",
      "702 1.0\n"
     ]
    },
    {
     "name": "stdout",
     "output_type": "stream",
     "text": [
      "703 1.0\n",
      "704 1.0\n",
      "705 1.0\n",
      "706 1.0\n",
      "707 1.0\n",
      "708 1.0\n",
      "709 1.0\n"
     ]
    },
    {
     "name": "stdout",
     "output_type": "stream",
     "text": [
      "710 1.0\n",
      "711 1.0\n",
      "712 1.0\n",
      "713 1.0\n",
      "714 1.0\n",
      "715 1.0\n",
      "716 1.0\n"
     ]
    },
    {
     "name": "stdout",
     "output_type": "stream",
     "text": [
      "717 1.0\n",
      "718 1.0\n",
      "719 1.0\n",
      "720 1.0\n",
      "721 1.0\n",
      "722 1.0\n",
      "723 1.0\n"
     ]
    },
    {
     "name": "stdout",
     "output_type": "stream",
     "text": [
      "724 1.0\n",
      "725 1.0\n",
      "726 1.0\n",
      "727 1.0\n",
      "728 1.0\n",
      "729 1.0\n",
      "730 1.0\n"
     ]
    },
    {
     "name": "stdout",
     "output_type": "stream",
     "text": [
      "731 1.0\n",
      "732 1.0\n",
      "733 1.0\n",
      "734 1.0\n",
      "735 1.0\n",
      "736 1.0\n",
      "737 1.0\n"
     ]
    },
    {
     "name": "stdout",
     "output_type": "stream",
     "text": [
      "738 1.0\n",
      "739 1.0\n",
      "740 1.0\n",
      "741 1.0\n",
      "742 1.0\n",
      "743 1.0\n",
      "744 1.0\n"
     ]
    },
    {
     "name": "stdout",
     "output_type": "stream",
     "text": [
      "745 1.0\n",
      "746 1.0\n",
      "747 1.0\n",
      "748 1.0\n",
      "749 1.0\n",
      "750 1.0\n",
      "751 1.0\n"
     ]
    },
    {
     "name": "stdout",
     "output_type": "stream",
     "text": [
      "752 1.0\n",
      "753 1.0\n",
      "754 1.0\n",
      "755 1.0\n",
      "756 1.0\n",
      "757 1.0\n",
      "758 1.0\n"
     ]
    },
    {
     "name": "stdout",
     "output_type": "stream",
     "text": [
      "759 1.0\n",
      "760 1.0\n",
      "761 1.0\n",
      "762 1.0\n",
      "763 1.0\n",
      "764 1.0\n",
      "765 1.0\n"
     ]
    },
    {
     "name": "stdout",
     "output_type": "stream",
     "text": [
      "766 1.0\n",
      "767 1.0\n",
      "768 1.0\n",
      "769 1.0\n",
      "770 1.0\n",
      "771 1.0\n",
      "772 1.0\n"
     ]
    },
    {
     "name": "stdout",
     "output_type": "stream",
     "text": [
      "773 1.0\n",
      "774 1.0\n",
      "775 1.0\n",
      "776 1.0\n",
      "777 1.0\n",
      "778 1.0\n",
      "779 1.0\n"
     ]
    },
    {
     "name": "stdout",
     "output_type": "stream",
     "text": [
      "780 1.0\n",
      "781 1.0\n",
      "782 1.0\n",
      "783 1.0\n",
      "784 1.0\n",
      "785 1.0\n",
      "786 1.0\n"
     ]
    },
    {
     "name": "stdout",
     "output_type": "stream",
     "text": [
      "787 1.0\n",
      "788 1.0\n",
      "789 1.0\n",
      "790 1.0\n",
      "791 1.0\n",
      "792 1.0\n",
      "793 1.0\n"
     ]
    },
    {
     "name": "stdout",
     "output_type": "stream",
     "text": [
      "794 1.0\n",
      "795 1.0\n",
      "796 1.0\n",
      "797 1.0\n",
      "798 1.0\n",
      "799 1.0\n"
     ]
    }
   ],
   "source": [
    "vm = hare \n",
    "def compute_size_ws(experiment_id):\n",
    "\n",
    "    model = obj.Model(experiment_id)\n",
    "    file_name = 'size_winning_set_score.txt'\n",
    "    path = os.path.join(os.getcwd(), 'experiments', experiment_id, 'controllers', 'advanced', file_name)\n",
    "    os.remove(path)\n",
    "\n",
    "    for i in range(model.num_elections):\n",
    "        election_id = 'core_' + str(i)\n",
    "        election = obj.Election(experiment_id, election_id)\n",
    "        #print(election.votes)\n",
    "        prof = Profile([tuple(r) for r in election.votes], election.num_candidates)\n",
    "        cw = prof.condorcet_winner()\n",
    "        score = float(len(vm(prof))) \n",
    "        print(i, score)\n",
    "\n",
    "        path = os.path.join(os.getcwd(), 'experiments', experiment_id, 'controllers', 'advanced', file_name)\n",
    "        with open(path, 'a') as txtfile:\n",
    "            txtfile.write(str(score) + \"\\n\")\n",
    "\n",
    "compute_size_ws('testbed_100_100')\n"
   ]
  },
  {
   "cell_type": "code",
   "execution_count": 32,
   "metadata": {},
   "outputs": [
    {
     "ename": "NameError",
     "evalue": "name 'mapel' is not defined",
     "output_type": "error",
     "traceback": [
      "\u001b[0;31m---------------------------------------------------------------------------\u001b[0m",
      "\u001b[0;31mNameError\u001b[0m                                 Traceback (most recent call last)",
      "\u001b[0;32m<ipython-input-32-66308c15aee2>\u001b[0m in \u001b[0;36m<module>\u001b[0;34m\u001b[0m\n\u001b[1;32m      1\u001b[0m \u001b[0mfile_name\u001b[0m \u001b[0;34m=\u001b[0m \u001b[0;34m'size_winning_set_score'\u001b[0m\u001b[0;34m\u001b[0m\u001b[0;34m\u001b[0m\u001b[0m\n\u001b[0;32m----> 2\u001b[0;31m \u001b[0mmapel\u001b[0m\u001b[0;34m.\u001b[0m\u001b[0mprint_2d\u001b[0m\u001b[0;34m(\u001b[0m\u001b[0;34m'testbed_100_100'\u001b[0m\u001b[0;34m,\u001b[0m \u001b[0mvalues\u001b[0m\u001b[0;34m=\u001b[0m\u001b[0mfile_name\u001b[0m\u001b[0;34m)\u001b[0m\u001b[0;34m\u001b[0m\u001b[0;34m\u001b[0m\u001b[0m\n\u001b[0m",
      "\u001b[0;31mNameError\u001b[0m: name 'mapel' is not defined"
     ]
    }
   ],
   "source": [
    "file_name = 'size_winning_set_score'\n",
    "mapel.print_2d('testbed_100_100', values=file_name)\n"
   ]
  },
  {
   "cell_type": "markdown",
   "metadata": {},
   "source": [
    "## Real Elections"
   ]
  },
  {
   "cell_type": "code",
   "execution_count": 33,
   "metadata": {},
   "outputs": [],
   "source": [
    "import glob\n",
    "election_data_directory = './election-data/'\n"
   ]
  },
  {
   "cell_type": "code",
   "execution_count": 34,
   "metadata": {},
   "outputs": [
    {
     "name": "stdout",
     "output_type": "stream",
     "text": [
      "+-----+----+----+----+----+----+----+----+----+----+----+----+----+----+----+----+----+----+----+----+----+----+---+---+\n",
      "| 200 | 86 | 69 | 45 | 42 | 35 | 34 | 28 | 27 | 22 | 20 | 19 | 19 | 18 | 18 | 17 | 17 | 16 | 15 | 14 | 12 | 10 | 6 | 6 |\n",
      "+-----+----+----+----+----+----+----+----+----+----+----+----+----+----+----+----+----+----+----+----+----+----+---+---+\n",
      "|  0  | 0  | 0  | 1  | 0  | 1  | 1  | 0  | 0  | 2  | 1  | 1  | 3  | 2  | 1  | 2  | 3  | 2  | 3  | 2  | 3  | 2  | 3 | 3 |\n",
      "|  1  | 1  | 2  | 0  | 3  | 2  | 0  | 3  | 2  | 0  | 3  | 3  | 0  | 3  | 2  | 1  | 1  | 1  | 0  | 0  | 1  | 3  | 2 | 2 |\n",
      "|  2  | 3  | 1  | 2  | 1  | 0  | 3  | 2  | 3  | 1  | 0  | 2  | 1  | 0  | 3  | 0  | 2  | 3  | 2  | 3  | 0  | 1  | 1 | 0 |\n",
      "|  3  | 2  | 3  | 3  | 2  | 3  | 2  | 1  | 1  | 3  | 2  | 0  | 2  | 1  | 0  | 3  | 0  | 0  | 1  | 1  | 2  | 0  | 0 | 1 |\n",
      "+-----+----+----+----+----+----+----+----+----+----+----+----+----+----+----+----+----+----+----+----+----+----+---+---+\n"
     ]
    },
    {
     "data": {
      "text/plain": [
       "0"
      ]
     },
     "execution_count": 34,
     "metadata": {},
     "output_type": "execute_result"
    }
   ],
   "source": [
    "# read the file containing election data and return a profile\n",
    "def read_election_data(fname):\n",
    "    with open(fname, 'r') as fp:\n",
    "        line = fp.readline()\n",
    "        num_cands = int(line)\n",
    "        remaining_lines = fp.readlines()\n",
    "        num_rankings = remaining_lines[num_cands]\n",
    "        rankings_data = remaining_lines[num_cands + 1:]\n",
    "        anon_prof = {}\n",
    "        rankings = list()\n",
    "        rcounts = list()\n",
    "        for r in rankings_data:\n",
    "            _ranking = r.split(',')\n",
    "            num = int(_ranking[0])\n",
    "            rankings.append(tuple([int(_.strip()) - 1 for _ in _ranking[1:num_cands+1]]))\n",
    "            rcounts.append(num)\n",
    "        \n",
    "        return Profile(rankings,  num_cands, rcounts = rcounts)\n",
    "\n",
    "\n",
    "\n",
    "prof = read_election_data(f\"{election_data_directory}ED-00025-00000002.soc\")\n",
    "\n",
    "prof.display()\n",
    "\n",
    "prof.condorcet_winner()"
   ]
  },
  {
   "cell_type": "code",
   "execution_count": 35,
   "metadata": {
    "scrolled": false
   },
   "outputs": [
    {
     "name": "stdout",
     "output_type": "stream",
     "text": [
      "Election 1\n",
      "\tNumber of candidates:  30\n",
      "\tNumber of voters:  7\n",
      "Election 2\n",
      "\tNumber of candidates:  4\n",
      "\tNumber of voters:  362\n",
      "Election 3\n",
      "\tNumber of candidates:  4\n",
      "\tNumber of voters:  1256\n",
      "Election 4\n",
      "\tNumber of candidates:  4\n",
      "\tNumber of voters:  369\n",
      "Election 5\n",
      "\tNumber of candidates:  32\n",
      "\tNumber of voters:  4\n",
      "Election 6\n",
      "\tNumber of candidates:  60\n",
      "\tNumber of voters:  4\n",
      "Election 7\n",
      "\tNumber of candidates:  131\n",
      "\tNumber of voters:  4\n",
      "Election 8\n",
      "\tNumber of candidates:  3\n",
      "\tNumber of voters:  405\n",
      "Election 9\n",
      "\tNumber of candidates:  3\n",
      "\tNumber of voters:  779\n",
      "Election 10\n",
      "\tNumber of candidates:  3\n",
      "\tNumber of voters:  1377\n",
      "Election 11\n",
      "\tNumber of candidates:  3\n",
      "\tNumber of voters:  496\n",
      "Election 12\n",
      "\tNumber of candidates:  3\n",
      "\tNumber of voters:  963\n",
      "Election 13\n",
      "\tNumber of candidates:  3\n",
      "\tNumber of voters:  440\n",
      "Election 14\n",
      "\tNumber of candidates:  70\n",
      "\tNumber of voters:  4\n",
      "Election 15\n",
      "\tNumber of candidates:  52\n",
      "\tNumber of voters:  4\n",
      "Election 16\n",
      "\tNumber of candidates:  81\n",
      "\tNumber of voters:  4\n",
      "Election 17\n",
      "\tNumber of candidates:  4\n",
      "\tNumber of voters:  643\n",
      "Election 18\n",
      "\tNumber of candidates:  3\n",
      "\tNumber of voters:  440\n",
      "Election 19\n",
      "\tNumber of candidates:  4\n",
      "\tNumber of voters:  494\n",
      "Election 20\n",
      "\tNumber of candidates:  4\n",
      "\tNumber of voters:  382\n",
      "Election 21\n",
      "\tNumber of candidates:  4\n",
      "\tNumber of voters:  387\n",
      "Election 22\n",
      "\tNumber of candidates:  18\n",
      "\tNumber of voters:  4\n",
      "Election 23\n",
      "\tNumber of candidates:  73\n",
      "\tNumber of voters:  4\n",
      "Election 24\n",
      "\tNumber of candidates:  3\n",
      "\tNumber of voters:  1063\n"
     ]
    },
    {
     "name": "stdout",
     "output_type": "stream",
     "text": [
      "Election 25\n",
      "\tNumber of candidates:  3\n",
      "\tNumber of voters:  751\n",
      "Election 26\n",
      "\tNumber of candidates:  3\n",
      "\tNumber of voters:  1117\n",
      "Election 27\n",
      "\tNumber of candidates:  3\n",
      "\tNumber of voters:  490\n",
      "Election 28\n",
      "\tNumber of candidates:  3\n",
      "\tNumber of voters:  363\n",
      "Election 29\n",
      "\tNumber of candidates:  3\n",
      "\tNumber of voters:  982\n",
      "Election 30\n",
      "\tNumber of candidates:  44\n",
      "\tNumber of voters:  4\n"
     ]
    },
    {
     "name": "stdout",
     "output_type": "stream",
     "text": [
      "Election 31\n",
      "\tNumber of candidates:  100\n",
      "\tNumber of voters:  4\n",
      "Election 32\n",
      "\tNumber of candidates:  4\n",
      "\tNumber of voters:  518\n",
      "Election 33\n",
      "\tNumber of candidates:  4\n",
      "\tNumber of voters:  411\n",
      "Election 34\n",
      "\tNumber of candidates:  20\n",
      "\tNumber of voters:  9\n",
      "Election 35\n",
      "\tNumber of candidates:  4\n",
      "\tNumber of voters:  494\n",
      "Election 36\n",
      "\tNumber of candidates:  4\n",
      "\tNumber of voters:  422\n",
      "Election 37\n",
      "\tNumber of candidates:  40\n",
      "\tNumber of voters:  4\n",
      "Election 38\n",
      "\tNumber of candidates:  21\n",
      "\tNumber of voters:  4\n",
      "Election 39\n",
      "\tNumber of candidates:  3\n",
      "\tNumber of voters:  695\n",
      "Election 40\n",
      "\tNumber of candidates:  3\n",
      "\tNumber of voters:  397\n",
      "Election 41\n",
      "\tNumber of candidates:  3\n",
      "\tNumber of voters:  417\n",
      "Election 42\n",
      "\tNumber of candidates:  3\n",
      "\tNumber of voters:  382\n",
      "Election 43\n",
      "\tNumber of candidates:  3\n",
      "\tNumber of voters:  1008\n",
      "Election 44\n",
      "\tNumber of candidates:  3\n",
      "\tNumber of voters:  383\n",
      "Election 45\n",
      "\tNumber of candidates:  23\n",
      "\tNumber of voters:  4\n",
      "Election 46\n",
      "\tNumber of candidates:  28\n",
      "\tNumber of voters:  4\n",
      "Election 47\n",
      "\tNumber of candidates:  4\n",
      "\tNumber of voters:  473\n",
      "Election 48\n",
      "\tNumber of candidates:  4\n",
      "\tNumber of voters:  718\n",
      "Election 49\n",
      "\tNumber of candidates:  9\n",
      "\tNumber of voters:  146\n",
      "Election 50\n",
      "\tNumber of candidates:  4\n",
      "\tNumber of voters:  588\n",
      "Election 51\n",
      "\tNumber of candidates:  4\n",
      "\tNumber of voters:  431\n",
      "Election 52\n",
      "\tNumber of candidates:  4\n",
      "\tNumber of voters:  625\n",
      "Election 53\n",
      "\tNumber of candidates:  77\n",
      "\tNumber of voters:  4\n",
      "Election 54\n",
      "\tNumber of candidates:  32\n",
      "\tNumber of voters:  4\n",
      "Election 55\n",
      "\tNumber of candidates:  41\n",
      "\tNumber of voters:  4\n",
      "Election 56\n",
      "\tNumber of candidates:  3\n",
      "\tNumber of voters:  367\n",
      "Election 57\n",
      "\tNumber of candidates:  3\n",
      "\tNumber of voters:  547\n",
      "Election 58\n",
      "\tNumber of candidates:  3\n",
      "\tNumber of voters:  563\n",
      "Election 59\n",
      "\tNumber of candidates:  3\n",
      "\tNumber of voters:  1538\n",
      "Election 60\n",
      "\tNumber of candidates:  3\n",
      "\tNumber of voters:  368\n",
      "Election 61\n",
      "\tNumber of candidates:  3\n",
      "\tNumber of voters:  2704\n",
      "Election 62\n",
      "\tNumber of candidates:  12\n",
      "\tNumber of voters:  4\n",
      "Election 63\n",
      "\tNumber of candidates:  45\n",
      "\tNumber of voters:  4\n",
      "Election 64\n",
      "\tNumber of candidates:  26\n",
      "\tNumber of voters:  4\n",
      "Election 65\n",
      "\tNumber of candidates:  4\n",
      "\tNumber of voters:  362\n",
      "Election 66\n",
      "\tNumber of candidates:  4\n",
      "\tNumber of voters:  390\n",
      "Election 67\n",
      "\tNumber of candidates:  4\n",
      "\tNumber of voters:  525\n",
      "Election 68\n",
      "\tNumber of candidates:  7\n",
      "\tNumber of voters:  153\n",
      "Election 69\n",
      "\tNumber of candidates:  4\n",
      "\tNumber of voters:  403\n",
      "Election 70\n",
      "\tNumber of candidates:  4\n",
      "\tNumber of voters:  388\n",
      "Election 71\n",
      "\tNumber of candidates:  4\n",
      "\tNumber of voters:  389\n",
      "Election 72\n",
      "\tNumber of candidates:  67\n",
      "\tNumber of voters:  4\n"
     ]
    },
    {
     "name": "stdout",
     "output_type": "stream",
     "text": [
      "Election 73\n",
      "\tNumber of candidates:  142\n",
      "\tNumber of voters:  4\n"
     ]
    },
    {
     "name": "stdout",
     "output_type": "stream",
     "text": [
      "Election 74\n",
      "\tNumber of candidates:  103\n",
      "\tNumber of voters:  5\n",
      "Election 75\n",
      "\tNumber of candidates:  4\n",
      "\tNumber of voters:  391\n",
      "Election 76\n",
      "\tNumber of candidates:  3\n",
      "\tNumber of voters:  1591\n",
      "Election 77\n",
      "\tNumber of candidates:  3\n",
      "\tNumber of voters:  3705\n",
      "Election 78\n",
      "\tNumber of candidates:  3\n",
      "\tNumber of voters:  1215\n",
      "Election 79\n",
      "\tNumber of candidates:  3\n",
      "\tNumber of voters:  533\n",
      "Election 80\n",
      "\tNumber of candidates:  242\n",
      "\tNumber of voters:  5\n"
     ]
    },
    {
     "name": "stdout",
     "output_type": "stream",
     "text": [
      "Election 81\n",
      "\tNumber of candidates:  112\n",
      "\tNumber of voters:  4\n",
      "Election 82\n",
      "\tNumber of candidates:  102\n",
      "\tNumber of voters:  4\n",
      "Election 83\n",
      "\tNumber of candidates:  4\n",
      "\tNumber of voters:  532\n",
      "Election 84\n",
      "\tNumber of candidates:  4\n",
      "\tNumber of voters:  903\n",
      "Election 85\n",
      "\tNumber of candidates:  4\n",
      "\tNumber of voters:  623\n",
      "Election 86\n",
      "\tNumber of candidates:  24\n",
      "\tNumber of voters:  9\n",
      "Election 87\n",
      "\tNumber of candidates:  23\n",
      "\tNumber of voters:  9\n",
      "Election 88\n",
      "\tNumber of candidates:  4\n",
      "\tNumber of voters:  447\n",
      "Election 89\n",
      "\tNumber of candidates:  4\n",
      "\tNumber of voters:  425\n",
      "Election 90\n",
      "\tNumber of candidates:  4\n",
      "\tNumber of voters:  430\n",
      "Election 91\n",
      "\tNumber of candidates:  99\n",
      "\tNumber of voters:  4\n",
      "Election 92\n",
      "\tNumber of candidates:  122\n",
      "\tNumber of voters:  4\n",
      "Election 93\n",
      "\tNumber of candidates:  55\n",
      "\tNumber of voters:  4\n",
      "Election 94\n",
      "\tNumber of candidates:  3\n",
      "\tNumber of voters:  1022\n",
      "Election 95\n",
      "\tNumber of candidates:  3\n",
      "\tNumber of voters:  664\n",
      "Election 96\n",
      "\tNumber of candidates:  3\n",
      "\tNumber of voters:  375\n"
     ]
    },
    {
     "name": "stdout",
     "output_type": "stream",
     "text": [
      "Election 97\n",
      "\tNumber of candidates:  3\n",
      "\tNumber of voters:  423\n",
      "Election 98\n",
      "\tNumber of candidates:  3\n",
      "\tNumber of voters:  379\n",
      "Election 99\n",
      "\tNumber of candidates:  240\n",
      "\tNumber of voters:  5\n",
      "Election 100\n",
      "\tNumber of candidates:  68\n",
      "\tNumber of voters:  4\n"
     ]
    },
    {
     "name": "stdout",
     "output_type": "stream",
     "text": [
      "Election 101\n",
      "\tNumber of candidates:  96\n",
      "\tNumber of voters:  4\n",
      "Election 102\n",
      "\tNumber of candidates:  115\n",
      "\tNumber of voters:  4\n",
      "Election 103\n",
      "\tNumber of candidates:  6\n",
      "\tNumber of voters:  15\n",
      "Election 104\n",
      "\tNumber of candidates:  4\n",
      "\tNumber of voters:  485\n",
      "Election 105\n",
      "\tNumber of candidates:  4\n",
      "\tNumber of voters:  420\n",
      "Election 106\n",
      "\tNumber of candidates:  4\n",
      "\tNumber of voters:  350\n",
      "Election 107\n",
      "\tNumber of candidates:  23\n",
      "\tNumber of voters:  9\n",
      "Election 108\n",
      "\tNumber of candidates:  19\n",
      "\tNumber of voters:  9\n",
      "Election 109\n",
      "\tNumber of candidates:  4\n",
      "\tNumber of voters:  355\n",
      "Election 110\n",
      "\tNumber of candidates:  4\n",
      "\tNumber of voters:  512\n",
      "Election 111\n",
      "\tNumber of candidates:  4\n",
      "\tNumber of voters:  473\n",
      "Election 112\n",
      "\tNumber of candidates:  115\n",
      "\tNumber of voters:  4\n",
      "Election 113\n",
      "\tNumber of candidates:  67\n",
      "\tNumber of voters:  4\n",
      "Election 114\n",
      "\tNumber of candidates:  87\n",
      "\tNumber of voters:  4\n",
      "Election 115\n",
      "\tNumber of candidates:  3\n",
      "\tNumber of voters:  833\n",
      "Election 116\n",
      "\tNumber of candidates:  3\n",
      "\tNumber of voters:  1394\n",
      "Election 117\n",
      "\tNumber of candidates:  3\n",
      "\tNumber of voters:  1143\n",
      "Election 118\n",
      "\tNumber of candidates:  3\n",
      "\tNumber of voters:  448\n",
      "Election 119\n",
      "\tNumber of candidates:  3\n",
      "\tNumber of voters:  697\n",
      "Election 120\n",
      "\tNumber of candidates:  3\n",
      "\tNumber of voters:  994\n"
     ]
    },
    {
     "name": "stdout",
     "output_type": "stream",
     "text": [
      "Election 121\n",
      "\tNumber of candidates:  115\n",
      "\tNumber of voters:  4\n",
      "Election 122\n",
      "\tNumber of candidates:  64\n",
      "\tNumber of voters:  4\n",
      "Election 123\n",
      "\tNumber of candidates:  91\n",
      "\tNumber of voters:  4\n",
      "Election 124\n",
      "\tNumber of candidates:  4\n",
      "\tNumber of voters:  384\n",
      "Election 125\n",
      "\tNumber of candidates:  4\n",
      "\tNumber of voters:  883\n",
      "Election 126\n",
      "\tNumber of candidates:  4\n",
      "\tNumber of voters:  443\n",
      "Election 127\n",
      "\tNumber of candidates:  18\n",
      "\tNumber of voters:  9\n",
      "Election 128\n",
      "\tNumber of candidates:  18\n",
      "\tNumber of voters:  7\n",
      "Election 129\n",
      "\tNumber of candidates:  23\n",
      "\tNumber of voters:  9\n",
      "Election 130\n",
      "\tNumber of candidates:  4\n",
      "\tNumber of voters:  732\n",
      "Election 131\n",
      "\tNumber of candidates:  23\n",
      "\tNumber of voters:  9\n",
      "Election 132\n",
      "\tNumber of candidates:  4\n",
      "\tNumber of voters:  358\n",
      "Election 133\n",
      "\tNumber of candidates:  4\n",
      "\tNumber of voters:  408\n",
      "Election 134\n",
      "\tNumber of candidates:  153\n",
      "\tNumber of voters:  4\n"
     ]
    },
    {
     "name": "stdout",
     "output_type": "stream",
     "text": [
      "Election 135\n",
      "\tNumber of candidates:  82\n",
      "\tNumber of voters:  4\n",
      "Election 136\n",
      "\tNumber of candidates:  3\n",
      "\tNumber of voters:  1860\n",
      "Election 137\n",
      "\tNumber of candidates:  3\n",
      "\tNumber of voters:  617\n",
      "Election 138\n",
      "\tNumber of candidates:  3\n",
      "\tNumber of voters:  529\n",
      "Election 139\n",
      "\tNumber of candidates:  3\n",
      "\tNumber of voters:  940\n",
      "Election 140\n",
      "\tNumber of candidates:  95\n",
      "\tNumber of voters:  4\n",
      "Election 141\n",
      "\tNumber of candidates:  128\n",
      "\tNumber of voters:  4\n",
      "Election 142\n",
      "\tNumber of candidates:  4\n",
      "\tNumber of voters:  448\n",
      "Election 143\n",
      "\tNumber of candidates:  4\n",
      "\tNumber of voters:  446\n",
      "Election 144\n",
      "\tNumber of candidates:  18\n",
      "\tNumber of voters:  7\n",
      "Election 145\n",
      "\tNumber of candidates:  4\n",
      "\tNumber of voters:  525\n",
      "Election 146\n",
      "\tNumber of candidates:  18\n",
      "\tNumber of voters:  9\n",
      "Election 147\n",
      "\tNumber of candidates:  4\n",
      "\tNumber of voters:  418\n",
      "Election 148\n",
      "\tNumber of candidates:  4\n",
      "\tNumber of voters:  392\n",
      "Election 149\n",
      "\tNumber of candidates:  14\n",
      "\tNumber of voters:  9\n",
      "Election 150\n",
      "\tNumber of candidates:  4\n",
      "\tNumber of voters:  554\n",
      "Election 151\n",
      "\tNumber of candidates:  4\n",
      "\tNumber of voters:  362\n",
      "Election 152\n",
      "\tNumber of candidates:  70\n",
      "\tNumber of voters:  4\n"
     ]
    },
    {
     "name": "stdout",
     "output_type": "stream",
     "text": [
      "Election 153\n",
      "\tNumber of candidates:  240\n",
      "\tNumber of voters:  5\n",
      "Election 154\n",
      "\tNumber of candidates:  3\n",
      "\tNumber of voters:  542\n",
      "Election 155\n",
      "\tNumber of candidates:  3\n",
      "\tNumber of voters:  501\n",
      "Election 156\n",
      "\tNumber of candidates:  3\n",
      "\tNumber of voters:  467\n",
      "Election 157\n",
      "\tNumber of candidates:  3\n",
      "\tNumber of voters:  360\n",
      "Election 158\n",
      "\tNumber of candidates:  4\n",
      "\tNumber of voters:  795\n",
      "Election 159\n",
      "\tNumber of candidates:  242\n",
      "\tNumber of voters:  4\n"
     ]
    },
    {
     "name": "stdout",
     "output_type": "stream",
     "text": [
      "Election 160\n",
      "\tNumber of candidates:  127\n",
      "\tNumber of voters:  4\n",
      "Election 161\n",
      "\tNumber of candidates:  4\n",
      "\tNumber of voters:  803\n",
      "Election 162\n",
      "\tNumber of candidates:  4\n",
      "\tNumber of voters:  391\n",
      "Election 163\n",
      "\tNumber of candidates:  20\n",
      "\tNumber of voters:  9\n",
      "Election 164\n",
      "\tNumber of candidates:  4\n",
      "\tNumber of voters:  731\n",
      "Election 165\n",
      "\tNumber of candidates:  4\n",
      "\tNumber of voters:  657\n",
      "Election 166\n",
      "\tNumber of candidates:  4\n",
      "\tNumber of voters:  440\n",
      "Election 167\n",
      "\tNumber of candidates:  4\n",
      "\tNumber of voters:  382\n",
      "Election 168\n",
      "\tNumber of candidates:  11\n",
      "\tNumber of voters:  30\n",
      "Election 169\n",
      "\tNumber of candidates:  23\n",
      "\tNumber of voters:  9\n",
      "Election 170\n",
      "\tNumber of candidates:  4\n",
      "\tNumber of voters:  352\n",
      "Election 171\n",
      "\tNumber of candidates:  4\n",
      "\tNumber of voters:  547\n",
      "Election 172\n",
      "\tNumber of candidates:  4\n",
      "\tNumber of voters:  797\n",
      "Election 173\n",
      "\tNumber of candidates:  4\n",
      "\tNumber of voters:  405\n",
      "Election 174\n",
      "\tNumber of candidates:  106\n",
      "\tNumber of voters:  4\n"
     ]
    },
    {
     "name": "stdout",
     "output_type": "stream",
     "text": [
      "Election 175\n",
      "\tNumber of candidates:  240\n",
      "\tNumber of voters:  4\n",
      "Election 176\n",
      "\tNumber of candidates:  69\n",
      "\tNumber of voters:  4\n",
      "Election 177\n",
      "\tNumber of candidates:  4\n",
      "\tNumber of voters:  800\n",
      "Election 178\n",
      "\tNumber of candidates:  3\n",
      "\tNumber of voters:  1083\n",
      "Election 179\n",
      "\tNumber of candidates:  3\n",
      "\tNumber of voters:  808\n",
      "Election 180\n",
      "\tNumber of candidates:  3\n",
      "\tNumber of voters:  1045\n",
      "Election 181\n",
      "\tNumber of candidates:  3\n",
      "\tNumber of voters:  595\n",
      "Election 182\n",
      "\tNumber of candidates:  3\n",
      "\tNumber of voters:  716\n",
      "Election 183\n",
      "\tNumber of candidates:  3\n",
      "\tNumber of voters:  732\n",
      "Election 184\n",
      "\tNumber of candidates:  4\n",
      "\tNumber of voters:  794\n"
     ]
    },
    {
     "name": "stdout",
     "output_type": "stream",
     "text": [
      "Election 185\n",
      "\tNumber of candidates:  163\n",
      "\tNumber of voters:  4\n",
      "Election 186\n",
      "\tNumber of candidates:  102\n",
      "\tNumber of voters:  4\n",
      "Election 187\n",
      "\tNumber of candidates:  4\n",
      "\tNumber of voters:  583\n",
      "Election 188\n",
      "\tNumber of candidates:  4\n",
      "\tNumber of voters:  436\n",
      "Election 189\n",
      "\tNumber of candidates:  4\n",
      "\tNumber of voters:  378\n",
      "Election 190\n",
      "\tNumber of candidates:  20\n",
      "\tNumber of voters:  9\n",
      "Election 191\n",
      "\tNumber of candidates:  4\n",
      "\tNumber of voters:  1814\n",
      "Election 192\n",
      "\tNumber of candidates:  4\n",
      "\tNumber of voters:  578\n",
      "Election 193\n",
      "\tNumber of candidates:  4\n",
      "\tNumber of voters:  417\n",
      "Election 194\n",
      "\tNumber of candidates:  4\n",
      "\tNumber of voters:  823\n",
      "Election 195\n",
      "\tNumber of candidates:  4\n",
      "\tNumber of voters:  793\n",
      "Election 196\n",
      "\tNumber of candidates:  4\n",
      "\tNumber of voters:  454\n",
      "Election 197\n",
      "\tNumber of candidates:  4\n",
      "\tNumber of voters:  486\n",
      "Election 198\n",
      "\tNumber of candidates:  4\n",
      "\tNumber of voters:  394\n",
      "Election 199\n",
      "\tNumber of candidates:  242\n",
      "\tNumber of voters:  5\n"
     ]
    },
    {
     "name": "stdout",
     "output_type": "stream",
     "text": [
      "Election 200\n",
      "\tNumber of candidates:  71\n",
      "\tNumber of voters:  4\n",
      "Election 201\n",
      "\tNumber of candidates:  93\n",
      "\tNumber of voters:  4\n",
      "Election 202\n",
      "\tNumber of candidates:  3\n",
      "\tNumber of voters:  2769\n",
      "Election 203\n",
      "\tNumber of candidates:  3\n",
      "\tNumber of voters:  474\n",
      "Election 204\n",
      "\tNumber of candidates:  3\n",
      "\tNumber of voters:  407\n",
      "Election 205\n",
      "\tNumber of candidates:  3\n",
      "\tNumber of voters:  2641\n",
      "Election 206\n",
      "\tNumber of candidates:  3\n",
      "\tNumber of voters:  352\n",
      "Election 207\n",
      "\tNumber of candidates:  3\n",
      "\tNumber of voters:  842\n",
      "Election 208\n",
      "\tNumber of candidates:  89\n",
      "\tNumber of voters:  4\n",
      "Election 209\n",
      "\tNumber of candidates:  63\n",
      "\tNumber of voters:  4\n",
      "Election 210\n",
      "\tNumber of candidates:  103\n",
      "\tNumber of voters:  4\n",
      "Election 211\n",
      "\tNumber of candidates:  4\n",
      "\tNumber of voters:  408\n",
      "Election 212\n",
      "\tNumber of candidates:  4\n",
      "\tNumber of voters:  395\n",
      "Election 213\n",
      "\tNumber of candidates:  4\n",
      "\tNumber of voters:  366\n",
      "Election 214\n",
      "\tNumber of candidates:  4\n",
      "\tNumber of voters:  801\n",
      "Election 215\n",
      "\tNumber of candidates:  4\n",
      "\tNumber of voters:  1207\n",
      "Election 216\n",
      "\tNumber of candidates:  14\n",
      "\tNumber of voters:  9\n",
      "Election 217\n",
      "\tNumber of candidates:  19\n",
      "\tNumber of voters:  9\n",
      "Election 218\n",
      "\tNumber of candidates:  4\n",
      "\tNumber of voters:  858\n",
      "Election 219\n",
      "\tNumber of candidates:  4\n",
      "\tNumber of voters:  510\n",
      "Election 220\n",
      "\tNumber of candidates:  4\n",
      "\tNumber of voters:  795\n",
      "Election 221\n",
      "\tNumber of candidates:  4\n",
      "\tNumber of voters:  712\n",
      "Election 222\n",
      "\tNumber of candidates:  4\n",
      "\tNumber of voters:  449\n",
      "Election 223\n",
      "\tNumber of candidates:  93\n",
      "\tNumber of voters:  4\n",
      "Election 224\n",
      "\tNumber of candidates:  110\n",
      "\tNumber of voters:  4\n"
     ]
    },
    {
     "name": "stdout",
     "output_type": "stream",
     "text": [
      "Election 225\n",
      "\tNumber of candidates:  3\n",
      "\tNumber of voters:  737\n",
      "Election 226\n",
      "\tNumber of candidates:  3\n",
      "\tNumber of voters:  351\n",
      "Election 227\n",
      "\tNumber of candidates:  3\n",
      "\tNumber of voters:  416\n",
      "Election 228\n",
      "\tNumber of candidates:  3\n",
      "\tNumber of voters:  727\n",
      "Election 229\n",
      "\tNumber of candidates:  10\n",
      "\tNumber of voters:  5000\n",
      "Election 230\n",
      "\tNumber of candidates:  4\n",
      "\tNumber of voters:  794\n",
      "Election 231\n",
      "\tNumber of candidates:  103\n",
      "\tNumber of voters:  5\n",
      "Election 232\n",
      "\tNumber of candidates:  100\n",
      "\tNumber of voters:  4\n",
      "Election 233\n",
      "\tNumber of candidates:  4\n",
      "\tNumber of voters:  400\n",
      "Election 234\n",
      "\tNumber of candidates:  4\n",
      "\tNumber of voters:  380\n",
      "Election 235\n",
      "\tNumber of candidates:  4\n",
      "\tNumber of voters:  795\n",
      "Election 236\n",
      "\tNumber of candidates:  4\n",
      "\tNumber of voters:  412\n",
      "Election 237\n",
      "\tNumber of candidates:  4\n",
      "\tNumber of voters:  535\n",
      "Election 238\n",
      "\tNumber of candidates:  24\n",
      "\tNumber of voters:  9\n",
      "Election 239\n",
      "\tNumber of candidates:  4\n",
      "\tNumber of voters:  357\n",
      "Election 240\n",
      "\tNumber of candidates:  4\n",
      "\tNumber of voters:  674\n",
      "Election 241\n",
      "\tNumber of candidates:  4\n",
      "\tNumber of voters:  384\n",
      "Election 242\n",
      "\tNumber of candidates:  38\n",
      "\tNumber of voters:  4\n",
      "Election 243\n",
      "\tNumber of candidates:  42\n",
      "\tNumber of voters:  4\n",
      "Election 244\n",
      "\tNumber of candidates:  41\n",
      "\tNumber of voters:  4\n",
      "Election 245\n",
      "\tNumber of candidates:  3\n",
      "\tNumber of voters:  460\n",
      "Election 246\n",
      "\tNumber of candidates:  3\n",
      "\tNumber of voters:  1216\n",
      "Election 247\n",
      "\tNumber of candidates:  3\n",
      "\tNumber of voters:  2310\n",
      "Election 248\n",
      "\tNumber of candidates:  3\n",
      "\tNumber of voters:  815\n",
      "Election 249\n",
      "\tNumber of candidates:  3\n",
      "\tNumber of voters:  1021\n",
      "Election 250\n",
      "\tNumber of candidates:  3\n",
      "\tNumber of voters:  445\n",
      "Election 251\n",
      "\tNumber of candidates:  3\n",
      "\tNumber of voters:  622\n",
      "Election 252\n",
      "\tNumber of candidates:  3\n",
      "\tNumber of voters:  806\n",
      "Election 253\n",
      "\tNumber of candidates:  3\n",
      "\tNumber of voters:  371\n",
      "Election 254\n",
      "\tNumber of candidates:  3\n",
      "\tNumber of voters:  751\n",
      "Election 255\n",
      "\tNumber of candidates:  72\n",
      "\tNumber of voters:  4\n",
      "Election 256\n",
      "\tNumber of candidates:  20\n",
      "\tNumber of voters:  4\n",
      "Election 257\n",
      "\tNumber of candidates:  10\n",
      "\tNumber of voters:  4\n"
     ]
    },
    {
     "name": "stdout",
     "output_type": "stream",
     "text": [
      "Election 258\n",
      "\tNumber of candidates:  4\n",
      "\tNumber of voters:  419\n",
      "Election 259\n",
      "\tNumber of candidates:  4\n",
      "\tNumber of voters:  472\n",
      "Election 260\n",
      "\tNumber of candidates:  4\n",
      "\tNumber of voters:  447\n",
      "Election 261\n",
      "\tNumber of candidates:  4\n",
      "\tNumber of voters:  376\n",
      "Election 262\n",
      "\tNumber of candidates:  4\n",
      "\tNumber of voters:  373\n",
      "Election 263\n",
      "\tNumber of candidates:  37\n",
      "\tNumber of voters:  4\n",
      "Election 264\n",
      "\tNumber of candidates:  44\n",
      "\tNumber of voters:  4\n",
      "Election 265\n",
      "\tNumber of candidates:  3\n",
      "\tNumber of voters:  713\n",
      "Election 266\n",
      "\tNumber of candidates:  3\n",
      "\tNumber of voters:  996\n",
      "Election 267\n",
      "\tNumber of candidates:  3\n",
      "\tNumber of voters:  998\n",
      "Election 268\n",
      "\tNumber of candidates:  3\n",
      "\tNumber of voters:  10347\n",
      "Election 269\n",
      "\tNumber of candidates:  3\n",
      "\tNumber of voters:  369\n",
      "Election 270\n",
      "\tNumber of candidates:  3\n",
      "\tNumber of voters:  14081\n",
      "Election 271\n",
      "\tNumber of candidates:  3\n",
      "\tNumber of voters:  1688\n",
      "Election 272\n",
      "\tNumber of candidates:  3\n",
      "\tNumber of voters:  1074\n",
      "Election 273\n",
      "\tNumber of candidates:  56\n",
      "\tNumber of voters:  4\n",
      "Election 274\n",
      "\tNumber of candidates:  29\n",
      "\tNumber of voters:  4\n",
      "Election 275\n",
      "\tNumber of candidates:  4\n",
      "\tNumber of voters:  403\n",
      "Election 276\n",
      "\tNumber of candidates:  4\n",
      "\tNumber of voters:  529\n",
      "Election 277\n",
      "\tNumber of candidates:  4\n",
      "\tNumber of voters:  379\n",
      "Election 278\n",
      "\tNumber of candidates:  4\n",
      "\tNumber of voters:  363\n",
      "Election 279\n",
      "\tNumber of candidates:  30\n",
      "\tNumber of voters:  4\n",
      "Election 280\n",
      "\tNumber of candidates:  36\n",
      "\tNumber of voters:  4\n",
      "Election 281\n",
      "\tNumber of candidates:  3\n",
      "\tNumber of voters:  2708\n",
      "Election 282\n",
      "\tNumber of candidates:  3\n",
      "\tNumber of voters:  860\n",
      "Election 283\n",
      "\tNumber of candidates:  3\n",
      "\tNumber of voters:  2840\n",
      "Election 284\n",
      "\tNumber of candidates:  3\n",
      "\tNumber of voters:  427\n",
      "Election 285\n",
      "\tNumber of candidates:  3\n",
      "\tNumber of voters:  1034\n",
      "Election 286\n",
      "\tNumber of candidates:  3\n",
      "\tNumber of voters:  871\n",
      "Election 287\n",
      "\tNumber of candidates:  3\n",
      "\tNumber of voters:  538\n",
      "Election 288\n",
      "\tNumber of candidates:  3\n",
      "\tNumber of voters:  506\n",
      "Election 289\n",
      "\tNumber of candidates:  17\n",
      "\tNumber of voters:  4\n",
      "Election 290\n",
      "\tNumber of candidates:  52\n",
      "\tNumber of voters:  4\n",
      "Election 291\n",
      "\tNumber of candidates:  4\n",
      "\tNumber of voters:  525\n",
      "Election 292\n",
      "\tNumber of candidates:  4\n",
      "\tNumber of voters:  379\n",
      "Election 293\n",
      "\tNumber of candidates:  24\n",
      "\tNumber of voters:  9\n",
      "Election 294\n",
      "\tNumber of candidates:  4\n",
      "\tNumber of voters:  389\n",
      "Election 295\n",
      "\tNumber of candidates:  4\n",
      "\tNumber of voters:  420\n",
      "Election 296\n",
      "\tNumber of candidates:  4\n",
      "\tNumber of voters:  440\n",
      "Election 297\n",
      "\tNumber of candidates:  67\n",
      "\tNumber of voters:  4\n",
      "Election 298\n",
      "\tNumber of candidates:  43\n",
      "\tNumber of voters:  4\n",
      "Election 299\n",
      "\tNumber of candidates:  21\n",
      "\tNumber of voters:  4\n",
      "Election 300\n",
      "\tNumber of candidates:  3\n",
      "\tNumber of voters:  426\n",
      "Election 301\n",
      "\tNumber of candidates:  3\n",
      "\tNumber of voters:  1631\n",
      "Election 302\n",
      "\tNumber of candidates:  3\n",
      "\tNumber of voters:  443\n",
      "Election 303\n",
      "\tNumber of candidates:  3\n",
      "\tNumber of voters:  578\n",
      "Election 304\n",
      "\tNumber of candidates:  3\n",
      "\tNumber of voters:  453\n",
      "Election 305\n",
      "\tNumber of candidates:  3\n",
      "\tNumber of voters:  391\n",
      "Election 306\n",
      "\tNumber of candidates:  3\n",
      "\tNumber of voters:  417\n",
      "Election 307\n",
      "\tNumber of candidates:  3\n",
      "\tNumber of voters:  955\n",
      "Election 308\n",
      "\tNumber of candidates:  3\n",
      "\tNumber of voters:  2415\n",
      "Election 309\n",
      "\tNumber of candidates:  3\n",
      "\tNumber of voters:  554\n",
      "Election 310\n",
      "\tNumber of candidates:  55\n",
      "\tNumber of voters:  4\n",
      "Election 311\n",
      "\tNumber of candidates:  40\n",
      "\tNumber of voters:  4\n",
      "Election 312\n",
      "\tNumber of candidates:  17\n",
      "\tNumber of voters:  4\n",
      "Election 313\n",
      "\tNumber of candidates:  4\n",
      "\tNumber of voters:  506\n",
      "Election 314\n",
      "\tNumber of candidates:  4\n",
      "\tNumber of voters:  412\n",
      "Election 315\n",
      "\tNumber of candidates:  4\n",
      "\tNumber of voters:  1187\n",
      "Out of 315 elections:\n",
      "\t89.52% have a Condorcet winner\n",
      "\t15.24% have a cycle in the majority graph\n"
     ]
    }
   ],
   "source": [
    "num_elections = 0\n",
    "num_condorcet_winner = 0\n",
    "num_cycle = 0\n",
    "for fname in glob.glob(election_data_directory + \"/*.soc\"):\n",
    "    num_elections += 1\n",
    "    prof = read_election_data(fname)\n",
    "    print(f\"Election {num_elections}\")\n",
    "    print(\"\\tNumber of candidates: \", prof.num_cands)\n",
    "    print(\"\\tNumber of voters: \", prof.num_voters)\n",
    "    \n",
    "    num_condorcet_winner += prof.condorcet_winner() is not None\n",
    "    num_cycle += has_cycle(prof.margin_graph())\n",
    "    \n",
    "print(f\"Out of {num_elections} elections:\")\n",
    "print(f\"\\t{round(num_condorcet_winner / num_elections, 4)*100}% have a Condorcet winner\")\n",
    "print(f\"\\t{round(num_cycle / num_elections, 4)*100}% have a cycle in the majority graph\")"
   ]
  },
  {
   "cell_type": "code",
   "execution_count": null,
   "metadata": {},
   "outputs": [],
   "source": []
  },
  {
   "cell_type": "code",
   "execution_count": null,
   "metadata": {},
   "outputs": [],
   "source": []
  }
 ],
 "metadata": {
  "celltoolbar": "Tags",
  "kernelspec": {
   "display_name": "Python 3",
   "language": "python",
   "name": "python3"
  },
  "language_info": {
   "codemirror_mode": {
    "name": "ipython",
    "version": 3
   },
   "file_extension": ".py",
   "mimetype": "text/x-python",
   "name": "python",
   "nbconvert_exporter": "python",
   "pygments_lexer": "ipython3",
   "version": "3.9.4"
  },
  "varInspector": {
   "cols": {
    "lenName": 16,
    "lenType": 16,
    "lenVar": 40
   },
   "kernels_config": {
    "python": {
     "delete_cmd_postfix": "",
     "delete_cmd_prefix": "del ",
     "library": "var_list.py",
     "varRefreshCmd": "print(var_dic_list())"
    },
    "r": {
     "delete_cmd_postfix": ") ",
     "delete_cmd_prefix": "rm(",
     "library": "var_list.r",
     "varRefreshCmd": "cat(var_dic_list()) "
    }
   },
   "types_to_exclude": [
    "module",
    "function",
    "builtin_function_or_method",
    "instance",
    "_Feature"
   ],
   "window_display": false
  }
 },
 "nbformat": 4,
 "nbformat_minor": 4
}