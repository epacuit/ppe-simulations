{
 "cells": [
  {
   "cell_type": "markdown",
   "metadata": {
    "slideshow": {
     "slide_type": "slide"
    }
   },
   "source": [
    "# Schelling's Segregation Model\n",
    "\n",
    "The Nobel prize winning economist Thomas Schelling developed a model that shows  how global patterns of spatial segregation can arise from the effect of *homophily* operating at a local level.\n",
    "\n",
    "*Homophily* is the principle that we tend to be similar to our friends and/or neighbors.\n",
    "\n",
    "T. Schelling. Dynamic models of segregation. The Journal of Mathematical Sociology, 1(2), 143-186, 1971.\n",
    "\n",
    "See also,\n",
    "* J. M. Sakoda, The checkerboard model of social interaction. The Journalof Mathematical Sociology 1(1), 119-132, 1971.\n",
    "\n",
    "* R. Hegselmann, Thomas C. Schelling and James M. Sakoda: The intellectual, technical, and social history of a model. Journal of Artificial Societies and Social Simulation 20 (3), 2017.\n",
    "\n"
   ]
  },
  {
   "cell_type": "markdown",
   "metadata": {
    "slideshow": {
     "slide_type": "slide"
    }
   },
   "source": [
    "\n",
    "There are two components of the Schelling model: \n",
    "\n",
    "1. A network representing different locations\n",
    "2. A set of agents with two properties: \n",
    "    1. The agent type (e.g., 'red' or 'blue')\n",
    "    2. The current position of the agent in the network\n"
   ]
  },
  {
   "cell_type": "code",
   "execution_count": 1,
   "metadata": {
    "slideshow": {
     "slide_type": "slide"
    }
   },
   "outputs": [
    {
     "data": {
      "image/png": "[encoded data removed]",
      "text/plain": [
       "<Figure size 432x288 with 1 Axes>"
      ]
     },
     "metadata": {
      "filenames": {
       "image/png": "/Users/epacuit/Dropbox/teaching/ppe-simulation/notes/_build/jupyter_execute/course-content/01-schelling_2_0.png"
      }
     },
     "output_type": "display_data"
    }
   ],
   "source": [
    "import networkx as nx\n",
    "import random\n",
    "import matplotlib.pyplot as plt\n",
    "grid = nx.grid_2d_graph(3,3)\n",
    "color_map=list()\n",
    "for node in grid:\n",
    "    color_map.append('blue' if random.random() < 0.5 else 'red')\n",
    "pos = nx.spring_layout(grid, iterations=100)\n",
    "nx.draw(grid, pos, node_color=color_map, node_size=500, font_color='white', width=2, with_labels=False)\n",
    "plt.show()"
   ]
  },
  {
   "cell_type": "markdown",
   "metadata": {
    "slideshow": {
     "slide_type": "slide"
    }
   },
   "source": [
    "## Dynamics\n",
    "\n",
    "At each round: \n",
    "\n",
    "1. For each agent $a$, determine the number of neighbors that are of the same type. \n",
    "2. Agent $a$ is happy if the number of similar agents is above a fixed threshold. \n",
    "3. If $a$ is not happy, then $a$  moves to an empty location.\n",
    "\n",
    "Continue that process for a fixed number of rounds or until every agent is happy. "
   ]
  },
  {
   "cell_type": "markdown",
   "metadata": {
    "slideshow": {
     "slide_type": "slide"
    }
   },
   "source": [
    "## Questions\n",
    "\n",
    "* How many agents are there? \n",
    "* What is the structure of the network? \n",
    "* How do you determine the neighbors of an agent? \n",
    "* Is the homophily threshold the same for all agents? \n",
    "* How densely populated is the network (how many free locations are there)?\n"
   ]
  },
  {
   "cell_type": "markdown",
   "metadata": {
    "slideshow": {
     "slide_type": "slide"
    }
   },
   "source": [
    "## NetLogo Implementation \n",
    "\n",
    "[NetLogo Schelling Simulation](http://www.netlogoweb.org/launch#http://ccl.northwestern.edu/netlogo/models/models/Sample%20Models/Social%20Science/Segregation.nlogo)\n",
    " "
   ]
  },
  {
   "cell_type": "markdown",
   "metadata": {
    "slideshow": {
     "slide_type": "slide"
    }
   },
   "source": [
    "## Implementing Schelling's Model using Python and Mesa"
   ]
  },
  {
   "cell_type": "markdown",
   "metadata": {
    "slideshow": {
     "slide_type": "slide"
    }
   },
   "source": [
    "## Mesa \n",
    "\n",
    "[https://mesa.readthedocs.io/en/master/](https://mesa.readthedocs.io/en/master/)"
   ]
  },
  {
   "cell_type": "code",
   "execution_count": 2,
   "metadata": {
    "slideshow": {
     "slide_type": "slide"
    }
   },
   "outputs": [
    {
     "name": "stdout",
     "output_type": "stream",
     "text": [
      "1\n",
      "(0, 0)\n",
      "Inside step function. Agent type is  1\n"
     ]
    }
   ],
   "source": [
    "from mesa import  Agent\n",
    "\n",
    "class SchellingAgent(Agent):\n",
    "    '''\n",
    "    Schelling segregation agent\n",
    "    '''\n",
    "    def __init__(self, pos, agent_type):\n",
    "        '''\n",
    "         Create a new Schelling agent.\n",
    "\n",
    "         Args:\n",
    "            pos: Agent initial location.\n",
    "            agent_type: Indicator for the agent's type (minority=1, majority=0)\n",
    "        '''\n",
    "        self.pos = pos\n",
    "        self.type = agent_type\n",
    "    \n",
    "    def step(self):\n",
    "        print(\"Inside step function. Agent type is \", self.type)\n",
    "\n",
    "a=SchellingAgent((0,0),1)\n",
    "print(a.type)\n",
    "print(a.pos)\n",
    "a.step()"
   ]
  },
  {
   "cell_type": "code",
   "execution_count": 3,
   "metadata": {
    "slideshow": {
     "slide_type": "slide"
    }
   },
   "outputs": [
    {
     "name": "stdout",
     "output_type": "stream",
     "text": [
      "<__main__.SchellingAgent object at 0x111209430>\n",
      "(0, 0)\n",
      "1\n",
      "Inside step function. Agent type is  1\n",
      "\n",
      "\n",
      "<__main__.SchellingAgent object at 0x111209190>\n",
      "(0, 1)\n",
      "0\n",
      "Inside step function. Agent type is  0\n"
     ]
    }
   ],
   "source": [
    "a = SchellingAgent((0,0), 1)\n",
    "b = SchellingAgent((0,1), 0)\n",
    "\n",
    "print(a)\n",
    "print(a.pos)\n",
    "print(a.type)\n",
    "a.step()\n",
    "\n",
    "print(\"\\n\")\n",
    "print(b)\n",
    "print(b.pos)\n",
    "print(b.type)\n",
    "b.step()"
   ]
  },
  {
   "cell_type": "code",
   "execution_count": 4,
   "metadata": {
    "slideshow": {
     "slide_type": "slide"
    }
   },
   "outputs": [],
   "source": [
    "from mesa import Model, Agent\n",
    "\n",
    "class SchellingAgent(Agent):\n",
    "    '''\n",
    "    Schelling segregation agent\n",
    "    '''\n",
    "    def __init__(self, pos, model, agent_type):\n",
    "        '''\n",
    "         Create a new Schelling agent.\n",
    "         Args:\n",
    "            pos: Agent initial location.\n",
    "            agent_type: Indicator for the agent's type (minority=1, majority=0)\n",
    "        '''\n",
    "        super().__init__(pos, model)\n",
    "        self.pos = pos\n",
    "        self.type = agent_type\n",
    "\n",
    "    def step(self):\n",
    "        similar = 0\n",
    "        neighbors = self.model.grid.neighbor_iter(self.pos)\n",
    "        for neighbor in neighbors:\n",
    "            if neighbor.type == self.type:\n",
    "                similar += 1\n",
    "\n",
    "        # If unhappy, move:\n",
    "        if similar < self.model.homophily:\n",
    "            self.model.grid.move_to_empty(self)\n",
    "        else:\n",
    "            self.model.happy += 1\n"
   ]
  },
  {
   "cell_type": "code",
   "execution_count": 5,
   "metadata": {
    "slideshow": {
     "slide_type": "slide"
    }
   },
   "outputs": [],
   "source": [
    "from mesa.time import RandomActivation\n",
    "from mesa.space import SingleGrid\n",
    "from mesa.datacollection import DataCollector\n",
    "\n",
    "class SchellingModel(Model):\n",
    "    '''\n",
    "    Model class for the Schelling segregation model.\n",
    "    '''\n",
    "    def __init__(self, height, width, density, minority_percent, homophily):\n",
    "\n",
    "        self.height = height\n",
    "        self.width = width\n",
    "        self.density = density\n",
    "        self.minority_percent = minority_percent\n",
    "        self.homophily = homophily\n",
    "\n",
    "        self.schedule = RandomActivation(self)\n",
    "        self.grid = SingleGrid(height, width, torus=True)\n",
    "\n",
    "        self.happy = 0\n",
    "        self.datacollector = DataCollector(\n",
    "            {\"happy\": lambda m: m.happy},  # Model-level count of happy agents\n",
    "            # For testing purposes, agent's individual x and y\n",
    "            {\"x\": lambda a: a.pos[0], \"y\": lambda a: a.pos[1]})\n",
    "        self.running = True\n",
    "        # Set up agents\n",
    "        for cell in self.grid.coord_iter():\n",
    "            #print(cell)\n",
    "            _,x,y = cell\n",
    "            if random.random() < self.density:\n",
    "                if random.random() < self.minority_percent:\n",
    "                    agent_type = 1\n",
    "                else:\n",
    "                    agent_type = 0\n",
    "                agent = SchellingAgent((x, y), self, agent_type)\n",
    "                self.grid.position_agent(agent, (x, y))\n",
    "                self.schedule.add(agent)\n",
    "\n",
    "    def step(self):\n",
    "        '''\n",
    "        Run one step of the model. If All agents are happy, halt the model.\n",
    "        '''\n",
    "        self.happy = 0  # Reset counter of happy agents\n",
    "        self.schedule.step()\n",
    "        self.datacollector.collect(self)\n",
    "        if self.happy == self.schedule.get_agent_count():\n",
    "            self.running = False\n"
   ]
  },
  {
   "cell_type": "markdown",
   "metadata": {
    "slideshow": {
     "slide_type": "slide"
    }
   },
   "source": [
    "Instatiate a model instance: a 10x10 grid, with an 10% chance of an agent being placed in each cell, approximately 20% of agents set as minorities, and agents wanting at least 3 similar neighbors."
   ]
  },
  {
   "cell_type": "code",
   "execution_count": 6,
   "metadata": {
    "slideshow": {
     "slide_type": "fragment"
    }
   },
   "outputs": [
    {
     "name": "stdout",
     "output_type": "stream",
     "text": [
      "Unique id  (1, 6)\n",
      "Type  0\n",
      "Pos  (9, 0)\n",
      "Unique id  (5, 1)\n",
      "Type  0\n",
      "Pos  (5, 0)\n",
      "Unique id  (5, 4)\n",
      "Type  0\n",
      "Pos  (0, 4)\n",
      "Unique id  (6, 8)\n",
      "Type  0\n",
      "Pos  (4, 4)\n",
      "Unique id  (7, 7)\n",
      "Type  0\n",
      "Pos  (9, 1)\n",
      "Unique id  (8, 5)\n",
      "Type  0\n",
      "Pos  (4, 9)\n",
      "Unique id  (8, 8)\n",
      "Type  0\n",
      "Pos  (7, 0)\n",
      "Unique id  (9, 7)\n",
      "Type  0\n",
      "Pos  (0, 9)\n"
     ]
    }
   ],
   "source": [
    "height, width = 10, 10\n",
    "density = 0.1\n",
    "minority_percent = 0.2\n",
    "homophily = 4\n",
    "model = SchellingModel(height, width, density, minority_percent, homophily)\n",
    "for a in model.schedule.agents: \n",
    "    print(\"Unique id \", a.unique_id)\n",
    "    print(\"Type \", a.type)\n",
    "    print(\"Pos \", a.pos)\n"
   ]
  },
  {
   "cell_type": "markdown",
   "metadata": {
    "slideshow": {
     "slide_type": "slide"
    }
   },
   "source": [
    "Instatiate a model instance: a 10x10 grid, with an 80% chance of an agent being placed in each cell, approximately 20% of agents set as minorities, and agents wanting at least 3 similar neighbors.  Run the model at most 100 times. "
   ]
  },
  {
   "cell_type": "code",
   "execution_count": 7,
   "metadata": {
    "slideshow": {
     "slide_type": "fragment"
    }
   },
   "outputs": [],
   "source": [
    "height, width = 50, 50\n",
    "density = 0.8\n",
    "minority_percent = 0.3\n",
    "homophily = 4\n",
    "model = SchellingModel(height, width, density, minority_percent, homophily)\n",
    "\n",
    "while model.running and model.schedule.steps < 1000:\n",
    "    model.step()\n",
    "print(f\"The model ran for {model.schedule.steps} steps\") # Show how many steps have actually run"
   ]
  },
  {
   "cell_type": "markdown",
   "metadata": {
    "slideshow": {
     "slide_type": "slide"
    }
   },
   "source": [
    "The DataCollector object checks and stores how many agents are happy at the end of each step. It can also generate a pandas DataFrame of the data it has collected:"
   ]
  },
  {
   "cell_type": "code",
   "execution_count": 25,
   "metadata": {
    "slideshow": {
     "slide_type": "fragment"
    }
   },
   "outputs": [
    {
     "data": {
      "text/html": [
       "<div>\n",
       "<style scoped>\n",
       "    .dataframe tbody tr th:only-of-type {\n",
       "        vertical-align: middle;\n",
       "    }\n",
       "\n",
       "    .dataframe tbody tr th {\n",
       "        vertical-align: top;\n",
       "    }\n",
       "\n",
       "    .dataframe thead th {\n",
       "        text-align: right;\n",
       "    }\n",
       "</style>\n",
       "<table border=\"1\" class=\"dataframe\">\n",
       "  <thead>\n",
       "    <tr style=\"text-align: right;\">\n",
       "      <th></th>\n",
       "      <th>happy</th>\n",
       "    </tr>\n",
       "  </thead>\n",
       "  <tbody>\n",
       "    <tr>\n",
       "      <th>0</th>\n",
       "      <td>1128</td>\n",
       "    </tr>\n",
       "    <tr>\n",
       "      <th>1</th>\n",
       "      <td>1396</td>\n",
       "    </tr>\n",
       "    <tr>\n",
       "      <th>2</th>\n",
       "      <td>1572</td>\n",
       "    </tr>\n",
       "    <tr>\n",
       "      <th>3</th>\n",
       "      <td>1672</td>\n",
       "    </tr>\n",
       "    <tr>\n",
       "      <th>4</th>\n",
       "      <td>1730</td>\n",
       "    </tr>\n",
       "  </tbody>\n",
       "</table>\n",
       "</div>"
      ],
      "text/plain": [
       "   happy\n",
       "0   1128\n",
       "1   1396\n",
       "2   1572\n",
       "3   1672\n",
       "4   1730"
      ]
     },
     "execution_count": 25,
     "metadata": {},
     "output_type": "execute_result"
    }
   ],
   "source": [
    "model_out = model.datacollector.get_model_vars_dataframe()\n",
    "\n",
    "model_out.head()\n"
   ]
  },
  {
   "cell_type": "code",
   "execution_count": 26,
   "metadata": {
    "slideshow": {
     "slide_type": "subslide"
    }
   },
   "outputs": [
    {
     "data": {
      "image/png": "[encoded data removed]",
      "text/plain": [
       "<Figure size 432x288 with 1 Axes>"
      ]
     },
     "metadata": {
      "filenames": {
       "image/png": "/Users/epacuit/Dropbox/teaching/ppe-simulation/notes/_build/jupyter_execute/course-content/01-schelling_18_0.png"
      },
      "needs_background": "light"
     },
     "output_type": "display_data"
    }
   ],
   "source": [
    "model_out.happy.plot();"
   ]
  },
  {
   "cell_type": "markdown",
   "metadata": {
    "slideshow": {
     "slide_type": "slide"
    }
   },
   "source": [
    "## Visualization"
   ]
  },
  {
   "cell_type": "code",
   "execution_count": 27,
   "metadata": {
    "slideshow": {
     "slide_type": "slide"
    }
   },
   "outputs": [
    {
     "name": "stdout",
     "output_type": "stream",
     "text": [
      "Interface starting at http://127.0.0.1:8524\n"
     ]
    },
    {
     "ename": "OSError",
     "evalue": "[Errno 48] Address already in use",
     "output_type": "error",
     "traceback": [
      "\u001b[0;31m---------------------------------------------------------------------------\u001b[0m",
      "\u001b[0;31mOSError\u001b[0m                                   Traceback (most recent call last)",
      "\u001b[0;32m<ipython-input-27-d0cd988e4ced>\u001b[0m in \u001b[0;36m<module>\u001b[0;34m\u001b[0m\n\u001b[1;32m     21\u001b[0m                         \"homophily\": 4})\n\u001b[1;32m     22\u001b[0m \u001b[0mserver\u001b[0m\u001b[0;34m.\u001b[0m\u001b[0mport\u001b[0m \u001b[0;34m=\u001b[0m \u001b[0;36m8524\u001b[0m \u001b[0;31m# The default\u001b[0m\u001b[0;34m\u001b[0m\u001b[0;34m\u001b[0m\u001b[0m\n\u001b[0;32m---> 23\u001b[0;31m \u001b[0mserver\u001b[0m\u001b[0;34m.\u001b[0m\u001b[0mlaunch\u001b[0m\u001b[0;34m(\u001b[0m\u001b[0;34m)\u001b[0m\u001b[0;34m\u001b[0m\u001b[0;34m\u001b[0m\u001b[0m\n\u001b[0m",
      "\u001b[0;32m/Library/Frameworks/Python.framework/Versions/3.8/lib/python3.8/site-packages/mesa/visualization/ModularVisualization.py\u001b[0m in \u001b[0;36mlaunch\u001b[0;34m(self, port, open_browser)\u001b[0m\n\u001b[1;32m    331\u001b[0m         \u001b[0murl\u001b[0m \u001b[0;34m=\u001b[0m \u001b[0;34m\"http://127.0.0.1:{PORT}\"\u001b[0m\u001b[0;34m.\u001b[0m\u001b[0mformat\u001b[0m\u001b[0;34m(\u001b[0m\u001b[0mPORT\u001b[0m\u001b[0;34m=\u001b[0m\u001b[0mself\u001b[0m\u001b[0;34m.\u001b[0m\u001b[0mport\u001b[0m\u001b[0;34m)\u001b[0m\u001b[0;34m\u001b[0m\u001b[0;34m\u001b[0m\u001b[0m\n\u001b[1;32m    332\u001b[0m         \u001b[0mprint\u001b[0m\u001b[0;34m(\u001b[0m\u001b[0;34m\"Interface starting at {url}\"\u001b[0m\u001b[0;34m.\u001b[0m\u001b[0mformat\u001b[0m\u001b[0;34m(\u001b[0m\u001b[0murl\u001b[0m\u001b[0;34m=\u001b[0m\u001b[0murl\u001b[0m\u001b[0;34m)\u001b[0m\u001b[0;34m)\u001b[0m\u001b[0;34m\u001b[0m\u001b[0;34m\u001b[0m\u001b[0m\n\u001b[0;32m--> 333\u001b[0;31m         \u001b[0mself\u001b[0m\u001b[0;34m.\u001b[0m\u001b[0mlisten\u001b[0m\u001b[0;34m(\u001b[0m\u001b[0mself\u001b[0m\u001b[0;34m.\u001b[0m\u001b[0mport\u001b[0m\u001b[0;34m)\u001b[0m\u001b[0;34m\u001b[0m\u001b[0;34m\u001b[0m\u001b[0m\n\u001b[0m\u001b[1;32m    334\u001b[0m         \u001b[0;32mif\u001b[0m \u001b[0mopen_browser\u001b[0m\u001b[0;34m:\u001b[0m\u001b[0;34m\u001b[0m\u001b[0;34m\u001b[0m\u001b[0m\n\u001b[1;32m    335\u001b[0m             \u001b[0mwebbrowser\u001b[0m\u001b[0;34m.\u001b[0m\u001b[0mopen\u001b[0m\u001b[0;34m(\u001b[0m\u001b[0murl\u001b[0m\u001b[0;34m)\u001b[0m\u001b[0;34m\u001b[0m\u001b[0;34m\u001b[0m\u001b[0m\n",
      "\u001b[0;32m/Library/Frameworks/Python.framework/Versions/3.8/lib/python3.8/site-packages/tornado/web.py\u001b[0m in \u001b[0;36mlisten\u001b[0;34m(self, port, address, **kwargs)\u001b[0m\n\u001b[1;32m   2114\u001b[0m         \"\"\"\n\u001b[1;32m   2115\u001b[0m         \u001b[0mserver\u001b[0m \u001b[0;34m=\u001b[0m \u001b[0mHTTPServer\u001b[0m\u001b[0;34m(\u001b[0m\u001b[0mself\u001b[0m\u001b[0;34m,\u001b[0m \u001b[0;34m**\u001b[0m\u001b[0mkwargs\u001b[0m\u001b[0;34m)\u001b[0m\u001b[0;34m\u001b[0m\u001b[0;34m\u001b[0m\u001b[0m\n\u001b[0;32m-> 2116\u001b[0;31m         \u001b[0mserver\u001b[0m\u001b[0;34m.\u001b[0m\u001b[0mlisten\u001b[0m\u001b[0;34m(\u001b[0m\u001b[0mport\u001b[0m\u001b[0;34m,\u001b[0m \u001b[0maddress\u001b[0m\u001b[0;34m)\u001b[0m\u001b[0;34m\u001b[0m\u001b[0;34m\u001b[0m\u001b[0m\n\u001b[0m\u001b[1;32m   2117\u001b[0m         \u001b[0;32mreturn\u001b[0m \u001b[0mserver\u001b[0m\u001b[0;34m\u001b[0m\u001b[0;34m\u001b[0m\u001b[0m\n\u001b[1;32m   2118\u001b[0m \u001b[0;34m\u001b[0m\u001b[0m\n",
      "\u001b[0;32m/Library/Frameworks/Python.framework/Versions/3.8/lib/python3.8/site-packages/tornado/tcpserver.py\u001b[0m in \u001b[0;36mlisten\u001b[0;34m(self, port, address)\u001b[0m\n\u001b[1;32m    149\u001b[0m         \u001b[0mthe\u001b[0m\u001b[0;31m \u001b[0m\u001b[0;31m`\u001b[0m\u001b[0;34m.\u001b[0m\u001b[0mIOLoop\u001b[0m\u001b[0;31m`\u001b[0m\u001b[0;34m.\u001b[0m\u001b[0;34m\u001b[0m\u001b[0;34m\u001b[0m\u001b[0m\n\u001b[1;32m    150\u001b[0m         \"\"\"\n\u001b[0;32m--> 151\u001b[0;31m         \u001b[0msockets\u001b[0m \u001b[0;34m=\u001b[0m \u001b[0mbind_sockets\u001b[0m\u001b[0;34m(\u001b[0m\u001b[0mport\u001b[0m\u001b[0;34m,\u001b[0m \u001b[0maddress\u001b[0m\u001b[0;34m=\u001b[0m\u001b[0maddress\u001b[0m\u001b[0;34m)\u001b[0m\u001b[0;34m\u001b[0m\u001b[0;34m\u001b[0m\u001b[0m\n\u001b[0m\u001b[1;32m    152\u001b[0m         \u001b[0mself\u001b[0m\u001b[0;34m.\u001b[0m\u001b[0madd_sockets\u001b[0m\u001b[0;34m(\u001b[0m\u001b[0msockets\u001b[0m\u001b[0;34m)\u001b[0m\u001b[0;34m\u001b[0m\u001b[0;34m\u001b[0m\u001b[0m\n\u001b[1;32m    153\u001b[0m \u001b[0;34m\u001b[0m\u001b[0m\n",
      "\u001b[0;32m/Library/Frameworks/Python.framework/Versions/3.8/lib/python3.8/site-packages/tornado/netutil.py\u001b[0m in \u001b[0;36mbind_sockets\u001b[0;34m(port, address, family, backlog, flags, reuse_port)\u001b[0m\n\u001b[1;32m    172\u001b[0m \u001b[0;34m\u001b[0m\u001b[0m\n\u001b[1;32m    173\u001b[0m         \u001b[0msock\u001b[0m\u001b[0;34m.\u001b[0m\u001b[0msetblocking\u001b[0m\u001b[0;34m(\u001b[0m\u001b[0;32mFalse\u001b[0m\u001b[0;34m)\u001b[0m\u001b[0;34m\u001b[0m\u001b[0;34m\u001b[0m\u001b[0m\n\u001b[0;32m--> 174\u001b[0;31m         \u001b[0msock\u001b[0m\u001b[0;34m.\u001b[0m\u001b[0mbind\u001b[0m\u001b[0;34m(\u001b[0m\u001b[0msockaddr\u001b[0m\u001b[0;34m)\u001b[0m\u001b[0;34m\u001b[0m\u001b[0;34m\u001b[0m\u001b[0m\n\u001b[0m\u001b[1;32m    175\u001b[0m         \u001b[0mbound_port\u001b[0m \u001b[0;34m=\u001b[0m \u001b[0msock\u001b[0m\u001b[0;34m.\u001b[0m\u001b[0mgetsockname\u001b[0m\u001b[0;34m(\u001b[0m\u001b[0;34m)\u001b[0m\u001b[0;34m[\u001b[0m\u001b[0;36m1\u001b[0m\u001b[0;34m]\u001b[0m\u001b[0;34m\u001b[0m\u001b[0;34m\u001b[0m\u001b[0m\n\u001b[1;32m    176\u001b[0m         \u001b[0msock\u001b[0m\u001b[0;34m.\u001b[0m\u001b[0mlisten\u001b[0m\u001b[0;34m(\u001b[0m\u001b[0mbacklog\u001b[0m\u001b[0;34m)\u001b[0m\u001b[0;34m\u001b[0m\u001b[0;34m\u001b[0m\u001b[0m\n",
      "\u001b[0;31mOSError\u001b[0m: [Errno 48] Address already in use"
     ]
    }
   ],
   "source": [
    "from mesa.visualization.modules import CanvasGrid, ChartModule\n",
    "from mesa.visualization.ModularVisualization import ModularServer\n",
    "\n",
    "\n",
    "def agent_portrayal(agent):\n",
    "    portrayal = {\"Shape\": \"circle\",\n",
    "                 \"Filled\": \"true\",\n",
    "                 \"Layer\": 0,\n",
    "                 \"Color\": \"red\" if agent.type == 0 else \"blue\",\n",
    "                 \"r\": 0.5}\n",
    "    return portrayal\n",
    "\n",
    "grid = CanvasGrid(agent_portrayal, 50, 50, 500, 500)\n",
    "server = ModularServer(SchellingModel,\n",
    "                       [grid],\n",
    "                       \"SchellingModel Model\",\n",
    "                       {\"height\":50, \n",
    "                        \"width\":50, \n",
    "                        \"density\":0.6, \n",
    "                        \"minority_percent\": 0.2, \n",
    "                        \"homophily\": 4})\n",
    "server.port = 8524 # The default\n",
    "server.launch()\n"
   ]
  },
  {
   "cell_type": "markdown",
   "metadata": {
    "slideshow": {
     "slide_type": "slide"
    }
   },
   "source": [
    "## Exploring the Parameter Space"
   ]
  },
  {
   "cell_type": "code",
   "execution_count": 11,
   "metadata": {
    "slideshow": {
     "slide_type": "slide"
    }
   },
   "outputs": [],
   "source": [
    "from mesa.batchrunner import BatchRunner\n",
    "\n",
    "def get_segregation(model):\n",
    "    '''\n",
    "    Find the % of agents that only have neighbors of their same type.\n",
    "    '''\n",
    "    segregated_agents = 0\n",
    "    for agent in model.schedule.agents:\n",
    "        segregated = True\n",
    "        for neighbor in model.grid.neighbor_iter(agent.pos):\n",
    "            if neighbor.type != agent.type:\n",
    "                segregated = False\n",
    "                break\n",
    "        if segregated:\n",
    "            segregated_agents += 1\n",
    "    return segregated_agents / model.schedule.get_agent_count()"
   ]
  },
  {
   "cell_type": "code",
   "execution_count": 12,
   "metadata": {
    "slideshow": {
     "slide_type": "slide"
    }
   },
   "outputs": [],
   "source": [
    "variable_params = {\"homophily\": range(1,9)}\n",
    "fixed_params =  {\"height\": 10, \"width\": 10, \"density\": 0.8, \"minority_percent\": 0.2} \n",
    "model_reporters = {\"Segregated_Agents\": get_segregation}\n",
    "param_sweep = BatchRunner(SchellingModel, \n",
    "                          variable_params, \n",
    "                          fixed_params, \n",
    "                          iterations=10, \n",
    "                          max_steps=200, \n",
    "                          model_reporters=model_reporters)"
   ]
  },
  {
   "cell_type": "code",
   "execution_count": 13,
   "metadata": {
    "slideshow": {
     "slide_type": "slide"
    }
   },
   "outputs": [
    {
     "name": "stderr",
     "output_type": "stream",
     "text": [
      "80it [00:17,  4.49it/s]\n"
     ]
    }
   ],
   "source": [
    "param_sweep.run_all()"
   ]
  },
  {
   "cell_type": "code",
   "execution_count": 14,
   "metadata": {
    "slideshow": {
     "slide_type": "slide"
    }
   },
   "outputs": [
    {
     "data": {
      "text/html": [
       "<div>\n",
       "<style scoped>\n",
       "    .dataframe tbody tr th:only-of-type {\n",
       "        vertical-align: middle;\n",
       "    }\n",
       "\n",
       "    .dataframe tbody tr th {\n",
       "        vertical-align: top;\n",
       "    }\n",
       "\n",
       "    .dataframe thead th {\n",
       "        text-align: right;\n",
       "    }\n",
       "</style>\n",
       "<table border=\"1\" class=\"dataframe\">\n",
       "  <thead>\n",
       "    <tr style=\"text-align: right;\">\n",
       "      <th></th>\n",
       "      <th>homophily</th>\n",
       "      <th>Run</th>\n",
       "      <th>Segregated_Agents</th>\n",
       "      <th>height</th>\n",
       "      <th>width</th>\n",
       "      <th>density</th>\n",
       "      <th>minority_percent</th>\n",
       "    </tr>\n",
       "  </thead>\n",
       "  <tbody>\n",
       "    <tr>\n",
       "      <th>0</th>\n",
       "      <td>1</td>\n",
       "      <td>0</td>\n",
       "      <td>0.296296</td>\n",
       "      <td>10</td>\n",
       "      <td>10</td>\n",
       "      <td>0.8</td>\n",
       "      <td>0.2</td>\n",
       "    </tr>\n",
       "    <tr>\n",
       "      <th>1</th>\n",
       "      <td>1</td>\n",
       "      <td>1</td>\n",
       "      <td>0.275000</td>\n",
       "      <td>10</td>\n",
       "      <td>10</td>\n",
       "      <td>0.8</td>\n",
       "      <td>0.2</td>\n",
       "    </tr>\n",
       "    <tr>\n",
       "      <th>2</th>\n",
       "      <td>1</td>\n",
       "      <td>2</td>\n",
       "      <td>0.296296</td>\n",
       "      <td>10</td>\n",
       "      <td>10</td>\n",
       "      <td>0.8</td>\n",
       "      <td>0.2</td>\n",
       "    </tr>\n",
       "    <tr>\n",
       "      <th>3</th>\n",
       "      <td>1</td>\n",
       "      <td>3</td>\n",
       "      <td>0.222222</td>\n",
       "      <td>10</td>\n",
       "      <td>10</td>\n",
       "      <td>0.8</td>\n",
       "      <td>0.2</td>\n",
       "    </tr>\n",
       "    <tr>\n",
       "      <th>4</th>\n",
       "      <td>1</td>\n",
       "      <td>4</td>\n",
       "      <td>0.247059</td>\n",
       "      <td>10</td>\n",
       "      <td>10</td>\n",
       "      <td>0.8</td>\n",
       "      <td>0.2</td>\n",
       "    </tr>\n",
       "    <tr>\n",
       "      <th>...</th>\n",
       "      <td>...</td>\n",
       "      <td>...</td>\n",
       "      <td>...</td>\n",
       "      <td>...</td>\n",
       "      <td>...</td>\n",
       "      <td>...</td>\n",
       "      <td>...</td>\n",
       "    </tr>\n",
       "    <tr>\n",
       "      <th>75</th>\n",
       "      <td>8</td>\n",
       "      <td>75</td>\n",
       "      <td>0.166667</td>\n",
       "      <td>10</td>\n",
       "      <td>10</td>\n",
       "      <td>0.8</td>\n",
       "      <td>0.2</td>\n",
       "    </tr>\n",
       "    <tr>\n",
       "      <th>76</th>\n",
       "      <td>8</td>\n",
       "      <td>76</td>\n",
       "      <td>0.063291</td>\n",
       "      <td>10</td>\n",
       "      <td>10</td>\n",
       "      <td>0.8</td>\n",
       "      <td>0.2</td>\n",
       "    </tr>\n",
       "    <tr>\n",
       "      <th>77</th>\n",
       "      <td>8</td>\n",
       "      <td>77</td>\n",
       "      <td>0.215190</td>\n",
       "      <td>10</td>\n",
       "      <td>10</td>\n",
       "      <td>0.8</td>\n",
       "      <td>0.2</td>\n",
       "    </tr>\n",
       "    <tr>\n",
       "      <th>78</th>\n",
       "      <td>8</td>\n",
       "      <td>78</td>\n",
       "      <td>0.192308</td>\n",
       "      <td>10</td>\n",
       "      <td>10</td>\n",
       "      <td>0.8</td>\n",
       "      <td>0.2</td>\n",
       "    </tr>\n",
       "    <tr>\n",
       "      <th>79</th>\n",
       "      <td>8</td>\n",
       "      <td>79</td>\n",
       "      <td>0.188235</td>\n",
       "      <td>10</td>\n",
       "      <td>10</td>\n",
       "      <td>0.8</td>\n",
       "      <td>0.2</td>\n",
       "    </tr>\n",
       "  </tbody>\n",
       "</table>\n",
       "<p>80 rows × 7 columns</p>\n",
       "</div>"
      ],
      "text/plain": [
       "    homophily  Run  Segregated_Agents  height  width  density  \\\n",
       "0           1    0           0.296296      10     10      0.8   \n",
       "1           1    1           0.275000      10     10      0.8   \n",
       "2           1    2           0.296296      10     10      0.8   \n",
       "3           1    3           0.222222      10     10      0.8   \n",
       "4           1    4           0.247059      10     10      0.8   \n",
       "..        ...  ...                ...     ...    ...      ...   \n",
       "75          8   75           0.166667      10     10      0.8   \n",
       "76          8   76           0.063291      10     10      0.8   \n",
       "77          8   77           0.215190      10     10      0.8   \n",
       "78          8   78           0.192308      10     10      0.8   \n",
       "79          8   79           0.188235      10     10      0.8   \n",
       "\n",
       "    minority_percent  \n",
       "0                0.2  \n",
       "1                0.2  \n",
       "2                0.2  \n",
       "3                0.2  \n",
       "4                0.2  \n",
       "..               ...  \n",
       "75               0.2  \n",
       "76               0.2  \n",
       "77               0.2  \n",
       "78               0.2  \n",
       "79               0.2  \n",
       "\n",
       "[80 rows x 7 columns]"
      ]
     },
     "execution_count": 14,
     "metadata": {},
     "output_type": "execute_result"
    }
   ],
   "source": [
    "df = param_sweep.get_model_vars_dataframe()\n",
    "df"
   ]
  },
  {
   "cell_type": "code",
   "execution_count": 15,
   "metadata": {
    "slideshow": {
     "slide_type": "slide"
    }
   },
   "outputs": [
    {
     "data": {
      "image/png": "[encoded data removed]",
      "text/plain": [
       "<Figure size 432x288 with 1 Axes>"
      ]
     },
     "metadata": {
      "filenames": {
       "image/png": "/Users/epacuit/Dropbox/teaching/ppe-simulation/notes/_build/jupyter_execute/course-content/01-schelling_26_0.png"
      },
      "needs_background": "light"
     },
     "output_type": "display_data"
    }
   ],
   "source": [
    "plt.scatter(df.homophily, df.Segregated_Agents)\n",
    "plt.grid(True)"
   ]
  },
  {
   "cell_type": "markdown",
   "metadata": {
    "slideshow": {
     "slide_type": "slide"
    }
   },
   "source": [
    "\n",
    "## Additional Reading\n",
    "\n",
    "\n",
    "* Brian Hayes, [The Math of Segregation](https://www.americanscientist.org/article/the-math-of-segregation), American Scientist.\n",
    "  \n",
    "*   Christina Brandt, Nicole Immorlica, Gautam Kamath, and Robert Kleinberg, [An Analysis of One-Dimensional Schelling Segregation](https://arxiv.org/abs/1203.6346), Proceedings of the forty-fourth annual ACM symposium on theory of computing,  2012. \n",
    "\n",
    "* Matthew Jackson, Chapter 5, The Human Network: How Your Social Position Determines Your Power, Beliefs, and Behaviors,  Vintage, 2020.\n",
    "\n",
    "* David Easley and Jon Kleinberg, Section 4.5, [Networks, Crowds, and Markets: Reasoning about a Highly Connected World](https://www.cs.cornell.edu/home/kleinber/networks-book/networks-book-ch04.pdf), Cambridge University Press, 2010\n",
    "\n",
    "* [Parable of the Polygons](https://ncase.me/polygons/}"
   ]
  }
 ],
 "metadata": {
  "celltoolbar": "Slideshow",
  "kernelspec": {
   "display_name": "Python 3",
   "language": "python",
   "name": "python3"
  },
  "language_info": {
   "codemirror_mode": {
    "name": "ipython",
    "version": 3
   },
   "file_extension": ".py",
   "mimetype": "text/x-python",
   "name": "python",
   "nbconvert_exporter": "python",
   "pygments_lexer": "ipython3",
   "version": "3.9.0"
  },
  "varInspector": {
   "cols": {
    "lenName": 16,
    "lenType": 16,
    "lenVar": 40
   },
   "kernels_config": {
    "python": {
     "delete_cmd_postfix": "",
     "delete_cmd_prefix": "del ",
     "library": "var_list.py",
     "varRefreshCmd": "print(var_dic_list())"
    },
    "r": {
     "delete_cmd_postfix": ") ",
     "delete_cmd_prefix": "rm(",
     "library": "var_list.r",
     "varRefreshCmd": "cat(var_dic_list()) "
    }
   },
   "types_to_exclude": [
    "module",
    "function",
    "builtin_function_or_method",
    "instance",
    "_Feature"
   ],
   "window_display": false
  }
 },
 "nbformat": 4,
 "nbformat_minor": 4
}