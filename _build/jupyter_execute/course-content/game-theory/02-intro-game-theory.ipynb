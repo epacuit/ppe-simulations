{
 "cells": [
  {
   "cell_type": "markdown",
   "metadata": {
    "slideshow": {
     "slide_type": "slide"
    }
   },
   "source": [
    "# Introduction to Game Theory\n",
    "\n",
    "A *game* refers to any interactive situation involving a group of  \"self-interested\" agents, or players. The defining feature of a game is that the players are engaged in an\n",
    "\"interdependent decision problem\". \n",
    "\n",
    "**Reading**\n",
    "\n",
    "1. M. Osborne, [Nash Equilibrium: Theory](https://umd.instructure.com/courses/1301051/files/61184686?module_item_id=10560654), Chapter from [*Introduction to Game Theory*](https://www.economics.utoronto.ca/osborne/igt/index.html), Oxford University Press, 2002.\n",
    "2. D. Ross, [Game Theory](https://plato.stanford.edu/entries/game-theory/), Stanford Encyclopedia of Philosophy, 2019.\n",
    "3. E. Pacuit and O. Roy, [Epistemic Foundations of Game Theory](https://plato.stanford.edu/entries/epistemic-game/), Stanford Encyclopedia of Philosophy, 2012.\n"
   ]
  },
  {
   "cell_type": "code",
   "execution_count": 1,
   "metadata": {
    "slideshow": {
     "slide_type": "skip"
    }
   },
   "outputs": [],
   "source": [
    "# make graphs look nice\n",
    "import seaborn as sns\n",
    "sns.set()"
   ]
  },
  {
   "cell_type": "markdown",
   "metadata": {
    "slideshow": {
     "slide_type": "slide"
    }
   },
   "source": [
    "The  mathematical description of a game includes at least the following components: \n",
    "\n",
    "\n",
    "1. The *players*. In this entry, we only consider games with finitely many players. We use $N$ to denote the set of players in a game. \n",
    "\n",
    "2. For each player $i\\in N$, a finite set of *feasible* options (typically called *actions* or *strategies*).\n",
    "\n",
    "3. For each player $i\\in N$, a  *preference* over the possible outcomes of the game. The standard approach in game theory is to represent  each player's preference as a (von Neumann-Morgenstern) utility function that assigns a real number to each outcome of the game. \n",
    "\n",
    "\n",
    "A game may represent other features of the strategic situation. For instance,  some games represent multi-stage decision problems which may include simultaneous or stochastic moves.   For simplicity, we  start with games that involve  players making a single decision simultaneously without stochastic moves. "
   ]
  },
  {
   "cell_type": "markdown",
   "metadata": {
    "slideshow": {
     "slide_type": "slide"
    }
   },
   "source": [
    "\n",
    "A **game in strategic form** is a tuple $\\langle N, (S_i)_{i\\in N}, (u_i)_{i\\in N}\\rangle$ where:\n",
    "\n",
    "\n",
    "1. $N$ is a finite non-empty set\n",
    "2. For each $i\\in N$, $S_i$ is a finite non-empty set\n",
    "3. For each $i\\in N$, $u_i:\\times_iS_i \\rightarrow\\mathbb{R}$ is player $i$'s utility. \n",
    "\n",
    "\n",
    " The elements of  $\\times_{i\\in N} S_i$ are the outcomes of the game and are called **strategy profiles**.  "
   ]
  },
  {
   "cell_type": "markdown",
   "metadata": {
    "slideshow": {
     "slide_type": "slide"
    }
   },
   "source": [
    "In most games, no single player has total control over which outcome\n",
    " will be realized at the end of the interaction. The outcome of a game depends on the\n",
    "decisions of <em>all players</em>. \n",
    "\n",
    "\n",
    "The central analytic tool of classical game theory are **solution\n",
    "concepts**. A solution concept associates a set of outcomes (i.e., a set of strategy profiles) with each game (from some fixed class of games). \n",
    "\n",
    "From a prescriptive point of view,  a  solution concept is a recommendation about what the players should do in a game, or about what outcomes can be expected assuming that the players choose *rationally*.  From a predictive point of view, solution concepts describe what the players will actually do in a game."
   ]
  },
  {
   "cell_type": "markdown",
   "metadata": {
    "slideshow": {
     "slide_type": "slide"
    }
   },
   "source": [
    "## Nash Equilibrium \n",
    "\n",
    "Let $G=\\langle N, (S_i)_{i\\in N}, (u_i)_{i\\in N}\\rangle$ be a finite strategic game (each $S_i$ is finite and the set of players $N$ is finite). \n",
    "\n",
    "A **strategy profile** is an element $\\times_{i\\in N} S_i$\n",
    "\n",
    "Given a strategy profile $\\sigma\\in \\times_{i\\in N}S_i$, $\\sigma_{-i}$ is an element of \n",
    "$$ S_1\\times S_2\\times\\cdots S_{i-1}\\times S_{i+1}\\times \\cdots S_n$$\n",
    "\n",
    "\n",
    "A strategy profiel $\\sigma$ is a **pure strategy Nash equilibrium** provided that for all $i\\in N$, for all $a\\in S_i$, \n",
    "$$u_i(\\sigma) \\ge u_i(a, \\sigma_{-i})$$\n"
   ]
  },
  {
   "cell_type": "markdown",
   "metadata": {
    "slideshow": {
     "slide_type": "slide"
    }
   },
   "source": [
    "## Pure Coordination Game\n",
    "\n",
    "| &nbsp;  |$S1$ | $S2$ |\n",
    "|----|----|----|\n",
    "|$S1$ |$(1, 1)$ | $(0, 0)$|\n",
    "|$S2$ |$(0, 0)$ | $(1, 1)$|\n",
    "\n",
    "There are two pure strategy Nash equilibria: $(S1, S1)$ and $(S2, S2)$\n",
    "\n",
    "> The basic intellectual premise, or working hypothesis, for rational players in this game seems to be the premise that some rule must be used if success is to exceed coincidence, and that the best rule to be found, whatever its rationalization, is consequently a rational rule. (T. Schelling, *The Strategy of Conflict*, pg. 283)\n"
   ]
  },
  {
   "cell_type": "markdown",
   "metadata": {
    "slideshow": {
     "slide_type": "slide"
    }
   },
   "source": [
    "## Hi-Lo Game\n",
    "\n",
    "| &nbsp;  |$S1$ | $S2$ |\n",
    "|----|----|----|\n",
    "|$S1$ |$(3, 3)$ | $(0, 0)$|\n",
    "|$S2$ |$(0, 0)$ | $(1, 1)$|\n",
    "\n",
    "There are two pure strategy Nash equilibria: $(S1, S1)$ and $(S2, S2)$\n",
    "\n",
    "> There are these two broad empirical facts about Hi-Lo games, people almost\n",
    "always choose [$S1$] and people with common knowledge of each other's rationality think it is\n",
    "obviously rational to choose [$S1$].\" (M. Bacharach, *Beyond Individual Choice*, p. 42)\n",
    "\n"
   ]
  },
  {
   "cell_type": "markdown",
   "metadata": {
    "slideshow": {
     "slide_type": "slide"
    }
   },
   "source": [
    "## Matching Pennies\n",
    "\n",
    "| &nbsp;  |$S1$ | $S2$ |\n",
    "|----|----|----|\n",
    "|$S1$ |$(1, -1)$ | $(-1, 1)$|\n",
    "|$S2$ |$(-1, 1)$ | $(1, -1)$|\n",
    "\n",
    "There are no pure strategy Nash equilibria.  \n"
   ]
  },
  {
   "cell_type": "markdown",
   "metadata": {
    "slideshow": {
     "slide_type": "slide"
    }
   },
   "source": [
    "A **mixed strategy** for player $i$ in a finite game $\\langle N, (S_i)_{i\\in N}, (u_i)_{i\\in N}\\rangle$ is a lottery  on $S_i$, i.e., a probability over player $i$'s strategies. \n",
    "\n",
    "![mixed-strat.jpg](mixed-strat.jpg)\n",
    "\n",
    "The utilities for a mixed strategy profile $(p, q)$ is: \n",
    "\n",
    "$$\\mbox{Row}: p(1-q) -pq - (1-p)(1-q)  + (1-p)q$$\n",
    "$$\\mbox{Col}: -p(1-q) +pq + (1-p)(1-q)  - (1-p)q)$$"
   ]
  },
  {
   "cell_type": "markdown",
   "metadata": {
    "slideshow": {
     "slide_type": "slide"
    }
   },
   "source": [
    "> We are reluctant to believe that our decisions are made at random.   We prefer to be able to point to a reason for each action we take.   Outside of Las Vegas we do not spin roulettes. (A. Rubinstein, Comments on the Interpretation of Game Theory, Econometrica 59, 909 - 924, 1991)\n",
    "\n",
    "\n",
    "What does it mean to play a mixed strategy? \n",
    "\n",
    "* Randomize to confuse your opponent (e.g., matching pennies games)\n",
    "* Players randomize when they are uncertain about the other’s action (e.g., battle of the sexes game)\n",
    "* Mixed strategies are a concise description of what might happen in repeated play\n",
    "* Mixed strategies describe population dynamics: After selecting 2 agents from a population, a mixed strategy is the probability of getting an agent who will play one pure strategy or another.\n",
    "\n"
   ]
  },
  {
   "cell_type": "markdown",
   "metadata": {
    "slideshow": {
     "slide_type": "slide"
    }
   },
   "source": [
    "| &nbsp;  |$S1$ | $S2$ |\n",
    "|----|----|----|\n",
    "|$S1$ |$(1, -1)$ | $(-1, 1)$|\n",
    "|$S2$ |$(-1, 1)$ | $(1, -1)$|\n",
    "\n",
    "There is one mixed strategy Nash equilibria: $((1/2: S1, 1/2: S2), (1/2:S1, 1/2:S2))$.  \n"
   ]
  },
  {
   "cell_type": "markdown",
   "metadata": {
    "slideshow": {
     "slide_type": "slide"
    }
   },
   "source": [
    "## Battle of the Sexes\n",
    "\n",
    "| &nbsp;  |$S1$ | $S2$ |\n",
    "|----|----|----|\n",
    "|$S1$ |$(2, 1)$ | $(0, 0)$|\n",
    "|$S2$ |$(0, 0)$ | $(1, 2)$|\n",
    "\n",
    "There are two pure strategy Nash equilibrium $(S1, S1)$ and $(S2, S2)$ (and one mixed strategy Nash equilibrium).  \n"
   ]
  },
  {
   "cell_type": "markdown",
   "metadata": {
    "slideshow": {
     "slide_type": "slide"
    }
   },
   "source": [
    "## Stag Hunt\n",
    "\n",
    "| &nbsp;  |$S1$ | $S2$ |\n",
    "|----|----|----|\n",
    "|$S1$ |$(3, 3)$ | $(0, 2)$|\n",
    "|$S2$ |$(2, 0)$ | $(1, 1)$|\n",
    "\n",
    "There are two pure strategy Nash equilibrium $(S1, S1)$ and $(S2, S2)$. While $(S1, S1)$ Pareto dominates $(S1, S1)$, but $(S2, S2)$ is 'less risky'. \n",
    "\n",
    "> The problem of instituting, or improving, the social contract can be thought of as the problem of moving from riskless hunt hare equilibrium to the risky but rewarding stag hunt equilibrium. (B. Skyrms, *Stag Hunt and the Evolution of Social Structure*, p. 9)"
   ]
  },
  {
   "cell_type": "markdown",
   "metadata": {
    "slideshow": {
     "slide_type": "slide"
    }
   },
   "source": [
    "## Prisoner's Dilemma\n",
    "\n",
    "| &nbsp;  |$S1$ | $S2$ |\n",
    "|----|----|----|\n",
    "|$S1$ |$(3, 3)$ | $(0, 4)$|\n",
    "|$S2$ |$(4, 0)$ | $(1, 1)$|\n",
    "\n",
    "There is one Nash equilibrium $(S2, S2)$.  The non-equilibrium $(S1, S1)$ Pareto-dominates $(S2, S2)$. \n",
    "\n",
    "> Game theorists think it just plain wrong to claim that the Prisoners' Dilemma embodies the essence of the problem of human cooperation.  On the contrary, it represents a situation in which the dice are as loaded against the emergence of cooperation as they could possibly be.   If the great game of life played by the human species were the Prisoner's Dilemma, we wouldn't have evolved as social animals!....No paradox of rationality exists.   Rational players don't cooperate in the Prisoners' Dilemma, because the conditions necessary for rational cooperation are absent in this game. (K. Binmore, *Natural Justice*, p. 63)"
   ]
  },
  {
   "cell_type": "markdown",
   "metadata": {
    "slideshow": {
     "slide_type": "slide"
    }
   },
   "source": [
    "## Game Theory in Python\n",
    "\n",
    "* Gambit - [https://gambitproject.readthedocs.io/en/latest/index.html](https://gambitproject.readthedocs.io/en/latest/index.html):  a library of game theory software and tools for the construction and analysis of finite extensive and strategic games.\n",
    "* Nashpy - [https://nashpy.readthedocs.io/en/latest/](https://nashpy.readthedocs.io/en/latest/): a simple library used for the computation of equilibria in 2 player strategic form games.\n",
    "* Axelrod - [https://axelrod.readthedocs.io/en/stable/index.html](https://axelrod.readthedocs.io/en/stable/index.html): a library to study iterated prisoner's dilemma. \n"
   ]
  },
  {
   "cell_type": "markdown",
   "metadata": {
    "slideshow": {
     "slide_type": "slide"
    }
   },
   "source": [
    "### Nashpy"
   ]
  },
  {
   "cell_type": "code",
   "execution_count": 2,
   "metadata": {
    "slideshow": {
     "slide_type": "fragment"
    }
   },
   "outputs": [
    {
     "name": "stdout",
     "output_type": "stream",
     "text": [
      "Bi matrix game with payoff matrices:\n",
      "\n",
      "Row player:\n",
      "[[1 0]\n",
      " [0 1]]\n",
      "\n",
      "Column player:\n",
      "[[1 0]\n",
      " [0 1]]\n",
      "[1, 2]\n",
      "[1 2]\n"
     ]
    }
   ],
   "source": [
    "import nashpy as nash\n",
    "import numpy as np\n",
    "\n",
    "#  Coordination Game\n",
    "A = np.array([[1, 0], [0, 1]])\n",
    "B = np.array([[1, 0], [0, 1]])\n",
    "coord = nash.Game(A, B)\n",
    "\n",
    "print(coord)\n",
    "\n",
    "print([1,2])\n",
    "print(np.array([1,2]))"
   ]
  },
  {
   "cell_type": "code",
   "execution_count": 3,
   "metadata": {
    "slideshow": {
     "slide_type": "slide"
    }
   },
   "outputs": [
    {
     "name": "stdout",
     "output_type": "stream",
     "text": [
      "The utilities are  [0 0]\n",
      "The utilities are  [0.5 0.5]\n",
      "The Nash equilibria are:\n",
      "\t (array([1., 0.]), array([1., 0.]))\n",
      "\t (array([0., 1.]), array([0., 1.]))\n",
      "\t (array([0.5, 0.5]), array([0.5, 0.5]))\n"
     ]
    }
   ],
   "source": [
    "sigma1_r = [1, 0]\n",
    "sigma1_c = [0, 1]\n",
    "print(\"The utilities are \", coord[sigma1_r, sigma1_c])\n",
    "\n",
    "sigma2_r = [1 / 2, 1 / 2]\n",
    "sigma2_c = [1 / 2, 1 / 2]\n",
    "print(\"The utilities are \", coord[sigma2_r, sigma2_c])\n",
    "\n",
    "eqs = coord.support_enumeration()\n",
    "print(\"The Nash equilibria are:\")\n",
    "for ne in eqs:\n",
    "    print(\"\\t\", ne)"
   ]
  },
  {
   "cell_type": "code",
   "execution_count": 4,
   "metadata": {
    "slideshow": {
     "slide_type": "slide"
    }
   },
   "outputs": [
    {
     "name": "stdout",
     "output_type": "stream",
     "text": [
      "The Nash equilibria for Hi-Lo are:\n",
      "\t (array([1., 0.]), array([1., 0.]))\n",
      "\t (array([0., 1.]), array([0., 1.]))\n",
      "\t (array([0.25, 0.75]), array([0.25, 0.75]))\n"
     ]
    }
   ],
   "source": [
    "# Hi-Lo \n",
    "\n",
    "A = np.array([[3, 0], [0, 1]])\n",
    "B = np.array([[3, 0], [0, 1]])\n",
    "hilo = nash.Game(A, B)\n",
    "eqs = hilo.support_enumeration()\n",
    "print(\"The Nash equilibria for Hi-Lo are:\")\n",
    "for ne in eqs:\n",
    "    print(\"\\t\", ne)\n"
   ]
  },
  {
   "cell_type": "code",
   "execution_count": 5,
   "metadata": {
    "slideshow": {
     "slide_type": "slide"
    }
   },
   "outputs": [
    {
     "name": "stdout",
     "output_type": "stream",
     "text": [
      "The Nash equilibria for Battle of the Sexes are:\n",
      "\t (array([1., 0.]), array([1., 0.]))\n",
      "\t (array([0., 1.]), array([0., 1.]))\n",
      "\t (array([0.66666667, 0.33333333]), array([0.33333333, 0.66666667]))\n"
     ]
    }
   ],
   "source": [
    "# Battle of the Sexes\n",
    "\n",
    "A = np.array([[2, 0], [0, 1]])\n",
    "B = np.array([[1, 0], [0, 2]])\n",
    "bos = nash.Game(A, B)\n",
    "eqs = bos.support_enumeration()\n",
    "print(\"The Nash equilibria for Battle of the Sexes are:\")\n",
    "for ne in eqs:\n",
    "    print(\"\\t\", ne)\n"
   ]
  },
  {
   "cell_type": "code",
   "execution_count": 6,
   "metadata": {
    "slideshow": {
     "slide_type": "slide"
    }
   },
   "outputs": [
    {
     "name": "stdout",
     "output_type": "stream",
     "text": [
      "The Nash equilibria for the Stag Hunt are:\n",
      "\t (array([1., 0.]), array([1., 0.]))\n",
      "\t (array([0., 1.]), array([0., 1.]))\n",
      "\t (array([0.5, 0.5]), array([0.5, 0.5]))\n"
     ]
    }
   ],
   "source": [
    "# Stag Hunt\n",
    "\n",
    "A = np.array([[3, 0], [2, 1]])\n",
    "B = np.array([[3, 2], [0, 1]])\n",
    "sh = nash.Game(A, B)\n",
    "\n",
    "eqs = sh.support_enumeration()\n",
    "print(\"The Nash equilibria for the Stag Hunt are:\")\n",
    "for ne in eqs:\n",
    "    print(\"\\t\", ne)"
   ]
  },
  {
   "cell_type": "code",
   "execution_count": 7,
   "metadata": {
    "slideshow": {
     "slide_type": "slide"
    }
   },
   "outputs": [
    {
     "name": "stdout",
     "output_type": "stream",
     "text": [
      "The Nash equilibria  for the Prisoner's Dilemma are:\n",
      "\t (array([0., 1.]), array([0., 1.]))\n"
     ]
    }
   ],
   "source": [
    "# Prisoner's Dilemma \n",
    "\n",
    "A = np.array([[3, 0], [4, 1]])\n",
    "B = np.array([[3, 4], [0, 1]])\n",
    "pd = nash.Game(A, B)\n",
    "\n",
    "eqs = pd.support_enumeration()\n",
    "print(\"The Nash equilibria  for the Prisoner's Dilemma are:\")\n",
    "for ne in eqs:\n",
    "    print(\"\\t\", ne)\n"
   ]
  },
  {
   "cell_type": "markdown",
   "metadata": {
    "slideshow": {
     "slide_type": "slide"
    }
   },
   "source": [
    "### Axelrod\n",
    "\n",
    "[Axelrod](https://axelrod.readthedocs.io/en/stable/index.html) is a Python package to study repeated play of the Prisoner's Dilemma: \n",
    "\n",
    "| &nbsp;  |$S1$ | $S2$ |\n",
    "|----|----|----|\n",
    "|$S1$ |$(3, 3)$ | $(0, 4)$|\n",
    "|$S2$ |$(4, 0)$ | $(1, 1)$|\n",
    "\n",
    "There are different ways to repeat play of PD: \n",
    "\n",
    "1. Two players repeatedly playing a PD \n",
    "2. Multiple players repeatedly playing PD against each other \n",
    "3. Multiple players repeatedly playing PD against their neighbors"
   ]
  },
  {
   "cell_type": "markdown",
   "metadata": {
    "slideshow": {
     "slide_type": "slide"
    }
   },
   "source": [
    "#### Running a Match\n",
    "\n",
    "In a Match, two player repeatedly play a PD."
   ]
  },
  {
   "cell_type": "code",
   "execution_count": 8,
   "metadata": {
    "slideshow": {
     "slide_type": "fragment"
    }
   },
   "outputs": [
    {
     "name": "stdout",
     "output_type": "stream",
     "text": [
      "Match Play:  [(C, C), (C, D), (C, C), (C, D), (C, C)]\n",
      "Match Scores:  [(3, 3), (0, 5), (3, 3), (0, 5), (3, 3)]\n",
      "Final Scores:  (9, 19)\n",
      "Final Scores Per Turn:  (1.8, 3.8)\n",
      "Winner:  Alternator\n",
      "Cooperation:  (5, 3)\n",
      "Normalized Coperation:  (1.0, 0.6)\n"
     ]
    }
   ],
   "source": [
    "import axelrod as axl\n",
    "\n",
    "players = (axl.Cooperator(), axl.Alternator())\n",
    "match = axl.Match(players, 5)\n",
    "\n",
    "print(\"Match Play: \", match.play())\n",
    "print(\"Match Scores: \", match.scores())\n",
    "print(\"Final Scores: \", match.final_score())\n",
    "print(\"Final Scores Per Turn: \", match.final_score_per_turn())\n",
    "print(\"Winner: \", match.winner())\n",
    "print(\"Cooperation: \", match.cooperation())\n",
    "print(\"Normalized Coperation: \", match.normalised_cooperation()) "
   ]
  },
  {
   "cell_type": "code",
   "execution_count": 9,
   "metadata": {
    "slideshow": {
     "slide_type": "slide"
    }
   },
   "outputs": [
    {
     "name": "stdout",
     "output_type": "stream",
     "text": [
      "Match Scores:  [(3, 3), (3, 3), (3, 3), (0, 5), (0, 5), (3, 3), (3, 3), (0, 5), (3, 3), (3, 3)]\n",
      "Final Scores:  (21, 36)\n",
      "Final Scores Per Turn:  (2.1, 3.6)\n",
      "Winner:  Random: 0.5\n",
      "Cooperation:  (10, 7)\n",
      "Normalized Coperation:  (1.0, 0.7)\n"
     ]
    }
   ],
   "source": [
    "players = (axl.Cooperator(),  axl.Random())\n",
    "match = axl.Match(players=players, turns=10, noise=0.0)\n",
    "match.play()  \n",
    "\n",
    "print(\"Match Scores: \", match.scores())\n",
    "print(\"Final Scores: \", match.final_score())\n",
    "print(\"Final Scores Per Turn: \", match.final_score_per_turn())\n",
    "print(\"Winner: \", match.winner())\n",
    "print(\"Cooperation: \", match.cooperation())\n",
    "print(\"Normalized Coperation: \", match.normalised_cooperation()) "
   ]
  },
  {
   "cell_type": "markdown",
   "metadata": {
    "slideshow": {
     "slide_type": "slide"
    }
   },
   "source": [
    "#### Running a Tournament\n",
    "\n",
    "In a tournament, each player plays every other player. "
   ]
  },
  {
   "cell_type": "code",
   "execution_count": 10,
   "metadata": {
    "slideshow": {
     "slide_type": "slide"
    }
   },
   "outputs": [
    {
     "name": "stdout",
     "output_type": "stream",
     "text": [
      "Ranked players:  ['Defector', 'Tit For Tat', 'Grudger', 'Cooperator']\n",
      "Normalized Scores:  [[2.0, 2.0, 2.0, 2.0, 2.0, 2.0, 2.0, 2.0, 2.0, 2.0], [2.3466666666666662, 2.3466666666666662, 2.3466666666666662, 2.3466666666666662, 2.3466666666666662, 2.3466666666666662, 2.3466666666666662, 2.3466666666666662, 2.3466666666666662, 2.3466666666666662], [2.3316666666666666, 2.3316666666666666, 2.3316666666666666, 2.3316666666666666, 2.3316666666666666, 2.3316666666666666, 2.3316666666666666, 2.3316666666666666, 2.3316666666666666, 2.3316666666666666], [2.3316666666666666, 2.3316666666666666, 2.3316666666666666, 2.3316666666666666, 2.3316666666666666, 2.3316666666666666, 2.3316666666666666, 2.3316666666666666, 2.3316666666666666, 2.3316666666666666]]\n",
      "Wins:  [[0, 0, 0, 0, 0, 0, 0, 0, 0, 0], [3, 3, 3, 3, 3, 3, 3, 3, 3, 3], [0, 0, 0, 0, 0, 0, 0, 0, 0, 0], [0, 0, 0, 0, 0, 0, 0, 0, 0, 0]]\n",
      "payoff matrix\n",
      "[[3.0, 0.0, 3.0, 3.0],\n",
      " [5.0, 1.0, 1.02, 1.02],\n",
      " [3.0, 0.9949999999999999, 3.0, 3.0],\n",
      " [3.0, 0.9949999999999999, 3.0, 3.0]]\n"
     ]
    }
   ],
   "source": [
    "import pprint\n",
    "\n",
    "players = [axl.Cooperator(), axl.Defector(),\n",
    "           axl.TitForTat(), axl.Grudger()]\n",
    "tournament = axl.Tournament(players)\n",
    "results = tournament.play(progress_bar=False)\n",
    "print(\"Ranked players: \", results.ranked_names)\n",
    "print(\"Normalized Scores: \", results.normalised_scores  )\n",
    "print(\"Wins: \", results.wins)\n",
    "print(\"payoff matrix\")\n",
    "pprint.pprint(results.payoff_matrix);\n"
   ]
  },
  {
   "cell_type": "code",
   "execution_count": 11,
   "metadata": {
    "slideshow": {
     "slide_type": "slide"
    }
   },
   "outputs": [
    {
     "data": {
      "image/png": "[encoded data removed]",
      "text/plain": [
       "<Figure size 864x432 with 1 Axes>"
      ]
     },
     "metadata": {
      "filenames": {
       "image/png": "/Users/epacuit/Dropbox/teaching/ppe-simulation/notes/_build/jupyter_execute/course-content/game-theory/02-intro-game-theory_29_0.png"
      }
     },
     "output_type": "display_data"
    },
    {
     "data": {
      "image/png": "[encoded data removed]",
      "text/plain": [
       "<Figure size 864x432 with 1 Axes>"
      ]
     },
     "metadata": {
      "filenames": {
       "image/png": "/Users/epacuit/Dropbox/teaching/ppe-simulation/notes/_build/jupyter_execute/course-content/game-theory/02-intro-game-theory_29_1.png"
      }
     },
     "output_type": "display_data"
    }
   ],
   "source": [
    "plot = axl.Plot(results)\n",
    "plot.boxplot();\n",
    "plot.winplot();"
   ]
  },
  {
   "cell_type": "code",
   "execution_count": 12,
   "metadata": {
    "slideshow": {
     "slide_type": "slide"
    }
   },
   "outputs": [
    {
     "name": "stdout",
     "output_type": "stream",
     "text": [
      "['Defector', 'Grudger', 'Tit For Tat', 'Cooperator', 'Random: 0.5']\n"
     ]
    },
    {
     "data": {
      "image/png": "[encoded data removed]",
      "text/plain": [
       "<Figure size 864x432 with 1 Axes>"
      ]
     },
     "metadata": {
      "filenames": {
       "image/png": "/Users/epacuit/Dropbox/teaching/ppe-simulation/notes/_build/jupyter_execute/course-content/game-theory/02-intro-game-theory_30_1.png"
      }
     },
     "output_type": "display_data"
    }
   ],
   "source": [
    "players = [axl.Cooperator(), axl.Defector(),\n",
    "           axl.TitForTat(), axl.Grudger(), axl.Random()]\n",
    "\n",
    "tournament = axl.Tournament(players)\n",
    "results = tournament.play(progress_bar=False)\n",
    "print(results.ranked_names)\n",
    "plot = axl.Plot(results)\n",
    "plot.boxplot();\n"
   ]
  },
  {
   "cell_type": "code",
   "execution_count": 13,
   "metadata": {
    "slideshow": {
     "slide_type": "slide"
    }
   },
   "outputs": [
    {
     "data": {
      "image/png": "[encoded data removed]",
      "text/plain": [
       "<Figure size 864x432 with 1 Axes>"
      ]
     },
     "metadata": {
      "filenames": {
       "image/png": "/Users/epacuit/Dropbox/teaching/ppe-simulation/notes/_build/jupyter_execute/course-content/game-theory/02-intro-game-theory_31_0.png"
      }
     },
     "output_type": "display_data"
    }
   ],
   "source": [
    "p = plot.winplot()\n"
   ]
  },
  {
   "cell_type": "code",
   "execution_count": 14,
   "metadata": {
    "slideshow": {
     "slide_type": "slide"
    }
   },
   "outputs": [
    {
     "data": {
      "image/png": "[encoded data removed]",
      "text/plain": [
       "<Figure size 864x864 with 2 Axes>"
      ]
     },
     "metadata": {
      "filenames": {
       "image/png": "/Users/epacuit/Dropbox/teaching/ppe-simulation/notes/_build/jupyter_execute/course-content/game-theory/02-intro-game-theory_32_0.png"
      }
     },
     "output_type": "display_data"
    }
   ],
   "source": [
    "plot.payoff();"
   ]
  },
  {
   "cell_type": "markdown",
   "metadata": {
    "slideshow": {
     "slide_type": "slide"
    }
   },
   "source": [
    "#### Axelrod's Tournament\n",
    "\n",
    "In 1980, Robert Axelrod (a political scientist) invited submissions to a computer tournament version of an iterated prisoners dilemma ([\"Effective Choice in the Prisoner's Dilemma\"](http://journals.sagepub.com/doi/abs/10.1177/002200278002400101)).\n",
    "\n",
    "- 15 strategies submitted. \n",
    "- Round robin tournament with 200 stages including a 16th player who played  randomly.\n",
    "- The winner (average score) was in fact a very simple strategy: Tit For Tat. This strategy starts by cooperating and then repeats the opponents previous move.\n",
    "\n",
    "The fact that Tit For Tat won garnered a lot of (still ongoing) research.  For an overview o of how to use axelrod to reproduce this first tournament, see [http://axelrod.readthedocs.io/en/stable/reference/overview_of_strategies.html#axelrod-s-first-tournament](http://axelrod.readthedocs.io/en/stable/reference/overview_of_strategies.html#axelrod-s-first-tournament).\n",
    "\n"
   ]
  },
  {
   "cell_type": "code",
   "execution_count": 15,
   "metadata": {
    "slideshow": {
     "slide_type": "slide"
    }
   },
   "outputs": [
    {
     "name": "stdout",
     "output_type": "stream",
     "text": [
      "Tit For Tat\n",
      "First by Tideman and Chieruzzi: (D, D)\n",
      "First by Nydegger\n",
      "First by Grofman\n",
      "First by Shubik\n",
      "First by Stein and Rapoport: 0.05: (D, D)\n",
      "Grudger\n",
      "First by Davis: 10\n",
      "First by Graaskamp: 0.05\n",
      "First by Downing\n",
      "First by Feld: 1.0, 0.5, 200\n",
      "First by Joss: 0.9\n",
      "First by Tullock\n",
      "First by Anonymous\n",
      "Random: 0.5\n"
     ]
    }
   ],
   "source": [
    "axelrod_first_tournament = [s() for s in axl.axelrod_first_strategies]\n",
    "\n",
    "number_of_strategies = len(axelrod_first_tournament)\n",
    "for player in axelrod_first_tournament:\n",
    "    print(player)\n"
   ]
  },
  {
   "cell_type": "code",
   "execution_count": 16,
   "metadata": {
    "slideshow": {
     "slide_type": "slide"
    }
   },
   "outputs": [
    {
     "name": "stdout",
     "output_type": "stream",
     "text": [
      "First by Stein and Rapoport: 0.05: (D, D)\n",
      "Tit For Tat\n",
      "First by Grofman\n",
      "First by Shubik\n",
      "First by Tideman and Chieruzzi: (D, D)\n",
      "First by Nydegger\n",
      "First by Davis: 10\n",
      "Grudger\n",
      "First by Downing\n",
      "First by Graaskamp: 0.05\n",
      "First by Feld: 1.0, 0.5, 200\n",
      "First by Joss: 0.9\n",
      "First by Tullock\n",
      "First by Anonymous\n",
      "Random: 0.5\n"
     ]
    }
   ],
   "source": [
    "tournament = axl.Tournament(\n",
    "    players=axelrod_first_tournament,\n",
    "    turns=200,\n",
    "    repetitions=5,\n",
    ")\n",
    "results = tournament.play(progress_bar=False)\n",
    "for name in results.ranked_names:\n",
    "    print(name)"
   ]
  },
  {
   "cell_type": "code",
   "execution_count": 17,
   "metadata": {
    "slideshow": {
     "slide_type": "slide"
    }
   },
   "outputs": [
    {
     "data": {
      "image/png": "[encoded data removed]",
      "text/plain": [
       "<Figure size 864x432 with 1 Axes>"
      ]
     },
     "metadata": {
      "filenames": {
       "image/png": "/Users/epacuit/Dropbox/teaching/ppe-simulation/notes/_build/jupyter_execute/course-content/game-theory/02-intro-game-theory_36_0.png"
      }
     },
     "output_type": "display_data"
    }
   ],
   "source": [
    "plot = axl.Plot(results)\n",
    "plot.boxplot();\n"
   ]
  },
  {
   "cell_type": "markdown",
   "metadata": {
    "slideshow": {
     "slide_type": "slide"
    }
   },
   "source": [
    "There are over 200 strategies implemented in axelrod (see [https://axelrod.readthedocs.io/en/stable/reference/all_strategies.html](https://axelrod.readthedocs.io/en/stable/reference/all_strategies.html)).  Including some recent strategies that have done quite well in tournaments: \n",
    "\n",
    "\n",
    "Press, William H. and Freeman J. Dyson (2012), [Iterated prisoner’s dilemma contains strategies\n",
    "that dominate any evolutionary opponent](https://www.pnas.org/content/109/26/10409). Proceedings of the National Academy of Sciences,\n",
    "109, 10409–10413.\n",
    "\n"
   ]
  },
  {
   "cell_type": "code",
   "execution_count": 18,
   "metadata": {},
   "outputs": [
    {
     "name": "stdout",
     "output_type": "stream",
     "text": [
      "ZD-SET-2: 0.25, 0.0, 2\n",
      "ZD-Extort-2: 0.1111111111111111, 0.5\n",
      "Tit For Tat\n"
     ]
    }
   ],
   "source": [
    "players = [ axl.ZDExtort2(), axl.ZDSet2(), axl.TitForTat()]\n",
    "tournament = axl.Tournament(\n",
    "    players=players,\n",
    "    turns=200,\n",
    "    repetitions=5,\n",
    ")\n",
    "results = tournament.play(progress_bar=False)\n",
    "for name in results.ranked_names:\n",
    "    print(name)\n",
    "    \n"
   ]
  },
  {
   "cell_type": "markdown",
   "metadata": {
    "slideshow": {
     "slide_type": "slide"
    }
   },
   "source": [
    "#### Moran Process\n",
    "\n",
    "Given an initial population of players, the population is iterated in rounds consisting of:\n",
    "\n",
    "1. matches played between each pair of players, with the cumulative total scores recorded.\n",
    "2. a player is chosen to reproduce proportional to the player’s score in the round.\n",
    "3. a player is chosen at random to be replaced.\n"
   ]
  },
  {
   "cell_type": "code",
   "execution_count": 19,
   "metadata": {
    "slideshow": {
     "slide_type": "fragment"
    }
   },
   "outputs": [
    {
     "name": "stdout",
     "output_type": "stream",
     "text": [
      "Winning strategy:  Defector\n"
     ]
    },
    {
     "data": {
      "image/png": "[encoded data removed]",
      "text/plain": [
       "<Figure size 432x288 with 1 Axes>"
      ]
     },
     "metadata": {
      "filenames": {
       "image/png": "/Users/epacuit/Dropbox/teaching/ppe-simulation/notes/_build/jupyter_execute/course-content/game-theory/02-intro-game-theory_40_1.png"
      }
     },
     "output_type": "display_data"
    }
   ],
   "source": [
    "players = [axl.Cooperator(),\n",
    "           axl.Cooperator(),axl.Cooperator(),axl.Cooperator(), axl.Cooperator(), \n",
    "           axl.Cooperator(), \n",
    "           axl.Defector(), axl.Random()]\n",
    "mp = axl.MoranProcess(players, turns=100)\n",
    "mp.play()\n",
    "print(\"Winning strategy: \", mp.winning_strategy_name)\n",
    "mp.populations_plot();\n"
   ]
  },
  {
   "cell_type": "markdown",
   "metadata": {
    "slideshow": {
     "slide_type": "slide"
    }
   },
   "source": [
    "#### Moran Process with Mutation"
   ]
  },
  {
   "cell_type": "code",
   "execution_count": 20,
   "metadata": {
    "slideshow": {
     "slide_type": "fragment"
    }
   },
   "outputs": [
    {
     "data": {
      "image/png": "[encoded data removed]",
      "text/plain": [
       "<Figure size 432x288 with 1 Axes>"
      ]
     },
     "metadata": {
      "filenames": {
       "image/png": "/Users/epacuit/Dropbox/teaching/ppe-simulation/notes/_build/jupyter_execute/course-content/game-theory/02-intro-game-theory_42_0.png"
      }
     },
     "output_type": "display_data"
    }
   ],
   "source": [
    "players = [axl.Cooperator(), axl.Defector(),\n",
    "           axl.TitForTat(), axl.Grudger()]\n",
    "mp = axl.MoranProcess(players, turns=100, mutation_rate=0.1)\n",
    "\n",
    "for _ in mp:\n",
    "    if len(mp.population_distribution()) == 1:\n",
    "        break\n",
    "\n",
    "mp.populations_plot();\n"
   ]
  }
 ],
 "metadata": {
  "celltoolbar": "Slideshow",
  "kernelspec": {
   "display_name": "Python 3",
   "language": "python",
   "name": "python3"
  },
  "language_info": {
   "codemirror_mode": {
    "name": "ipython",
    "version": 3
   },
   "file_extension": ".py",
   "mimetype": "text/x-python",
   "name": "python",
   "nbconvert_exporter": "python",
   "pygments_lexer": "ipython3",
   "version": "3.9.0"
  },
  "varInspector": {
   "cols": {
    "lenName": 16,
    "lenType": 16,
    "lenVar": 40
   },
   "kernels_config": {
    "python": {
     "delete_cmd_postfix": "",
     "delete_cmd_prefix": "del ",
     "library": "var_list.py",
     "varRefreshCmd": "print(var_dic_list())"
    },
    "r": {
     "delete_cmd_postfix": ") ",
     "delete_cmd_prefix": "rm(",
     "library": "var_list.r",
     "varRefreshCmd": "cat(var_dic_list()) "
    }
   },
   "types_to_exclude": [
    "module",
    "function",
    "builtin_function_or_method",
    "instance",
    "_Feature"
   ],
   "window_display": false
  }
 },
 "nbformat": 4,
 "nbformat_minor": 4
}