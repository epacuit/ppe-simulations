{
 "cells": [
  {
   "cell_type": "markdown",
   "metadata": {
    "slideshow": {
     "slide_type": "slide"
    }
   },
   "source": [
    "# Course Overview\n",
    "\n",
    "Computer Simulations for Philosophy, Politics and Economics<br/>\n",
    "Spring 2021<br/>\n",
    "Eric Pacuit <br/>\n",
    "epacuit@umd.edu <br/>\n",
    "University of Maryland<br/>\n"
   ]
  },
  {
   "cell_type": "markdown",
   "metadata": {},
   "source": [
    "Computer simulations have been used for almost as long as there have been computers.  The earliest scientific use of computer simulations were for physics and engineering. Increasingly people are also employing computer simulation to understand social behavior both in humans and other animals. This class is about the nuts and bolts of computer simulation of social behavior and about the underlying theory behind this work. The course also discusses the philosophical issues that arise when evaluating the use of computational and mathematical models in economics and philosophy. During the course, students will gain hands-on experience developing simulations in Python. Although some previous programming experience will be helpful, the course will be completely self-contained.\n",
    "\n",
    "```{warning}\n",
    "This class website is under active development, and content will be added throughout the duration of the course. \n",
    "```\n"
   ]
  },
  {
   "cell_type": "markdown",
   "metadata": {
    "slideshow": {
     "slide_type": "slide"
    }
   },
   "source": [
    "\n",
    "## Topics (tentative)\n",
    "\n",
    "* Schelling's Model of Segregation\n",
    "* Iterated Prisoner's Dilemma\n",
    "* Opinion Dynamics: Hegselmann-Krause Model \n",
    "* Deliberation and Polarization\n",
    "* Epistemic Democracy and the Condorcet Jury Theorem\n",
    "* Simulating Elections \n"
   ]
  },
  {
   "cell_type": "markdown",
   "metadata": {
    "slideshow": {
     "slide_type": "slide"
    }
   },
   "source": [
    "##  Computational Tools \n",
    "\n",
    "* Python 3\n",
    "* Jupyter Notebooks ([https://jupyter.org/](https://jupyter.org/))\n",
    "    * Literate programming: Interactive documents (written in markdown/LaTeX) explaining the model and the code. \n",
    "* Data science toolkit: scipy, numpy, pandas, ...\n",
    "* Visualization: matplotlib, seaborn, altair, etc.\n",
    "* Sharing models: [Colab](https://colab.research.google.com/), [Streamlit](https://www.streamlit.io/), [Voila](https://voila.readthedocs.io/en/stable/index.html),...\n",
    "* Probabilistic programming: [lea](https://bitbucket.org/piedenis/lea/wiki/Home), [pyro](http://pyro.ai/)\n",
    "* Special packages: [mesa](https://mesa.readthedocs.io/en/master/#), [axelrod](https://axelrod.readthedocs.io/en/stable/), [preflib tools](https://www.preflib.org/)"
   ]
  },
  {
   "cell_type": "markdown",
   "metadata": {
    "slideshow": {
     "slide_type": "slide"
    }
   },
   "source": [
    "## Mathematical Background\n",
    "\n",
    "* Networks (Graph Theory)\n",
    "* Basic Game Theory\n",
    "* Basic Probability Theory\n",
    "* Voting Theory"
   ]
  },
  {
   "cell_type": "markdown",
   "metadata": {
    "slideshow": {
     "slide_type": "slide"
    }
   },
   "source": [
    "## Agent-Based Modeling\n",
    "\n",
    "Agent-based simulations are used in many different areas: \n",
    "\n",
    "* Ross A. Hammond, [Considerations and Best Practices in Agent-Based Modeling to Inform Policy](https://www.ncbi.nlm.nih.gov/books/NBK305917/), NCBI, 2015.\n",
    "\n",
    "In this coure, we are focused on simulations used in Philosophy (especially Social Epistemology), Politics  and Economics: \n",
    "\n",
    "* Conor Mayo-Wilson and Kevin J.S. Zollman, The Computational Philosophy: Simulation as a Core Philosophical Method. [Preprint](http://philsci-archive.pitt.edu/18100/), 2020.\n",
    "* J. McKenzie Alexander, The Structural Evolution of Morality. Cambridge University Press, 2007.\n",
    "* Mostapha Diss and Vincent Merlin (eds.), Evaluating Voting Systems with Probability Models: Essays by and in Honor of William Gehrlein and Dominique Lepelley. Springer, 2021.\n"
   ]
  },
  {
   "cell_type": "markdown",
   "metadata": {
    "slideshow": {
     "slide_type": "slide"
    }
   },
   "source": [
    "## Weekly Schedule\n",
    "\n",
    "0. Mathematical background\n",
    "1. Explain the model\n",
    "2. Learn how to code the model\n",
    "3. Explore the model\n",
    "4. Evaluate the model\n"
   ]
  },
  {
   "cell_type": "markdown",
   "metadata": {
    "slideshow": {
     "slide_type": "slide"
    }
   },
   "source": [
    "## NetLogo\n",
    "\n",
    "NetLogo ([https://ccl.northwestern.edu/netlogo/](https://ccl.northwestern.edu/netlogo/)) is a powerful framework for creating agent-based simulations.   It is a programming environment created in Java (although you do not need to know Java to use NetLogo).   \n",
    "\n",
    "* There is a web version of NetLogo: [http://www.netlogoweb.org/](http://www.netlogoweb.org/)\n",
    "* With NetLogo you can quickly create an agent-based model with animation (e.g., see the [Schelling Model of Segregation](http://www.netlogoweb.org/launch#http://ccl.northwestern.edu/netlogo/models/models/Sample%20Models/Social%20Science/Segregation.nlogo)) \n",
    "* There are a number of books written about NetLogo:\n",
    "    * Uri Wilensky and William Rand, [An Introduction to Agent-Based Modeling: Modeling Natural, Social, and Engineered Complex Systems with NetLogo](https://www.amazon.com/Introduction-Agent-Based-Modeling-Natural-Engineered/dp/0262731894/ref=sr_1_4?dchild=1&keywords=agent+based+modeling&qid=1611489846&sr=8-4), The MIT Press, 2015.\n",
    "    * Steven F. Railsback and Volker Grimm, [Agent-Based and Individual-Based Modeling: A Practical Introduction](https://www.amazon.com/Agent-Based-Individual-Based-Modeling-Practical-Introduction/dp/0691190836/ref=sr_1_3?dchild=1&keywords=agent+based+modeling&qid=1611489846&sr=8-3), Princeton University Press; 2nd edition (March 26, 2019).\n"
   ]
  },
  {
   "cell_type": "markdown",
   "metadata": {
    "slideshow": {
     "slide_type": "slide"
    }
   },
   "source": [
    "## Why not NetLogo? \n",
    "\n",
    "* Netlogo is its own programming language with its own quirks\n",
    "* Python is a standard tool used in AI, machine learning, and data science \n",
    "* Access to powerful packages for scientific and mathematical computing (scipy, numpy, etc.)\n",
    "* Many different options for visualizing and sharing your simulations\n",
    "* While NetLogo makes animating the model easier, we do not always need to visualize the dynamics of an agent-based model\n"
   ]
  },
  {
   "cell_type": "markdown",
   "metadata": {
    "slideshow": {
     "slide_type": "slide"
    }
   },
   "source": [
    "## A Brief Introduction to Python (as needed)\n",
    "\n",
    "> Python is an easy to learn, powerful programming language. It has efficient high-level data structures and a simple but effective approach to object-oriented programming. Python’s elegant syntax and dynamic typing, together with its interpreted nature, make it an ideal language for scripting and rapid application development in many areas on most platforms. ([https://docs.python.org/3/tutorial/](https://docs.python.org/3/tutorial/))\n",
    "\n",
    "* You don't need to understand everything at this stage!   \n",
    "* Python is an interpretted language. \n",
    "* Python is dynamically typed.\n"
   ]
  },
  {
   "cell_type": "code",
   "execution_count": 1,
   "metadata": {
    "slideshow": {
     "slide_type": "slide"
    }
   },
   "outputs": [
    {
     "name": "stdout",
     "output_type": "stream",
     "text": [
      "hello\n",
      "hello world\n",
      "7\n",
      "7 world\n",
      "[5, 10, 15]\n",
      "[5, 10, 15, 20]\n"
     ]
    }
   ],
   "source": [
    "x = \"hello\"\n",
    "print(x)\n",
    "print(x + \" world\")\n",
    "\n",
    "x = 7\n",
    "print(x)\n",
    "print(str(x) + \" world\")\n",
    "\n",
    "x = [5, 10, 15]\n",
    "print(x)\n",
    "print(x + [20])"
   ]
  },
  {
   "cell_type": "markdown",
   "metadata": {
    "slideshow": {
     "slide_type": "slide"
    }
   },
   "source": [
    "## Tutorials on Python\n",
    "\n",
    "1. [https://developers.google.com/edu/python/](https://developers.google.com/edu/python/)\n",
    "\n",
    "2. [http://pythontutor.com/](http://pythontutor.com/)\n"
   ]
  },
  {
   "cell_type": "code",
   "execution_count": null,
   "metadata": {},
   "outputs": [],
   "source": []
  },
  {
   "cell_type": "markdown",
   "metadata": {},
   "source": [
    "\n",
    "```{toctree}\n",
    ":hidden:\n",
    ":titlesonly:\n",
    ":caption: Python Basics\n",
    "\n",
    "Overview <python-basics/overview>\n",
    "Introduction to Python <python-basics/introduction>\n",
    "Classes <python-basics/classes>\n",
    "Scientific Computing <python-basics/scientific-computing>\n",
    "Networks <python-basics/networks>\n",
    "Mesa <python-basics/mesa>\n",
    "```\n",
    "\n",
    "\n",
    "```{toctree}\n",
    ":hidden:\n",
    ":titlesonly:\n",
    ":caption: Schelling Segregation Model\n",
    "\n",
    "Overview <schelling/01-schelling>\n",
    "Implementation <schelling/01a-schelling-implementation>\n",
    "```\n",
    "\n",
    "\n",
    "```{toctree}\n",
    ":hidden:\n",
    ":titlesonly:\n",
    ":caption: Game Theory\n",
    "\n",
    "Introduciton <game-theory/02a-intro-game-theory>\n",
    "Games on a Network <game-theory/02b-games-local-interaction>\n",
    "Justice and Bargaining <game-theory/02c-divide-the-dollar>\n",
    "```\n",
    "\n",
    "\n",
    "```{toctree}\n",
    ":hidden:\n",
    ":titlesonly:\n",
    ":caption: Belief Dynamics\n",
    "\n",
    "belief-dynamics/overview\n",
    "belief-dynamics/hk-model\n",
    "belief-dynamics/cjt\n",
    "belief-dynamics/testimony\n",
    "belief-dynamics/epistemic-networks\n",
    "belief-dynamics/polarization\n",
    "belief-dynamics/deliberation\n",
    "```\n",
    "\n",
    "\n",
    "```{toctree}\n",
    ":hidden:\n",
    ":titlesonly:\n",
    ":caption: Preference Dynamics and Voting\n",
    "\n",
    "Overview <preference-aggregation/overview>\n",
    "```\n"
   ]
  }
 ],
 "metadata": {
  "celltoolbar": "Slideshow",
  "kernelspec": {
   "display_name": "Python 3",
   "language": "python",
   "name": "python3"
  },
  "language_info": {
   "codemirror_mode": {
    "name": "ipython",
    "version": 3
   },
   "file_extension": ".py",
   "mimetype": "text/x-python",
   "name": "python",
   "nbconvert_exporter": "python",
   "pygments_lexer": "ipython3",
   "version": "3.9.0"
  },
  "varInspector": {
   "cols": {
    "lenName": 16,
    "lenType": 16,
    "lenVar": 40
   },
   "kernels_config": {
    "python": {
     "delete_cmd_postfix": "",
     "delete_cmd_prefix": "del ",
     "library": "var_list.py",
     "varRefreshCmd": "print(var_dic_list())"
    },
    "r": {
     "delete_cmd_postfix": ") ",
     "delete_cmd_prefix": "rm(",
     "library": "var_list.r",
     "varRefreshCmd": "cat(var_dic_list()) "
    }
   },
   "types_to_exclude": [
    "module",
    "function",
    "builtin_function_or_method",
    "instance",
    "_Feature"
   ],
   "window_display": false
  }
 },
 "nbformat": 4,
 "nbformat_minor": 4
}