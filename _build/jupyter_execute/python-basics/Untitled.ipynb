{
 "cells": [
  {
   "cell_type": "markdown",
   "metadata": {},
   "source": [
    "# Mesa"
   ]
  },
  {
   "cell_type": "markdown",
   "metadata": {},
   "source": [
    "Mesa is a Python package that can be used to quickly create and analyze agent-based models. Its goal is to be a Python 3  alternative to other frameworks for creating agent-based simulations, such as [NetLogo](https://ccl.northwestern.edu/netlogo/), [Repast](https://repast.github.io/), and [MASON]. (https://cs.gmu.edu/~eclab/projects/mason/).\n",
    "\n",
    "Consult the documentation for more information about Mesa: [https://mesa.readthedocs.io/en/master/](https://mesa.readthedocs.io/en/master/).\n",
    "\n",
    "```{note}\n",
    "To install mesa in a Jupyter notebook run the following command: \n",
    "\n",
    "`!pip install mesa`\n",
    "\n",
    "(Remove the ! to install Mesa from the command line). \n",
    "```"
   ]
  },
  {
   "cell_type": "markdown",
   "metadata": {},
   "source": [
    "When creating an agent-based simualtion in Mesa, \n",
    "\n",
    "1. Define your agent as a subclass of the Mesa `Agent` class.\n",
    "2. Define your model as a subclass of the Mesa `Model` class."
   ]
  },
  {
   "cell_type": "code",
   "execution_count": 1,
   "metadata": {},
   "outputs": [],
   "source": [
    "from mesa import Agent, Model"
   ]
  },
  {
   "cell_type": "code",
   "execution_count": 2,
   "metadata": {},
   "outputs": [],
   "source": [
    "class MyAgent(Agent): \n",
    "    \n",
    "    def __init__(self, unique_id, model = None):\n",
    "        super().__init__(unique_id, model)\n",
    "        # initialize an agent \n",
    "        \n",
    "    ### add other methods that are useful for your agent ###\n",
    "    \n",
    "    def step(self):\n",
    "        # what does the agent do each step of the simulation?\n",
    "        pass\n",
    "    \n",
    "class MyModel(Model): \n",
    "    \n",
    "    def __init__(self):\n",
    "        super().__init__()\n",
    "        # initialize a model and create agents \n",
    "                \n",
    "    ### add other methods that are useful for your simulation ###\n",
    "    \n",
    "    def step(self):\n",
    "        # executes a step of the simulation\n",
    "        pass"
   ]
  },
  {
   "cell_type": "markdown",
   "metadata": {},
   "source": [
    "```{note}\n",
    "\n",
    "Your agent class or model class is not *required* to have a step method.  Many of the Mesa agent-based models do use these functions, so it is good practice to define these functions.    Note also that the default value of the model in MyAgent is `None`.  This makes it easier for testing purposes so you can create an instance of MyAgent without creating an instance of MyModel. \n",
    "\n",
    "```"
   ]
  },
  {
   "cell_type": "code",
   "execution_count": null,
   "metadata": {},
   "outputs": [],
   "source": []
  },
  {
   "cell_type": "markdown",
   "metadata": {},
   "source": [
    "from mesa.time import RandomActivation\n",
    "\n",
    "\n",
    "Mesa has two main types of grids: SingleGrid and MultiGrid. SingleGrid enforces at most one agent per cell; MultiGrid allows multiple agents to be in the same cell. Since we want agents to be able to share a cell, we use MultiGrid.\n",
    "\n"
   ]
  },
  {
   "cell_type": "code",
   "execution_count": null,
   "metadata": {},
   "outputs": [],
   "source": []
  }
 ],
 "metadata": {
  "kernelspec": {
   "display_name": "Python 3",
   "language": "python",
   "name": "python3"
  },
  "language_info": {
   "codemirror_mode": {
    "name": "ipython",
    "version": 3
   },
   "file_extension": ".py",
   "mimetype": "text/x-python",
   "name": "python",
   "nbconvert_exporter": "python",
   "pygments_lexer": "ipython3",
   "version": "3.9.0"
  },
  "varInspector": {
   "cols": {
    "lenName": 16,
    "lenType": 16,
    "lenVar": 40
   },
   "kernels_config": {
    "python": {
     "delete_cmd_postfix": "",
     "delete_cmd_prefix": "del ",
     "library": "var_list.py",
     "varRefreshCmd": "print(var_dic_list())"
    },
    "r": {
     "delete_cmd_postfix": ") ",
     "delete_cmd_prefix": "rm(",
     "library": "var_list.r",
     "varRefreshCmd": "cat(var_dic_list()) "
    }
   },
   "types_to_exclude": [
    "module",
    "function",
    "builtin_function_or_method",
    "instance",
    "_Feature"
   ],
   "window_display": false
  }
 },
 "nbformat": 4,
 "nbformat_minor": 4
}