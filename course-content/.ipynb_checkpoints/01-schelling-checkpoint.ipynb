{
 "cells": [
  {
   "cell_type": "markdown",
   "metadata": {
    "slideshow": {
     "slide_type": "slide"
    }
   },
   "source": [
    "# Schelling's Segregation Model\n",
    "\n",
    "The Nobel prize winning economist Thomas Schelling developed a model that shows  how global patterns of spatial segregation can arise from the effect of *homophily* operating at a local level.\n",
    "\n",
    "*Homophily* is the principle that we tend to be similar to our friends and/or neighbors.\n",
    "\n",
    "T. Schelling. Dynamic models of segregation. The Journal of Mathematical Sociology, 1(2), 143-186, 1971.\n",
    "\n",
    "See also,\n",
    "* J. M. Sakoda, The checkerboard model of social interaction. The Journalof Mathematical Sociology 1(1), 119-132, 1971.\n",
    "\n",
    "* R. Hegselmann, Thomas C. Schelling and James M. Sakoda: The intellectual, technical, and social history of a model. Journal of Artificial Societies and Social Simulation 20 (3), 2017.\n",
    "\n"
   ]
  },
  {
   "cell_type": "markdown",
   "metadata": {
    "slideshow": {
     "slide_type": "slide"
    }
   },
   "source": [
    "\n",
    "There are two components of the Schelling model: \n",
    "\n",
    "1. A network representing different locations\n",
    "2. A set of agents with two properties: \n",
    "    1. The agent type (e.g., 'red' or 'blue')\n",
    "    2. The current position of the agent in the network\n"
   ]
  },
  {
   "cell_type": "code",
   "execution_count": 83,
   "metadata": {
    "slideshow": {
     "slide_type": "slide"
    }
   },
   "outputs": [
    {
     "data": {
      "image/png": "[encoded data removed]",
      "text/plain": [
       "<Figure size 432x288 with 1 Axes>"
      ]
     },
     "metadata": {},
     "output_type": "display_data"
    }
   ],
   "source": [
    "import networkx as nx\n",
    "import random\n",
    "import matplotlib.pyplot as plt\n",
    "\n",
    "grid = nx.grid_2d_graph(4,4)\n",
    "color_map=list()\n",
    "for node in grid:\n",
    "    color_map.append('blue' if random.random() < 0.5 else 'red')\n",
    "pos = nx.spring_layout(grid, iterations=100)\n",
    "nx.draw(grid, pos, node_color=color_map, node_size=500, font_color='white', width=2, with_labels=False)\n",
    "plt.show()"
   ]
  },
  {
   "cell_type": "markdown",
   "metadata": {
    "slideshow": {
     "slide_type": "slide"
    }
   },
   "source": [
    "## Dynamics\n",
    "\n",
    "At each round: \n",
    "\n",
    "1. For each agent $a$, determine the number of neighbors that are of the same type. \n",
    "2. Agent $a$ is happy if the number of similar agents is above a fixed threshold. \n",
    "3. If $a$ is not happy, then $a$  moves to an empty location.\n",
    "\n",
    "Continue that process for a fixed number of rounds or until every agent is happy. "
   ]
  },
  {
   "cell_type": "markdown",
   "metadata": {
    "slideshow": {
     "slide_type": "slide"
    }
   },
   "source": [
    "## Questions\n",
    "\n",
    "* How many agents are there? \n",
    "* What is the structure of the network? \n",
    "* How do you determine the neighbors of an agent? \n",
    "* Is the homophily threshold the same for all agents? \n",
    "* How densely populated is the network (how many free locations are there)?\n"
   ]
  },
  {
   "cell_type": "markdown",
   "metadata": {
    "slideshow": {
     "slide_type": "slide"
    }
   },
   "source": [
    "## NetLogo Implementation \n",
    "\n",
    "[NetLogo Schelling Simulation](http://www.netlogoweb.org/launch#http://ccl.northwestern.edu/netlogo/models/models/Sample%20Models/Social%20Science/Segregation.nlogo)\n",
    " "
   ]
  },
  {
   "cell_type": "markdown",
   "metadata": {
    "slideshow": {
     "slide_type": "slide"
    }
   },
   "source": [
    "## Implementing Schelling's Model using Python and Mesa"
   ]
  },
  {
   "cell_type": "markdown",
   "metadata": {
    "slideshow": {
     "slide_type": "slide"
    }
   },
   "source": [
    "## Mesa \n",
    "\n",
    "[https://mesa.readthedocs.io/en/master/](https://mesa.readthedocs.io/en/master/)"
   ]
  },
  {
   "cell_type": "code",
   "execution_count": 84,
   "metadata": {
    "slideshow": {
     "slide_type": "slide"
    }
   },
   "outputs": [
    {
     "name": "stdout",
     "output_type": "stream",
     "text": [
      "<__main__.SchellingAgent object at 0x7ff208874430>\n",
      "0\n",
      "(0, 1)\n",
      "self is  <__main__.SchellingAgent object at 0x7ff208874430>\n",
      "Inside step function. Agent type is  0\n"
     ]
    }
   ],
   "source": [
    "from mesa import Agent\n",
    "\n",
    "class SchellingAgent(Agent):\n",
    "    '''\n",
    "    Schelling segregation agent.\n",
    "    '''\n",
    "    def __init__(self, pos, agent_type):\n",
    "        self.pos = pos\n",
    "        self.type = agent_type\n",
    "    def step(self):\n",
    "        print(\"self is \", self)\n",
    "        print(\"Inside step function. Agent type is \", self.type)\n",
    "\n",
    "a = SchellingAgent((0,1),0)\n",
    "print(a)\n",
    "print(a.type)\n",
    "print(a.pos)\n",
    "a.step()"
   ]
  },
  {
   "cell_type": "code",
   "execution_count": 85,
   "metadata": {
    "slideshow": {
     "slide_type": "slide"
    }
   },
   "outputs": [
    {
     "name": "stdout",
     "output_type": "stream",
     "text": [
      "a  <__main__.SchellingAgent object at 0x7ff218c4a3d0>\n",
      "(0, 0)\n",
      "1\n",
      "self is  <__main__.SchellingAgent object at 0x7ff218c4a3d0>\n",
      "Inside step function. Agent type is  1\n",
      "\n",
      "\n",
      "b  <__main__.SchellingAgent object at 0x7ff218c4a640>\n",
      "(0, 1)\n",
      "0\n",
      "self is  <__main__.SchellingAgent object at 0x7ff218c4a640>\n",
      "Inside step function. Agent type is  0\n"
     ]
    }
   ],
   "source": [
    "a = SchellingAgent((0,0), 1)\n",
    "b = SchellingAgent((0,1), 0)\n",
    "\n",
    "print(\"a \", a)\n",
    "print(a.pos)\n",
    "print(a.type)\n",
    "a.step()\n",
    "\n",
    "print(\"\\n\")\n",
    "print(\"b \", b)\n",
    "print(b.pos)\n",
    "print(b.type)\n",
    "b.step()"
   ]
  },
  {
   "cell_type": "code",
   "execution_count": 86,
   "metadata": {
    "slideshow": {
     "slide_type": "slide"
    }
   },
   "outputs": [],
   "source": [
    "from mesa import Model, Agent\n",
    "\n",
    "class SchellingAgent(Agent):\n",
    "    '''\n",
    "    Schelling segregation agent\n",
    "    '''\n",
    "    def __init__(self, unique_id, pos, model, agent_type):\n",
    "        '''\n",
    "         Create a new Schelling agent.\n",
    "         Args:\n",
    "            pos: Agent initial location.\n",
    "            agent_type: Indicator for the agent's type (minority=1, majority=0)\n",
    "        '''\n",
    "        super().__init__(unique_id, model)\n",
    "        self.pos = pos\n",
    "        self.type = agent_type\n",
    "\n",
    "    def step(self):\n",
    "        similar = 0\n",
    "        neighbors = self.model.grid.neighbor_iter(self.pos)\n",
    "        for neighbor in neighbors:\n",
    "            if neighbor.type == self.type:\n",
    "                similar += 1\n",
    "\n",
    "        # If unhappy, move:\n",
    "        if similar < self.model.homophily:\n",
    "            self.model.grid.move_to_empty(self)\n",
    "        else:\n",
    "            self.model.happy += 1\n"
   ]
  },
  {
   "cell_type": "markdown",
   "metadata": {
    "slideshow": {
     "slide_type": "slide"
    }
   },
   "source": [
    "Note that line 14 has the code \n",
    "\n",
    "```python \n",
    "super().__init__(pos,model)\n",
    "```\n",
    "\n",
    "First of all, note that `SchellingAgent` is a subclass of the mesa class `Agent`. \n",
    "\n",
    "`super()` is a builtin function that gives access to the base class. The use case of this function is illustrated below:   "
   ]
  },
  {
   "cell_type": "code",
   "execution_count": 87,
   "metadata": {
    "slideshow": {
     "slide_type": "slide"
    }
   },
   "outputs": [
    {
     "name": "stdout",
     "output_type": "stream",
     "text": [
      "B is a subclass of A\n",
      "initializing A with  7\n"
     ]
    },
    {
     "ename": "AttributeError",
     "evalue": "'B' object has no attribute 'param2'",
     "output_type": "error",
     "traceback": [
      "\u001b[0;31m---------------------------------------------------------------------------\u001b[0m",
      "\u001b[0;31mAttributeError\u001b[0m                            Traceback (most recent call last)",
      "\u001b[0;32m<ipython-input-87-ecccfc784740>\u001b[0m in \u001b[0;36m<module>\u001b[0;34m\u001b[0m\n\u001b[1;32m     12\u001b[0m \u001b[0;34m\u001b[0m\u001b[0m\n\u001b[1;32m     13\u001b[0m \u001b[0mb\u001b[0m \u001b[0;34m=\u001b[0m \u001b[0mB\u001b[0m\u001b[0;34m(\u001b[0m\u001b[0;36m7\u001b[0m\u001b[0;34m)\u001b[0m\u001b[0;34m\u001b[0m\u001b[0;34m\u001b[0m\u001b[0m\n\u001b[0;32m---> 14\u001b[0;31m \u001b[0mprint\u001b[0m\u001b[0;34m(\u001b[0m\u001b[0mb\u001b[0m\u001b[0;34m.\u001b[0m\u001b[0mparam2\u001b[0m\u001b[0;34m)\u001b[0m \u001b[0;31m# produces an error since the base class hasn't been initialized\u001b[0m\u001b[0;34m\u001b[0m\u001b[0;34m\u001b[0m\u001b[0m\n\u001b[0m",
      "\u001b[0;31mAttributeError\u001b[0m: 'B' object has no attribute 'param2'"
     ]
    }
   ],
   "source": [
    "class A():\n",
    "    def __init__(self, param):\n",
    "        print(\"initializing A with \", param)\n",
    "        self.A_parameter = param\n",
    "        self.param2 = \"Another parameter\"\n",
    "        \n",
    "class B(A):\n",
    "    def __init__(self, param):\n",
    "        print(\"B is a subclass of A\")\n",
    "        self.B_parameter = param\n",
    "        print(\"initializing A with \", param)\n",
    "\n",
    "b = B(7)\n",
    "print(b.param2) # produces an error since the base class hasn't been initialized"
   ]
  },
  {
   "cell_type": "markdown",
   "metadata": {
    "slideshow": {
     "slide_type": "slide"
    }
   },
   "source": [
    "The problem with the above code is that when initializing the class B we didn't call the `__init__` method of the base class.   There are two ways to do this: \n",
    "\n",
    "The first approach is to explicitly call the base class `__init__` method\n"
   ]
  },
  {
   "cell_type": "code",
   "execution_count": 88,
   "metadata": {
    "slideshow": {
     "slide_type": "slide"
    }
   },
   "outputs": [
    {
     "name": "stdout",
     "output_type": "stream",
     "text": [
      "Initializing B with  7\n",
      "Initializing A with  7\n",
      "b.param2 is Another parameter\n",
      "b.B_parameter is 7\n",
      "b.A_parameter is 7\n"
     ]
    }
   ],
   "source": [
    "# 1. The first approach is to explicitly reference the base class __init__ function\n",
    "class A():\n",
    "    def __init__(self, param):\n",
    "        print(\"Initializing A with \", param)\n",
    "        self.A_parameter = param\n",
    "        self.param2 = \"Another parameter\"\n",
    "        \n",
    "class B(A):\n",
    "    def __init__(self, param):\n",
    "        print(\"Initializing B with \", param)\n",
    "        self.B_parameter = param\n",
    "        A.__init__(self, param)\n",
    "\n",
    "b = B(7)\n",
    "print(f\"b.param2 is {b.param2}\") # now b can access the base class attributes\n",
    "print(f\"b.B_parameter is {b.B_parameter}\")\n",
    "print(f\"b.A_parameter is {b.A_parameter}\")"
   ]
  },
  {
   "cell_type": "markdown",
   "metadata": {
    "slideshow": {
     "slide_type": "slide"
    }
   },
   "source": [
    "The second approach is the use the builtin `super()`:"
   ]
  },
  {
   "cell_type": "code",
   "execution_count": 89,
   "metadata": {
    "slideshow": {
     "slide_type": "fragment"
    }
   },
   "outputs": [
    {
     "name": "stdout",
     "output_type": "stream",
     "text": [
      "Initializing B with  7\n",
      "Initializing A with  7\n",
      "b.param2 is Another parameter\n",
      "b.B_parameter is 7\n",
      "b.A_parameter is 7\n"
     ]
    }
   ],
   "source": [
    "# 2. The second (preferable) approach is to use the builtin super()\n",
    "\n",
    "class A():\n",
    "    def __init__(self, param):\n",
    "        print(\"Initializing A with \", param)\n",
    "        self.A_parameter = param\n",
    "        self.param2 = \"Another parameter\"\n",
    "\n",
    "class B(A):\n",
    "    def __init__(self, param):\n",
    "        print(\"Initializing B with \", param)\n",
    "        self.B_parameter = param\n",
    "        super().__init__(param)\n",
    "\n",
    "b = B(7)\n",
    "print(f\"b.param2 is {b.param2}\") # now b can access the base class attributes\n",
    "print(f\"b.B_parameter is {b.B_parameter}\")\n",
    "print(f\"b.A_parameter is {b.A_parameter}\")\n"
   ]
  },
  {
   "cell_type": "code",
   "execution_count": 90,
   "metadata": {
    "slideshow": {
     "slide_type": "slide"
    }
   },
   "outputs": [],
   "source": [
    "from mesa.time import RandomActivation\n",
    "from mesa.space import SingleGrid\n",
    "from mesa.datacollection import DataCollector\n",
    "\n",
    "class SchellingModel(Model):\n",
    "    '''\n",
    "    Model class for the Schelling segregation model.\n",
    "    '''\n",
    "    def __init__(self, height, width, density, minority_percent, homophily):\n",
    "        \n",
    "        self.height = height\n",
    "        self.width = width\n",
    "        self.density = density\n",
    "        self.minority_percent = minority_percent\n",
    "        self.homophily = homophily\n",
    "\n",
    "        self.schedule = RandomActivation(self)\n",
    "        self.grid = SingleGrid(height, width, torus=True)\n",
    "\n",
    "        self.happy = 0\n",
    "        self.datacollector = DataCollector(\n",
    "            {\"happy\": lambda m: m.happy},  # Model-level count of happy agents\n",
    "            # For testing purposes, agent's individual x and y\n",
    "            {\"x\": lambda a: a.pos[0], \"y\": lambda a: a.pos[1]})\n",
    "        self.running = True\n",
    "        # Set up agents\n",
    "        agent_id = 0\n",
    "        for cell in self.grid.coord_iter():\n",
    "            #print(cell)\n",
    "            _,x,y = cell\n",
    "            if random.random() < self.density:\n",
    "                if random.random() < self.minority_percent:\n",
    "                    agent_type = 1\n",
    "                else:\n",
    "                    agent_type = 0\n",
    "                agent = SchellingAgent(agent_id, (x, y), self, agent_type)\n",
    "                agent_id += 1\n",
    "                self.grid.position_agent(agent, x=x, y=y)\n",
    "                self.schedule.add(agent)\n",
    "        \n",
    "    def step(self):\n",
    "        '''\n",
    "        Run one step of the model. If All agents are happy, halt the model.\n",
    "        '''\n",
    "        self.happy = 0  # Reset counter of happy agents\n",
    "        self.schedule.step()\n",
    "        self.datacollector.collect(self)\n",
    "        if self.happy == self.schedule.get_agent_count():\n",
    "            self.running = False\n"
   ]
  },
  {
   "cell_type": "markdown",
   "metadata": {
    "slideshow": {
     "slide_type": "slide"
    }
   },
   "source": [
    "Instatiate a model instance: a 10x10 grid, with an 10% chance of an agent being placed in each cell, approximately 20% of agents set as minorities, and agents wanting at least 3 similar neighbors."
   ]
  },
  {
   "cell_type": "code",
   "execution_count": 91,
   "metadata": {
    "slideshow": {
     "slide_type": "fragment"
    }
   },
   "outputs": [
    {
     "name": "stdout",
     "output_type": "stream",
     "text": [
      "Display the first 5 agents:\n",
      "\n",
      "<__main__.SchellingAgent object at 0x7ff1f84adca0>\n",
      "type is  1\n",
      "pos is (0, 0)\n",
      "unique id is 0\n",
      "\n",
      "<__main__.SchellingAgent object at 0x7ff218c4afd0>\n",
      "type is  1\n",
      "pos is (2, 0)\n",
      "unique id is 1\n",
      "\n",
      "<__main__.SchellingAgent object at 0x7ff218c4a340>\n",
      "type is  0\n",
      "pos is (3, 1)\n",
      "unique id is 2\n",
      "\n",
      "<__main__.SchellingAgent object at 0x7ff218c4a7c0>\n",
      "type is  0\n",
      "pos is (3, 3)\n",
      "unique id is 3\n",
      "\n",
      "<__main__.SchellingAgent object at 0x7ff218c4a580>\n",
      "type is  0\n",
      "pos is (3, 4)\n",
      "unique id is 4\n",
      "\n"
     ]
    }
   ],
   "source": [
    "height, width = 10, 10\n",
    "density = 0.1\n",
    "minority_percent = 0.2\n",
    "homophily = 4\n",
    "model = SchellingModel(height, width, density, minority_percent, homophily)\n",
    "print(\"Display the first 5 agents:\\n\")\n",
    "for a in model.schedule.agents[0:5]: \n",
    "    print(a)\n",
    "    print(\"type is \", a.type)\n",
    "    print(f\"pos is {a.pos}\")\n",
    "    print(f\"unique id is {a.unique_id}\\n\")\n"
   ]
  },
  {
   "cell_type": "code",
   "execution_count": 92,
   "metadata": {
    "slideshow": {
     "slide_type": "slide"
    }
   },
   "outputs": [
    {
     "name": "stdout",
     "output_type": "stream",
     "text": [
      "<__main__.SchellingAgent object at 0x7ff1f84adca0>\n",
      "type is  1\n",
      "pos is (6, 3)\n",
      "unique id is 0\n",
      "model.happy = 0\n",
      "\n",
      "<__main__.SchellingAgent object at 0x7ff218c4afd0>\n",
      "type is  1\n",
      "pos is (1, 6)\n",
      "unique id is 1\n",
      "model.happy = 0\n",
      "\n",
      "<__main__.SchellingAgent object at 0x7ff218c4a340>\n",
      "type is  0\n",
      "pos is (0, 8)\n",
      "unique id is 2\n",
      "model.happy = 0\n",
      "\n",
      "<__main__.SchellingAgent object at 0x7ff218c4a7c0>\n",
      "type is  0\n",
      "pos is (6, 4)\n",
      "unique id is 3\n",
      "model.happy = 0\n",
      "\n",
      "<__main__.SchellingAgent object at 0x7ff218c4a580>\n",
      "type is  0\n",
      "pos is (2, 1)\n",
      "unique id is 4\n",
      "model.happy = 0\n",
      "\n"
     ]
    }
   ],
   "source": [
    "# execute one round of the models\n",
    "model.step()\n",
    "\n",
    "# some positions should change\n",
    "for a in model.schedule.agents[0:5]: \n",
    "    print(a)\n",
    "    print(\"type is \", a.type)\n",
    "    print(f\"pos is {a.pos}\")\n",
    "    print(f\"unique id is {a.unique_id}\")\n",
    "    print(f\"model.happy = {model.happy}\\n\")\n"
   ]
  },
  {
   "cell_type": "markdown",
   "metadata": {
    "slideshow": {
     "slide_type": "slide"
    }
   },
   "source": [
    "Note that on line 17 of the definition of `SchellingModel` we have the following code: \n",
    "\n",
    "```python\n",
    "self.schedule = RandomActivation(self)\n",
    "```\n",
    "\n",
    "This activates the agents one at a time in random order with the order reshuffled every step of the model. \n",
    "\n",
    "See [the source code](https://mesa.readthedocs.io/en/stable/_modules/mesa/time.html#RandomActivation) for details. \n"
   ]
  },
  {
   "cell_type": "code",
   "execution_count": 93,
   "metadata": {
    "slideshow": {
     "slide_type": "fragment"
    }
   },
   "outputs": [
    {
     "name": "stdout",
     "output_type": "stream",
     "text": [
      "[10, 7, 0, 4, 3, 9, 8, 1, 6, 2, 5]\n"
     ]
    }
   ],
   "source": [
    "# To illustrate the RandomAcitivation schedulare, note that running this\n",
    "# multiplet times will produce different orders of the agents\n",
    "\n",
    "print([a.unique_id for a in model.schedule.agent_buffer(shuffled=True)])"
   ]
  },
  {
   "cell_type": "markdown",
   "metadata": {
    "slideshow": {
     "slide_type": "slide"
    }
   },
   "source": [
    "Note that  line 18 of the definition of the `SchellingModel` has the following code: \n",
    "    \n",
    "```python\n",
    "self.grid = SingleGrid(height, width, torus=True)\n",
    "```\n",
    "\n",
    "This defines a grid to place the agents. \n",
    "\n",
    "See [the course code](https://mesa.readthedocs.io/en/master/_modules/space.html#SingleGrid) for details. \n"
   ]
  },
  {
   "cell_type": "code",
   "execution_count": 94,
   "metadata": {
    "slideshow": {
     "slide_type": "slide"
    }
   },
   "outputs": [
    {
     "name": "stdout",
     "output_type": "stream",
     "text": [
      "(None, 0, 0)\n",
      "(None, 0, 1)\n",
      "(None, 0, 2)\n",
      "(None, 1, 0)\n",
      "(None, 1, 1)\n",
      "(None, 1, 2)\n",
      "(None, 2, 0)\n",
      "(None, 2, 1)\n",
      "(None, 2, 2)\n"
     ]
    }
   ],
   "source": [
    "# create a simple Schelling model with a 3x3 grid\n",
    "model2 = SchellingModel(3, 3, 0, 0.2, 4)\n",
    "\n",
    "# each cell is a tuple where the first component is the agent, \n",
    "# the second component is the x position and \n",
    "# the 3rd component is the y position\n",
    "for cell in model2.grid.coord_iter():\n",
    "    print(cell)\n"
   ]
  },
  {
   "cell_type": "code",
   "execution_count": 95,
   "metadata": {
    "slideshow": {
     "slide_type": "slide"
    }
   },
   "outputs": [
    {
     "name": "stdout",
     "output_type": "stream",
     "text": [
      "(None, 0, 0)\n",
      "(None, 0, 1)\n",
      "(None, 0, 2)\n",
      "(None, 1, 0)\n",
      "(<__main__.SchellingAgent object at 0x7ff218c6b280>, 1, 1)\n",
      "(None, 1, 2)\n",
      "(None, 2, 0)\n",
      "(None, 2, 1)\n",
      "(None, 2, 2)\n",
      "\n",
      "a1 pos is (1, 1)\n"
     ]
    }
   ],
   "source": [
    "a1 = SchellingAgent(0, (1, 1), model2, 0)\n",
    "\n",
    "# initially position the agent at 1,1\n",
    "model2.grid.position_agent(a1, x=1, y=1)\n",
    "\n",
    "for cell in model2.grid.coord_iter():\n",
    "    print(cell)\n",
    "print(f\"\\na1 pos is {a1.pos}\")\n"
   ]
  },
  {
   "cell_type": "code",
   "execution_count": 96,
   "metadata": {
    "slideshow": {
     "slide_type": "slide"
    }
   },
   "outputs": [
    {
     "name": "stdout",
     "output_type": "stream",
     "text": [
      "(None, 0, 0)\n",
      "(None, 0, 1)\n",
      "(None, 0, 2)\n",
      "(<__main__.SchellingAgent object at 0x7ff218c6b280>, 1, 0)\n",
      "(None, 1, 1)\n",
      "(None, 1, 2)\n",
      "(None, 2, 0)\n",
      "(None, 2, 1)\n",
      "(None, 2, 2)\n",
      "\n",
      "a1 pos is (1, 0)\n"
     ]
    }
   ],
   "source": [
    "\n",
    "# now move a1 to an empty location\n",
    "model2.grid.move_to_empty(a1)\n",
    "\n",
    "for cell in model2.grid.coord_iter():\n",
    "    print(cell)\n",
    "print(f\"\\na1 pos is {a1.pos}\")\n"
   ]
  },
  {
   "cell_type": "code",
   "execution_count": 97,
   "metadata": {
    "slideshow": {
     "slide_type": "slide"
    }
   },
   "outputs": [
    {
     "name": "stdout",
     "output_type": "stream",
     "text": [
      "The neighbors of a1 are: \n",
      "a3 at (0, 0)\n",
      "a2 at (1, 0)\n",
      "a4 at (2, 2)\n",
      "The neighbors of a3 are: \n",
      "a4 at (2, 2)\n",
      "a2 at (1, 0)\n",
      "a1 at (1, 1)\n"
     ]
    }
   ],
   "source": [
    "model2 = SchellingModel(3, 3, 0, 0.2, 4)\n",
    "model2.grid = SingleGrid(3, 3, torus=True)\n",
    "\n",
    "a1 = SchellingAgent(1, (1, 1), model2, 0)\n",
    "a2 = SchellingAgent(2, (1, 0), model2, 0)\n",
    "a3 = SchellingAgent(3, (0, 0), model2, 0)\n",
    "a4 = SchellingAgent(4, (2, 2), model2, 0)\n",
    "\n",
    "model2.grid.position_agent(a1, x=1, y=1)\n",
    "model2.grid.position_agent(a2, x=1, y=0)\n",
    "model2.grid.position_agent(a3, x=0, y=0)\n",
    "model2.grid.position_agent(a4, x=2, y=2)\n",
    "\n",
    "print(\"The neighbors of a1 are: \")\n",
    "for n in model2.grid.neighbor_iter(a1.pos):\n",
    "    print(f\"a{n.unique_id} at {n.pos}\")\n",
    "    \n",
    "print(\"The neighbors of a3 are: \")\n",
    "for n in model2.grid.neighbor_iter(a3.pos):\n",
    "    print(f\"a{n.unique_id} at {n.pos}\")"
   ]
  },
  {
   "cell_type": "markdown",
   "metadata": {
    "slideshow": {
     "slide_type": "slide"
    }
   },
   "source": [
    "Lines 31 - 35 of the `SchellingModel` has the following code: \n",
    "\n",
    "```python\n",
    "if random.random() < self.density:\n",
    "    if random.random() < self.minority_percent:\n",
    "        agent_type = 1\n",
    "    else:\n",
    "        agent_type = 0\n",
    "```\n"
   ]
  },
  {
   "cell_type": "markdown",
   "metadata": {
    "slideshow": {
     "slide_type": "fragment"
    }
   },
   "source": [
    "`random.random()` returns a random floating point number in the range $[0.0, 1.0)$.\n",
    "\n",
    "With probability `density` create an agent at the position.  With probability `minority_percent` set the agent type to 1 (a minority agent) otherwise set the agent type to 0 (a majority agent). "
   ]
  },
  {
   "cell_type": "markdown",
   "metadata": {
    "slideshow": {
     "slide_type": "slide"
    }
   },
   "source": [
    "Instatiate a model instance: a 10x10 grid, with an 80% chance of an agent being placed in each cell, approximately 20% of agents set as minorities, and agents wanting at least 3 similar neighbors.  Run the model at most 100 times. "
   ]
  },
  {
   "cell_type": "code",
   "execution_count": 98,
   "metadata": {
    "slideshow": {
     "slide_type": "fragment"
    }
   },
   "outputs": [
    {
     "name": "stdout",
     "output_type": "stream",
     "text": [
      "The model ran for 186 steps\n"
     ]
    }
   ],
   "source": [
    "height, width = 50, 50\n",
    "density = 0.8\n",
    "minority_percent = 0.3\n",
    "homophily = 4\n",
    "model = SchellingModel(height, width, density, minority_percent, homophily)\n",
    "\n",
    "while model.running and model.schedule.steps < 1000:\n",
    "    model.step()\n",
    "print(f\"The model ran for {model.schedule.steps} steps\") # Show how many steps have actually run"
   ]
  },
  {
   "cell_type": "markdown",
   "metadata": {
    "slideshow": {
     "slide_type": "slide"
    }
   },
   "source": [
    "Lines 21 - 24 of the definition of the `SchellingModel` has the following code: \n",
    "\n",
    "```python \n",
    "self.datacollector = DataCollector(\n",
    "{\"happy\": lambda m: m.happy},  # Model-level count of happy agents\n",
    "# For testing purposes, agent's individual x and y\n",
    "{\"x\": lambda a: a.pos[0], \"y\": lambda a: a.pos[1]})\n",
    "```\n",
    "\n",
    "This code is called in the `step()` method on line 47: \n",
    "\n",
    "```python\n",
    "self.datacollector.collect(self)\n",
    "```"
   ]
  },
  {
   "cell_type": "markdown",
   "metadata": {
    "slideshow": {
     "slide_type": "fragment"
    }
   },
   "source": [
    "The `DataCollector` is a simple, standard way to collect data generated by a Mesa model. It collects three types of data: model-level data, agent-level data, and tables.\n",
    "\n",
    "See the [documentation for details](https://mesa.readthedocs.io/en/stable/apis/datacollection.html)."
   ]
  },
  {
   "cell_type": "markdown",
   "metadata": {
    "slideshow": {
     "slide_type": "slide"
    }
   },
   "source": [
    "The code uses the builtin `lambda` to define a function.\n",
    "\n",
    "To define a function in Python you need to use the `def` keyord, specify a name of the fucntion, list the parameters and the function body. The `lambda` builtin allows you to quickly define functions on the fly. "
   ]
  },
  {
   "cell_type": "code",
   "execution_count": 99,
   "metadata": {
    "slideshow": {
     "slide_type": "fragment"
    }
   },
   "outputs": [
    {
     "name": "stdout",
     "output_type": "stream",
     "text": [
      "4\n",
      "4\n"
     ]
    }
   ],
   "source": [
    "def f1(p):\n",
    "    return p + 2\n",
    "\n",
    "print(f1(2))\n",
    "\n",
    "f2 = lambda p: p + 2\n",
    "\n",
    "print(f2(2))"
   ]
  },
  {
   "cell_type": "code",
   "execution_count": 100,
   "metadata": {
    "slideshow": {
     "slide_type": "slide"
    }
   },
   "outputs": [
    {
     "ename": "SyntaxError",
     "evalue": "invalid syntax (<ipython-input-100-99dd8117cf43>, line 1)",
     "output_type": "error",
     "traceback": [
      "\u001b[0;36m  File \u001b[0;32m\"<ipython-input-100-99dd8117cf43>\"\u001b[0;36m, line \u001b[0;32m1\u001b[0m\n\u001b[0;31m    Use the methdo `get_model_vars_dataframe` to get the model-level data after running the model.\u001b[0m\n\u001b[0m        ^\u001b[0m\n\u001b[0;31mSyntaxError\u001b[0m\u001b[0;31m:\u001b[0m invalid syntax\n"
     ]
    }
   ],
   "source": [
    "Use the methdo `get_model_vars_dataframe` to get the model-level data after running the model."
   ]
  },
  {
   "cell_type": "code",
   "execution_count": null,
   "metadata": {
    "slideshow": {
     "slide_type": "fragment"
    }
   },
   "outputs": [],
   "source": [
    "\n",
    "model_out = model.datacollector.get_model_vars_dataframe()\n",
    "\n",
    "model_out.head()\n"
   ]
  },
  {
   "cell_type": "code",
   "execution_count": null,
   "metadata": {
    "slideshow": {
     "slide_type": "slide"
    }
   },
   "outputs": [],
   "source": [
    "import seaborn as sns\n",
    "sns.set()\n",
    "model_out.happy.plot();"
   ]
  },
  {
   "cell_type": "markdown",
   "metadata": {
    "slideshow": {
     "slide_type": "slide"
    }
   },
   "source": [
    "## Exploring the Parameter Space"
   ]
  },
  {
   "cell_type": "code",
   "execution_count": null,
   "metadata": {
    "slideshow": {
     "slide_type": "slide"
    }
   },
   "outputs": [],
   "source": [
    "from mesa.batchrunner import BatchRunner\n",
    "\n",
    "def get_segregation(model):\n",
    "    '''\n",
    "    Find the % of agents that only have neighbors of their same type.\n",
    "    '''\n",
    "    segregated_agents = 0\n",
    "    for agent in model.schedule.agents:\n",
    "        segregated = True\n",
    "        for neighbor in model.grid.neighbor_iter(agent.pos):\n",
    "            if neighbor.type != agent.type:\n",
    "                segregated = False\n",
    "                break\n",
    "        if segregated:\n",
    "            segregated_agents += 1\n",
    "    return segregated_agents / model.schedule.get_agent_count()"
   ]
  },
  {
   "cell_type": "code",
   "execution_count": null,
   "metadata": {
    "slideshow": {
     "slide_type": "slide"
    }
   },
   "outputs": [],
   "source": [
    "variable_params = {\"homophily\": range(1,9)}\n",
    "fixed_params =  {\"height\": 10, \"width\": 10, \"density\": 0.8, \"minority_percent\": 0.2} \n",
    "model_reporters = {\"Segregated_Agents\": get_segregation}\n",
    "param_sweep = BatchRunner(SchellingModel, \n",
    "                          variable_params, \n",
    "                          fixed_params, \n",
    "                          iterations=10, \n",
    "                          max_steps=200, \n",
    "                          model_reporters=model_reporters, \n",
    "                          display_progress=False)"
   ]
  },
  {
   "cell_type": "code",
   "execution_count": null,
   "metadata": {
    "slideshow": {
     "slide_type": "slide"
    }
   },
   "outputs": [],
   "source": [
    "param_sweep.run_all()"
   ]
  },
  {
   "cell_type": "code",
   "execution_count": null,
   "metadata": {
    "slideshow": {
     "slide_type": "slide"
    }
   },
   "outputs": [],
   "source": [
    "df = param_sweep.get_model_vars_dataframe()\n",
    "df"
   ]
  },
  {
   "cell_type": "code",
   "execution_count": null,
   "metadata": {
    "slideshow": {
     "slide_type": "slide"
    }
   },
   "outputs": [],
   "source": [
    "plt.scatter(df.homophily, df.Segregated_Agents)\n",
    "plt.grid(True)"
   ]
  },
  {
   "cell_type": "markdown",
   "metadata": {
    "slideshow": {
     "slide_type": "slide"
    }
   },
   "source": [
    "\n",
    "## Additional Reading\n",
    "\n",
    "\n",
    "* Brian Hayes, [The Math of Segregation](https://www.americanscientist.org/article/the-math-of-segregation), American Scientist.\n",
    "  \n",
    "*   Christina Brandt, Nicole Immorlica, Gautam Kamath, and Robert Kleinberg, [An Analysis of One-Dimensional Schelling Segregation](https://arxiv.org/abs/1203.6346), Proceedings of the forty-fourth annual ACM symposium on theory of computing,  2012. \n",
    "\n",
    "* Matthew Jackson, Chapter 5, The Human Network: How Your Social Position Determines Your Power, Beliefs, and Behaviors,  Vintage, 2020.\n",
    "\n",
    "* David Easley and Jon Kleinberg, Section 4.5, [Networks, Crowds, and Markets: Reasoning about a Highly Connected World](https://www.cs.cornell.edu/home/kleinber/networks-book/networks-book-ch04.pdf), Cambridge University Press, 2010\n",
    "\n",
    "* [Parable of the Polygons](https://ncase.me/polygons/)"
   ]
  }
 ],
 "metadata": {
  "celltoolbar": "Slideshow",
  "kernelspec": {
   "display_name": "Python 3",
   "language": "python",
   "name": "python3"
  },
  "language_info": {
   "codemirror_mode": {
    "name": "ipython",
    "version": 3
   },
   "file_extension": ".py",
   "mimetype": "text/x-python",
   "name": "python",
   "nbconvert_exporter": "python",
   "pygments_lexer": "ipython3",
   "version": "3.8.5"
  },
  "varInspector": {
   "cols": {
    "lenName": 16,
    "lenType": 16,
    "lenVar": 40
   },
   "kernels_config": {
    "python": {
     "delete_cmd_postfix": "",
     "delete_cmd_prefix": "del ",
     "library": "var_list.py",
     "varRefreshCmd": "print(var_dic_list())"
    },
    "r": {
     "delete_cmd_postfix": ") ",
     "delete_cmd_prefix": "rm(",
     "library": "var_list.r",
     "varRefreshCmd": "cat(var_dic_list()) "
    }
   },
   "types_to_exclude": [
    "module",
    "function",
    "builtin_function_or_method",
    "instance",
    "_Feature"
   ],
   "window_display": false
  }
 },
 "nbformat": 4,
 "nbformat_minor": 4
}
