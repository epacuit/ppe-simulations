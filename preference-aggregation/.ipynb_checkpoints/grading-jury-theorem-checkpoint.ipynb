{
 "cells": [
  {
   "cell_type": "markdown",
   "metadata": {},
   "source": [
    "# Grading Jury Theorem\n",
    "\n",
    " "
   ]
  },
  {
   "cell_type": "markdown",
   "metadata": {},
   "source": [
    "Michael Morreau (2020). [Democracy without Enlightenment: A Jury Theorem for Evaluative Voting](https://onlinelibrary.wiley.com/doi/full/10.1111/jopp.12226), The Journal of Political Philosophy, 2020, pp. 1 - 23\n"
   ]
  },
  {
   "cell_type": "code",
   "execution_count": 14,
   "metadata": {
    "slideshow": {
     "slide_type": "skip"
    },
    "tags": [
     "hide-input"
    ]
   },
   "outputs": [],
   "source": [
    "import random\n",
    "import pylab\n",
    "import matplotlib.mlab as mlab\n",
    "import functools\n",
    "import itertools\n",
    "from __future__ import print_function\n",
    "import math\n",
    "import numpy as np\n",
    "import matplotlib as mpl\n",
    "import matplotlib.pyplot as plt\n",
    "import seaborn as sns\n",
    "import numpy as np\n",
    "import matplotlib.pyplot as plt\n",
    "from scipy.stats import norm\n",
    "import math\n",
    "from functools import reduce\n",
    "from collections import Counter\n",
    "from tqdm.notebook import tqdm  \n",
    "\n",
    "from ipywidgets import interact, interactive, fixed, interact_manual\n",
    "import ipywidgets as widgets\n",
    "from IPython.display import display\n",
    "from IPython.display import display, Math, Latex\n",
    "sns.set()"
   ]
  },
  {
   "cell_type": "markdown",
   "metadata": {},
   "source": [
    "```{warning}\n",
    "This notebook uses Jupyter widgets that will only work if the notebook is run locally. \n",
    "```"
   ]
  },
  {
   "cell_type": "markdown",
   "metadata": {
    "slideshow": {
     "slide_type": "slide"
    }
   },
   "source": [
    "Suppose that $V=\\{1, 2, 3, \\ldots, n\\}$ is a set of voters or experts, and consider a  set of two alternatives.  E.g., $\\{\\mbox{convict}, \\mbox{acquit}\\}$, $\\{\\mbox{abolish}, \\mbox{keep}\\}$, $\\{0,1\\}$, $\\ldots$\n",
    "\n",
    "Let  $\\mathbf{x}$ be a random variable (called the **state**)  whose values range over the two alternatives. \n",
    "\n",
    "In addition, let $\\mathbf{v}_1, \\mathbf{v}_2, \\ldots$ be random variables represeting the votes for individuals $1, 2, \\ldots, n$\n",
    "\n",
    "Let $R_i$ be the event that $i$ votes correctly: it is  the event that $v_i$ coincides with the state. "
   ]
  },
  {
   "cell_type": "markdown",
   "metadata": {
    "slideshow": {
     "slide_type": "slide"
    }
   },
   "source": [
    "**Unconditional independence (UI)**: The correctness events $R_1, R_2, \\ldots, R_n$ are (unconditionally) independent.\n",
    "\n",
    "**Unconditional competence (UC)**: The (unconditional) correctness probability\n",
    "$p = Pr(R_i)$, the (unconditional) competence, (i) exceeds $\\frac{1}{2}$ and (ii) is the same for\n",
    "each voter $i$.\n",
    "\n",
    "**Condorcet Jury Theorem**. Assume UI and UC. As the group size increases, the probability of a\n",
    "correct majority (i) increases (growing reliability), and (ii) tends to one (infallibility)."
   ]
  },
  {
   "cell_type": "markdown",
   "metadata": {},
   "source": [
    "The Condorcet Jury Theorem has two main theses: \n",
    "    \n",
    "**The growing-reliability thesis**: Larger groups are better truth-trackers. That\n",
    "is, they are more likely to select the correct alternative (by majority) than\n",
    "smaller groups or single individuals.\n",
    "\n",
    "**The infallibility thesis**: Huge groups are infallible truth-trackers. That is, the\n",
    "likelihood of a correct (majority) decision tends to full certainty as the group\n",
    "becomes larger and larger."
   ]
  },
  {
   "cell_type": "code",
   "execution_count": 15,
   "metadata": {
    "slideshow": {
     "slide_type": "skip"
    }
   },
   "outputs": [],
   "source": [
    "\n",
    "class Agent():\n",
    "    \n",
    "    def __init__(self, comp=0.501):\n",
    "        self.comp = comp\n",
    "        \n",
    "    def vote(self, ev):\n",
    "        #vote on whether the event is true or false\n",
    "        #need the actual truth value in order to know which direction to be biased\n",
    "        if ev:\n",
    "            #ev is true\n",
    "            return int(random.random() < self.comp)\n",
    "        else:\n",
    "            return 1 - int(random.random() < self.comp)\n",
    "\n",
    "\n",
    "def maj_vote(the_votes):\n",
    "    votes_true = len([v for v in the_votes if v == 1])\n",
    "    votes_false = len([v for v in the_votes if v == 0])\n",
    "\n",
    "    if votes_true > votes_false:\n",
    "        return 1\n",
    "    elif votes_false > votes_true:\n",
    "        return 0\n",
    "    else:\n",
    "        return -1  #tied\n",
    "\n",
    "def generate_competences(n, mu=0.51, sigma=0.2):\n",
    "    competences = list()\n",
    "    for i in range(0,n):\n",
    "        #sample a comp until you find one between 1 and 0\n",
    "        comp=np.random.normal(mu, sigma)\n",
    "    \n",
    "        while comp > 1.0 or comp < 0.0:\n",
    "            comp=np.random.normal(mu, sigma)\n",
    "        competences.append(comp)\n",
    "    return competences"
   ]
  },
  {
   "cell_type": "code",
   "execution_count": 16,
   "metadata": {
    "slideshow": {
     "slide_type": "skip"
    }
   },
   "outputs": [],
   "source": [
    "import pandas as pd\n",
    "NUM_ROUNDS = 500\n",
    "from tqdm import notebook \n",
    "\n",
    "def make_plots(max_voters=201, \n",
    "               comp_mu=0.501, \n",
    "               comp_sigma=0.1):\n",
    "    P=True\n",
    "    max_num_voters = max_voters\n",
    "    total_num_voters = range(1,max_num_voters)\n",
    "\n",
    "    competences = generate_competences(max_num_voters,\n",
    "                                       mu=comp_mu, \n",
    "                                       sigma=comp_sigma)\n",
    "    maj_probs = list()\n",
    "    expert_probs = list()\n",
    "    for num_voters in notebook.tqdm(total_num_voters, desc='voting'):\n",
    "        experts = list()\n",
    "\n",
    "        experts = [Agent(comp=competences[num-1]) for num in range(0,num_voters)]\n",
    "    \n",
    "        maj_votes = list()\n",
    "        expert_votes = list()\n",
    "        for r in range(0,NUM_ROUNDS):\n",
    "            # everyone votes\n",
    "            votes = [a.vote(P) for a in experts]\n",
    "            maj_votes.append(maj_vote(votes))\n",
    "        \n",
    "            expert_votes.append(random.choice(experts).vote(P))\n",
    "    \n",
    "        maj_probs.append(float(float(len([v for v in maj_votes if v==1]))/float(len(maj_votes))))\n",
    "        expert_probs.append(float(len([v for v in expert_votes if v==1]))/float(len(expert_votes)))\n",
    "    \n",
    "    sns.set(rc={'figure.figsize':(11,5)})\n",
    "    plt.subplot(121)\n",
    "\n",
    "    data = {\" \": range(0,max_num_voters), \"competence\": competences}\n",
    "    plt.ylim(0,1.05)\n",
    "    plt.title(\"Competences\")\n",
    "    df = pd.DataFrame(data=data)\n",
    "    sns.regplot(x=\" \", y=\"competence\", data=df, color=sns.xkcd_rgb[\"pale red\"])\n",
    "\n",
    "\n",
    "    plt.subplot(122)\n",
    "    plt.title(\"Majority vs. Experts\")\n",
    "    plt.plot(list(total_num_voters), maj_probs, label=\"majority \")\n",
    "    plt.plot(list(total_num_voters), expert_probs, label=\"expert \")\n",
    "    plt.legend(bbox_to_anchor=(1.05, 1), loc=2, borderaxespad=0.)\n",
    "    plt.xlabel('Number of experts')\n",
    "    plt.ylabel('Probability')\n",
    "    plt.ylim(0,1.05)\n",
    "    plt.subplots_adjust(bottom=0.1, right=1.5, top=0.9, wspace = 0.75)\n",
    "\n",
    "    sns.set()\n",
    "    plt.savefig(\"cjt_simulation.png\")\n",
    "\n",
    "\n"
   ]
  },
  {
   "cell_type": "code",
   "execution_count": 17,
   "metadata": {
    "slideshow": {
     "slide_type": "slide"
    }
   },
   "outputs": [
    {
     "data": {
      "application/vnd.jupyter.widget-view+json": {
       "model_id": "056224b2448e428eb17da2e9ed9e6adc",
       "version_major": 2,
       "version_minor": 0
      },
      "text/plain": [
       "interactive(children=(IntSlider(value=201, description='max_voters', max=501, min=1), FloatSlider(value=0.501,…"
      ]
     },
     "metadata": {},
     "output_type": "display_data"
    }
   ],
   "source": [
    "p = interact_manual(make_plots,max_voters=(1,501,1),comp_mu=(0,1,0.01),comp_sigma=(0,2,0.1))"
   ]
  },
  {
   "cell_type": "markdown",
   "metadata": {},
   "source": [
    "## Grading Jury Theorem\n",
    "\n"
   ]
  },
  {
   "cell_type": "code",
   "execution_count": 18,
   "metadata": {},
   "outputs": [],
   "source": [
    "\n",
    "grades = [0.0, 1.0, 2.0, 3.0, 4.0, 5.0]\n",
    "\n",
    "correct_grade = 3\n",
    "\n",
    "class Grader():\n",
    "    \n",
    "    def __init__(self, grades, comp=(0.45, 0.15, 0.40)):\n",
    "        too_low, correct, too_high = comp\n",
    "        self.grades = grades\n",
    "        self.comp_too_low = too_low\n",
    "        self.comp_correct = correct\n",
    "        self.comp_too_high = too_high\n",
    "        \n",
    "    def grade(self, true_grade):\n",
    "\n",
    "        grades = {\n",
    "            \"L\": [g for g in self.grades if g < true_grade],\n",
    "            \"C\": [g for g in self.grades if g == true_grade],\n",
    "            \"H\": [g for g in self.grades if g > true_grade]\n",
    "        }\n",
    "        \n",
    "        if len(grades[\"L\"]) == 0: \n",
    "            grades[\"L\"] = grades[\"C\"]\n",
    "        elif len(grades[\"H\"]) == 0:\n",
    "            grades[\"H\"] = grades[\"C\"]\n",
    "\n",
    "        g_type = random.choices([\"L\", \"C\", \"H\"], \n",
    "                                weights=(self.comp_too_low, self.comp_correct, self.comp_too_high))[0]\n",
    "\n",
    "        return random.choice(grades[g_type])\n",
    "\n",
    "def median_grade(the_grades): \n",
    "    \n",
    "    return np.median(the_grades)\n",
    "    \n",
    "def mean_grade(the_grades): \n",
    "    \n",
    "    return np.mean(the_grades)\n",
    "\n",
    "def maj_vote(the_votes):\n",
    "    votes_true = len([v for v in the_votes if v == 1])\n",
    "    votes_false = len([v for v in the_votes if v == 0])\n",
    "\n",
    "    if votes_true > votes_false:\n",
    "        return 1\n",
    "    elif votes_false > votes_true:\n",
    "        return 0\n",
    "    else:\n",
    "        return -1  #tied\n",
    "\n"
   ]
  },
  {
   "cell_type": "code",
   "execution_count": 19,
   "metadata": {},
   "outputs": [
    {
     "data": {
      "application/vnd.jupyter.widget-view+json": {
       "model_id": "0178eaec8f774dbf9375c55e0f45f7b5",
       "version_major": 2,
       "version_minor": 0
      },
      "text/plain": [
       "HBox(children=(FloatProgress(value=0.0, description='voting', max=50.0, style=ProgressStyle(description_width=…"
      ]
     },
     "metadata": {},
     "output_type": "display_data"
    },
    {
     "name": "stdout",
     "output_type": "stream",
     "text": [
      "\n"
     ]
    },
    {
     "data": {
      "image/png": "[encoded data removed]",
      "text/plain": [
       "<Figure size 432x648 with 1 Axes>"
      ]
     },
     "metadata": {},
     "output_type": "display_data"
    }
   ],
   "source": [
    "grades = [0.0, 1.0, 2.0, 3.0, 4.0, 5.0]\n",
    "\n",
    "correct_grade = 5.0\n",
    "\n",
    "comp_too_low = 0.45\n",
    "comp_correct = 0.15\n",
    "comp_too_high = 0.4 \n",
    "\n",
    "# comp_too_low = 0.3\n",
    "# comp_correct = 0.55\n",
    "# comp_too_high = 0.15 \n",
    "\n",
    "# comp_too_low = 0.3\n",
    "# comp_correct = 0.1\n",
    "# comp_too_high = 0.6 \n",
    "\n",
    "num_rounds = 1000\n",
    "\n",
    "max_num_voters = 100\n",
    "\n",
    "\n",
    "median_probs = list()\n",
    "expert_probs = list()\n",
    "majority_probs = list()\n",
    "    \n",
    "sns.set(rc={'figure.figsize':(6,9)})\n",
    "\n",
    "for num_voters in notebook.tqdm(range(1,max_num_voters,2), desc='voting'):\n",
    "    #print(num_voters)\n",
    "    \n",
    "    graders = [Grader(grades, comp = (comp_too_low, comp_correct, comp_too_high)) for _ in range(num_voters)]\n",
    "    \n",
    "    median_grades = list()\n",
    "    expert_grades = list()\n",
    "    majority_votes = list()\n",
    "    for r in range(num_rounds): \n",
    "        \n",
    "        the_grades = [g.grade(correct_grade) for g in graders]\n",
    "        the_votes = [g == correct_grade for g in the_grades]\n",
    "        median_grades.append(median_grade(the_grades))\n",
    "        \n",
    "        majority_votes.append(maj_vote(the_votes))\n",
    "        expert_grades.append(random.choice(graders).grade(correct_grade))\n",
    "        \n",
    "    #print(median_grades)\n",
    "    median_probs.append(float(len([g for g in median_grades if g == correct_grade])) / float(len(median_grades)))\n",
    "    expert_probs.append(float(len([g for g in expert_grades if g == correct_grade])) / float(len(expert_grades)))\n",
    "    majority_probs.append(float(len([g for g in majority_votes if g == 1])) / float(len(majority_votes)))\n",
    "    \n",
    "\n",
    "plt.title(\"Median vs. Experts vs. Majority\")\n",
    "plt.plot(list(range(1,max_num_voters,2)), median_probs, label=\"Median \")\n",
    "plt.plot(list(range(1,max_num_voters,2)), expert_probs, label=\"Expert \")\n",
    "plt.plot(list(range(1,max_num_voters,2)), majority_probs, color=\"red\", label=\"Majority \")\n",
    "plt.legend(bbox_to_anchor=(1.05, 1), loc=2, borderaxespad=0.)\n",
    "plt.xlabel('Number of experts')\n",
    "plt.ylabel('Probability')\n",
    "plt.ylim(-0.05,1.05)\n",
    "plt.subplots_adjust(bottom=0.1, right=1.5, top=0.9, wspace = 0.75)\n",
    "\n",
    "    \n",
    "    \n"
   ]
  },
  {
   "cell_type": "code",
   "execution_count": null,
   "metadata": {},
   "outputs": [
    {
     "data": {
      "application/vnd.jupyter.widget-view+json": {
       "model_id": "1de6684249f3439a98468acc7b13884e",
       "version_major": 2,
       "version_minor": 0
      },
      "text/plain": [
       "HBox(children=(FloatProgress(value=0.0, description='voting', max=50.0, style=ProgressStyle(description_width=…"
      ]
     },
     "metadata": {},
     "output_type": "display_data"
    }
   ],
   "source": [
    "grades = [0.0, 1.0, 2.0, 3.0, 4.0, 5.0]\n",
    "\n",
    "correct_grade = 4.0\n",
    "\n",
    "comp_too_low = 0.45\n",
    "comp_correct = 0.15\n",
    "comp_too_high = 0.4 \n",
    "\n",
    "# comp_too_low = 0.3\n",
    "# comp_correct = 0.5\n",
    "# comp_too_high = 0.2 \n",
    "\n",
    "# comp_too_low = 0.3\n",
    "# comp_correct = 0.1\n",
    "# comp_too_high = 0.6 \n",
    "\n",
    "num_rounds = 1000\n",
    "\n",
    "max_num_voters = 100\n",
    "\n",
    "\n",
    "median_probs = list()\n",
    "expert_probs = list()\n",
    "mean_probs = list()\n",
    "majority_probs = list()\n",
    "    \n",
    "sns.set(rc={'figure.figsize':(6,9)})\n",
    "\n",
    "for num_voters in notebook.tqdm(range(1,max_num_voters,2), desc='voting'):\n",
    "    #print(num_voters)\n",
    "    \n",
    "    graders = [Grader(grades, comp = (comp_too_low, comp_correct, comp_too_high)) for _ in range(num_voters)]\n",
    "    \n",
    "    median_grades = list()\n",
    "    mean_grades = list()\n",
    "    expert_grades = list()\n",
    "    majority_votes = list()\n",
    "    for r in range(num_rounds): \n",
    "        \n",
    "        the_grades = [g.grade(correct_grade) for g in graders]\n",
    "        the_votes = [g == correct_grade for g in the_grades]\n",
    "        median_grades.append(median_grade(the_grades))\n",
    "        mean_grades.append(mean_grade(the_grades))\n",
    "        \n",
    "        majority_votes.append(maj_vote(the_votes))\n",
    "        expert_grades.append(random.choice(graders).grade(correct_grade))\n",
    "        \n",
    "    #print(median_grades)\n",
    "    median_probs.append(float(len([g for g in median_grades if g == correct_grade])) / float(len(median_grades)))\n",
    "    mean_probs.append(float(len([g for g in mean_grades if round(g, 0) == correct_grade])) / float(len(mean_grades)))\n",
    "    expert_probs.append(float(len([g for g in expert_grades if g == correct_grade])) / float(len(expert_grades)))\n",
    "    majority_probs.append(float(len([g for g in majority_votes if g == 1])) / float(len(majority_votes)))\n",
    "    \n",
    "\n",
    "plt.title(\"Median vs. Experts\")\n",
    "plt.plot(list(range(1,max_num_voters,2)), median_probs, label=\"Median \")\n",
    "plt.plot(list(range(1,max_num_voters,2)), mean_probs, label=\"Mean \")\n",
    "plt.plot(list(range(1,max_num_voters,2)), expert_probs, label=\"Expert \")\n",
    "plt.plot(list(range(1,max_num_voters,2)), majority_probs, color=\"red\", label=\"Majority \")\n",
    "plt.legend(bbox_to_anchor=(1.05, 1), loc=2, borderaxespad=0.)\n",
    "plt.xlabel('Number of experts')\n",
    "plt.ylabel('Probability')\n",
    "plt.ylim(-0.05,1.05)\n",
    "plt.subplots_adjust(bottom=0.1, right=1.5, top=0.9, wspace = 0.75)\n",
    "\n",
    "    \n",
    "    \n"
   ]
  },
  {
   "cell_type": "code",
   "execution_count": null,
   "metadata": {},
   "outputs": [],
   "source": [
    "def generate_competences(num_experts, mu = 0.15, sigma = 0.1, min_bias = 0.25, max_bias = 0.75):\n",
    "    \n",
    "    # sample competence\n",
    "    competences = list()\n",
    "    \n",
    "    for i in range(0,num_experts):\n",
    "        #sample a comp until you find one between 1 and 0\n",
    "        comp=np.random.normal(mu, sigma)\n",
    "    \n",
    "        while comp > 1.0 or comp < 0.0:\n",
    "            comp=np.random.normal(mu, sigma)\n",
    "        \n",
    "        wrong = 1 - comp\n",
    "        \n",
    "        bias = np.random.uniform(min_bias, max_bias)\n",
    "        too_low = wrong * bias\n",
    "        \n",
    "        too_high = wrong * (1 - bias)\n",
    "        competences.append((too_low, comp, too_high))\n",
    "        \n",
    "        \n",
    "    return competences\n",
    "        "
   ]
  },
  {
   "cell_type": "code",
   "execution_count": null,
   "metadata": {},
   "outputs": [],
   "source": [
    "num_rounds = 1000\n",
    "\n",
    "max_num_voters = 100\n",
    "\n",
    "\n",
    "def make_plots_grader2(max_num_voters=100, \n",
    "                       correct_grade = 3.0,\n",
    "                       mean=0.15,\n",
    "                       std=0.1,\n",
    "                       min_bias = 0.25,\n",
    "                       max_bias = 0.75):\n",
    "\n",
    "\n",
    "    median_probs = list()\n",
    "    mean_probs = list()\n",
    "    expert_probs = list()\n",
    "    majority_probs = list()\n",
    "\n",
    "\n",
    "    competences = generate_competences(max_num_voters, \n",
    "                                       mu = mean, \n",
    "                                       sigma = std, \n",
    "                                       min_bias = min_bias, \n",
    "                                       max_bias = max_bias)\n",
    "    #print(competences)\n",
    "    for num_voters in notebook.tqdm(range(1, max_num_voters, 2), desc='voting'):\n",
    "        #print(num_voters)\n",
    "\n",
    "        graders = [Grader(grades, comp = competences[_]) for _ in range(num_voters)]\n",
    "\n",
    "        median_grades = list()\n",
    "        mean_grades = list()\n",
    "        expert_grades = list()\n",
    "        majority_votes = list()\n",
    "        for r in range(num_rounds): \n",
    "\n",
    "            the_grades = [g.grade(correct_grade) for g in graders]\n",
    "            the_votes = [g == correct_grade for g in the_grades]\n",
    "            median_grades.append(median_grade(the_grades))\n",
    "            mean_grades.append(mean_grade(the_grades))\n",
    "\n",
    "            majority_votes.append(maj_vote(the_votes))\n",
    "            expert_grades.append(random.choice(graders).grade(correct_grade))\n",
    "\n",
    "        #print(median_grades)\n",
    "        median_probs.append(float(len([g for g in median_grades if g == correct_grade])) / float(len(median_grades)))\n",
    "        mean_probs.append(float(len([g for g in mean_grades if round(g, 0) == correct_grade])) / float(len(mean_grades)))\n",
    "        expert_probs.append(float(len([g for g in expert_grades if g == correct_grade])) / float(len(expert_grades)))\n",
    "        majority_probs.append(float(len([g for g in majority_votes if g == 1])) / float(len(majority_votes)))\n",
    "\n",
    "    fig, axs = plt.subplots(ncols=2, figsize=(14, 7), sharex=True, sharey=False)\n",
    "\n",
    "    data = {\"Voter\": range(0,max_num_voters),  \"too_low\": [c[0] for c in competences], \"correct\": [c[1] for c in competences], \"too_high\": [c[2] for c in competences]}\n",
    "    axs[0].set_ylim(0,1.05)\n",
    "    axs[0].set_title(\"Competences\")\n",
    "    df = pd.DataFrame(data=data)\n",
    "    sns.regplot(x=\"Voter\", y=\"correct\", data=df, color=sns.xkcd_rgb[\"pale red\"], label=\"Correct\", ax = axs[0])\n",
    "    sns.regplot(x=\"Voter\", y=\"too_low\", data=df, color=sns.xkcd_rgb[\"blue\"], label=\"Too Low\", ax = axs[0])\n",
    "    sns.regplot(x=\"Voter\", y=\"too_high\", data=df, color=sns.xkcd_rgb[\"green\"], label=\"Too High\", ax = axs[0])\n",
    "    axs[0].set_ylabel(\" \")\n",
    "    axs[0].legend(loc=\"upper center\",ncol=3)\n",
    "\n",
    "\n",
    "    axs[1].set_title(\"Median vs. Experts\")\n",
    "    axs[1].plot(list(range(1,max_num_voters,2)), median_probs, label=\"Median \")\n",
    "    axs[1].plot(list(range(1,max_num_voters,2)), mean_probs, label=\"Mean \")\n",
    "    axs[1].plot(list(range(1,max_num_voters,2)), expert_probs, label=\"Expert \")\n",
    "    axs[1].plot(list(range(1,max_num_voters,2)), majority_probs, color=\"red\", label=\"Majority \")\n",
    "    axs[1].legend(bbox_to_anchor=(1.05, 1), loc=2, borderaxespad=0.)\n",
    "    axs[1].set_xlabel('Number of experts')\n",
    "    axs[1].set_ylabel('Probability')\n",
    "    axs[1].set_ylim(-0.05,1.05)\n",
    "    #plt.subplots_adjust(bottom=0.1, right=1.5, top=0.9, wspace = 0.75)\n",
    "    plt.show()\n",
    "    \n",
    "    \n"
   ]
  },
  {
   "cell_type": "code",
   "execution_count": null,
   "metadata": {},
   "outputs": [],
   "source": [
    "p = interact_manual(make_plots_grader2,\n",
    "                    max_num_voters=(1,200,1),\n",
    "                    correct_grade = (0.0,5.0,1),\n",
    "                    mean=(0,1,0.01),\n",
    "                    std=(0,2,0.1),\n",
    "                    min_bias = (0.0,1.0,0.1),\n",
    "                    max_bias = (0.0, 1.0, 0.1))"
   ]
  },
  {
   "cell_type": "code",
   "execution_count": null,
   "metadata": {},
   "outputs": [],
   "source": [
    "def generate_competences2(num_experts, params = (1, 1, 1)):\n",
    "    \n",
    "    return [tuple(np.random.dirichlet(params)) for _ in range(num_experts)]\n"
   ]
  },
  {
   "cell_type": "code",
   "execution_count": null,
   "metadata": {},
   "outputs": [],
   "source": [
    "num_rounds = 1000\n",
    "\n",
    "max_num_voters = 100\n",
    "\n",
    "\n",
    "def make_plots_grader3(max_num_voters=100,\n",
    "                       correct_grade = 3.0,\n",
    "                       too_low=1,\n",
    "                       correct=1,\n",
    "                       too_high = 1):\n",
    "\n",
    "\n",
    "    median_probs = list()\n",
    "    mean_probs = list()\n",
    "    expert_probs = list()\n",
    "    majority_probs = list()\n",
    "\n",
    "\n",
    "    competences = generate_competences2(max_num_voters,\n",
    "                                        params = (too_low, correct, too_high))\n",
    "    #print(competences)\n",
    "    for num_voters in notebook.tqdm(range(1, max_num_voters, 2), desc='voting'):\n",
    "        #print(num_voters)\n",
    "\n",
    "        graders = [Grader(grades, comp = competences[_]) for _ in range(num_voters)]\n",
    "\n",
    "        median_grades = list()\n",
    "        mean_grades = list()\n",
    "        expert_grades = list()\n",
    "        majority_votes = list()\n",
    "        for r in range(num_rounds): \n",
    "\n",
    "            the_grades = [g.grade(correct_grade) for g in graders]\n",
    "            the_votes = [g == correct_grade for g in the_grades]\n",
    "            median_grades.append(median_grade(the_grades))\n",
    "            mean_grades.append(mean_grade(the_grades))\n",
    "\n",
    "            majority_votes.append(maj_vote(the_votes))\n",
    "            expert_grades.append(random.choice(graders).grade(correct_grade))\n",
    "\n",
    "        #print(median_grades)\n",
    "        median_probs.append(float(len([g for g in median_grades if g == correct_grade])) / float(len(median_grades)))\n",
    "        mean_probs.append(float(len([g for g in mean_grades if round(g, 0) == correct_grade])) / float(len(mean_grades)))\n",
    "        expert_probs.append(float(len([g for g in expert_grades if g == correct_grade])) / float(len(expert_grades)))\n",
    "        majority_probs.append(float(len([g for g in majority_votes if g == 1])) / float(len(majority_votes)))\n",
    "\n",
    "    fig, axs = plt.subplots(ncols=2, figsize=(14, 7), sharex=True, sharey=False)\n",
    "\n",
    "    data = {\"Voter\": range(0,max_num_voters),  \"too_low\": [c[0] for c in competences], \"correct\": [c[1] for c in competences], \"too_high\": [c[2] for c in competences]}\n",
    "    axs[0].set_ylim(0,1.05)\n",
    "    axs[0].set_title(\"Competences\")\n",
    "    df = pd.DataFrame(data=data)\n",
    "    sns.regplot(x=\"Voter\", y=\"correct\", data=df, color=sns.xkcd_rgb[\"pale red\"], label=\"Correct\", ax = axs[0])\n",
    "    sns.regplot(x=\"Voter\", y=\"too_low\", data=df, color=sns.xkcd_rgb[\"blue\"], label=\"Too Low\", ax = axs[0])\n",
    "    sns.regplot(x=\"Voter\", y=\"too_high\", data=df, color=sns.xkcd_rgb[\"green\"], label=\"Too High\", ax = axs[0])\n",
    "    axs[0].set_ylabel(\" \")\n",
    "    axs[0].legend(loc=\"upper center\",ncol=3)\n",
    "\n",
    "\n",
    "    axs[1].set_title(\"Median vs. Experts\")\n",
    "    axs[1].plot(list(range(1,max_num_voters,2)), median_probs, label=\"Median \")\n",
    "    axs[1].plot(list(range(1,max_num_voters,2)), mean_probs, label=\"Mean \")\n",
    "    axs[1].plot(list(range(1,max_num_voters,2)), expert_probs, label=\"Expert \")\n",
    "    axs[1].plot(list(range(1,max_num_voters,2)), majority_probs, color=\"red\", label=\"Majority \")\n",
    "    axs[1].legend(bbox_to_anchor=(1.05, 1), loc=2, borderaxespad=0.)\n",
    "    axs[1].set_xlabel('Number of experts')\n",
    "    axs[1].set_ylabel('Probability')\n",
    "    axs[1].set_ylim(-0.05,1.05)\n",
    "    #plt.subplots_adjust(bottom=0.1, right=1.5, top=0.9, wspace = 0.75)\n",
    "    plt.show()\n",
    "    \n",
    "    \n"
   ]
  },
  {
   "cell_type": "code",
   "execution_count": null,
   "metadata": {},
   "outputs": [],
   "source": [
    "p = interact_manual(make_plots_grader3,\n",
    "                    max_num_voters=(1,200,1),\n",
    "                    correct_grade = (0.0,5.0,1),\n",
    "                    too_low=(1,10),\n",
    "                    correct=(1,10),\n",
    "                    too_high=(1,10))"
   ]
  }
 ],
 "metadata": {
  "celltoolbar": "Tags",
  "kernelspec": {
   "display_name": "Python 3",
   "language": "python",
   "name": "python3"
  },
  "language_info": {
   "codemirror_mode": {
    "name": "ipython",
    "version": 3
   },
   "file_extension": ".py",
   "mimetype": "text/x-python",
   "name": "python",
   "nbconvert_exporter": "python",
   "pygments_lexer": "ipython3",
   "version": "3.8.5"
  },
  "varInspector": {
   "cols": {
    "lenName": 16,
    "lenType": 16,
    "lenVar": 40
   },
   "kernels_config": {
    "python": {
     "delete_cmd_postfix": "",
     "delete_cmd_prefix": "del ",
     "library": "var_list.py",
     "varRefreshCmd": "print(var_dic_list())"
    },
    "r": {
     "delete_cmd_postfix": ") ",
     "delete_cmd_prefix": "rm(",
     "library": "var_list.r",
     "varRefreshCmd": "cat(var_dic_list()) "
    }
   },
   "types_to_exclude": [
    "module",
    "function",
    "builtin_function_or_method",
    "instance",
    "_Feature"
   ],
   "window_display": false
  }
 },
 "nbformat": 4,
 "nbformat_minor": 2
}
