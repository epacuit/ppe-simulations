{
 "cells": [
  {
   "cell_type": "markdown",
   "metadata": {},
   "source": [
    "# Voting by Grading"
   ]
  },
  {
   "cell_type": "code",
   "execution_count": 15,
   "metadata": {},
   "outputs": [],
   "source": [
    "# import the Profile class\n",
    "from voting.profiles import Profile\n",
    "from voting.generate_profiles import *\n",
    "from voting.voting_methods import *\n",
    "import networkx as nx\n",
    "from itertools import combinations\n",
    "import matplotlib.pyplot as plt\n",
    "import pickle\n",
    "import random\n",
    "import numpy as np\n",
    "from itertools import combinations, permutations\n",
    "\n",
    "from tqdm.notebook import tqdm"
   ]
  },
  {
   "cell_type": "markdown",
   "metadata": {},
   "source": [
    "Steven J. Brams and Richard F. Potthoff (2015). [The paradox of grading systems](https://link.springer.com/article/10.1007/s11127-015-0303-6), Public Choice volume 165,  pp. 193–210."
   ]
  },
  {
   "cell_type": "code",
   "execution_count": 16,
   "metadata": {},
   "outputs": [],
   "source": [
    "class wRanking(object):\n",
    "    \n",
    "    def __init__(self, cmap, ranks = None, r_str = None): \n",
    "\n",
    "        self._cand_to_cnum = cmap\n",
    "        self._cnum_to_cand = {cnum: c for c, cnum in cmap.items()} \n",
    "        self._ranks = ranks  \n",
    "        self._r_str = r_str \n",
    "        if self._ranks is None: \n",
    "            self.set_rank_list_from_str(r_str, cmap)\n",
    "        if self._r_str is None: \n",
    "            self.set_rank_str_from_rank_list(ranks, self._cnum_to_cand)\n",
    "    @property\n",
    "    def rank_list(self): \n",
    "        return self._ranks\n",
    "    \n",
    "    @property\n",
    "    def rank_dict(self): \n",
    "        return {self._cnum_to_cand[cnum]:  self._ranks[cnum] for cnum in range(len(self._ranks))}\n",
    "        \n",
    "    @property\n",
    "    def alts(self): \n",
    "        return sorted(self._cand_to_cnum.keys())\n",
    "    \n",
    "    @property\n",
    "    def num_alts(self): \n",
    "        return len(self._cand_to_cnum.keys())\n",
    "        \n",
    "    @property\n",
    "    def max_rank(self): \n",
    "        return self.num_alts\n",
    "    \n",
    "    def rank(self, c):\n",
    "        \n",
    "        return self._ranks[self._cand_to_cnum[c]]\n",
    "    \n",
    "    def cands_at_rank(self, rank): \n",
    "        \n",
    "        return [self._cnum_to_cand[cnum] for cnum,r in enumerate(self._ranks) if r == rank]\n",
    "    \n",
    "    def R(self, c1, c2): \n",
    "        \n",
    "        c1_rank = self.rank(c1)\n",
    "        c2_rank = self.rank(c2)\n",
    "        return (c2_rank is None) or (c1_rank is not None and (c1_rank <= c2_rank))\n",
    "                \n",
    "    def P(self, c1, c2): \n",
    "        \n",
    "        c1_rank = self.rank(c1)\n",
    "        c2_rank = self.rank(c2)\n",
    "        return (c2_rank is None and c1_rank is not None) or (c1_rank is not None and (c1_rank < c2_rank))\n",
    "    \n",
    "    def I(self, c1, c2): \n",
    "        \n",
    "        return self.rank(c1) == self.rank(c2)\n",
    "    \n",
    "    def lift(self, cand, rank):\n",
    "        \"\"\"assumes that the ballot is complete and the only cands with no rank are at the bottom of the ranking\"\"\"\n",
    "        c_rank =  self._ranks[self._cand_to_cnum[cand]]\n",
    "        for _c in self._cand_to_cnum.keys():\n",
    "            if self._ranks[self._cand_to_cnum[_c]] is not None and self._ranks[self._cand_to_cnum[_c]] <= c_rank:\n",
    "                self._ranks[self._cand_to_cnum[_c]] += 1\n",
    "        self._ranks[self._cand_to_cnum[cand]] = rank\n",
    "        self.set_rank_str_from_rank_list(self._ranks, self._cnum_to_cand)        \n",
    "        \n",
    "    def judgement_set(self): \n",
    "        j_set = dict()\n",
    "        for c in self.alts: \n",
    "            for d in self.alts:\n",
    "                if c != d: \n",
    "                    if self.P(c,d): \n",
    "                        j_set[(c,d)] = True\n",
    "                        j_set[(d,c)] = False\n",
    "                    elif self.P(d,c): \n",
    "                        j_set[(c,d)] = False\n",
    "                        j_set[(d,c)] = True  \n",
    "                    elif self.I(c,d): \n",
    "                        j_set[(c,d)] = True\n",
    "                        j_set[(d,c)] = True\n",
    "        return j_set\n",
    "        \n",
    "    def set_rank_list_from_str(self, r_str, cmap):\n",
    "        \n",
    "        cname_type = type(list(cmap.keys())[0])\n",
    "        bits = r_str.strip().split(\",\")\n",
    "        ranks = [None] * len(cmap.keys())\n",
    "        pos  = 0\n",
    "        rank = 1\n",
    "        partial = False\n",
    "        while pos < len(bits): \n",
    "            if bits[pos].find(\"{\") != -1:\n",
    "                partial = True\n",
    "                ranks[cmap[cname_type(bits[pos].replace(\"{\",\"\"))]] = rank\n",
    "                pos += 1\n",
    "            elif bits[pos].find(\"}\") != -1:\n",
    "                ranks[cmap[cname_type(bits[pos].replace(\"}\",\"\"))]] = rank\n",
    "                rank += 1\n",
    "                partial = False\n",
    "                pos += 1\n",
    "            else: \n",
    "                ranks[cmap[cname_type(bits[pos])]] = rank\n",
    "                if not partial: \n",
    "                    rank += 1\n",
    "                pos += 1    \n",
    "        self._ranks = ranks\n",
    "        \n",
    "    \n",
    "    def set_rank_str_from_rank_list(self, r_list, cnum_to_cand):\n",
    "        \n",
    "        r_str = ''\n",
    "        for r in range(1,len(cnum_to_cand.keys()) + 1): \n",
    "            cs_at_rank = [str(cnum_to_cand[c]) for c,cr in enumerate(r_list) if cr == r]\n",
    "            if len(cs_at_rank) == 1: \n",
    "                r_str += f\"{cs_at_rank[0]},\"\n",
    "            elif len(cs_at_rank) > 1: \n",
    "                r_str  += \"{\" + \",\".join(cs_at_rank) + \"},\"\n",
    "        self._r_str = r_str[0:-1] # remove last ,\n",
    "\n",
    "    def __str__(self): \n",
    "        return self._r_str\n",
    "\n"
   ]
  },
  {
   "cell_type": "code",
   "execution_count": 17,
   "metadata": {},
   "outputs": [
    {
     "name": "stdout",
     "output_type": "stream",
     "text": [
      "+---+-----+-------+-----+\n",
      "| 1 |  1  |   1   |  1  |\n",
      "+---+-----+-------+-----+\n",
      "| 3 |  0  | 0,1,2 |  2  |\n",
      "| 0 |  3  |       |  3  |\n",
      "| 1 | 1,2 |       | 0,1 |\n",
      "| 2 |     |       |     |\n",
      "+---+-----+-------+-----+\n",
      "2.0\n",
      "2.0\n",
      "1.0\n",
      "prf.margin(0,1) 2.0\n",
      "prf.margin(1,0) -2.0\n",
      "prf.margin(0,2) 1.0\n",
      "prf.margin(2,0) -1.0\n",
      "prf.margin(1,2) 0.0\n",
      "prf.margin(2,1) 0.0\n",
      "None\n"
     ]
    },
    {
     "data": {
      "image/png": "[encoded data removed]",
      "text/plain": [
       "<Figure size 432x288 with 1 Axes>"
      ]
     },
     "metadata": {},
     "output_type": "display_data"
    }
   ],
   "source": [
    "from tabulate  import tabulate\n",
    "class wProfile(object):\n",
    "    \"\"\"\n",
    "    A profile of strict weak orderings\n",
    "\n",
    "    \"\"\"\n",
    "    def __init__(self, rankings, num_cands, rcounts=None, cmap=None, ranking_strings = True):\n",
    "        \"\"\"\n",
    "        Create a profile\n",
    "                \n",
    "        \"\"\"\n",
    "        \n",
    "        self.num_cands = num_cands\n",
    "        self.cand_nums = range(0, num_cands) \n",
    "        \n",
    "        self._cand_to_cnum = cmap if cmap else {c:c for c in range(num_cands)}\n",
    "        self._cnum_to_cand = {cnum: c for c,cnum in self._cand_to_cnum.items()}\n",
    "        \n",
    "        if ranking_strings:\n",
    "            self._rankings = [wRanking(self._cand_to_cnum, r_str = r_str) for r_str in rankings]\n",
    "        else: \n",
    "            self._rankings = rankings\n",
    "        self._rcounts = rcounts if rcounts is not None else [1] * len(rankings)\n",
    "\n",
    "        # total number of voters\n",
    "        self.num_voters = np.sum(self._rcounts)\n",
    "\n",
    "    @property\n",
    "    def rankings_counts(self):\n",
    "        # getter function to get the rankings and rcounts\n",
    "        return self._rankings, self._rcounts\n",
    "    \n",
    "    @property\n",
    "    def rankings(self): \n",
    "        # get the list of rankings\n",
    "        return [r for ridx,r in enumerate(self._rankings) for n in range(self._rcounts[ridx])]\n",
    "    \n",
    "    @property \n",
    "    def candidates(self): \n",
    "        return sorted(list(self._cand_to_cnum.keys()))\n",
    "    \n",
    "    def support(self, c1, c2):\n",
    "        # the number of voters that rank c1 strictly above c2 \n",
    "        # wrapper function that calls the compiled _support function\n",
    "\n",
    "        return sum([rcount if r.P(c1,c2) else 0.0 for r,rcount in zip(self._rankings, self._rcounts)])\n",
    "    \n",
    "    def margin(self, c1, c2):\n",
    "        # the number of voters that rank c1 over c2 minus the number\n",
    "        #   that rank c2 over c2.\n",
    "        # wrapper function that calls the compiled _margin function\n",
    "\n",
    "        return self.support(c1, c2) - self.support(c2, c1)\n",
    "        \n",
    "    def majority_prefers(self, c1, c2): \n",
    "        # return True if more voters rank c1 over c2 than c2 over c1\n",
    "\n",
    "        return self.margin(c1, c2) > 0\n",
    "\n",
    "    def condorcet_winner(self):\n",
    "        # return the Condorcet winner --- a candidate that is majority preferred to every other candidate\n",
    "        # if a Condorcet winner doesn't exist, return None\n",
    "        \n",
    "        cw = None\n",
    "        for c in self.candidates: \n",
    "            if all([self.majority_prefers(c,c2) for c2 in self.candidates if c != c2]): \n",
    "                cw = c\n",
    "                break # if a Condorcet winner exists, then it is unique\n",
    "        return cw\n",
    "\n",
    "    def weak_condorcet_winner(self):\n",
    "        # return the set of Weak Condorcet winner --- candidate c is a weak Condorcet winner if there \n",
    "        # is no other candidate majority preferred to c. Note that unlike with Condorcet winners, there \n",
    "        # may be more than one weak Condorcet winner.\n",
    "        # if a weak Condorcet winner doesn't exist, return None\n",
    "        \n",
    "        weak_cw = list()\n",
    "        for c in self.candidates: \n",
    "            if not any([self.majority_prefers(c2,c) for c2 in self.candidates if c != c2]): \n",
    "                weak_cw.append(c)\n",
    "        return sorted(weak_cw) if len(weak_cw) > 0 else None\n",
    "\n",
    "    def condorcet_loser(self):\n",
    "        # return the Condorcet loser --- a candidate that is majority preferred by every other candidate\n",
    "        # if a Condorcet loser doesn't exist, return None\n",
    "        \n",
    "        cl = None\n",
    "        for c in self.candidates: \n",
    "            if all([self.majority_prefers(c2,c) for c2 in self.candidates if c != c2]): \n",
    "                cl = c\n",
    "                break # if a Condorcet loser exists, then it is unique\n",
    "        return cl\n",
    "    \n",
    "    def top_cycle(self):\n",
    "        \"\"\"The smallest set of candidates such that every candidate inside the set \n",
    "        is majority preferred to every candidate outside the set.  Also known as the Smith set.\n",
    "        \"\"\"\n",
    "        mg = self.weak_margin_graph()\n",
    "        min_indegree = min([max([mg.in_degree(n) for n in comp]) for comp in nx.strongly_connected_components(mg)])\n",
    "        smith = [comp for comp in nx.strongly_connected_components(mg) if max([mg.in_degree(n) for n in comp]) == min_indegree][0]\n",
    "        return sorted(list(smith))\n",
    "    \n",
    "    def strict_maj_size(self):\n",
    "        # return the size of  strictly more than 50% of the voters\n",
    "        \n",
    "        return int(self.num_voters/2 + 1 if self.num_voters % 2 == 0 else int(ceil(float(self.num_voters)/2)))\n",
    "\n",
    "    def weak_margin_graph(self, cmap=None): \n",
    "        # generate the margin graph (i.e., the weighted majority graph)\n",
    "    \n",
    "        mg = nx.DiGraph()\n",
    "        mg.add_nodes_from(self.candidates)\n",
    "        mg.add_weighted_edges_from([(c1, c2, self.margin(c1,c2))\n",
    "                                    for c1 in self.candidates \n",
    "                                    for c2 in self.candidates if c1 != c2 if self.majority_prefers(c1, c2) or self.margin(c1,c2)== 0])\n",
    "        return mg\n",
    "\n",
    "    def margin_graph(self, cmap=None): \n",
    "        # generate the margin graph (i.e., the weighted majority graph)\n",
    "    \n",
    "        mg = nx.DiGraph()\n",
    "        mg.add_nodes_from(self.candidates)\n",
    "        mg.add_weighted_edges_from([(c1, c2, self.margin(c1,c2))\n",
    "                                    for c1 in self.candidates \n",
    "                                    for c2 in self.candidates if c1 != c2 if self.majority_prefers(c1, c2)])\n",
    "        return mg\n",
    "\n",
    "    \n",
    "    def display(self, cmap=None, style=\"pretty\"):\n",
    "        # display a profile\n",
    "        # style defaults to \"pretty\" (the PrettyTable formatting)\n",
    "        # other stype options is \"latex\" or \"fancy_grid\" (or any style option for tabulate)\n",
    "        \n",
    "        \n",
    "        possible_ranks = range(1, self.num_cands + 1)\n",
    "        \n",
    "        tbl = list()\n",
    "        \n",
    "        for r in possible_ranks: \n",
    "            tbl.append([\",\".join(map(str,wr.cands_at_rank(r))) for wr in self._rankings])\n",
    "        print(tabulate(tbl,\n",
    "                       self._rcounts, \n",
    "                       tablefmt=style))        \n",
    "        \n",
    "    def display_margin_graph(self, cmap=None):\n",
    "        # display the margin graph\n",
    "        \n",
    "        # create the margin graph.   The reason not to call the above method margin_graph \n",
    "        # is that we may want to apply the cmap to the names of the candidates\n",
    "        \n",
    "        \n",
    "        mg = nx.DiGraph()\n",
    "        mg.add_nodes_from(self.candidates)\n",
    "        mg.add_weighted_edges_from([(c1, c2, self.margin(c1,c2))\n",
    "                                    for c1 in self.candidates \n",
    "                                    for c2 in self.candidates if c1 != c2 if self.majority_prefers(c1, c2)])\n",
    "\n",
    "        pos = nx.circular_layout(mg)\n",
    "        nx.draw(mg, pos, \n",
    "                font_size=20, node_color='blue', font_color='white', node_size=700, \n",
    "                width=1, lw=1.5, with_labels=True)\n",
    "        labels = nx.get_edge_attributes(mg,'weight')\n",
    "        nx.draw_networkx_edge_labels(mg,pos,edge_labels=labels, label_pos=0.3)\n",
    "        plt.show()\n",
    "\n",
    "num_cands = 4\n",
    "rankings = [\"3,0,1,2\", \"0,3,{1,2}\", \"{0,1,2}\", \"2,3,{0,1}\"]\n",
    "\n",
    "prf = wProfile(rankings, num_cands)\n",
    "\n",
    "prf.display()\n",
    "print(prf.support(0,1))\n",
    "print(prf.support(0,2))\n",
    "print(prf.support(1,2))\n",
    "\n",
    "print(\"prf.margin(0,1)\", prf.margin(0,1))\n",
    "print(\"prf.margin(1,0)\", prf.margin(1,0))\n",
    "print(\"prf.margin(0,2)\", prf.margin(0,2))\n",
    "print(\"prf.margin(2,0)\", prf.margin(2,0))\n",
    "print(\"prf.margin(1,2)\", prf.margin(1,2))\n",
    "print(\"prf.margin(2,1)\", prf.margin(2,1))\n",
    "\n",
    "print(prf.condorcet_winner())\n",
    "\n",
    "prf.display_margin_graph()\n"
   ]
  },
  {
   "cell_type": "code",
   "execution_count": 18,
   "metadata": {},
   "outputs": [
    {
     "name": "stdout",
     "output_type": "stream",
     "text": [
      "[' A: 2, B: 1, C: 0', ' A: 2, B: 1, C: 0']\n",
      "['A,B,C', 'A,B,C']\n",
      "\n",
      "\n",
      "+---+---+---+---+\n",
      "|   | 2 | 3 | 4 |\n",
      "+---+---+---+---+\n",
      "| A | 2 | 0 | 1 |\n",
      "| B | 1 | 2 | 0 |\n",
      "| C | 0 | 1 | 2 |\n",
      "+---+---+---+---+\n",
      "\n",
      "Grades for A [2, 2, 0, 0, 0, 1, 1, 1, 1]\n",
      "Grades for B [1, 1, 2, 2, 2, 0, 0, 0, 0]\n",
      "Grades for C [0, 0, 1, 1, 1, 2, 2, 2, 2]\n",
      "Average grades {'A': 0.8888888888888888, 'B': 0.8888888888888888, 'C': 1.2222222222222223}\n",
      "AG Winner ['C']\n",
      "SG Winner ['A', 'B', 'C']\n",
      "+---+---+---+\n",
      "| 2 | 3 | 4 |\n",
      "+---+---+---+\n",
      "| A | B | C |\n",
      "| B | C | A |\n",
      "| C | A | B |\n",
      "+---+---+---+\n"
     ]
    },
    {
     "data": {
      "image/png": "[encoded data removed]",
      "text/plain": [
       "<Figure size 432x288 with 1 Axes>"
      ]
     },
     "metadata": {},
     "output_type": "display_data"
    }
   ],
   "source": [
    "class Grade(object):\n",
    "    \n",
    "    def __init__(self, grades, possible_grades = None):\n",
    "        \n",
    "        self.grades = grades\n",
    "        self.candidates = sorted(self.grades.keys())\n",
    "        self.possible_grades = possible_grades if possible_grades is not None else range(min(grades.values()), \n",
    "                                                                                         max(grades.values()) + 1)\n",
    "        \n",
    "    def grade(self,c): \n",
    "        return self.grades[c]\n",
    "        \n",
    "    def candidates_with_grade(self,g): \n",
    "        return [c for c in self.candidates if self.grades[c] == g]\n",
    "        \n",
    "    def ranking(self): \n",
    "            \n",
    "        cmap = {c:cidx for cidx,c in enumerate(self.candidates)}\n",
    "            \n",
    "        grades = sorted(list(set(self.grades.values())), reverse=True)\n",
    "            \n",
    "        r_str = ''\n",
    "        for g in grades: \n",
    "                \n",
    "            cs_at_grade = self.candidates_with_grade(g)\n",
    "            if len(cs_at_grade) == 1: \n",
    "                r_str += f\"{cs_at_grade[0]},\"\n",
    "            elif len(cs_at_grade) > 1: \n",
    "                r_str  += \"{\" + \",\".join(cs_at_grade) + \"},\"\n",
    "        return wRanking(cmap, r_str = r_str[0:-1])\n",
    "        \n",
    "    def __str__(self): \n",
    "            \n",
    "        return \",\".join([f\" {str(c)}: {str(self.grades[c])}\" for c in self.candidates])\n",
    "\n",
    "class gProfile(object):\n",
    "    \n",
    "    def __init__(self,  all_grades, candidates, grades, gcounts = None):\n",
    "        \n",
    "        self.candidates = candidates\n",
    "        self.all_grades = all_grades\n",
    "        self._grades = grades\n",
    "        self._gcounts = gcounts if gcounts is not None else [1 for _ in grades]\n",
    "        \n",
    "    def grades_for_candidate(self, c):\n",
    "        \n",
    "        gs = [[g.grade(c)] * gnum for g,gnum in zip(self._grades, self._gcounts)]\n",
    "        return [_g for _gs in gs for _g in _gs ]\n",
    "        \n",
    "    def average_grades(self): \n",
    "        \n",
    "        return {c:np.average(self.grades_for_candidate(c)) for c in self.candidates}\n",
    "    \n",
    "    def average_grade_winner(self): \n",
    "        \n",
    "        avg_grades = self.average_grades()\n",
    "        \n",
    "        max_avg_grade = max(avg_grades.values())\n",
    "        return sorted([c for c in self.candidates if avg_grades[c] == max_avg_grade])\n",
    "\n",
    "    def wr_profile(self): \n",
    "        return wProfile([g.ranking() for g in self._grades], \n",
    "                        len(self.candidates), \n",
    "                        rcounts=self._gcounts, \n",
    "                        cmap={c:cidx for cidx,c in enumerate(self.candidates)},\n",
    "                        ranking_strings = False)\n",
    "        \n",
    "    def superior_grade_winner(self):\n",
    "        \n",
    "        wprof = wProfile([g.ranking() for g in self._grades], \n",
    "                         len(self.candidates), \n",
    "                         rcounts=self._gcounts, \n",
    "                         cmap={c:cidx for cidx,c in enumerate(self.candidates)},\n",
    "                         ranking_strings = False)\n",
    "        \n",
    "        return sorted(wprof.top_cycle())\n",
    "        \n",
    "    def display(self,style=\"pretty\"):\n",
    "        \n",
    "        tbl = list()\n",
    "        \n",
    "        for c in self.candidates: \n",
    "            tbl.append([str(c)] + [g.grade(c) for g in self._grades])\n",
    "        print(tabulate(tbl,\n",
    "                       self._gcounts, \n",
    "                       tablefmt=style))        \n",
    "\n",
    "    \n",
    "A=\"A\"\n",
    "B=\"B\"\n",
    "C=\"C\"\n",
    "\n",
    "voters = [Grade({A:2, B:1, C:0})] * 2\n",
    "\n",
    "print(list(map(str,voters)))\n",
    "\n",
    "print([str(g.ranking()) for g in voters])\n",
    "\n",
    "print(\"\\n\")\n",
    "grades = [\n",
    "    Grade({A:2, B:1, C:0}),\n",
    "    Grade({A:0, B:2, C:1}),\n",
    "    Grade({A:1, B:0, C:2})\n",
    "]\n",
    "gcounts = [2, 3, 4]\n",
    "all_grades = [0, 1, 2]\n",
    "candidates = [A, B, C]\n",
    "prof = gProfile(all_grades, candidates,grades, gcounts = gcounts)\n",
    "\n",
    "prof.display()\n",
    "print()\n",
    "print(f\"Grades for {A}\", prof.grades_for_candidate(A))\n",
    "print(f\"Grades for {B}\",prof.grades_for_candidate(B))\n",
    "print(f\"Grades for {C}\",prof.grades_for_candidate(C))\n",
    "\n",
    "print(\"Average grades\", prof.average_grades())\n",
    "\n",
    "\n",
    "print(\"AG Winner\", prof.average_grade_winner())\n",
    "print(\"SG Winner\", prof.superior_grade_winner())\n",
    "\n",
    "wprof = prof.wr_profile()\n",
    "\n",
    "wprof.display()\n",
    "wprof.display_margin_graph()\n",
    "\n"
   ]
  },
  {
   "cell_type": "code",
   "execution_count": 19,
   "metadata": {},
   "outputs": [
    {
     "name": "stdout",
     "output_type": "stream",
     "text": [
      "+---+---+---+---+\n",
      "|   | 1 | 1 | 1 |\n",
      "+---+---+---+---+\n",
      "| A | 3 | 2 | 0 |\n",
      "| B | 0 | 3 | 1 |\n",
      "| C | 0 | 3 | 1 |\n",
      "+---+---+---+---+\n",
      "\n",
      "Grades for A [3, 2, 0]\n",
      "Grades for B [0, 3, 1]\n",
      "Grades for C [0, 3, 1]\n",
      "\n",
      "Average grades {'A': 1.6666666666666667, 'B': 1.3333333333333333, 'C': 1.3333333333333333}\n",
      "AG Winner ['A']\n",
      "SG Winner ['B', 'C']\n",
      "+-----+-----+-----+\n",
      "|  1  |  1  |  1  |\n",
      "+-----+-----+-----+\n",
      "|  A  | B,C | B,C |\n",
      "| B,C |  A  |  A  |\n",
      "|     |     |     |\n",
      "+-----+-----+-----+\n"
     ]
    },
    {
     "data": {
      "image/png": "[encoded data removed]",
      "text/plain": [
       "<Figure size 432x288 with 1 Axes>"
      ]
     },
     "metadata": {},
     "output_type": "display_data"
    }
   ],
   "source": [
    "A=\"A\"\n",
    "B=\"B\"\n",
    "C=\"C\"\n",
    "\n",
    "all_grades = [0, 1, 2, 3]\n",
    "\n",
    "candidates = [A, B, C]\n",
    "\n",
    "grades = [\n",
    "    Grade({A:3, B:0, C:0}),\n",
    "    Grade({A:2, B:3, C:3}),\n",
    "    Grade({A:0, B:1, C:1})\n",
    "]\n",
    "gcounts = [1, 1, 1]\n",
    "prof = gProfile(all_grades, candidates,grades, gcounts = gcounts)\n",
    "\n",
    "prof.display()\n",
    "print()\n",
    "\n",
    "for c in candidates:\n",
    "    print(f\"Grades for {c}\", prof.grades_for_candidate(c))\n",
    "\n",
    "print(\"\")    \n",
    "print(\"Average grades\", prof.average_grades())\n",
    "\n",
    "\n",
    "print(\"AG Winner\", prof.average_grade_winner())\n",
    "print(\"SG Winner\", prof.superior_grade_winner())\n",
    "\n",
    "wprof = prof.wr_profile()\n",
    "\n",
    "wprof.display()\n",
    "wprof.display_margin_graph()\n",
    "\n"
   ]
  },
  {
   "cell_type": "code",
   "execution_count": 20,
   "metadata": {},
   "outputs": [
    {
     "name": "stdout",
     "output_type": "stream",
     "text": [
      "+---+---+---+\n",
      "|   | 1 | 4 |\n",
      "+---+---+---+\n",
      "| A | 5 | 0 |\n",
      "| B | 0 | 1 |\n",
      "| C | 0 | 1 |\n",
      "+---+---+---+\n",
      "\n",
      "Grades for A [5, 0, 0, 0, 0]\n",
      "Grades for B [0, 1, 1, 1, 1]\n",
      "Grades for C [0, 1, 1, 1, 1]\n",
      "Average grades {'A': 1.0, 'B': 0.8, 'C': 0.8}\n",
      "AG Winner ['A']\n",
      "SG Winner ['B', 'C']\n",
      "+-----+-----+\n",
      "|  1  |  4  |\n",
      "+-----+-----+\n",
      "|  A  | B,C |\n",
      "| B,C |  A  |\n",
      "|     |     |\n",
      "+-----+-----+\n"
     ]
    },
    {
     "data": {
      "image/png": "[encoded data removed]",
      "text/plain": [
       "<Figure size 432x288 with 1 Axes>"
      ]
     },
     "metadata": {},
     "output_type": "display_data"
    }
   ],
   "source": [
    "all_grades = [0, 1, 2, 3, 4, 5]\n",
    "candidates = [A, B, C]\n",
    "\n",
    "grades = [\n",
    "    Grade({A:5, B:0, C:0}),\n",
    "    Grade({A:0, B:1, C:1}),\n",
    "]\n",
    "gcounts = [1, 4]\n",
    "prof = gProfile(all_grades, candidates,grades, gcounts = gcounts)\n",
    "\n",
    "prof.display()\n",
    "print()\n",
    "print(f\"Grades for {A}\", prof.grades_for_candidate(A))\n",
    "print(f\"Grades for {B}\",prof.grades_for_candidate(B))\n",
    "print(f\"Grades for {C}\",prof.grades_for_candidate(C))\n",
    "\n",
    "print(\"Average grades\", prof.average_grades())\n",
    "\n",
    "\n",
    "print(\"AG Winner\", prof.average_grade_winner())\n",
    "print(\"SG Winner\", prof.superior_grade_winner())\n",
    "\n",
    "wprof = prof.wr_profile()\n",
    "\n",
    "wprof.display()\n",
    "wprof.display_margin_graph()\n",
    "\n"
   ]
  },
  {
   "cell_type": "code",
   "execution_count": 21,
   "metadata": {},
   "outputs": [
    {
     "name": "stdout",
     "output_type": "stream",
     "text": [
      "+---+---+---+---+\n",
      "|   | 1 | 1 | 1 |\n",
      "+---+---+---+---+\n",
      "| A | 2 | 0 | 0 |\n",
      "| B | 1 | 2 | 0 |\n",
      "| C | 0 | 0 | 2 |\n",
      "+---+---+---+---+\n",
      "\n",
      "Grades for A [2, 0, 0]\n",
      "Grades for B [1, 2, 0]\n",
      "Grades for C [0, 0, 2]\n",
      "Average grades {'A': 0.6666666666666666, 'B': 1.0, 'C': 0.6666666666666666}\n",
      "AG Winner ['B']\n",
      "SG Winner ['A', 'B', 'C']\n",
      "+---+-----+-----+\n",
      "| 1 |  1  |  1  |\n",
      "+---+-----+-----+\n",
      "| A |  B  |  C  |\n",
      "| B | A,C | A,B |\n",
      "| C |     |     |\n",
      "+---+-----+-----+\n"
     ]
    },
    {
     "data": {
      "image/png": "[encoded data removed]",
      "text/plain": [
       "<Figure size 432x288 with 1 Axes>"
      ]
     },
     "metadata": {},
     "output_type": "display_data"
    }
   ],
   "source": [
    "all_grades = [0, 1, 2]\n",
    "candidates = [A, B, C]\n",
    "\n",
    "grades = [\n",
    "    Grade({A:2, B:1, C:0}),\n",
    "    Grade({A:0, B:2, C:0}),\n",
    "    Grade({A:0, B:0, C:2}),\n",
    "]\n",
    "gcounts = [1, 1, 1]\n",
    "prof = gProfile(all_grades, candidates,grades, gcounts = gcounts)\n",
    "\n",
    "prof.display()\n",
    "print()\n",
    "print(f\"Grades for {A}\", prof.grades_for_candidate(A))\n",
    "print(f\"Grades for {B}\",prof.grades_for_candidate(B))\n",
    "print(f\"Grades for {C}\",prof.grades_for_candidate(C))\n",
    "\n",
    "print(\"Average grades\", prof.average_grades())\n",
    "\n",
    "\n",
    "print(\"AG Winner\", prof.average_grade_winner())\n",
    "print(\"SG Winner\", prof.superior_grade_winner())\n",
    "\n",
    "wprof = prof.wr_profile()\n",
    "\n",
    "wprof.display()\n",
    "wprof.display_margin_graph()\n",
    "\n"
   ]
  },
  {
   "cell_type": "code",
   "execution_count": 22,
   "metadata": {},
   "outputs": [
    {
     "name": "stdout",
     "output_type": "stream",
     "text": [
      "+---+---+---+---+---+\n",
      "|   | 1 | 1 | 1 | 1 |\n",
      "+---+---+---+---+---+\n",
      "| A | 2 | 1 | 3 | 3 |\n",
      "| B | 0 | 1 | 0 | 1 |\n",
      "| C | 1 | 1 | 0 | 0 |\n",
      "| D | 3 | 2 | 0 | 0 |\n",
      "+---+---+---+---+---+\n",
      "\n",
      "Grades for A [2, 1, 3, 3]\n",
      "Grades for B [0, 1, 0, 1]\n",
      "Grades for C [1, 1, 0, 0]\n",
      "Average grades {'A': 2.25, 'B': 0.5, 'C': 0.5, 'D': 1.25}\n",
      "AG Winner ['A']\n",
      "SG Winner ['A', 'D']\n",
      "+---+-------+-------+-----+\n",
      "| 1 |   1   |   1   |  1  |\n",
      "+---+-------+-------+-----+\n",
      "| D |   D   |   A   |  A  |\n",
      "| A | A,B,C | B,C,D |  B  |\n",
      "| C |       |       | C,D |\n",
      "| B |       |       |     |\n",
      "+---+-------+-------+-----+\n"
     ]
    },
    {
     "data": {
      "image/png": "[encoded data removed]",
      "text/plain": [
       "<Figure size 432x288 with 1 Axes>"
      ]
     },
     "metadata": {},
     "output_type": "display_data"
    }
   ],
   "source": [
    "A = \"A\"\n",
    "B = \"B\"\n",
    "C = \"C\"\n",
    "D = \"D\"\n",
    "\n",
    "all_grades = [0, 1, 2, 3]\n",
    "candidates = [A, B, C, D]\n",
    "\n",
    "grades = [\n",
    "    Grade({A:2, B:0, C:1, D:3}),\n",
    "    Grade({A:1, B:1, C:1, D:2}),\n",
    "    Grade({A:3, B:0, C:0, D:0}),\n",
    "    Grade({A:3, B:1, C:0, D:0}),\n",
    "]\n",
    "gcounts = [1, 1, 1, 1]\n",
    "prof = gProfile(all_grades, candidates,grades, gcounts = gcounts)\n",
    "\n",
    "prof.display()\n",
    "print()\n",
    "print(f\"Grades for {A}\", prof.grades_for_candidate(A))\n",
    "print(f\"Grades for {B}\",prof.grades_for_candidate(B))\n",
    "print(f\"Grades for {C}\",prof.grades_for_candidate(C))\n",
    "\n",
    "print(\"Average grades\", prof.average_grades())\n",
    "\n",
    "\n",
    "print(\"AG Winner\", prof.average_grade_winner())\n",
    "print(\"SG Winner\", prof.superior_grade_winner())\n",
    "\n",
    "wprof = prof.wr_profile()\n",
    "\n",
    "wprof.display()\n",
    "wprof.display_margin_graph()\n",
    "\n"
   ]
  },
  {
   "cell_type": "code",
   "execution_count": 23,
   "metadata": {},
   "outputs": [
    {
     "name": "stdout",
     "output_type": "stream",
     "text": [
      "+---+---+---+---+---+---+\n",
      "|   | 1 | 1 | 1 | 1 | 1 |\n",
      "+---+---+---+---+---+---+\n",
      "| A | 0 | 2 | 1 | 0 | 0 |\n",
      "| B | 2 | 1 | 3 | 1 | 0 |\n",
      "| C | 2 | 1 | 3 | 2 | 1 |\n",
      "+---+---+---+---+---+---+\n"
     ]
    }
   ],
   "source": [
    "import random\n",
    "\n",
    "num_voters = 5\n",
    "candidates = [A, B, C]\n",
    "possible_grades = [0,1,2,3]\n",
    "\n",
    "def generate_grade_profile(candidates, num_voters, grades):\n",
    "    \n",
    "    v_grades = list()\n",
    "    for v in range(num_voters):\n",
    "        \n",
    "        v_grades.append(Grade({c: random.choice(grades) for c in candidates}))\n",
    " \n",
    "    return gProfile(grades, candidates, v_grades)\n",
    "    \n",
    "                        \n",
    "prof = generate_grade_profile(candidates, num_voters, possible_grades)\n",
    "prof.display()"
   ]
  },
  {
   "cell_type": "code",
   "execution_count": 24,
   "metadata": {},
   "outputs": [
    {
     "name": "stdout",
     "output_type": "stream",
     "text": [
      "+---+---+---+---+---+---+\n",
      "|   | 1 | 1 | 1 | 1 | 1 |\n",
      "+---+---+---+---+---+---+\n",
      "| A | 0 | 0 | 1 | 0 | 0 |\n",
      "| B | 3 | 0 | 0 | 0 | 3 |\n",
      "| C | 0 | 1 | 1 | 1 | 3 |\n",
      "| D | 2 | 3 | 3 | 3 | 0 |\n",
      "+---+---+---+---+---+---+\n"
     ]
    }
   ],
   "source": [
    "import random\n",
    "\n",
    "num_voters = 5\n",
    "candidates = [A, B, C, D]\n",
    "possible_grades = [0,1,2,3]\n",
    "\n",
    "def generate_grade_profile_strategic(candidates, num_voters, grades):\n",
    "    \n",
    "    v_grades = list()\n",
    "    for v in range(num_voters):\n",
    "        \n",
    "        _grades = {c: random.choice(grades) for c in candidates}\n",
    "        while not ((min(grades)  in list(_grades.values())) and (max(grades) in list(_grades.values()))):\n",
    "            _grades = {c: random.choice(grades) for c in candidates}\n",
    "\n",
    "        v_grades.append(Grade(_grades))\n",
    " \n",
    "    return gProfile(grades, candidates, v_grades)\n",
    "    \n",
    "                        \n",
    "prof = generate_grade_profile_strategic(candidates, num_voters, possible_grades)\n",
    "prof.display()"
   ]
  },
  {
   "cell_type": "code",
   "execution_count": 25,
   "metadata": {},
   "outputs": [
    {
     "name": "stdout",
     "output_type": "stream",
     "text": [
      "Sincere Voters\n"
     ]
    },
    {
     "data": {
      "application/vnd.jupyter.widget-view+json": {
       "model_id": "d0c8c4416fcc492da7f0f28f5ba046a6",
       "version_major": 2,
       "version_minor": 0
      },
      "text/plain": [
       "HBox(children=(FloatProgress(value=0.0, max=10.0), HTML(value='')))"
      ]
     },
     "metadata": {},
     "output_type": "display_data"
    },
    {
     "data": {
      "application/vnd.jupyter.widget-view+json": {
       "model_id": "",
       "version_major": 2,
       "version_minor": 0
      },
      "text/plain": [
       "HBox(children=(FloatProgress(value=0.0, max=10000.0), HTML(value='')))"
      ]
     },
     "metadata": {},
     "output_type": "display_data"
    },
    {
     "name": "stdout",
     "output_type": "stream",
     "text": [
      "For 3 voters:  0.195\n"
     ]
    },
    {
     "data": {
      "application/vnd.jupyter.widget-view+json": {
       "model_id": "",
       "version_major": 2,
       "version_minor": 0
      },
      "text/plain": [
       "HBox(children=(FloatProgress(value=0.0, max=10000.0), HTML(value='')))"
      ]
     },
     "metadata": {},
     "output_type": "display_data"
    },
    {
     "name": "stdout",
     "output_type": "stream",
     "text": [
      "For 4 voters:  0.2175\n"
     ]
    },
    {
     "data": {
      "application/vnd.jupyter.widget-view+json": {
       "model_id": "",
       "version_major": 2,
       "version_minor": 0
      },
      "text/plain": [
       "HBox(children=(FloatProgress(value=0.0, max=10000.0), HTML(value='')))"
      ]
     },
     "metadata": {},
     "output_type": "display_data"
    },
    {
     "name": "stdout",
     "output_type": "stream",
     "text": [
      "For 5 voters:  0.2421\n"
     ]
    },
    {
     "data": {
      "application/vnd.jupyter.widget-view+json": {
       "model_id": "",
       "version_major": 2,
       "version_minor": 0
      },
      "text/plain": [
       "HBox(children=(FloatProgress(value=0.0, max=10000.0), HTML(value='')))"
      ]
     },
     "metadata": {},
     "output_type": "display_data"
    },
    {
     "name": "stdout",
     "output_type": "stream",
     "text": [
      "For 6 voters:  0.2477\n"
     ]
    },
    {
     "data": {
      "application/vnd.jupyter.widget-view+json": {
       "model_id": "",
       "version_major": 2,
       "version_minor": 0
      },
      "text/plain": [
       "HBox(children=(FloatProgress(value=0.0, max=10000.0), HTML(value='')))"
      ]
     },
     "metadata": {},
     "output_type": "display_data"
    },
    {
     "name": "stdout",
     "output_type": "stream",
     "text": [
      "For 7 voters:  0.2475\n"
     ]
    },
    {
     "data": {
      "application/vnd.jupyter.widget-view+json": {
       "model_id": "",
       "version_major": 2,
       "version_minor": 0
      },
      "text/plain": [
       "HBox(children=(FloatProgress(value=0.0, max=10000.0), HTML(value='')))"
      ]
     },
     "metadata": {},
     "output_type": "display_data"
    },
    {
     "name": "stdout",
     "output_type": "stream",
     "text": [
      "For 8 voters:  0.2561\n"
     ]
    },
    {
     "data": {
      "application/vnd.jupyter.widget-view+json": {
       "model_id": "",
       "version_major": 2,
       "version_minor": 0
      },
      "text/plain": [
       "HBox(children=(FloatProgress(value=0.0, max=10000.0), HTML(value='')))"
      ]
     },
     "metadata": {},
     "output_type": "display_data"
    },
    {
     "name": "stdout",
     "output_type": "stream",
     "text": [
      "For 9 voters:  0.247\n"
     ]
    },
    {
     "data": {
      "application/vnd.jupyter.widget-view+json": {
       "model_id": "",
       "version_major": 2,
       "version_minor": 0
      },
      "text/plain": [
       "HBox(children=(FloatProgress(value=0.0, max=10000.0), HTML(value='')))"
      ]
     },
     "metadata": {},
     "output_type": "display_data"
    },
    {
     "name": "stdout",
     "output_type": "stream",
     "text": [
      "For 25 voters:  0.2351\n"
     ]
    },
    {
     "data": {
      "application/vnd.jupyter.widget-view+json": {
       "model_id": "",
       "version_major": 2,
       "version_minor": 0
      },
      "text/plain": [
       "HBox(children=(FloatProgress(value=0.0, max=10000.0), HTML(value='')))"
      ]
     },
     "metadata": {},
     "output_type": "display_data"
    },
    {
     "name": "stdout",
     "output_type": "stream",
     "text": [
      "For 50 voters:  0.2136\n"
     ]
    },
    {
     "data": {
      "application/vnd.jupyter.widget-view+json": {
       "model_id": "",
       "version_major": 2,
       "version_minor": 0
      },
      "text/plain": [
       "HBox(children=(FloatProgress(value=0.0, max=10000.0), HTML(value='')))"
      ]
     },
     "metadata": {},
     "output_type": "display_data"
    },
    {
     "name": "stdout",
     "output_type": "stream",
     "text": [
      "For 100 voters:  0.205\n",
      "\n",
      "CPU times: user 1min 29s, sys: 1.12 s, total: 1min 30s\n",
      "Wall time: 1min 30s\n"
     ]
    }
   ],
   "source": [
    "%%time\n",
    "\n",
    "num_trials = 10000\n",
    "\n",
    "all_num_voters = [3, 4, 5, 6, 7, 8, 9, 25, 50, 100]\n",
    "candidates = [A, B, C]\n",
    "\n",
    "possible_grades = [0,1,2]\n",
    "\n",
    "print(\"Sincere Voters\")\n",
    "for num_voters in tqdm(all_num_voters): \n",
    "    num_diff = 0\n",
    "    for t in tqdm(range(num_trials), leave=False): \n",
    "\n",
    "        prof = generate_grade_profile(candidates, num_voters, possible_grades)\n",
    "        #print()\n",
    "        if prof.average_grade_winner() != split_cycle(prof.wr_profile()):\n",
    "            num_diff += 1\n",
    "\n",
    "    print(f\"For {num_voters} voters: \", num_diff / num_trials)"
   ]
  },
  {
   "cell_type": "code",
   "execution_count": 26,
   "metadata": {},
   "outputs": [
    {
     "name": "stdout",
     "output_type": "stream",
     "text": [
      "Sincere Voters\n"
     ]
    },
    {
     "data": {
      "application/vnd.jupyter.widget-view+json": {
       "model_id": "54d07f191e2646acb0269ca1f194b87b",
       "version_major": 2,
       "version_minor": 0
      },
      "text/plain": [
       "HBox(children=(FloatProgress(value=0.0, max=10.0), HTML(value='')))"
      ]
     },
     "metadata": {},
     "output_type": "display_data"
    },
    {
     "data": {
      "application/vnd.jupyter.widget-view+json": {
       "model_id": "",
       "version_major": 2,
       "version_minor": 0
      },
      "text/plain": [
       "HBox(children=(FloatProgress(value=0.0, max=10000.0), HTML(value='')))"
      ]
     },
     "metadata": {},
     "output_type": "display_data"
    },
    {
     "name": "stdout",
     "output_type": "stream",
     "text": [
      "For 3 voters:  0.2058\n"
     ]
    },
    {
     "data": {
      "application/vnd.jupyter.widget-view+json": {
       "model_id": "",
       "version_major": 2,
       "version_minor": 0
      },
      "text/plain": [
       "HBox(children=(FloatProgress(value=0.0, max=10000.0), HTML(value='')))"
      ]
     },
     "metadata": {},
     "output_type": "display_data"
    },
    {
     "name": "stdout",
     "output_type": "stream",
     "text": [
      "For 4 voters:  0.2542\n"
     ]
    },
    {
     "data": {
      "application/vnd.jupyter.widget-view+json": {
       "model_id": "",
       "version_major": 2,
       "version_minor": 0
      },
      "text/plain": [
       "HBox(children=(FloatProgress(value=0.0, max=10000.0), HTML(value='')))"
      ]
     },
     "metadata": {},
     "output_type": "display_data"
    },
    {
     "name": "stdout",
     "output_type": "stream",
     "text": [
      "For 5 voters:  0.2633\n"
     ]
    },
    {
     "data": {
      "application/vnd.jupyter.widget-view+json": {
       "model_id": "",
       "version_major": 2,
       "version_minor": 0
      },
      "text/plain": [
       "HBox(children=(FloatProgress(value=0.0, max=10000.0), HTML(value='')))"
      ]
     },
     "metadata": {},
     "output_type": "display_data"
    },
    {
     "name": "stdout",
     "output_type": "stream",
     "text": [
      "For 6 voters:  0.2653\n"
     ]
    },
    {
     "data": {
      "application/vnd.jupyter.widget-view+json": {
       "model_id": "",
       "version_major": 2,
       "version_minor": 0
      },
      "text/plain": [
       "HBox(children=(FloatProgress(value=0.0, max=10000.0), HTML(value='')))"
      ]
     },
     "metadata": {},
     "output_type": "display_data"
    },
    {
     "name": "stdout",
     "output_type": "stream",
     "text": [
      "For 7 voters:  0.2715\n"
     ]
    },
    {
     "data": {
      "application/vnd.jupyter.widget-view+json": {
       "model_id": "",
       "version_major": 2,
       "version_minor": 0
      },
      "text/plain": [
       "HBox(children=(FloatProgress(value=0.0, max=10000.0), HTML(value='')))"
      ]
     },
     "metadata": {},
     "output_type": "display_data"
    },
    {
     "name": "stdout",
     "output_type": "stream",
     "text": [
      "For 8 voters:  0.2674\n"
     ]
    },
    {
     "data": {
      "application/vnd.jupyter.widget-view+json": {
       "model_id": "",
       "version_major": 2,
       "version_minor": 0
      },
      "text/plain": [
       "HBox(children=(FloatProgress(value=0.0, max=10000.0), HTML(value='')))"
      ]
     },
     "metadata": {},
     "output_type": "display_data"
    },
    {
     "name": "stdout",
     "output_type": "stream",
     "text": [
      "For 9 voters:  0.2645\n"
     ]
    },
    {
     "data": {
      "application/vnd.jupyter.widget-view+json": {
       "model_id": "",
       "version_major": 2,
       "version_minor": 0
      },
      "text/plain": [
       "HBox(children=(FloatProgress(value=0.0, max=10000.0), HTML(value='')))"
      ]
     },
     "metadata": {},
     "output_type": "display_data"
    },
    {
     "name": "stdout",
     "output_type": "stream",
     "text": [
      "For 25 voters:  0.2448\n"
     ]
    },
    {
     "data": {
      "application/vnd.jupyter.widget-view+json": {
       "model_id": "",
       "version_major": 2,
       "version_minor": 0
      },
      "text/plain": [
       "HBox(children=(FloatProgress(value=0.0, max=10000.0), HTML(value='')))"
      ]
     },
     "metadata": {},
     "output_type": "display_data"
    },
    {
     "name": "stdout",
     "output_type": "stream",
     "text": [
      "For 50 voters:  0.2325\n"
     ]
    },
    {
     "data": {
      "application/vnd.jupyter.widget-view+json": {
       "model_id": "",
       "version_major": 2,
       "version_minor": 0
      },
      "text/plain": [
       "HBox(children=(FloatProgress(value=0.0, max=10000.0), HTML(value='')))"
      ]
     },
     "metadata": {},
     "output_type": "display_data"
    },
    {
     "name": "stdout",
     "output_type": "stream",
     "text": [
      "For 100 voters:  0.222\n",
      "\n",
      "CPU times: user 1min 23s, sys: 1.13 s, total: 1min 24s\n",
      "Wall time: 1min 24s\n"
     ]
    }
   ],
   "source": [
    "%%time\n",
    "\n",
    "num_trials = 10000\n",
    "\n",
    "all_num_voters = [3, 4, 5, 6, 7, 8, 9, 25, 50, 100]\n",
    "candidates = [A, B, C]\n",
    "\n",
    "possible_grades = [0,1,2]\n",
    "\n",
    "print(\"Sincere Voters\")\n",
    "for num_voters in tqdm(all_num_voters): \n",
    "    num_diff = 0\n",
    "    for t in tqdm(range(num_trials), leave=False): \n",
    "\n",
    "        prof = generate_grade_profile(candidates, num_voters, possible_grades)\n",
    "\n",
    "        if prof.average_grade_winner() != prof.superior_grade_winner():\n",
    "            num_diff += 1\n",
    "\n",
    "    print(f\"For {num_voters} voters: \", num_diff / num_trials)"
   ]
  },
  {
   "cell_type": "code",
   "execution_count": null,
   "metadata": {},
   "outputs": [
    {
     "name": "stdout",
     "output_type": "stream",
     "text": [
      "Strategic Voters\n"
     ]
    },
    {
     "data": {
      "application/vnd.jupyter.widget-view+json": {
       "model_id": "185aa6f3f52e4714aa8be14101c7aa17",
       "version_major": 2,
       "version_minor": 0
      },
      "text/plain": [
       "HBox(children=(FloatProgress(value=0.0, max=10.0), HTML(value='')))"
      ]
     },
     "metadata": {},
     "output_type": "display_data"
    },
    {
     "data": {
      "application/vnd.jupyter.widget-view+json": {
       "model_id": "",
       "version_major": 2,
       "version_minor": 0
      },
      "text/plain": [
       "HBox(children=(FloatProgress(value=0.0, max=25000.0), HTML(value='')))"
      ]
     },
     "metadata": {},
     "output_type": "display_data"
    },
    {
     "name": "stdout",
     "output_type": "stream",
     "text": [
      "For 3 voters:  0.1974\n"
     ]
    },
    {
     "data": {
      "application/vnd.jupyter.widget-view+json": {
       "model_id": "",
       "version_major": 2,
       "version_minor": 0
      },
      "text/plain": [
       "HBox(children=(FloatProgress(value=0.0, max=25000.0), HTML(value='')))"
      ]
     },
     "metadata": {},
     "output_type": "display_data"
    },
    {
     "name": "stdout",
     "output_type": "stream",
     "text": [
      "For 4 voters:  0.28852\n"
     ]
    },
    {
     "data": {
      "application/vnd.jupyter.widget-view+json": {
       "model_id": "",
       "version_major": 2,
       "version_minor": 0
      },
      "text/plain": [
       "HBox(children=(FloatProgress(value=0.0, max=25000.0), HTML(value='')))"
      ]
     },
     "metadata": {},
     "output_type": "display_data"
    },
    {
     "name": "stdout",
     "output_type": "stream",
     "text": [
      "For 5 voters:  0.23632\n"
     ]
    },
    {
     "data": {
      "application/vnd.jupyter.widget-view+json": {
       "model_id": "",
       "version_major": 2,
       "version_minor": 0
      },
      "text/plain": [
       "HBox(children=(FloatProgress(value=0.0, max=25000.0), HTML(value='')))"
      ]
     },
     "metadata": {},
     "output_type": "display_data"
    },
    {
     "name": "stdout",
     "output_type": "stream",
     "text": [
      "For 6 voters:  0.26708\n"
     ]
    },
    {
     "data": {
      "application/vnd.jupyter.widget-view+json": {
       "model_id": "",
       "version_major": 2,
       "version_minor": 0
      },
      "text/plain": [
       "HBox(children=(FloatProgress(value=0.0, max=25000.0), HTML(value='')))"
      ]
     },
     "metadata": {},
     "output_type": "display_data"
    },
    {
     "name": "stdout",
     "output_type": "stream",
     "text": [
      "For 7 voters:  0.24516\n"
     ]
    },
    {
     "data": {
      "application/vnd.jupyter.widget-view+json": {
       "model_id": "",
       "version_major": 2,
       "version_minor": 0
      },
      "text/plain": [
       "HBox(children=(FloatProgress(value=0.0, max=25000.0), HTML(value='')))"
      ]
     },
     "metadata": {},
     "output_type": "display_data"
    },
    {
     "name": "stdout",
     "output_type": "stream",
     "text": [
      "For 8 voters:  0.25972\n"
     ]
    },
    {
     "data": {
      "application/vnd.jupyter.widget-view+json": {
       "model_id": "",
       "version_major": 2,
       "version_minor": 0
      },
      "text/plain": [
       "HBox(children=(FloatProgress(value=0.0, max=25000.0), HTML(value='')))"
      ]
     },
     "metadata": {},
     "output_type": "display_data"
    },
    {
     "name": "stdout",
     "output_type": "stream",
     "text": [
      "For 9 voters:  0.2444\n"
     ]
    },
    {
     "data": {
      "application/vnd.jupyter.widget-view+json": {
       "model_id": "",
       "version_major": 2,
       "version_minor": 0
      },
      "text/plain": [
       "HBox(children=(FloatProgress(value=0.0, max=25000.0), HTML(value='')))"
      ]
     },
     "metadata": {},
     "output_type": "display_data"
    },
    {
     "name": "stdout",
     "output_type": "stream",
     "text": [
      "For 25 voters:  0.22884\n"
     ]
    },
    {
     "data": {
      "application/vnd.jupyter.widget-view+json": {
       "model_id": "",
       "version_major": 2,
       "version_minor": 0
      },
      "text/plain": [
       "HBox(children=(FloatProgress(value=0.0, max=25000.0), HTML(value='')))"
      ]
     },
     "metadata": {},
     "output_type": "display_data"
    },
    {
     "name": "stdout",
     "output_type": "stream",
     "text": [
      "For 50 voters:  0.20672\n"
     ]
    },
    {
     "data": {
      "application/vnd.jupyter.widget-view+json": {
       "model_id": "dd8b071e124a444985d624c9cffb3a67",
       "version_major": 2,
       "version_minor": 0
      },
      "text/plain": [
       "HBox(children=(FloatProgress(value=0.0, max=25000.0), HTML(value='')))"
      ]
     },
     "metadata": {},
     "output_type": "display_data"
    }
   ],
   "source": [
    "%%time\n",
    "\n",
    "num_trials = 25000\n",
    "\n",
    "all_num_voters = [3, 4, 5, 6, 7, 8, 9, 25, 50, 100]\n",
    "candidates = [A, B, C]\n",
    "\n",
    "possible_grades = [0,1,2]\n",
    "\n",
    "print(\"Strategic Voters\")\n",
    "for num_voters in tqdm(all_num_voters): \n",
    "    num_diff = 0\n",
    "    for t in tqdm(range(num_trials), leave=False): \n",
    "\n",
    "        prof = generate_grade_profile_strategic(candidates, num_voters, possible_grades)\n",
    "\n",
    "        if prof.average_grade_winner() != prof.superior_grade_winner():\n",
    "            num_diff += 1\n",
    "\n",
    "    print(f\"For {num_voters} voters: \", num_diff / num_trials)"
   ]
  },
  {
   "cell_type": "code",
   "execution_count": null,
   "metadata": {},
   "outputs": [],
   "source": [
    "%%time\n",
    "\n",
    "num_trials = 10000\n",
    "\n",
    "all_num_voters = [3, 4, 5, 6, 7, 8, 9, 25, 50, 100]\n",
    "candidates = [A, B, C, D]\n",
    "\n",
    "possible_grades = [0, 1, 2]\n",
    "\n",
    "print(\"Sincere Voters\")\n",
    "for num_voters in tqdm(all_num_voters): \n",
    "    num_diff = 0\n",
    "    for t in tqdm(range(num_trials), leave=False): \n",
    "\n",
    "        prof = generate_grade_profile(candidates, num_voters, possible_grades)\n",
    "\n",
    "        if prof.average_grade_winner() != prof.superior_grade_winner():\n",
    "            num_diff += 1\n",
    "\n",
    "    print(f\"For {num_voters} voters: \", num_diff / num_trials)"
   ]
  },
  {
   "cell_type": "code",
   "execution_count": null,
   "metadata": {},
   "outputs": [],
   "source": [
    "%%time\n",
    "\n",
    "num_trials = 25000\n",
    "\n",
    "all_num_voters = [3, 4, 5, 6, 7, 8, 9, 25, 50, 100]\n",
    "candidates = [A, B, C, D]\n",
    "\n",
    "possible_grades = [0, 1, 2]\n",
    "\n",
    "print(\"Strategic Voters\")\n",
    "for num_voters in tqdm(all_num_voters): \n",
    "    num_diff = 0\n",
    "    for t in tqdm(range(num_trials), leave=False): \n",
    "\n",
    "        prof = generate_grade_profile_strategic(candidates, num_voters, possible_grades)\n",
    "\n",
    "        if prof.average_grade_winner() != prof.superior_grade_winner():\n",
    "            num_diff += 1\n",
    "\n",
    "    print(f\"For {num_voters} voters: \", num_diff / num_trials)"
   ]
  },
  {
   "cell_type": "code",
   "execution_count": null,
   "metadata": {},
   "outputs": [],
   "source": [
    "%%time \n",
    "\n",
    "num_trials = 10000\n",
    "\n",
    "all_num_voters = [3, 4, 5, 6, 7, 8, 9, 25, 50, 100]\n",
    "candidates = [A, B, C]\n",
    "\n",
    "possible_grades = [0, 1, 2, 3, 4]\n",
    "\n",
    "print(\"Sincere Voters\")\n",
    "for num_voters in tqdm(all_num_voters): \n",
    "    num_diff = 0\n",
    "    for t in tqdm(range(num_trials), leave=False): \n",
    "\n",
    "        prof = generate_grade_profile(candidates, num_voters, possible_grades)\n",
    "\n",
    "        if prof.average_grade_winner() != prof.superior_grade_winner():\n",
    "            num_diff += 1\n",
    "\n",
    "    print(f\"For {num_voters} voters: \", num_diff / num_trials)"
   ]
  },
  {
   "cell_type": "code",
   "execution_count": null,
   "metadata": {},
   "outputs": [],
   "source": [
    "%%time \n",
    "\n",
    "num_trials = 10000\n",
    "\n",
    "all_num_voters = [3, 4, 5, 6, 7, 8, 9, 25, 50, 100]\n",
    "candidates = [A, B, C]\n",
    "\n",
    "possible_grades = [0, 1, 2, 3, 4]\n",
    "\n",
    "print(\"Strategic Voters\")\n",
    "for num_voters in tqdm(all_num_voters): \n",
    "    num_diff = 0\n",
    "    for t in tqdm(range(num_trials), leave=False): \n",
    "\n",
    "        prof = generate_grade_profile_strategic(candidates, num_voters, possible_grades)\n",
    "\n",
    "        if prof.average_grade_winner() != prof.superior_grade_winner():\n",
    "            num_diff += 1\n",
    "\n",
    "    print(f\"For {num_voters} voters: \", num_diff / num_trials)"
   ]
  },
  {
   "cell_type": "code",
   "execution_count": null,
   "metadata": {},
   "outputs": [],
   "source": [
    "class Grade(object):\n",
    "    \n",
    "    def __init__(self, grades, possible_grades = None):\n",
    "        \n",
    "        self.grades = grades\n",
    "        self.candidates = sorted(self.grades.keys())\n",
    "        self.possible_grades = possible_grades if possible_grades is not None else range(min(grades.values()), \n",
    "                                                                                         max(grades.values()) + 1)\n",
    "        \n",
    "    def grade(self,c): \n",
    "        return self.grades[c]\n",
    "        \n",
    "    def candidates_with_grade(self,g): \n",
    "        return [c for c in self.candidates if self.grades[c] == g]\n",
    "        \n",
    "    def ranking(self): \n",
    "            \n",
    "        cmap = {c:cidx for cidx,c in enumerate(self.candidates)}\n",
    "            \n",
    "        grades = sorted(list(set(self.grades.values())), reverse=True)\n",
    "            \n",
    "        r_str = ''\n",
    "        for g in grades: \n",
    "                \n",
    "            cs_at_grade = self.candidates_with_grade(g)\n",
    "            if len(cs_at_grade) == 1: \n",
    "                r_str += f\"{cs_at_grade[0]},\"\n",
    "            elif len(cs_at_grade) > 1: \n",
    "                r_str  += \"{\" + \",\".join(cs_at_grade) + \"},\"\n",
    "        return wRanking(cmap, r_str = r_str[0:-1])\n",
    "        \n",
    "    def __str__(self): \n",
    "            \n",
    "        return \",\".join([f\" {str(c)}: {str(self.grades[c])}\" for c in self.candidates])\n",
    "\n",
    "class gProfile(object):\n",
    "    \n",
    "    def __init__(self,  all_grades, candidates, grades, gcounts = None):\n",
    "        \n",
    "        self.candidates = candidates\n",
    "        self.all_grades = all_grades\n",
    "        self._grades = grades\n",
    "        self._gcounts = gcounts if gcounts is not None else [1 for _ in grades]\n",
    "        \n",
    "    def grades_for_candidate(self, c):\n",
    "        \n",
    "        gs = [[g.grade(c)] * gnum for g,gnum in zip(self._grades, self._gcounts)]\n",
    "        return [_g for _gs in gs for _g in _gs ]\n",
    "        \n",
    "    def average_grades(self): \n",
    "        \n",
    "        return {c:np.average(self.grades_for_candidate(c)) for c in self.candidates}\n",
    "    def median_grades(self): \n",
    "        \n",
    "        return {c:np.median(self.grades_for_candidate(c)) for c in self.candidates}\n",
    "    \n",
    "    def average_grade_winner(self): \n",
    "        \n",
    "        avg_grades = self.average_grades()\n",
    "        \n",
    "        max_avg_grade = max(avg_grades.values())\n",
    "        return sorted([c for c in self.candidates if avg_grades[c] == max_avg_grade])\n",
    "    def median_grade_winner(self): \n",
    "        \n",
    "        median_grades = self.average_grades()\n",
    "        \n",
    "        max_avg_grade = max(avg_grades.values())\n",
    "        return sorted([c for c in self.candidates if avg_grades[c] == max_avg_grade])\n",
    "\n",
    "    def wr_profile(self): \n",
    "        return wProfile([g.ranking() for g in self._grades], \n",
    "                        len(self.candidates), \n",
    "                        rcounts=self._gcounts, \n",
    "                        cmap={c:cidx for cidx,c in enumerate(self.candidates)},\n",
    "                        ranking_strings = False)\n",
    "        \n",
    "    def superior_grade_winner(self):\n",
    "        \n",
    "        wprof = wProfile([g.ranking() for g in self._grades], \n",
    "                         len(self.candidates), \n",
    "                         rcounts=self._gcounts, \n",
    "                         cmap={c:cidx for cidx,c in enumerate(self.candidates)},\n",
    "                         ranking_strings = False)\n",
    "        \n",
    "        return sorted(wprof.top_cycle())\n",
    "        \n",
    "    def display(self,style=\"pretty\"):\n",
    "        \n",
    "        tbl = list()\n",
    "        \n",
    "        for c in self.candidates: \n",
    "            tbl.append([str(c)] + [g.grade(c) for g in self._grades])\n",
    "        print(tabulate(tbl,\n",
    "                       self._gcounts, \n",
    "                       tablefmt=style))        \n",
    "\n",
    "    \n",
    "A=\"A\"\n",
    "B=\"B\"\n",
    "C=\"C\"\n",
    "\n",
    "voters = [Grade({A:2, B:1, C:0})] * 2\n",
    "\n",
    "print(list(map(str,voters)))\n",
    "\n",
    "print([str(g.ranking()) for g in voters])\n",
    "\n",
    "print(\"\\n\")\n",
    "grades = [\n",
    "    Grade({A:2, B:1, C:0}),\n",
    "    Grade({A:0, B:2, C:1}),\n",
    "    Grade({A:1, B:0, C:2})\n",
    "]\n",
    "gcounts = [2, 3, 4]\n",
    "all_grades = [0, 1, 2]\n",
    "candidates = [A, B, C]\n",
    "prof = gProfile(all_grades, candidates,grades, gcounts = gcounts)\n",
    "\n",
    "prof.display()\n",
    "print()\n",
    "print(f\"Grades for {A}\", prof.grades_for_candidate(A))\n",
    "print(f\"Grades for {B}\",prof.grades_for_candidate(B))\n",
    "print(f\"Grades for {C}\",prof.grades_for_candidate(C))\n",
    "\n",
    "print(\"Average grades\", prof.average_grades())\n",
    "\n",
    "\n",
    "print(\"AG Winner\", prof.average_grade_winner())\n",
    "print(\"SG Winner\", prof.superior_grade_winner())\n",
    "\n",
    "wprof = prof.wr_profile()\n",
    "\n",
    "wprof.display()\n",
    "wprof.display_margin_graph()\n",
    "\n"
   ]
  },
  {
   "cell_type": "code",
   "execution_count": null,
   "metadata": {},
   "outputs": [],
   "source": []
  }
 ],
 "metadata": {
  "kernelspec": {
   "display_name": "Python 3",
   "language": "python",
   "name": "python3"
  },
  "language_info": {
   "codemirror_mode": {
    "name": "ipython",
    "version": 3
   },
   "file_extension": ".py",
   "mimetype": "text/x-python",
   "name": "python",
   "nbconvert_exporter": "python",
   "pygments_lexer": "ipython3",
   "version": "3.8.5"
  },
  "varInspector": {
   "cols": {
    "lenName": 16,
    "lenType": 16,
    "lenVar": 40
   },
   "kernels_config": {
    "python": {
     "delete_cmd_postfix": "",
     "delete_cmd_prefix": "del ",
     "library": "var_list.py",
     "varRefreshCmd": "print(var_dic_list())"
    },
    "r": {
     "delete_cmd_postfix": ") ",
     "delete_cmd_prefix": "rm(",
     "library": "var_list.r",
     "varRefreshCmd": "cat(var_dic_list()) "
    }
   },
   "types_to_exclude": [
    "module",
    "function",
    "builtin_function_or_method",
    "instance",
    "_Feature"
   ],
   "window_display": false
  }
 },
 "nbformat": 4,
 "nbformat_minor": 4
}
