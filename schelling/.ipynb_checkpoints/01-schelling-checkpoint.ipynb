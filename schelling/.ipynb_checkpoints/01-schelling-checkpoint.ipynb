{
 "cells": [
  {
   "cell_type": "markdown",
   "metadata": {
    "slideshow": {
     "slide_type": "slide"
    }
   },
   "source": [
    "# Overview of Schelling's Model\n",
    "\n",
    "The Nobel prize winning economist Thomas Schelling developed a model that shows  how global patterns of spatial segregation can arise from the effect of *homophily* operating at a local level.  Homophily is the principle that we tend to be similar to our friends and/or neighbors.\n",
    "\n",
    "\n",
    "T. Schelling. Dynamic models of segregation. The Journal of Mathematical Sociology, 1(2), 143-186, 1971.\n",
    "\n",
    "See also,\n",
    "* J. M. Sakoda, The checkerboard model of social interaction. The Journalof Mathematical Sociology 1(1), 119-132, 1971.\n",
    "\n",
    "* R. Hegselmann, Thomas C. Schelling and James M. Sakoda: The intellectual, technical, and social history of a model. Journal of Artificial Societies and Social Simulation 20 (3), 2017.\n",
    "\n"
   ]
  },
  {
   "cell_type": "markdown",
   "metadata": {
    "slideshow": {
     "slide_type": "slide"
    }
   },
   "source": [
    "\n",
    "There are two components of the Schelling model: \n",
    "\n",
    "1. A grid representing different locations for the agents\n",
    "2. A set of agents with two properties: \n",
    "    1. The agent type (e.g., 'red' or 'blue')\n",
    "    2. The current position of the agent in the grid\n"
   ]
  },
  {
   "cell_type": "markdown",
   "metadata": {
    "slideshow": {
     "slide_type": "slide"
    }
   },
   "source": [
    "An example of a grid with two types of agents: \n",
    "\n",
    "![grid.jpg](grid.jpg)"
   ]
  },
  {
   "cell_type": "markdown",
   "metadata": {
    "slideshow": {
     "slide_type": "slide"
    }
   },
   "source": [
    "\n",
    "At each round of the simulation: \n",
    "\n",
    "1. For each agent $a$, determine the number of neighbors that are of the same type. \n",
    "2. Agent $a$ is happy if the number of similar agents is above a fixed threshold. \n",
    "3. If $a$ is not happy, then $a$  moves to an empty location.\n",
    "\n",
    "Continue that process for a fixed number of rounds or until every agent is happy. "
   ]
  },
  {
   "cell_type": "markdown",
   "metadata": {
    "slideshow": {
     "slide_type": "slide"
    }
   },
   "source": [
    "## Implementing Schelling's Model using  Mesa"
   ]
  },
  {
   "cell_type": "code",
   "execution_count": 22,
   "metadata": {},
   "outputs": [],
   "source": [
    "from mesa import Model, Agent\n",
    "from mesa.time import RandomActivation\n",
    "from mesa.space import SingleGrid\n",
    "from mesa.datacollection import DataCollector\n"
   ]
  },
  {
   "cell_type": "code",
   "execution_count": 23,
   "metadata": {
    "slideshow": {
     "slide_type": "slide"
    }
   },
   "outputs": [],
   "source": [
    "\n",
    "class SchellingAgent(Agent):\n",
    "    '''\n",
    "    Schelling segregation agent\n",
    "    '''\n",
    "    def __init__(self, unique_id, pos, model, agent_type):\n",
    "        '''\n",
    "         Create a new Schelling agent.\n",
    "         Args:\n",
    "            pos: Agent initial location.\n",
    "            agent_type: Indicator for the agent's type (minority=1, majority=0)\n",
    "        '''\n",
    "        super().__init__(unique_id, model)\n",
    "        self.pos = pos\n",
    "        self.type = agent_type\n",
    "\n",
    "    def step(self):\n",
    "        similar = 0\n",
    "        neighbors = self.model.grid.neighbor_iter(self.pos)\n",
    "        for neighbor in neighbors:\n",
    "            if neighbor.type == self.type:\n",
    "                similar += 1\n",
    "\n",
    "        # If unhappy, move:\n",
    "        if similar < self.model.homophily:\n",
    "            self.model.grid.move_to_empty(self)\n",
    "        else:\n",
    "            self.model.happy += 1\n"
   ]
  },
  {
   "cell_type": "code",
   "execution_count": 24,
   "metadata": {
    "slideshow": {
     "slide_type": "slide"
    }
   },
   "outputs": [],
   "source": [
    "\n",
    "class SchellingModel(Model):\n",
    "    '''\n",
    "    Model class for the Schelling segregation model.\n",
    "    '''\n",
    "    def __init__(self, height, width, density, minority_percent, homophily, seed = None):\n",
    "        \n",
    "        self.height = height\n",
    "        self.width = width\n",
    "        self.density = density\n",
    "        self.minority_percent = minority_percent\n",
    "        self.homophily = homophily\n",
    "\n",
    "        self.schedule = RandomActivation(self)\n",
    "        self.grid = SingleGrid(height, width, torus=True)\n",
    "\n",
    "        self.happy = 0\n",
    "        self.datacollector = DataCollector(\n",
    "            {\"happy\": lambda m: m.happy},  # Model-level count of happy agents\n",
    "            # For testing purposes, agent's individual x and y\n",
    "            {\"x\": lambda a: a.pos[0], \"y\": lambda a: a.pos[1]})\n",
    "        self.running = True\n",
    "        # Set up agents\n",
    "        agent_id = 0\n",
    "        for cell in self.grid.coord_iter():\n",
    "            #print(cell)\n",
    "            _,x,y = cell\n",
    "            if self.random.random() < self.density:\n",
    "                if self.random.random() < self.minority_percent:\n",
    "                    agent_type = 1\n",
    "                else:\n",
    "                    agent_type = 0\n",
    "                agent = SchellingAgent(agent_id, (x, y), self, agent_type)\n",
    "                agent_id += 1\n",
    "                self.grid.position_agent(agent, x=x, y=y)\n",
    "                self.schedule.add(agent)\n",
    "        \n",
    "    def step(self):\n",
    "        '''\n",
    "        Run one step of the model. If All agents are happy, halt the model.\n",
    "        '''\n",
    "        self.happy = 0  # Reset counter of happy agents\n",
    "        self.schedule.step()\n",
    "        self.datacollector.collect(self)\n",
    "        if self.happy == self.schedule.get_agent_count():\n",
    "            self.running = False\n"
   ]
  },
  {
   "cell_type": "markdown",
   "metadata": {
    "slideshow": {
     "slide_type": "slide"
    }
   },
   "source": [
    "Create a model instance: a 10x10 grid, a 10% chance of an agent being placed in each cell, approximately 20% of agents set as minorities, and each agent wants at least 3 similar neighbors."
   ]
  },
  {
   "cell_type": "code",
   "execution_count": 25,
   "metadata": {
    "slideshow": {
     "slide_type": "fragment"
    }
   },
   "outputs": [
    {
     "name": "stdout",
     "output_type": "stream",
     "text": [
      "Display the first 5 agents:\n",
      "\n",
      "<__main__.SchellingAgent object at 0x7fb27aa1a130>\n",
      "type is  1\n",
      "pos is (0, 0)\n",
      "unique id is 0\n",
      "\n",
      "<__main__.SchellingAgent object at 0x7fb27aa1adc0>\n",
      "type is  1\n",
      "pos is (0, 3)\n",
      "unique id is 1\n",
      "\n",
      "<__main__.SchellingAgent object at 0x7fb27aa1a820>\n",
      "type is  1\n",
      "pos is (0, 8)\n",
      "unique id is 2\n",
      "\n",
      "<__main__.SchellingAgent object at 0x7fb27aa1ad30>\n",
      "type is  0\n",
      "pos is (2, 3)\n",
      "unique id is 3\n",
      "\n",
      "<__main__.SchellingAgent object at 0x7fb27aa1ab20>\n",
      "type is  0\n",
      "pos is (5, 5)\n",
      "unique id is 4\n",
      "\n"
     ]
    }
   ],
   "source": [
    "height, width = 10, 10\n",
    "density = 0.1\n",
    "minority_percent = 0.2\n",
    "homophily = 4\n",
    "model = SchellingModel(height, width, density, minority_percent, homophily)\n",
    "print(\"Display the first 5 agents:\\n\")\n",
    "for a in model.schedule.agents[0:5]: \n",
    "    print(a)\n",
    "    print(\"type is \", a.type)\n",
    "    print(f\"pos is {a.pos}\")\n",
    "    print(f\"unique id is {a.unique_id}\\n\")\n"
   ]
  },
  {
   "cell_type": "code",
   "execution_count": 26,
   "metadata": {
    "slideshow": {
     "slide_type": "slide"
    }
   },
   "outputs": [
    {
     "name": "stdout",
     "output_type": "stream",
     "text": [
      "<__main__.SchellingAgent object at 0x7fb27aa1a130>\n",
      "type is  1\n",
      "pos is (7, 3)\n",
      "unique id is 0\n",
      "model.happy = 0\n",
      "\n",
      "<__main__.SchellingAgent object at 0x7fb27aa1adc0>\n",
      "type is  1\n",
      "pos is (9, 9)\n",
      "unique id is 1\n",
      "model.happy = 0\n",
      "\n",
      "<__main__.SchellingAgent object at 0x7fb27aa1a820>\n",
      "type is  1\n",
      "pos is (7, 0)\n",
      "unique id is 2\n",
      "model.happy = 0\n",
      "\n",
      "<__main__.SchellingAgent object at 0x7fb27aa1ad30>\n",
      "type is  0\n",
      "pos is (9, 7)\n",
      "unique id is 3\n",
      "model.happy = 0\n",
      "\n",
      "<__main__.SchellingAgent object at 0x7fb27aa1ab20>\n",
      "type is  0\n",
      "pos is (8, 9)\n",
      "unique id is 4\n",
      "model.happy = 0\n",
      "\n"
     ]
    }
   ],
   "source": [
    "# execute one round of the models\n",
    "model.step()\n",
    "\n",
    "# some positions should change\n",
    "for a in model.schedule.agents[0:5]: \n",
    "    print(a)\n",
    "    print(\"type is \", a.type)\n",
    "    print(f\"pos is {a.pos}\")\n",
    "    print(f\"unique id is {a.unique_id}\")\n",
    "    print(f\"model.happy = {model.happy}\\n\")\n"
   ]
  },
  {
   "cell_type": "markdown",
   "metadata": {
    "slideshow": {
     "slide_type": "slide"
    }
   },
   "source": [
    "Note that on line 17 of the definition of `SchellingModel` we have the following code: \n",
    "\n",
    "```python\n",
    "self.schedule = RandomActivation(self)\n",
    "```\n",
    "\n",
    "This activates the agents one at a time in random order with the order reshuffled every step of the model. \n",
    "\n",
    "See [the source code](https://mesa.readthedocs.io/en/stable/_modules/mesa/time.html#RandomActivation) for details. \n"
   ]
  },
  {
   "cell_type": "code",
   "execution_count": 27,
   "metadata": {
    "slideshow": {
     "slide_type": "fragment"
    }
   },
   "outputs": [
    {
     "name": "stdout",
     "output_type": "stream",
     "text": [
      "[4, 1, 2, 10, 6, 5, 7, 9, 3, 0, 8]\n"
     ]
    }
   ],
   "source": [
    "# To illustrate the RandomAcitivation scheduler, note that running this\n",
    "# multiple times will produce different orders of the agents\n",
    "\n",
    "print([a.unique_id for a in model.schedule.agent_buffer(shuffled=True)])"
   ]
  },
  {
   "cell_type": "markdown",
   "metadata": {
    "slideshow": {
     "slide_type": "slide"
    }
   },
   "source": [
    "Note that  line 18 of the definition of the `SchellingModel` has the following code: \n",
    "    \n",
    "```python\n",
    "self.grid = SingleGrid(height, width, torus=True)\n",
    "```\n",
    "\n",
    "This defines a grid to place the agents. \n",
    "\n",
    "See [the course code](https://mesa.readthedocs.io/en/master/_modules/space.html#SingleGrid) for details. \n"
   ]
  },
  {
   "cell_type": "code",
   "execution_count": 28,
   "metadata": {
    "slideshow": {
     "slide_type": "slide"
    }
   },
   "outputs": [
    {
     "name": "stdout",
     "output_type": "stream",
     "text": [
      "(None, 0, 0)\n",
      "(None, 0, 1)\n",
      "(None, 0, 2)\n",
      "(None, 1, 0)\n",
      "(None, 1, 1)\n",
      "(None, 1, 2)\n",
      "(None, 2, 0)\n",
      "(None, 2, 1)\n",
      "(None, 2, 2)\n"
     ]
    }
   ],
   "source": [
    "# create a simple Schelling model with a 3x3 grid\n",
    "model2 = SchellingModel(3, 3, 0, 0.2, 4)\n",
    "\n",
    "# each cell is a tuple where the first component is the agent, \n",
    "# the second component is the x position and \n",
    "# the 3rd component is the y position\n",
    "for cell in model2.grid.coord_iter():\n",
    "    print(cell)\n"
   ]
  },
  {
   "cell_type": "code",
   "execution_count": 29,
   "metadata": {
    "slideshow": {
     "slide_type": "slide"
    }
   },
   "outputs": [
    {
     "name": "stdout",
     "output_type": "stream",
     "text": [
      "(None, 0, 0)\n",
      "(None, 0, 1)\n",
      "(None, 0, 2)\n",
      "(None, 1, 0)\n",
      "(<__main__.SchellingAgent object at 0x7fb27aa1a580>, 1, 1)\n",
      "(None, 1, 2)\n",
      "(None, 2, 0)\n",
      "(None, 2, 1)\n",
      "(None, 2, 2)\n",
      "\n",
      "a1 pos is (1, 1)\n"
     ]
    }
   ],
   "source": [
    "a1 = SchellingAgent(0, (1, 1), model2, 0)\n",
    "\n",
    "# initially position the agent at 1,1\n",
    "model2.grid.position_agent(a1, x=1, y=1)\n",
    "\n",
    "for cell in model2.grid.coord_iter():\n",
    "    print(cell)\n",
    "print(f\"\\na1 pos is {a1.pos}\")\n"
   ]
  },
  {
   "cell_type": "code",
   "execution_count": 30,
   "metadata": {
    "slideshow": {
     "slide_type": "slide"
    }
   },
   "outputs": [
    {
     "name": "stdout",
     "output_type": "stream",
     "text": [
      "(None, 0, 0)\n",
      "(<__main__.SchellingAgent object at 0x7fb27aa1a580>, 0, 1)\n",
      "(None, 0, 2)\n",
      "(None, 1, 0)\n",
      "(None, 1, 1)\n",
      "(None, 1, 2)\n",
      "(None, 2, 0)\n",
      "(None, 2, 1)\n",
      "(None, 2, 2)\n",
      "\n",
      "a1 pos is (0, 1)\n"
     ]
    }
   ],
   "source": [
    "\n",
    "# now move a1 to an empty location\n",
    "model2.grid.move_to_empty(a1)\n",
    "\n",
    "for cell in model2.grid.coord_iter():\n",
    "    print(cell)\n",
    "print(f\"\\na1 pos is {a1.pos}\")\n"
   ]
  },
  {
   "cell_type": "code",
   "execution_count": 31,
   "metadata": {
    "slideshow": {
     "slide_type": "slide"
    }
   },
   "outputs": [
    {
     "name": "stdout",
     "output_type": "stream",
     "text": [
      "The neighbors of a1 are: \n",
      "a3 at (0, 0)\n",
      "a2 at (1, 0)\n",
      "a4 at (2, 2)\n",
      "The neighbors of a3 are: \n",
      "a4 at (2, 2)\n",
      "a2 at (1, 0)\n",
      "a1 at (1, 1)\n"
     ]
    }
   ],
   "source": [
    "model2 = SchellingModel(3, 3, 0, 0.2, 4)\n",
    "model2.grid = SingleGrid(3, 3, torus=True)\n",
    "\n",
    "a1 = SchellingAgent(1, (1, 1), model2, 0)\n",
    "a2 = SchellingAgent(2, (1, 0), model2, 0)\n",
    "a3 = SchellingAgent(3, (0, 0), model2, 0)\n",
    "a4 = SchellingAgent(4, (2, 2), model2, 0)\n",
    "\n",
    "model2.grid.position_agent(a1, x=1, y=1)\n",
    "model2.grid.position_agent(a2, x=1, y=0)\n",
    "model2.grid.position_agent(a3, x=0, y=0)\n",
    "model2.grid.position_agent(a4, x=2, y=2)\n",
    "\n",
    "print(\"The neighbors of a1 are: \")\n",
    "for n in model2.grid.neighbor_iter(a1.pos):\n",
    "    print(f\"a{n.unique_id} at {n.pos}\")\n",
    "    \n",
    "print(\"The neighbors of a3 are: \")\n",
    "for n in model2.grid.neighbor_iter(a3.pos):\n",
    "    print(f\"a{n.unique_id} at {n.pos}\")"
   ]
  },
  {
   "cell_type": "markdown",
   "metadata": {
    "slideshow": {
     "slide_type": "slide"
    }
   },
   "source": [
    "Instatiate a model instance: a 10x10 grid, with an 80% chance of an agent being placed in each cell, approximately 20% of agents set as minorities, and agents wanting at least 3 similar neighbors.  Run the model at most 100 times. "
   ]
  },
  {
   "cell_type": "code",
   "execution_count": 32,
   "metadata": {
    "slideshow": {
     "slide_type": "fragment"
    }
   },
   "outputs": [
    {
     "name": "stdout",
     "output_type": "stream",
     "text": [
      "The model ran for 462 steps\n"
     ]
    }
   ],
   "source": [
    "height, width = 50, 50\n",
    "density = 0.8\n",
    "minority_percent = 0.3\n",
    "homophily = 4\n",
    "model = SchellingModel(height, width, density, minority_percent, homophily)\n",
    "\n",
    "while model.running and model.schedule.steps < 1000:\n",
    "    model.step()\n",
    "print(f\"The model ran for {model.schedule.steps} steps\") # Show how many steps have actually run"
   ]
  },
  {
   "cell_type": "markdown",
   "metadata": {
    "slideshow": {
     "slide_type": "slide"
    }
   },
   "source": [
    "Lines 21 - 24 of the definition of the `SchellingModel` has the following code: \n",
    "\n",
    "```python \n",
    "self.datacollector = DataCollector(\n",
    "{\"happy\": lambda m: m.happy},  # Model-level count of happy agents\n",
    "# For testing purposes, agent's individual x and y\n",
    "{\"x\": lambda a: a.pos[0], \"y\": lambda a: a.pos[1]})\n",
    "```\n",
    "\n",
    "This code is called in the `step()` method on line 47: \n",
    "\n",
    "```python\n",
    "self.datacollector.collect(self)\n",
    "```"
   ]
  },
  {
   "cell_type": "markdown",
   "metadata": {
    "slideshow": {
     "slide_type": "fragment"
    }
   },
   "source": [
    "The `DataCollector` is a simple, standard way to collect data generated by a Mesa model. It collects three types of data: model-level data, agent-level data, and tables.\n",
    "\n",
    "See the [documentation for details](https://mesa.readthedocs.io/en/stable/apis/datacollection.html)."
   ]
  },
  {
   "cell_type": "markdown",
   "metadata": {
    "slideshow": {
     "slide_type": "slide"
    }
   },
   "source": [
    "Use the method `get_model_vars_dataframe` to get the model-level data after running the model.  \n",
    "\n",
    "Use the method `get_agent_vars_dataframe` to get the agent-level data after running the model.  \n",
    "\n",
    "Both returna a [Pandas dataframe](https://pandas.pydata.org/).  Pandas is a popular tool for data analysis and manipulation. "
   ]
  },
  {
   "cell_type": "code",
   "execution_count": 33,
   "metadata": {
    "slideshow": {
     "slide_type": "slide"
    }
   },
   "outputs": [
    {
     "data": {
      "text/html": [
       "<div>\n",
       "<style scoped>\n",
       "    .dataframe tbody tr th:only-of-type {\n",
       "        vertical-align: middle;\n",
       "    }\n",
       "\n",
       "    .dataframe tbody tr th {\n",
       "        vertical-align: top;\n",
       "    }\n",
       "\n",
       "    .dataframe thead th {\n",
       "        text-align: right;\n",
       "    }\n",
       "</style>\n",
       "<table border=\"1\" class=\"dataframe\">\n",
       "  <thead>\n",
       "    <tr style=\"text-align: right;\">\n",
       "      <th></th>\n",
       "      <th>var1</th>\n",
       "      <th>var2</th>\n",
       "      <th>var3</th>\n",
       "    </tr>\n",
       "  </thead>\n",
       "  <tbody>\n",
       "    <tr>\n",
       "      <th>0</th>\n",
       "      <td>1</td>\n",
       "      <td>a</td>\n",
       "      <td>1</td>\n",
       "    </tr>\n",
       "    <tr>\n",
       "      <th>1</th>\n",
       "      <td>2</td>\n",
       "      <td>b</td>\n",
       "      <td>None</td>\n",
       "    </tr>\n",
       "    <tr>\n",
       "      <th>2</th>\n",
       "      <td>3</td>\n",
       "      <td>c</td>\n",
       "      <td>a</td>\n",
       "    </tr>\n",
       "    <tr>\n",
       "      <th>3</th>\n",
       "      <td>4</td>\n",
       "      <td>d</td>\n",
       "      <td>2</td>\n",
       "    </tr>\n",
       "    <tr>\n",
       "      <th>4</th>\n",
       "      <td>5</td>\n",
       "      <td>e</td>\n",
       "      <td>c</td>\n",
       "    </tr>\n",
       "  </tbody>\n",
       "</table>\n",
       "</div>"
      ],
      "text/plain": [
       "   var1 var2  var3\n",
       "0     1    a     1\n",
       "1     2    b  None\n",
       "2     3    c     a\n",
       "3     4    d     2\n",
       "4     5    e     c"
      ]
     },
     "execution_count": 33,
     "metadata": {},
     "output_type": "execute_result"
    }
   ],
   "source": [
    "import pandas as pd \n",
    "\n",
    "data = {\n",
    "    \"var1\": [1, 2, 3, 4, 5], \n",
    "    \"var2\": [\"a\", \"b\", \"c\", \"d\", \"e\"],\n",
    "    \"var3\": [1, None, \"a\", 2.0, \"c\"]\n",
    "}\n",
    "\n",
    "df = pd.DataFrame(data)\n",
    "\n",
    "df"
   ]
  },
  {
   "cell_type": "markdown",
   "metadata": {
    "slideshow": {
     "slide_type": "fragment"
    }
   },
   "source": [
    "We will discuss Pandas in more detail later in the text.   For now, see the [10-minute introduction to Pandas](https://pandas.pydata.org/pandas-docs/stable/user_guide/10min.html).     "
   ]
  },
  {
   "cell_type": "code",
   "execution_count": 34,
   "metadata": {
    "slideshow": {
     "slide_type": "slide"
    }
   },
   "outputs": [
    {
     "data": {
      "text/html": [
       "<div>\n",
       "<style scoped>\n",
       "    .dataframe tbody tr th:only-of-type {\n",
       "        vertical-align: middle;\n",
       "    }\n",
       "\n",
       "    .dataframe tbody tr th {\n",
       "        vertical-align: top;\n",
       "    }\n",
       "\n",
       "    .dataframe thead th {\n",
       "        text-align: right;\n",
       "    }\n",
       "</style>\n",
       "<table border=\"1\" class=\"dataframe\">\n",
       "  <thead>\n",
       "    <tr style=\"text-align: right;\">\n",
       "      <th></th>\n",
       "      <th>happy</th>\n",
       "    </tr>\n",
       "  </thead>\n",
       "  <tbody>\n",
       "    <tr>\n",
       "      <th>0</th>\n",
       "      <td>1205</td>\n",
       "    </tr>\n",
       "    <tr>\n",
       "      <th>1</th>\n",
       "      <td>1440</td>\n",
       "    </tr>\n",
       "    <tr>\n",
       "      <th>2</th>\n",
       "      <td>1555</td>\n",
       "    </tr>\n",
       "    <tr>\n",
       "      <th>3</th>\n",
       "      <td>1637</td>\n",
       "    </tr>\n",
       "    <tr>\n",
       "      <th>4</th>\n",
       "      <td>1687</td>\n",
       "    </tr>\n",
       "    <tr>\n",
       "      <th>...</th>\n",
       "      <td>...</td>\n",
       "    </tr>\n",
       "    <tr>\n",
       "      <th>457</th>\n",
       "      <td>1998</td>\n",
       "    </tr>\n",
       "    <tr>\n",
       "      <th>458</th>\n",
       "      <td>1998</td>\n",
       "    </tr>\n",
       "    <tr>\n",
       "      <th>459</th>\n",
       "      <td>1998</td>\n",
       "    </tr>\n",
       "    <tr>\n",
       "      <th>460</th>\n",
       "      <td>1998</td>\n",
       "    </tr>\n",
       "    <tr>\n",
       "      <th>461</th>\n",
       "      <td>1999</td>\n",
       "    </tr>\n",
       "  </tbody>\n",
       "</table>\n",
       "<p>462 rows × 1 columns</p>\n",
       "</div>"
      ],
      "text/plain": [
       "     happy\n",
       "0     1205\n",
       "1     1440\n",
       "2     1555\n",
       "3     1637\n",
       "4     1687\n",
       "..     ...\n",
       "457   1998\n",
       "458   1998\n",
       "459   1998\n",
       "460   1998\n",
       "461   1999\n",
       "\n",
       "[462 rows x 1 columns]"
      ]
     },
     "execution_count": 34,
     "metadata": {},
     "output_type": "execute_result"
    }
   ],
   "source": [
    "model_out = model.datacollector.get_model_vars_dataframe()\n",
    "model_out"
   ]
  },
  {
   "cell_type": "code",
   "execution_count": 35,
   "metadata": {
    "slideshow": {
     "slide_type": "fragment"
    }
   },
   "outputs": [
    {
     "data": {
      "text/html": [
       "<div>\n",
       "<style scoped>\n",
       "    .dataframe tbody tr th:only-of-type {\n",
       "        vertical-align: middle;\n",
       "    }\n",
       "\n",
       "    .dataframe tbody tr th {\n",
       "        vertical-align: top;\n",
       "    }\n",
       "\n",
       "    .dataframe thead th {\n",
       "        text-align: right;\n",
       "    }\n",
       "</style>\n",
       "<table border=\"1\" class=\"dataframe\">\n",
       "  <thead>\n",
       "    <tr style=\"text-align: right;\">\n",
       "      <th></th>\n",
       "      <th>happy</th>\n",
       "    </tr>\n",
       "  </thead>\n",
       "  <tbody>\n",
       "    <tr>\n",
       "      <th>count</th>\n",
       "      <td>462.000000</td>\n",
       "    </tr>\n",
       "    <tr>\n",
       "      <th>mean</th>\n",
       "      <td>1981.948052</td>\n",
       "    </tr>\n",
       "    <tr>\n",
       "      <th>std</th>\n",
       "      <td>60.126273</td>\n",
       "    </tr>\n",
       "    <tr>\n",
       "      <th>min</th>\n",
       "      <td>1205.000000</td>\n",
       "    </tr>\n",
       "    <tr>\n",
       "      <th>25%</th>\n",
       "      <td>1990.250000</td>\n",
       "    </tr>\n",
       "    <tr>\n",
       "      <th>50%</th>\n",
       "      <td>1996.000000</td>\n",
       "    </tr>\n",
       "    <tr>\n",
       "      <th>75%</th>\n",
       "      <td>1998.000000</td>\n",
       "    </tr>\n",
       "    <tr>\n",
       "      <th>max</th>\n",
       "      <td>1999.000000</td>\n",
       "    </tr>\n",
       "  </tbody>\n",
       "</table>\n",
       "</div>"
      ],
      "text/plain": [
       "             happy\n",
       "count   462.000000\n",
       "mean   1981.948052\n",
       "std      60.126273\n",
       "min    1205.000000\n",
       "25%    1990.250000\n",
       "50%    1996.000000\n",
       "75%    1998.000000\n",
       "max    1999.000000"
      ]
     },
     "execution_count": 35,
     "metadata": {},
     "output_type": "execute_result"
    }
   ],
   "source": [
    "# use describe() to get basic statistics about the data\n",
    "model_out.describe()\n"
   ]
  },
  {
   "cell_type": "code",
   "execution_count": 36,
   "metadata": {
    "slideshow": {
     "slide_type": "slide"
    }
   },
   "outputs": [
    {
     "data": {
      "image/png": "[encoded data removed]",
      "text/plain": [
       "<Figure size 432x288 with 1 Axes>"
      ]
     },
     "metadata": {},
     "output_type": "display_data"
    }
   ],
   "source": [
    "import seaborn as sns\n",
    "sns.set()\n",
    "\n",
    "model_out.happy.plot();"
   ]
  },
  {
   "cell_type": "code",
   "execution_count": 37,
   "metadata": {
    "slideshow": {
     "slide_type": "slide"
    }
   },
   "outputs": [
    {
     "data": {
      "text/html": [
       "<div>\n",
       "<style scoped>\n",
       "    .dataframe tbody tr th:only-of-type {\n",
       "        vertical-align: middle;\n",
       "    }\n",
       "\n",
       "    .dataframe tbody tr th {\n",
       "        vertical-align: top;\n",
       "    }\n",
       "\n",
       "    .dataframe thead th {\n",
       "        text-align: right;\n",
       "    }\n",
       "</style>\n",
       "<table border=\"1\" class=\"dataframe\">\n",
       "  <thead>\n",
       "    <tr style=\"text-align: right;\">\n",
       "      <th></th>\n",
       "      <th></th>\n",
       "      <th>x</th>\n",
       "      <th>y</th>\n",
       "    </tr>\n",
       "    <tr>\n",
       "      <th>Step</th>\n",
       "      <th>AgentID</th>\n",
       "      <th></th>\n",
       "      <th></th>\n",
       "    </tr>\n",
       "  </thead>\n",
       "  <tbody>\n",
       "    <tr>\n",
       "      <th rowspan=\"5\" valign=\"top\">1</th>\n",
       "      <th>0</th>\n",
       "      <td>23</td>\n",
       "      <td>22</td>\n",
       "    </tr>\n",
       "    <tr>\n",
       "      <th>1</th>\n",
       "      <td>38</td>\n",
       "      <td>24</td>\n",
       "    </tr>\n",
       "    <tr>\n",
       "      <th>2</th>\n",
       "      <td>45</td>\n",
       "      <td>15</td>\n",
       "    </tr>\n",
       "    <tr>\n",
       "      <th>3</th>\n",
       "      <td>13</td>\n",
       "      <td>23</td>\n",
       "    </tr>\n",
       "    <tr>\n",
       "      <th>4</th>\n",
       "      <td>0</td>\n",
       "      <td>5</td>\n",
       "    </tr>\n",
       "  </tbody>\n",
       "</table>\n",
       "</div>"
      ],
      "text/plain": [
       "               x   y\n",
       "Step AgentID        \n",
       "1    0        23  22\n",
       "     1        38  24\n",
       "     2        45  15\n",
       "     3        13  23\n",
       "     4         0   5"
      ]
     },
     "execution_count": 37,
     "metadata": {},
     "output_type": "execute_result"
    }
   ],
   "source": [
    "agent_out = model.datacollector.get_agent_vars_dataframe()\n",
    "agent_out.head()"
   ]
  },
  {
   "cell_type": "markdown",
   "metadata": {
    "slideshow": {
     "slide_type": "slide"
    }
   },
   "source": [
    "## Exploring the Parameter Space"
   ]
  },
  {
   "cell_type": "code",
   "execution_count": 17,
   "metadata": {
    "slideshow": {
     "slide_type": "slide"
    }
   },
   "outputs": [],
   "source": [
    "from mesa.batchrunner import BatchRunner\n",
    "\n",
    "def get_segregation(model):\n",
    "    '''\n",
    "    Find the % of agents that only have neighbors of their same type.\n",
    "    '''\n",
    "    segregated_agents = 0\n",
    "    for agent in model.schedule.agents:\n",
    "        segregated = True\n",
    "        for neighbor in model.grid.neighbor_iter(agent.pos):\n",
    "            if neighbor.type != agent.type:\n",
    "                segregated = False\n",
    "                break\n",
    "        if segregated:\n",
    "            segregated_agents += 1\n",
    "    return segregated_agents / model.schedule.get_agent_count()"
   ]
  },
  {
   "cell_type": "code",
   "execution_count": 18,
   "metadata": {
    "slideshow": {
     "slide_type": "slide"
    }
   },
   "outputs": [],
   "source": [
    "variable_params = {\"homophily\": range(1,9)}\n",
    "fixed_params =  {\"height\": 10, \"width\": 10, \"density\": 0.8, \"minority_percent\": 0.2} \n",
    "model_reporters = {\"Segregated_Agents\": get_segregation}\n",
    "param_sweep = BatchRunner(SchellingModel, \n",
    "                          variable_params, \n",
    "                          fixed_params, \n",
    "                          iterations=10, \n",
    "                          max_steps=200, \n",
    "                          model_reporters=model_reporters, \n",
    "                          display_progress=False)"
   ]
  },
  {
   "cell_type": "code",
   "execution_count": 19,
   "metadata": {
    "slideshow": {
     "slide_type": "slide"
    }
   },
   "outputs": [],
   "source": [
    "param_sweep.run_all()"
   ]
  },
  {
   "cell_type": "code",
   "execution_count": 20,
   "metadata": {
    "slideshow": {
     "slide_type": "slide"
    }
   },
   "outputs": [
    {
     "data": {
      "text/html": [
       "<div>\n",
       "<style scoped>\n",
       "    .dataframe tbody tr th:only-of-type {\n",
       "        vertical-align: middle;\n",
       "    }\n",
       "\n",
       "    .dataframe tbody tr th {\n",
       "        vertical-align: top;\n",
       "    }\n",
       "\n",
       "    .dataframe thead th {\n",
       "        text-align: right;\n",
       "    }\n",
       "</style>\n",
       "<table border=\"1\" class=\"dataframe\">\n",
       "  <thead>\n",
       "    <tr style=\"text-align: right;\">\n",
       "      <th></th>\n",
       "      <th>homophily</th>\n",
       "      <th>Run</th>\n",
       "      <th>Segregated_Agents</th>\n",
       "      <th>height</th>\n",
       "      <th>width</th>\n",
       "      <th>density</th>\n",
       "      <th>minority_percent</th>\n",
       "    </tr>\n",
       "  </thead>\n",
       "  <tbody>\n",
       "    <tr>\n",
       "      <th>0</th>\n",
       "      <td>1</td>\n",
       "      <td>0</td>\n",
       "      <td>0.263158</td>\n",
       "      <td>10</td>\n",
       "      <td>10</td>\n",
       "      <td>0.8</td>\n",
       "      <td>0.2</td>\n",
       "    </tr>\n",
       "    <tr>\n",
       "      <th>1</th>\n",
       "      <td>1</td>\n",
       "      <td>1</td>\n",
       "      <td>0.202381</td>\n",
       "      <td>10</td>\n",
       "      <td>10</td>\n",
       "      <td>0.8</td>\n",
       "      <td>0.2</td>\n",
       "    </tr>\n",
       "    <tr>\n",
       "      <th>2</th>\n",
       "      <td>1</td>\n",
       "      <td>2</td>\n",
       "      <td>0.182927</td>\n",
       "      <td>10</td>\n",
       "      <td>10</td>\n",
       "      <td>0.8</td>\n",
       "      <td>0.2</td>\n",
       "    </tr>\n",
       "    <tr>\n",
       "      <th>3</th>\n",
       "      <td>1</td>\n",
       "      <td>3</td>\n",
       "      <td>0.419753</td>\n",
       "      <td>10</td>\n",
       "      <td>10</td>\n",
       "      <td>0.8</td>\n",
       "      <td>0.2</td>\n",
       "    </tr>\n",
       "    <tr>\n",
       "      <th>4</th>\n",
       "      <td>1</td>\n",
       "      <td>4</td>\n",
       "      <td>0.195122</td>\n",
       "      <td>10</td>\n",
       "      <td>10</td>\n",
       "      <td>0.8</td>\n",
       "      <td>0.2</td>\n",
       "    </tr>\n",
       "    <tr>\n",
       "      <th>...</th>\n",
       "      <td>...</td>\n",
       "      <td>...</td>\n",
       "      <td>...</td>\n",
       "      <td>...</td>\n",
       "      <td>...</td>\n",
       "      <td>...</td>\n",
       "      <td>...</td>\n",
       "    </tr>\n",
       "    <tr>\n",
       "      <th>75</th>\n",
       "      <td>8</td>\n",
       "      <td>75</td>\n",
       "      <td>0.385542</td>\n",
       "      <td>10</td>\n",
       "      <td>10</td>\n",
       "      <td>0.8</td>\n",
       "      <td>0.2</td>\n",
       "    </tr>\n",
       "    <tr>\n",
       "      <th>76</th>\n",
       "      <td>8</td>\n",
       "      <td>76</td>\n",
       "      <td>0.153846</td>\n",
       "      <td>10</td>\n",
       "      <td>10</td>\n",
       "      <td>0.8</td>\n",
       "      <td>0.2</td>\n",
       "    </tr>\n",
       "    <tr>\n",
       "      <th>77</th>\n",
       "      <td>8</td>\n",
       "      <td>77</td>\n",
       "      <td>0.240000</td>\n",
       "      <td>10</td>\n",
       "      <td>10</td>\n",
       "      <td>0.8</td>\n",
       "      <td>0.2</td>\n",
       "    </tr>\n",
       "    <tr>\n",
       "      <th>78</th>\n",
       "      <td>8</td>\n",
       "      <td>78</td>\n",
       "      <td>0.192308</td>\n",
       "      <td>10</td>\n",
       "      <td>10</td>\n",
       "      <td>0.8</td>\n",
       "      <td>0.2</td>\n",
       "    </tr>\n",
       "    <tr>\n",
       "      <th>79</th>\n",
       "      <td>8</td>\n",
       "      <td>79</td>\n",
       "      <td>0.349398</td>\n",
       "      <td>10</td>\n",
       "      <td>10</td>\n",
       "      <td>0.8</td>\n",
       "      <td>0.2</td>\n",
       "    </tr>\n",
       "  </tbody>\n",
       "</table>\n",
       "<p>80 rows × 7 columns</p>\n",
       "</div>"
      ],
      "text/plain": [
       "    homophily  Run  Segregated_Agents  height  width  density  \\\n",
       "0           1    0           0.263158      10     10      0.8   \n",
       "1           1    1           0.202381      10     10      0.8   \n",
       "2           1    2           0.182927      10     10      0.8   \n",
       "3           1    3           0.419753      10     10      0.8   \n",
       "4           1    4           0.195122      10     10      0.8   \n",
       "..        ...  ...                ...     ...    ...      ...   \n",
       "75          8   75           0.385542      10     10      0.8   \n",
       "76          8   76           0.153846      10     10      0.8   \n",
       "77          8   77           0.240000      10     10      0.8   \n",
       "78          8   78           0.192308      10     10      0.8   \n",
       "79          8   79           0.349398      10     10      0.8   \n",
       "\n",
       "    minority_percent  \n",
       "0                0.2  \n",
       "1                0.2  \n",
       "2                0.2  \n",
       "3                0.2  \n",
       "4                0.2  \n",
       "..               ...  \n",
       "75               0.2  \n",
       "76               0.2  \n",
       "77               0.2  \n",
       "78               0.2  \n",
       "79               0.2  \n",
       "\n",
       "[80 rows x 7 columns]"
      ]
     },
     "execution_count": 20,
     "metadata": {},
     "output_type": "execute_result"
    }
   ],
   "source": [
    "df = param_sweep.get_model_vars_dataframe()\n",
    "df"
   ]
  },
  {
   "cell_type": "code",
   "execution_count": 21,
   "metadata": {
    "slideshow": {
     "slide_type": "slide"
    }
   },
   "outputs": [
    {
     "data": {
      "image/png": "[encoded data removed]",
      "text/plain": [
       "<Figure size 432x288 with 1 Axes>"
      ]
     },
     "metadata": {},
     "output_type": "display_data"
    }
   ],
   "source": [
    "import matplotlib.pyplot as plt\n",
    "\n",
    "plt.scatter(df.homophily, df.Segregated_Agents)\n",
    "plt.grid(True)"
   ]
  },
  {
   "cell_type": "markdown",
   "metadata": {
    "slideshow": {
     "slide_type": "slide"
    }
   },
   "source": [
    "\n",
    "## Additional Reading\n",
    "\n",
    "* [NetLogo Schelling Simulation](http://www.netlogoweb.org/launch#http://ccl.northwestern.edu/netlogo/models/models/Sample%20Models/Social%20Science/Segregation.nlogo)\n",
    " \n",
    "* Brian Hayes, [The Math of Segregation](https://www.americanscientist.org/article/the-math-of-segregation), American Scientist.\n",
    "  \n",
    "*   Christina Brandt, Nicole Immorlica, Gautam Kamath, and Robert Kleinberg, [An Analysis of One-Dimensional Schelling Segregation](https://arxiv.org/abs/1203.6346), Proceedings of the forty-fourth annual ACM symposium on theory of computing,  2012. \n",
    "\n",
    "* Matthew Jackson, Chapter 5, The Human Network: How Your Social Position Determines Your Power, Beliefs, and Behaviors,  Vintage, 2020.\n",
    "\n",
    "* David Easley and Jon Kleinberg, Section 4.5, [Networks, Crowds, and Markets: Reasoning about a Highly Connected World](https://www.cs.cornell.edu/home/kleinber/networks-book/networks-book-ch04.pdf), Cambridge University Press, 2010\n",
    "\n",
    "* [Parable of the Polygons](https://ncase.me/polygons/)"
   ]
  }
 ],
 "metadata": {
  "celltoolbar": "Slideshow",
  "kernelspec": {
   "display_name": "Python 3",
   "language": "python",
   "name": "python3"
  },
  "language_info": {
   "codemirror_mode": {
    "name": "ipython",
    "version": 3
   },
   "file_extension": ".py",
   "mimetype": "text/x-python",
   "name": "python",
   "nbconvert_exporter": "python",
   "pygments_lexer": "ipython3",
   "version": "3.8.5"
  },
  "varInspector": {
   "cols": {
    "lenName": 16,
    "lenType": 16,
    "lenVar": 40
   },
   "kernels_config": {
    "python": {
     "delete_cmd_postfix": "",
     "delete_cmd_prefix": "del ",
     "library": "var_list.py",
     "varRefreshCmd": "print(var_dic_list())"
    },
    "r": {
     "delete_cmd_postfix": ") ",
     "delete_cmd_prefix": "rm(",
     "library": "var_list.r",
     "varRefreshCmd": "cat(var_dic_list()) "
    }
   },
   "types_to_exclude": [
    "module",
    "function",
    "builtin_function_or_method",
    "instance",
    "_Feature"
   ],
   "window_display": false
  }
 },
 "nbformat": 4,
 "nbformat_minor": 4
}
